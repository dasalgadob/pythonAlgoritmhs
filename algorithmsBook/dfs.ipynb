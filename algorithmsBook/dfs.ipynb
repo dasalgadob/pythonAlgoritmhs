{
 "cells": [
  {
   "cell_type": "markdown",
   "metadata": {},
   "source": [
    "### Code for dfs"
   ]
  },
  {
   "cell_type": "code",
   "execution_count": 20,
   "metadata": {},
   "outputs": [],
   "source": [
    "time=0\n",
    "def dfs(G):\n",
    "    for n in G:\n",
    "        G[n]['color']=\"white\"\n",
    "        G[n]['parent']=None\n",
    "    global time\n",
    "    time=0\n",
    "    for n in G:\n",
    "        if G[n]['color']==\"white\":\n",
    "            dfs_visit(G,n)\n",
    "            \n",
    "def dfs_visit(G,n):\n",
    "    global time\n",
    "    time+=1\n",
    "    G[n]['d']=time\n",
    "    G[n]['color']=\"gray\"\n",
    "    for v in G[n]:\n",
    "        \n",
    "        if v not in('color','parent','d','f') and G[v]['color']==\"white\":\n",
    "            G[v]['parent']=n\n",
    "            dfs_visit(G,v)\n",
    "    G[n]['color']=\"black\"\n",
    "    time+=1\n",
    "    G[n]['f']=time\n",
    "    "
   ]
  },
  {
   "cell_type": "code",
   "execution_count": 7,
   "metadata": {},
   "outputs": [],
   "source": [
    "def make_link(G, node1, node2):\n",
    "    if node1 not in G:\n",
    "        G[node1] = {}\n",
    "    (G[node1])[node2] = 1\n",
    "    if node2 not in G:\n",
    "        G[node2] = {}\n",
    "    (G[node2])[node1] = 1\n",
    "    return G\n",
    "    \n",
    "edges1 = [('v', 'r'), ('r', 's'), ('w', 't'), ('s','w'),\n",
    "         ('w', 'x'), ('t', 'x'), ('t', 'u'), ('x', 'y'),\n",
    "         ('u', 'y')]"
   ]
  },
  {
   "cell_type": "code",
   "execution_count": 8,
   "metadata": {},
   "outputs": [],
   "source": [
    "G={}\n",
    "for (a,b) in edges1:\n",
    "    make_link(G,a,b)"
   ]
  },
  {
   "cell_type": "code",
   "execution_count": 9,
   "metadata": {},
   "outputs": [
    {
     "name": "stdout",
     "output_type": "stream",
     "text": [
      "{'v': {'r': 1}, 'r': {'v': 1, 's': 1}, 's': {'r': 1, 'w': 1}, 'w': {'t': 1, 's': 1, 'x': 1}, 't': {'w': 1, 'x': 1, 'u': 1}, 'x': {'w': 1, 't': 1, 'y': 1}, 'u': {'t': 1, 'y': 1}, 'y': {'x': 1, 'u': 1}}\n"
     ]
    }
   ],
   "source": [
    "print(G)"
   ]
  },
  {
   "cell_type": "code",
   "execution_count": 21,
   "metadata": {},
   "outputs": [],
   "source": [
    "dfs(G)"
   ]
  },
  {
   "cell_type": "code",
   "execution_count": 22,
   "metadata": {},
   "outputs": [
    {
     "name": "stdout",
     "output_type": "stream",
     "text": [
      "{'v': {'r': 1, 'color': 'black', 'parent': None, 'd': 1, 'f': 16}, 'r': {'v': 1, 's': 1, 'color': 'black', 'parent': 'v', 'd': 2, 'f': 15}, 's': {'r': 1, 'w': 1, 'color': 'black', 'parent': 'r', 'd': 3, 'f': 14}, 'w': {'t': 1, 's': 1, 'x': 1, 'color': 'black', 'parent': 's', 'd': 4, 'f': 13}, 't': {'w': 1, 'x': 1, 'u': 1, 'color': 'black', 'parent': 'w', 'd': 5, 'f': 12}, 'x': {'w': 1, 't': 1, 'y': 1, 'color': 'black', 'parent': 't', 'd': 6, 'f': 11}, 'u': {'t': 1, 'y': 1, 'color': 'black', 'parent': 'y', 'd': 8, 'f': 9}, 'y': {'x': 1, 'u': 1, 'color': 'black', 'parent': 'x', 'd': 7, 'f': 10}}\n"
     ]
    }
   ],
   "source": [
    "print(G)"
   ]
  },
  {
   "cell_type": "code",
   "execution_count": null,
   "metadata": {},
   "outputs": [],
   "source": []
  }
 ],
 "metadata": {
  "kernelspec": {
   "display_name": "Python 3",
   "language": "python",
   "name": "python3"
  },
  "language_info": {
   "codemirror_mode": {
    "name": "ipython",
    "version": 3
   },
   "file_extension": ".py",
   "mimetype": "text/x-python",
   "name": "python",
   "nbconvert_exporter": "python",
   "pygments_lexer": "ipython3",
   "version": "3.6.5"
  }
 },
 "nbformat": 4,
 "nbformat_minor": 2
}
