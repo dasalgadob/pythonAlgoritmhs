{
  "nbformat": 4,
  "nbformat_minor": 0,
  "metadata": {
    "colab": {
      "name": "Block Cipher: AES.ipynb",
      "version": "0.3.2",
      "provenance": [],
      "collapsed_sections": [],
      "include_colab_link": true
    },
    "kernelspec": {
      "name": "python2",
      "display_name": "Python 2"
    }
  },
  "cells": [
    {
      "cell_type": "markdown",
      "metadata": {
        "id": "view-in-github",
        "colab_type": "text"
      },
      "source": [
        "<a href=\"https://colab.research.google.com/github/dasalgadob/pythonAlgoritmhs/blob/master/cryptography/Block_Cipher_AES.ipynb\" target=\"_parent\"><img src=\"https://colab.research.google.com/assets/colab-badge.svg\" alt=\"Open In Colab\"/></a>"
      ]
    },
    {
      "cell_type": "code",
      "metadata": {
        "id": "hy9L-EoGtZSv",
        "colab_type": "code",
        "colab": {}
      },
      "source": [
        "# https://en.wikipedia.org/wiki/Rijndael_S-box\n",
        "SBOX = [['63', '7c', '77', '7b', 'f2', '6b', '6f', 'c5', '30', '01', '67', '2b', 'fe', 'd7', 'ab', '76'],\n",
        "        ['ca', '82', 'c9', '7d', 'fa', '59', '47', 'f0', 'ad', 'd4', 'a2', 'af', '9c', 'a4', '72', 'c0'],\n",
        "        ['b7', 'fd', '93', '26', '36', '3f', 'f7', 'cc', '34', 'a5', 'e5', 'f1', '71', 'd8', '31', '15'],\n",
        "\t\t['04', 'c7', '23', 'c3', '18', '96', '05', '9a', '07', '12', '80', 'e2', 'eb', '27', 'b2', '75'],\n",
        "\t\t['09', '83', '2c', '1a', '1b', '6e', '5a', 'a0', '52', '3b', 'd6', 'b3', '29', 'e3', '2f', '84'],\n",
        "\t\t['53', 'd1', '00', 'ed', '20', 'fc', 'b1', '5b', '6a', 'cb', 'be', '39', '4a', '4c', '58', 'cf'],\n",
        "\t\t['d0', 'ef', 'aa', 'fb', '43', '4d', '33', '85', '45', 'f9', '02', '7f', '50', '3c', '9f', 'a8'],\n",
        "\t\t['51', 'a3', '40', '8f', '92', '9d', '38', 'f5', 'bc', 'b6', 'da', '21', '10', 'ff', 'f3', 'd2'],\n",
        "\t\t['cd', '0c', '13', 'ec', '5f', '97', '44', '17', 'c4', 'a7', '7e', '3d', '64', '5d', '19', '73'],\n",
        "\t\t['60', '81', '4f', 'dc', '22', '2a', '90', '88', '46', 'ee', 'b8', '14', 'de', '5e', '0b', 'db'],\n",
        "\t\t['e0', '32', '3a', '0a', '49', '06', '24', '5c', 'c2', 'd3', 'ac', '62', '91', '95', 'e4', '79'],\n",
        "\t\t['e7', 'c8', '37', '6d', '8d', 'd5', '4e', 'a9', '6c', '56', 'f4', 'ea', '65', '7a', 'ae', '08'],\n",
        "\t\t['ba', '78', '25', '2e', '1c', 'a6', 'b4', 'c6', 'e8', 'dd', '74', '1f', '4b', 'bd', '8b', '8a'],\n",
        "\t\t['70', '3e', 'b5', '66', '48', '03', 'f6', '0e', '61', '35', '57', 'b9', '86', 'c1', '1d', '9e'],\n",
        "\t\t['e1', 'f8', '98', '11', '69', 'd9', '8e', '94', '9b', '1e', '87', 'e9', 'ce', '55', '28', 'df'],\n",
        "\t\t['8c', 'a1', '89', '0d', 'bf', 'e6', '42', '68', '41', '99', '2d', '0f', 'b0', '54', 'bb', '16']]\n",
        "\n",
        "R_CON = ['01000000', '02000000', '04000000', '08000000', '10000000',\n",
        "         '20000000', '40000000', '80000000', '1b000000', '36000000']\n",
        "\n",
        "MC_MATRIX = ['02030101', '01020301', '01010203', '03010102']\n",
        "MC_MATRIX_INV = ['0e0b0d09', '090e0b0d', '0d090e0b', '0b0d090e']\n",
        "\n",
        "def gf_256(a, b):\n",
        "    a=int(a,16)\n",
        "    b=int(b,16)\n",
        "    p = 0\n",
        "    hiBitSet = 0\n",
        "    for i in range(8):\n",
        "        if b & 1 == 1:\n",
        "            p ^= a\n",
        "        hiBitSet = a & 0x80\n",
        "        a <<= 1\n",
        "        if hiBitSet == 0x80:\n",
        "            a ^= 0x1b\n",
        "        b >>= 1\n",
        "    return p % 256\n",
        "\n",
        "def check(name, x):\n",
        "    print name, x, len(x)\n",
        "    \n",
        "def iterate(it, n):\n",
        "    for i in range(0, len(it), n):\n",
        "        yield it[i:i+n]"
      ],
      "execution_count": 0,
      "outputs": []
    },
    {
      "cell_type": "code",
      "metadata": {
        "id": "4mbtOQW6tamv",
        "colab_type": "code",
        "outputId": "6227a8c2-844c-4c50-e55f-902cedab9ac7",
        "colab": {
          "base_uri": "https://localhost:8080/",
          "height": 204
        }
      },
      "source": [
        "def to_matrix(string):\n",
        "    byte = list(iterate(string, 2))\n",
        "    return [''.join(byte[i::4]) for i in range(4)]\n",
        "        \n",
        "check('to_matrix', to_matrix('2b7e151628aed2a6abf7158809cf4f3c'))\n",
        "    \n",
        "def rot_word(word, i):\n",
        "    i *= 2\n",
        "    return word[i:] + word[:i]\n",
        "\n",
        "check('rot_word', rot_word('09cf4f3c', 1))\n",
        "\n",
        "\n",
        "def sub_word(word, table):\n",
        "    return ''.join(table[int(a, 16)][int(b, 16)] for a, b in iterate(word, 2))\n",
        "    \n",
        "check('sub_word', sub_word('cf4f3c09', SBOX))\n",
        "    \n",
        "def xor(x, y):\n",
        "    return format(int(x, 16) ^ int(y, 16), '08x')\n",
        "    \n",
        "check('xor', xor('8a84eb01', '01000000'))\n",
        "\n",
        "def ark(x, y):\n",
        "    return [xor(a, b) for a, b in zip(x, y)]\n",
        "    \n",
        "check('ark', ark(['41657561', '45737963', '53202069', '206d666c'], ['2b28ab09', '7eaef7cf', '15d2154f', '16a6883c']))\n",
        "\n",
        "def sb(state, table):\n",
        "    return [sub_word(a, table) for a in state]\n",
        "    \n",
        "check('sb', sb(['6a4dde68', '3bdd8eac', '46f23526', '36cbee50'], SBOX))\n",
        "#19617b67467c866ec20e2e1fc9e08b8e\n",
        "check('sb', sb(['19617b67', '467c866e', 'c20e2e1f', 'c9e08b8e'], SBOX))\n",
        "#d4ef21855a10449f25ab31c0dde13d19\n",
        "\n",
        "def sr(state):\n",
        "    return [rot_word(word, i) for i, word in enumerate(state)]\n",
        "    \n",
        "check('sr', sr(['02e31d45', 'e2c11991', '5a8996f7', '051f2853']))\n",
        "#19617b67467c866ec20e2e1fc9e08b8e\n",
        "check('sr', sr(['19617b67', '467c866e', 'c20e2e1f', 'c9e08b8e']))\n",
        "#sr ['19617b67', '7c866e46', '2e1fc20e', '8ec9e08b'] 4\n",
        "#19617b677c866e462e1fc20e8ec9e08b\n",
        "\n",
        "\n",
        "\n",
        "# x: (xr, xc) y: (yr, yc) xy: (xr, yc)\n",
        "def gf_mul(x, y):\n",
        "    result = [''] * len(x)\n",
        "    for i in range(len(x)):\n",
        "        for j in range(0, len(x[0]), 2):\n",
        "            cell = 0\n",
        "            for k in range(len(y)):\n",
        "                cell ^= gf_256(x[i][2*k:2*k+2], y[k][j:j+2])\n",
        "            result[i] += format(cell, '02x')\n",
        "    return result\n",
        "    \n",
        "check('gf_mul', gf_mul(MC_MATRIX, ['02e31d45', 'c11991e2', '96f75a89', '53051f28']))\n",
        "#19617b67467c866ec20e2e1fc9e08b8e\n",
        "check('gf_mul', gf_mul(MC_MATRIX, ['19617b67', '467c866e', 'c20e2e1f', 'c9e08b8e']))\n",
        "#gf_mul ['f3a8c2ed', '016b9514', '803a27be', '260a28df'] 4\n",
        "#f3a8c2ed016b9514803a27be260a28df"
      ],
      "execution_count": 15,
      "outputs": [
        {
          "output_type": "stream",
          "text": [
            "to_matrix ['2b28ab09', '7eaef7cf', '15d2154f', '16a6883c'] 4\n",
            "rot_word cf4f3c09 8\n",
            "sub_word 8a84eb01 8\n",
            "xor 8b84eb01 8\n",
            "ark ['6a4dde68', '3bdd8eac', '46f23526', '36cbee50'] 4\n",
            "sb ['02e31d45', 'e2c11991', '5a8996f7', '051f2853'] 4\n",
            "sb ['d4ef2185', '5a10449f', '25ab31c0', 'dde13d19'] 4\n",
            "sr ['02e31d45', 'c11991e2', '96f75a89', '53051f28'] 4\n",
            "sr ['19617b67', '7c866e46', '2e1fc20e', '8ec9e08b'] 4\n",
            "gf_mul ['9904d716', '69d6d532', '010019d6', 'f7dad2f4'] 4\n",
            "gf_mul ['f3a8c2ed', '016b9514', '803a27be', '260a28df'] 4\n"
          ],
          "name": "stdout"
        }
      ]
    },
    {
      "cell_type": "code",
      "metadata": {
        "id": "BMgLijYltmdX",
        "colab_type": "code",
        "outputId": "b19bc981-4c2a-4d45-901d-1e3d8faf67bc",
        "colab": {
          "base_uri": "https://localhost:8080/",
          "height": 204
        }
      },
      "source": [
        "key = '9a2bda0ee132ce621fbfacd1896f4721'\n",
        "k = list(iterate(key, 8))\n",
        "\n",
        "for i in range(10):\n",
        "    for j in range(4):\n",
        "        ki = k[-1]\n",
        "        \n",
        "        if j == 0:\n",
        "            ki = rot_word(ki, 1)\n",
        "            ki = sub_word(ki, SBOX)\n",
        "            ki = xor(ki, R_CON[i])\n",
        "            \n",
        "        ki = xor(ki, k[-4])\n",
        "        k.append(ki)\n",
        "        \n",
        "k = [''.join(k[i:i+4]) for i in range(0, len(k), 4)]\n",
        "k = [to_matrix(i) for i in k]\n",
        "k"
      ],
      "execution_count": 7,
      "outputs": [
        {
          "output_type": "execute_result",
          "data": {
            "text/plain": [
              "[['9ae11f89', '2b32bf6f', 'daceac47', '0e62d121'],\n",
              " ['33d2cd44', '8bb90669', '27e94502', 'a9cb1a3b'],\n",
              " ['c81ad793', 'fc45432a', 'c52c696b', 'b2796358'],\n",
              " ['2933e477', '83c685af', 'af83ea81', '6e17742c'],\n",
              " ['586b8ff8', '8f49cc63', 'de5db736', '9b8cf8d4'],\n",
              " ['b3d857af', '8ac30f6c', '96cb7c4a', 'da56ae7a'],\n",
              " ['c31b4ce3', '5c9f90fc', '4c87fbb1', 'a3f55b21'],\n",
              " ['33286487', '940b9b67', 'b136cd7c', 'b2471c3d'],\n",
              " ['361e7afd', '848f1473', '96a06d11', 'a5e2fec3'],\n",
              " ['a2bcc63b', '06899dee', 'b8187564', 'f113ed2e'],\n",
              " ['bc00c6fd', '45cc51bf', '8991e480', '1300edc3']]"
            ]
          },
          "metadata": {
            "tags": []
          },
          "execution_count": 7
        }
      ]
    },
    {
      "cell_type": "code",
      "metadata": {
        "id": "eZlK2EqQID-R",
        "colab_type": "code",
        "colab": {}
      },
      "source": [
        "33d2cd448bb9066927e94502a9cb1a3b"
      ],
      "execution_count": 0,
      "outputs": []
    },
    {
      "cell_type": "code",
      "metadata": {
        "id": "PdXphs2oHVyX",
        "colab_type": "code",
        "colab": {
          "base_uri": "https://localhost:8080/",
          "height": 204
        },
        "outputId": "4a3886ba-392e-49fe-c66e-53139a3b7160"
      },
      "source": [
        "key = '2b7e151628aed2a6abf7158809cf4f3c'\n",
        "k = list(iterate(key, 8))\n",
        "\n",
        "for i in range(10):\n",
        "    for j in range(4):\n",
        "        ki = k[-1]\n",
        "        \n",
        "        if j == 0:\n",
        "            ki = rot_word(ki, 1)\n",
        "            ki = sub_word(ki, SBOX)\n",
        "            ki = xor(ki, R_CON[i])\n",
        "            \n",
        "        ki = xor(ki, k[-4])\n",
        "        k.append(ki)\n",
        "        \n",
        "k = [''.join(k[i:i+4]) for i in range(0, len(k), 4)]\n",
        "k = [to_matrix(i) for i in k]\n",
        "k"
      ],
      "execution_count": 5,
      "outputs": [
        {
          "output_type": "execute_result",
          "data": {
            "text/plain": [
              "[['2b28ab09', '7eaef7cf', '15d2154f', '16a6883c'],\n",
              " ['a088232a', 'fa54a36c', 'fe2c3976', '17b13905'],\n",
              " ['f27a5973', 'c2963559', '95b980f6', 'f2437a7f'],\n",
              " ['3d471e6d', '8016237a', '47fe7e88', '7d3e443b'],\n",
              " ['efa8b6db', '4452710b', 'a55b25ad', '417f3b00'],\n",
              " ['d47cca11', 'd183f2f9', 'c69db815', 'f887bcbc'],\n",
              " ['6d11dbca', '880bf900', 'a33e8693', '7afd41fd'],\n",
              " ['4e5f844e', '545fa6a6', 'f7c94fdc', '0ef3b24f'],\n",
              " ['eab5317f', 'd28d2b8d', '73baf529', '21d2602f'],\n",
              " ['ac192857', '77fad15c', '66dc2900', 'f321416e'],\n",
              " ['d0c9e1b6', '14ee3f63', 'f9250c0c', 'a889c8a6']]"
            ]
          },
          "metadata": {
            "tags": []
          },
          "execution_count": 5
        }
      ]
    },
    {
      "cell_type": "code",
      "metadata": {
        "id": "MkuBeyDcH2vA",
        "colab_type": "code",
        "colab": {
          "base_uri": "https://localhost:8080/",
          "height": 68
        },
        "outputId": "91cc680c-45e4-49f1-fab2-0703c447db53"
      },
      "source": [
        "#a088232afa54a36cfe2c397617b13905\n",
        "print(k[0])\n",
        "#key = 9a2bda0ee132ce621fbfacd1896f4721\n",
        "print(m)\n",
        "print(ark(m, ['9a2bda0e', 'e132ce62', '1fbfacd1', '896f4721']))\n",
        "#rta =  9a2bda0ce132ce691fbfacd6896f472f"
      ],
      "execution_count": 12,
      "outputs": [
        {
          "output_type": "stream",
          "text": [
            "['9ae11f89', '2b32bf6f', 'daceac47', '0e62d121']\n",
            "2b7e151628aed2a6abf7158809cf4f3c\n",
            "['9a2bda0c', 'e132ce69', '1fbfacd6', '896f472f']\n"
          ],
          "name": "stdout"
        }
      ]
    },
    {
      "cell_type": "code",
      "metadata": {
        "id": "_OCm5VajtpRH",
        "colab_type": "code",
        "outputId": "03ec1e90-1819-4072-f0dc-df3bc8b85999",
        "colab": {
          "base_uri": "https://localhost:8080/",
          "height": 221
        }
      },
      "source": [
        "def encrypt(m, k):\n",
        "    m = to_matrix(m)\n",
        "    \n",
        "    #Stage 1\n",
        "    c = ark(m, k[0])\n",
        "    print(c)\n",
        "    \n",
        "    # Stage 2-3\n",
        "    for i in range(1, len(k)):\n",
        "        c = sb(c, SBOX)\n",
        "        c = sr(c)\n",
        "        c = gf_mul(MC_MATRIX, c) if i != len(k) - 1 else c\n",
        "        c = ark(c, k[i])\n",
        "        print(c)\n",
        "    \n",
        "    return ''.join(to_matrix(''.join(c)))\n",
        "\n",
        "m = '2b7e151628aed2a6abf7158809cf4f3c'\n",
        "print(encrypt(m, k))"
      ],
      "execution_count": 8,
      "outputs": [
        {
          "output_type": "stream",
          "text": [
            "['b1c9b480', '559c48a0', 'cf1cb908', '18c4591d']\n",
            "['3318618d', 'ba3dc933', '6aea0356', '3194c49a']\n",
            "['ff516cb5', '4446150a', '047727f3', 'db6cccf4']\n",
            "['98d54f55', 'd10b4603', 'bac1d263', 'a742b130']\n",
            "['1824c9e9', '5fb495a3', 'ce0dcf47', 'c790b806']\n",
            "['9bac0362', 'cc9c20f9', '08dd069a', 'ef119398']\n",
            "['bb87b86c', '18771044', '92b0e4b6', 'a2f760ed']\n",
            "['c437b6fc', '617b7894', '83399c3f', 'a18e2c3c']\n",
            "['58a975cf', '48db2841', '2a3ae9f9', 'b3fad017']\n",
            "['48a9b132', 'd7ef042b', '5c61cd37', '130a6d99']\n",
            "['eed30ede', '9a3ea0b1', '340bae6f', 'fd7d8aff']\n",
            "ee9a34fdd33e0b7d0ea0ae8adeb16fff\n"
          ],
          "name": "stdout"
        }
      ]
    },
    {
      "cell_type": "code",
      "metadata": {
        "id": "jXJW5rjctsXa",
        "colab_type": "code",
        "outputId": "9a8acc5a-0198-4002-b747-3851e8fb61b0",
        "colab": {
          "base_uri": "https://localhost:8080/",
          "height": 54
        }
      },
      "source": [
        "def inv(table):\n",
        "    table_inv = [['' for j in range(len(table[0]))] for i in range(len(table))]\n",
        "    \n",
        "    for i in range(len(table)):\n",
        "        for j in range(len(table[0])):\n",
        "            new_i, new_j = table[i][j]\n",
        "            new_i, new_j = int(new_i, 16), int(new_j, 16)\n",
        "            table_inv[new_i][new_j] = hex(i)[2:] + hex(j)[2:]  \n",
        "    \n",
        "    return table_inv\n",
        "\n",
        "SBOX_INV = inv(SBOX)\n",
        "print SBOX_INV\n",
        "\n",
        "def sr_inv(state):\n",
        "    return [rot_word(word, -i) for i, word in enumerate(state)]"
      ],
      "execution_count": 0,
      "outputs": [
        {
          "output_type": "stream",
          "text": [
            "[['52', '09', '6a', 'd5', '30', '36', 'a5', '38', 'bf', '40', 'a3', '9e', '81', 'f3', 'd7', 'fb'], ['7c', 'e3', '39', '82', '9b', '2f', 'ff', '87', '34', '8e', '43', '44', 'c4', 'de', 'e9', 'cb'], ['54', '7b', '94', '32', 'a6', 'c2', '23', '3d', 'ee', '4c', '95', '0b', '42', 'fa', 'c3', '4e'], ['08', '2e', 'a1', '66', '28', 'd9', '24', 'b2', '76', '5b', 'a2', '49', '6d', '8b', 'd1', '25'], ['72', 'f8', 'f6', '64', '86', '68', '98', '16', 'd4', 'a4', '5c', 'cc', '5d', '65', 'b6', '92'], ['6c', '70', '48', '50', 'fd', 'ed', 'b9', 'da', '5e', '15', '46', '57', 'a7', '8d', '9d', '84'], ['90', 'd8', 'ab', '00', '8c', 'bc', 'd3', '0a', 'f7', 'e4', '58', '05', 'b8', 'b3', '45', '06'], ['d0', '2c', '1e', '8f', 'ca', '3f', '0f', '02', 'c1', 'af', 'bd', '03', '01', '13', '8a', '6b'], ['3a', '91', '11', '41', '4f', '67', 'dc', 'ea', '97', 'f2', 'cf', 'ce', 'f0', 'b4', 'e6', '73'], ['96', 'ac', '74', '22', 'e7', 'ad', '35', '85', 'e2', 'f9', '37', 'e8', '1c', '75', 'df', '6e'], ['47', 'f1', '1a', '71', '1d', '29', 'c5', '89', '6f', 'b7', '62', '0e', 'aa', '18', 'be', '1b'], ['fc', '56', '3e', '4b', 'c6', 'd2', '79', '20', '9a', 'db', 'c0', 'fe', '78', 'cd', '5a', 'f4'], ['1f', 'dd', 'a8', '33', '88', '07', 'c7', '31', 'b1', '12', '10', '59', '27', '80', 'ec', '5f'], ['60', '51', '7f', 'a9', '19', 'b5', '4a', '0d', '2d', 'e5', '7a', '9f', '93', 'c9', '9c', 'ef'], ['a0', 'e0', '3b', '4d', 'ae', '2a', 'f5', 'b0', 'c8', 'eb', 'bb', '3c', '83', '53', '99', '61'], ['17', '2b', '04', '7e', 'ba', '77', 'd6', '26', 'e1', '69', '14', '63', '55', '21', '0c', '7d']]\n"
          ],
          "name": "stdout"
        }
      ]
    },
    {
      "cell_type": "code",
      "metadata": {
        "id": "PG0YeHtUtv4A",
        "colab_type": "code",
        "outputId": "b20f9ac2-a449-48ad-a24d-0e0b6216aa44",
        "colab": {
          "base_uri": "https://localhost:8080/",
          "height": 34
        }
      },
      "source": [
        "def decrypt(c, k):\n",
        "    m = to_matrix(c)\n",
        "    \n",
        "    #Stage 1-2\n",
        "    for i in reversed(range(1, len(k))):\n",
        "        m = ark(m, k[i])\n",
        "        m = gf_mul(MC_MATRIX_INV, m) if i != len(k) - 1 else m\n",
        "        m = sb(m, SBOX_INV)\n",
        "        m = sr_inv(m)\n",
        "        \n",
        "    # Stage 3\n",
        "    m = ark(m, k[0])\n",
        "    \n",
        "    return ''.join(to_matrix(''.join(m)))\n",
        "\n",
        "c = 'e448e574a374d90cc33c22af9b8eab7f'\n",
        "decrypt(c, k)"
      ],
      "execution_count": 0,
      "outputs": [
        {
          "output_type": "execute_result",
          "data": {
            "text/plain": [
              "'414553206573206d757920666163696c'"
            ]
          },
          "metadata": {
            "tags": []
          },
          "execution_count": 6
        }
      ]
    }
  ]
}