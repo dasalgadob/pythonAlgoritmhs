{
  "nbformat": 4,
  "nbformat_minor": 0,
  "metadata": {
    "colab": {
      "name": "Block Cipher: AES.ipynb",
      "version": "0.3.2",
      "provenance": [],
      "collapsed_sections": [],
      "include_colab_link": true
    },
    "kernelspec": {
      "name": "python2",
      "display_name": "Python 2"
    }
  },
  "cells": [
    {
      "cell_type": "markdown",
      "metadata": {
        "id": "view-in-github",
        "colab_type": "text"
      },
      "source": [
        "<a href=\"https://colab.research.google.com/github/dasalgadob/pythonAlgoritmhs/blob/master/cryptography/Block_Cipher_AES.ipynb\" target=\"_parent\"><img src=\"https://colab.research.google.com/assets/colab-badge.svg\" alt=\"Open In Colab\"/></a>"
      ]
    },
    {
      "cell_type": "code",
      "metadata": {
        "id": "hy9L-EoGtZSv",
        "colab_type": "code",
        "colab": {}
      },
      "source": [
        "# https://en.wikipedia.org/wiki/Rijndael_S-box\n",
        "SBOX = [['63', '7c', '77', '7b', 'f2', '6b', '6f', 'c5', '30', '01', '67', '2b', 'fe', 'd7', 'ab', '76'],\n",
        "        ['ca', '82', 'c9', '7d', 'fa', '59', '47', 'f0', 'ad', 'd4', 'a2', 'af', '9c', 'a4', '72', 'c0'],\n",
        "        ['b7', 'fd', '93', '26', '36', '3f', 'f7', 'cc', '34', 'a5', 'e5', 'f1', '71', 'd8', '31', '15'],\n",
        "\t\t['04', 'c7', '23', 'c3', '18', '96', '05', '9a', '07', '12', '80', 'e2', 'eb', '27', 'b2', '75'],\n",
        "\t\t['09', '83', '2c', '1a', '1b', '6e', '5a', 'a0', '52', '3b', 'd6', 'b3', '29', 'e3', '2f', '84'],\n",
        "\t\t['53', 'd1', '00', 'ed', '20', 'fc', 'b1', '5b', '6a', 'cb', 'be', '39', '4a', '4c', '58', 'cf'],\n",
        "\t\t['d0', 'ef', 'aa', 'fb', '43', '4d', '33', '85', '45', 'f9', '02', '7f', '50', '3c', '9f', 'a8'],\n",
        "\t\t['51', 'a3', '40', '8f', '92', '9d', '38', 'f5', 'bc', 'b6', 'da', '21', '10', 'ff', 'f3', 'd2'],\n",
        "\t\t['cd', '0c', '13', 'ec', '5f', '97', '44', '17', 'c4', 'a7', '7e', '3d', '64', '5d', '19', '73'],\n",
        "\t\t['60', '81', '4f', 'dc', '22', '2a', '90', '88', '46', 'ee', 'b8', '14', 'de', '5e', '0b', 'db'],\n",
        "\t\t['e0', '32', '3a', '0a', '49', '06', '24', '5c', 'c2', 'd3', 'ac', '62', '91', '95', 'e4', '79'],\n",
        "\t\t['e7', 'c8', '37', '6d', '8d', 'd5', '4e', 'a9', '6c', '56', 'f4', 'ea', '65', '7a', 'ae', '08'],\n",
        "\t\t['ba', '78', '25', '2e', '1c', 'a6', 'b4', 'c6', 'e8', 'dd', '74', '1f', '4b', 'bd', '8b', '8a'],\n",
        "\t\t['70', '3e', 'b5', '66', '48', '03', 'f6', '0e', '61', '35', '57', 'b9', '86', 'c1', '1d', '9e'],\n",
        "\t\t['e1', 'f8', '98', '11', '69', 'd9', '8e', '94', '9b', '1e', '87', 'e9', 'ce', '55', '28', 'df'],\n",
        "\t\t['8c', 'a1', '89', '0d', 'bf', 'e6', '42', '68', '41', '99', '2d', '0f', 'b0', '54', 'bb', '16']]\n",
        "\n",
        "R_CON = ['01000000', '02000000', '04000000', '08000000', '10000000',\n",
        "         '20000000', '40000000', '80000000', '1b000000', '36000000']\n",
        "\n",
        "MC_MATRIX = ['02030101', '01020301', '01010203', '03010102']\n",
        "MC_MATRIX_INV = ['0e0b0d09', '090e0b0d', '0d090e0b', '0b0d090e']\n",
        "\n",
        "def gf_256(a, b):\n",
        "    a=int(a,16)\n",
        "    b=int(b,16)\n",
        "    p = 0\n",
        "    hiBitSet = 0\n",
        "    for i in range(8):\n",
        "        if b & 1 == 1:\n",
        "            p ^= a\n",
        "        hiBitSet = a & 0x80\n",
        "        a <<= 1\n",
        "        if hiBitSet == 0x80:\n",
        "            a ^= 0x1b\n",
        "        b >>= 1\n",
        "    return p % 256\n",
        "\n",
        "def check(name, x):\n",
        "    print name, x, len(x)\n",
        "    \n",
        "def iterate(it, n):\n",
        "    for i in range(0, len(it), n):\n",
        "        yield it[i:i+n]"
      ],
      "execution_count": 0,
      "outputs": []
    },
    {
      "cell_type": "code",
      "metadata": {
        "id": "4mbtOQW6tamv",
        "colab_type": "code",
        "outputId": "036787c0-24cb-46ae-f96f-b380f26ad335",
        "colab": {
          "base_uri": "https://localhost:8080/",
          "height": 204
        }
      },
      "source": [
        "def to_matrix(string):\n",
        "    byte = list(iterate(string, 2))\n",
        "    return [''.join(byte[i::4]) for i in range(4)]\n",
        "        \n",
        "check('to_matrix', to_matrix('2b7e151628aed2a6abf7158809cf4f3c'))\n",
        "    \n",
        "def rot_word(word, i):\n",
        "    i *= 2\n",
        "    return word[i:] + word[:i]\n",
        "\n",
        "check('rot_word', rot_word('09cf4f3c', 1))\n",
        "\n",
        "\n",
        "def sub_word(word, table):\n",
        "    return ''.join(table[int(a, 16)][int(b, 16)] for a, b in iterate(word, 2))\n",
        "    \n",
        "check('sub_word', sub_word('cf4f3c09', SBOX))\n",
        "    \n",
        "def xor(x, y):\n",
        "    return format(int(x, 16) ^ int(y, 16), '08x')\n",
        "    \n",
        "check('xor', xor('8a84eb01', '01000000'))\n",
        "\n",
        "def ark(x, y):\n",
        "    return [xor(a, b) for a, b in zip(x, y)]\n",
        "    \n",
        "check('ark', ark(['41657561', '45737963', '53202069', '206d666c'], ['2b28ab09', '7eaef7cf', '15d2154f', '16a6883c']))\n",
        "\n",
        "def sb(state, table):\n",
        "    return [sub_word(a, table) for a in state]\n",
        "    \n",
        "check('sb', sb(['6a4dde68', '3bdd8eac', '46f23526', '36cbee50'], SBOX))\n",
        "#19617b67467c866ec20e2e1fc9e08b8e\n",
        "check('sb', sb(['19617b67', '467c866e', 'c20e2e1f', 'c9e08b8e'], SBOX))\n",
        "#d4ef21855a10449f25ab31c0dde13d19\n",
        "\n",
        "def sr(state):\n",
        "    return [rot_word(word, i) for i, word in enumerate(state)]\n",
        "    \n",
        "check('sr', sr(['02e31d45', 'e2c11991', '5a8996f7', '051f2853']))\n",
        "#19617b67467c866ec20e2e1fc9e08b8e\n",
        "check('sr', sr(['19617b67', '467c866e', 'c20e2e1f', 'c9e08b8e']))\n",
        "#sr ['19617b67', '7c866e46', '2e1fc20e', '8ec9e08b'] 4\n",
        "#19617b677c866e462e1fc20e8ec9e08b\n",
        "\n",
        "\n",
        "\n",
        "# x: (xr, xc) y: (yr, yc) xy: (xr, yc)\n",
        "def gf_mul(x, y):\n",
        "    result = [''] * len(x)\n",
        "    for i in range(len(x)):\n",
        "        for j in range(0, len(x[0]), 2):\n",
        "            cell = 0\n",
        "            for k in range(len(y)):\n",
        "                cell ^= gf_256(x[i][2*k:2*k+2], y[k][j:j+2])\n",
        "            result[i] += format(cell, '02x')\n",
        "    return result\n",
        "    \n",
        "check('gf_mul', gf_mul(MC_MATRIX, ['02e31d45', 'c11991e2', '96f75a89', '53051f28']))\n",
        "#19617b67467c866ec20e2e1fc9e08b8e\n",
        "check('gf_mul', gf_mul(MC_MATRIX, ['19617b67', '467c866e', 'c20e2e1f', 'c9e08b8e']))\n",
        "#gf_mul ['f3a8c2ed', '016b9514', '803a27be', '260a28df'] 4\n",
        "#f3a8c2ed016b9514803a27be260a28df"
      ],
      "execution_count": 4,
      "outputs": [
        {
          "output_type": "stream",
          "text": [
            "to_matrix ['2b28ab09', '7eaef7cf', '15d2154f', '16a6883c'] 4\n",
            "rot_word cf4f3c09 8\n",
            "sub_word 8a84eb01 8\n",
            "xor 8b84eb01 8\n",
            "ark ['6a4dde68', '3bdd8eac', '46f23526', '36cbee50'] 4\n",
            "sb ['02e31d45', 'e2c11991', '5a8996f7', '051f2853'] 4\n",
            "sb ['d4ef2185', '5a10449f', '25ab31c0', 'dde13d19'] 4\n",
            "sr ['02e31d45', 'c11991e2', '96f75a89', '53051f28'] 4\n",
            "sr ['19617b67', '7c866e46', '2e1fc20e', '8ec9e08b'] 4\n",
            "gf_mul ['9904d716', '69d6d532', '010019d6', 'f7dad2f4'] 4\n",
            "gf_mul ['f3a8c2ed', '016b9514', '803a27be', '260a28df'] 4\n"
          ],
          "name": "stdout"
        }
      ]
    },
    {
      "cell_type": "code",
      "metadata": {
        "id": "BMgLijYltmdX",
        "colab_type": "code",
        "outputId": "73151f8f-ef00-46bd-a4b8-4c31364034cc",
        "colab": {
          "base_uri": "https://localhost:8080/",
          "height": 221
        }
      },
      "source": [
        "## 8 point\n",
        "key = '9a2bda0ee132ce621fbfacd1896f4721'\n",
        "k = to_matrix(key)\n",
        "print(k)\n",
        "for i in range(10):\n",
        "    for j in range(4):\n",
        "        ki = k[-1]\n",
        "        \n",
        "        if j == 0:\n",
        "            ki = rot_word(ki, 1)\n",
        "            ki = sub_word(ki, SBOX)\n",
        "            ki = xor(ki, R_CON[i])\n",
        "            \n",
        "        ki = xor(ki, k[-4])\n",
        "        k.append(ki)\n",
        "        \n",
        "k = [''.join(k[i:i+4]) for i in range(0, len(k), 4)]\n",
        "k = [to_matrix(i) for i in k]\n",
        "k"
      ],
      "execution_count": 7,
      "outputs": [
        {
          "output_type": "stream",
          "text": [
            "['9ae11f89', '2b32bf6f', 'daceac47', '0e62d121']\n"
          ],
          "name": "stdout"
        },
        {
          "output_type": "execute_result",
          "data": {
            "text/plain": [
              "[['9a2bda0e', 'e132ce62', '1fbfacd1', '896f4721'],\n",
              " ['311ac0ce', 'dfed2341', 'e25df120', '224d0a2b'],\n",
              " ['b0aa6aa4', '6885a6e7', '134ebf9f', 'a9e4eec5'],\n",
              " ['208ae044', 'b3369077', 'b5fb44db', 'e004ea2f'],\n",
              " ['dd57b7f3', '0a3cacdb', 'a05b1fc4', 'fbff153a'],\n",
              " ['74239467', '162a865d', '207b64a0', 'f6091c26'],\n",
              " ['183bafc8', 'f6dc5a07', 'd7acc868', '737a6640'],\n",
              " ['9da609c1', 'b36f3532', 'de72bad2', '9be187c7'],\n",
              " ['3e989150', '06695c6e', '186ad002', 'e3028542'],\n",
              " ['ba22b3e3', '7118442a', '345e8e8c', 'b0b23775'],\n",
              " ['694bf81b', '150d4963', 'a9f779f5', 'a1132451']]"
            ]
          },
          "metadata": {
            "tags": []
          },
          "execution_count": 7
        }
      ]
    },
    {
      "cell_type": "code",
      "metadata": {
        "id": "eZlK2EqQID-R",
        "colab_type": "code",
        "colab": {
          "base_uri": "https://localhost:8080/",
          "height": 129
        },
        "outputId": "fc5f39f4-be00-413d-afdf-ace41fc2ba7a"
      },
      "source": [
        "33d2cd448bb9066927e94502a9cb1a3b"
      ],
      "execution_count": 6,
      "outputs": [
        {
          "output_type": "error",
          "ename": "SyntaxError",
          "evalue": "ignored",
          "traceback": [
            "\u001b[0;36m  File \u001b[0;32m\"<ipython-input-6-dbdc612eaf0d>\"\u001b[0;36m, line \u001b[0;32m1\u001b[0m\n\u001b[0;31m    33d2cd448bb9066927e94502a9cb1a3b\u001b[0m\n\u001b[0m                                   ^\u001b[0m\n\u001b[0;31mSyntaxError\u001b[0m\u001b[0;31m:\u001b[0m invalid syntax\n"
          ]
        }
      ]
    },
    {
      "cell_type": "code",
      "metadata": {
        "id": "PdXphs2oHVyX",
        "colab_type": "code",
        "outputId": "9a33d0c4-5026-4cf9-d198-f4c8d4d0e34d",
        "colab": {
          "base_uri": "https://localhost:8080/",
          "height": 231
        }
      },
      "source": [
        "key = '9a2bda0ee132ce621fbfacd1896f4721'\n",
        "k = list(iterate(key, 8))\n",
        "\n",
        "for i in range(10):\n",
        "    for j in range(4):\n",
        "        ki = k[-1]\n",
        "        \n",
        "        if j == 0:\n",
        "            ki = rot_word(ki, 1)\n",
        "            ki = sub_word(ki, SBOX)\n",
        "            ki = xor(ki, R_CON[i])\n",
        "            \n",
        "        ki = xor(ki, k[-4])\n",
        "        k.append(ki)\n",
        "        \n",
        "k = [''.join(k[i:i+4]) for i in range(0, len(k), 4)]\n",
        "k = [to_matrix(i) for i in k]\n",
        "k"
      ],
      "execution_count": 1,
      "outputs": [
        {
          "output_type": "error",
          "ename": "NameError",
          "evalue": "ignored",
          "traceback": [
            "\u001b[0;31m\u001b[0m",
            "\u001b[0;31mNameError\u001b[0mTraceback (most recent call last)",
            "\u001b[0;32m<ipython-input-1-ed5dd1095ac7>\u001b[0m in \u001b[0;36m<module>\u001b[0;34m()\u001b[0m\n\u001b[1;32m      1\u001b[0m \u001b[0mkey\u001b[0m \u001b[0;34m=\u001b[0m \u001b[0;34m'9a2bda0ee132ce621fbfacd1896f4721'\u001b[0m\u001b[0;34m\u001b[0m\u001b[0m\n\u001b[0;32m----> 2\u001b[0;31m \u001b[0mk\u001b[0m \u001b[0;34m=\u001b[0m \u001b[0mlist\u001b[0m\u001b[0;34m(\u001b[0m\u001b[0miterate\u001b[0m\u001b[0;34m(\u001b[0m\u001b[0mkey\u001b[0m\u001b[0;34m,\u001b[0m \u001b[0;36m8\u001b[0m\u001b[0;34m)\u001b[0m\u001b[0;34m)\u001b[0m\u001b[0;34m\u001b[0m\u001b[0m\n\u001b[0m\u001b[1;32m      3\u001b[0m \u001b[0;34m\u001b[0m\u001b[0m\n\u001b[1;32m      4\u001b[0m \u001b[0;32mfor\u001b[0m \u001b[0mi\u001b[0m \u001b[0;32min\u001b[0m \u001b[0mrange\u001b[0m\u001b[0;34m(\u001b[0m\u001b[0;36m10\u001b[0m\u001b[0;34m)\u001b[0m\u001b[0;34m:\u001b[0m\u001b[0;34m\u001b[0m\u001b[0m\n\u001b[1;32m      5\u001b[0m     \u001b[0;32mfor\u001b[0m \u001b[0mj\u001b[0m \u001b[0;32min\u001b[0m \u001b[0mrange\u001b[0m\u001b[0;34m(\u001b[0m\u001b[0;36m4\u001b[0m\u001b[0;34m)\u001b[0m\u001b[0;34m:\u001b[0m\u001b[0;34m\u001b[0m\u001b[0m\n",
            "\u001b[0;31mNameError\u001b[0m: name 'iterate' is not defined"
          ]
        }
      ]
    },
    {
      "cell_type": "code",
      "metadata": {
        "id": "MkuBeyDcH2vA",
        "colab_type": "code",
        "outputId": "35e07a99-64c9-4349-cf6d-218f6504dabe",
        "colab": {
          "base_uri": "https://localhost:8080/",
          "height": 248
        }
      },
      "source": [
        "#a088232afa54a36cfe2c397617b13905\n",
        "print(k[0])\n",
        "#key = 9a2bda0ee132ce621fbfacd1896f4721\n",
        "print(m)\n",
        "print(ark(m, ['9a2bda0e', 'e132ce62', '1fbfacd1', '896f4721']))\n",
        "#rta =  9a2bda0ce132ce691fbfacd6896f472f"
      ],
      "execution_count": 8,
      "outputs": [
        {
          "output_type": "stream",
          "text": [
            "['2b28ab09', '7eaef7cf', '15d2154f', '16a6883c']\n"
          ],
          "name": "stdout"
        },
        {
          "output_type": "error",
          "ename": "NameError",
          "evalue": "ignored",
          "traceback": [
            "\u001b[0;31m\u001b[0m",
            "\u001b[0;31mNameError\u001b[0mTraceback (most recent call last)",
            "\u001b[0;32m<ipython-input-8-967c642a460b>\u001b[0m in \u001b[0;36m<module>\u001b[0;34m()\u001b[0m\n\u001b[1;32m      1\u001b[0m \u001b[0;32mprint\u001b[0m\u001b[0;34m(\u001b[0m\u001b[0mk\u001b[0m\u001b[0;34m[\u001b[0m\u001b[0;36m0\u001b[0m\u001b[0;34m]\u001b[0m\u001b[0;34m)\u001b[0m\u001b[0;34m\u001b[0m\u001b[0m\n\u001b[1;32m      2\u001b[0m \u001b[0;31m#key = 9a2bda0ee132ce621fbfacd1896f4721\u001b[0m\u001b[0;34m\u001b[0m\u001b[0;34m\u001b[0m\u001b[0m\n\u001b[0;32m----> 3\u001b[0;31m \u001b[0;32mprint\u001b[0m\u001b[0;34m(\u001b[0m\u001b[0mm\u001b[0m\u001b[0;34m)\u001b[0m\u001b[0;34m\u001b[0m\u001b[0m\n\u001b[0m\u001b[1;32m      4\u001b[0m \u001b[0;32mprint\u001b[0m\u001b[0;34m(\u001b[0m\u001b[0mark\u001b[0m\u001b[0;34m(\u001b[0m\u001b[0mm\u001b[0m\u001b[0;34m,\u001b[0m \u001b[0;34m[\u001b[0m\u001b[0;34m'9a2bda0e'\u001b[0m\u001b[0;34m,\u001b[0m \u001b[0;34m'e132ce62'\u001b[0m\u001b[0;34m,\u001b[0m \u001b[0;34m'1fbfacd1'\u001b[0m\u001b[0;34m,\u001b[0m \u001b[0;34m'896f4721'\u001b[0m\u001b[0;34m]\u001b[0m\u001b[0;34m)\u001b[0m\u001b[0;34m)\u001b[0m\u001b[0;34m\u001b[0m\u001b[0m\n\u001b[1;32m      5\u001b[0m \u001b[0;31m#rta =  9a2bda0ce132ce691fbfacd6896f472f\u001b[0m\u001b[0;34m\u001b[0m\u001b[0;34m\u001b[0m\u001b[0m\n",
            "\u001b[0;31mNameError\u001b[0m: name 'm' is not defined"
          ]
        }
      ]
    },
    {
      "cell_type": "code",
      "metadata": {
        "id": "_OCm5VajtpRH",
        "colab_type": "code",
        "outputId": "2d37a2b1-a010-431c-f113-c3845f824a9f",
        "colab": {
          "base_uri": "https://localhost:8080/",
          "height": 221
        }
      },
      "source": [
        "def encrypt(m, k):\n",
        "    m = to_matrix(m)\n",
        "    \n",
        "    #Stage 1\n",
        "    c = ark(m, k[0])\n",
        "    print(c)\n",
        "    \n",
        "    # Stage 2-3\n",
        "    for i in range(1, len(k)):\n",
        "        c = sb(c, SBOX)\n",
        "        c = sr(c)\n",
        "        c = gf_mul(MC_MATRIX, c) if i != len(k) - 1 else c\n",
        "        c = ark(c, k[i])\n",
        "        print(c)\n",
        "    \n",
        "    return ''.join(to_matrix(''.join(c)))\n",
        "\n",
        "m = '2b7e151628aed2a6abf7158809cf4f3c'\n",
        "print(encrypt(m, k))"
      ],
      "execution_count": 9,
      "outputs": [
        {
          "output_type": "stream",
          "text": [
            "['00000000', '00000000', '00000000', '00000000']\n",
            "['c3eb4049', '9937c00f', '9d4f5a15', '74d25a66']\n",
            "['96ad3a16', '2969878c', '13f587e9', 'c2bf383f']\n",
            "['7474dcf6', 'b5aae45a', '9f2f78b4', 'd2d9d6bf']\n",
            "['8b1496d8', '422bd331', 'e065ef11', 'ec47a5f1']\n",
            "['d875e2ec', 'cee66f11', '5757cdc8', 'c8f16a72']\n",
            "['dbd39792', '7216322c', 'ede3d266', '6aca7260']\n",
            "['8bc73d41', '7728471a', '13ec8031', '974dfd4f']\n",
            "['85961cfc', '4fca37e2', '6ccab424', '8cef0b22']\n",
            "['1bc537e4', '177b4948', '2a16f7a1', '95ee9303']\n",
            "['7f6f7bdf', '35d56d93', '9117e94b', 'd3a3e07a']\n",
            "7f3591d36fd517a37b6de9e0df934b7a\n"
          ],
          "name": "stdout"
        }
      ]
    },
    {
      "cell_type": "code",
      "metadata": {
        "id": "jXJW5rjctsXa",
        "colab_type": "code",
        "outputId": "bd1a7e87-c49a-4b52-91aa-c7cc43862597",
        "colab": {
          "base_uri": "https://localhost:8080/",
          "height": 54
        }
      },
      "source": [
        "def inv(table):\n",
        "    table_inv = [['' for j in range(len(table[0]))] for i in range(len(table))]\n",
        "    \n",
        "    for i in range(len(table)):\n",
        "        for j in range(len(table[0])):\n",
        "            new_i, new_j = table[i][j]\n",
        "            new_i, new_j = int(new_i, 16), int(new_j, 16)\n",
        "            table_inv[new_i][new_j] = hex(i)[2:] + hex(j)[2:]  \n",
        "    \n",
        "    return table_inv\n",
        "\n",
        "SBOX_INV = inv(SBOX)\n",
        "print SBOX_INV\n",
        "\n",
        "def sr_inv(state):\n",
        "    return [rot_word(word, -i) for i, word in enumerate(state)]"
      ],
      "execution_count": 10,
      "outputs": [
        {
          "output_type": "stream",
          "text": [
            "[['52', '09', '6a', 'd5', '30', '36', 'a5', '38', 'bf', '40', 'a3', '9e', '81', 'f3', 'd7', 'fb'], ['7c', 'e3', '39', '82', '9b', '2f', 'ff', '87', '34', '8e', '43', '44', 'c4', 'de', 'e9', 'cb'], ['54', '7b', '94', '32', 'a6', 'c2', '23', '3d', 'ee', '4c', '95', '0b', '42', 'fa', 'c3', '4e'], ['08', '2e', 'a1', '66', '28', 'd9', '24', 'b2', '76', '5b', 'a2', '49', '6d', '8b', 'd1', '25'], ['72', 'f8', 'f6', '64', '86', '68', '98', '16', 'd4', 'a4', '5c', 'cc', '5d', '65', 'b6', '92'], ['6c', '70', '48', '50', 'fd', 'ed', 'b9', 'da', '5e', '15', '46', '57', 'a7', '8d', '9d', '84'], ['90', 'd8', 'ab', '00', '8c', 'bc', 'd3', '0a', 'f7', 'e4', '58', '05', 'b8', 'b3', '45', '06'], ['d0', '2c', '1e', '8f', 'ca', '3f', '0f', '02', 'c1', 'af', 'bd', '03', '01', '13', '8a', '6b'], ['3a', '91', '11', '41', '4f', '67', 'dc', 'ea', '97', 'f2', 'cf', 'ce', 'f0', 'b4', 'e6', '73'], ['96', 'ac', '74', '22', 'e7', 'ad', '35', '85', 'e2', 'f9', '37', 'e8', '1c', '75', 'df', '6e'], ['47', 'f1', '1a', '71', '1d', '29', 'c5', '89', '6f', 'b7', '62', '0e', 'aa', '18', 'be', '1b'], ['fc', '56', '3e', '4b', 'c6', 'd2', '79', '20', '9a', 'db', 'c0', 'fe', '78', 'cd', '5a', 'f4'], ['1f', 'dd', 'a8', '33', '88', '07', 'c7', '31', 'b1', '12', '10', '59', '27', '80', 'ec', '5f'], ['60', '51', '7f', 'a9', '19', 'b5', '4a', '0d', '2d', 'e5', '7a', '9f', '93', 'c9', '9c', 'ef'], ['a0', 'e0', '3b', '4d', 'ae', '2a', 'f5', 'b0', 'c8', 'eb', 'bb', '3c', '83', '53', '99', '61'], ['17', '2b', '04', '7e', 'ba', '77', 'd6', '26', 'e1', '69', '14', '63', '55', '21', '0c', '7d']]\n"
          ],
          "name": "stdout"
        }
      ]
    },
    {
      "cell_type": "code",
      "metadata": {
        "id": "PG0YeHtUtv4A",
        "colab_type": "code",
        "outputId": "cd6fba4d-1aae-4f47-f2c0-ad4152f3b5a9",
        "colab": {
          "base_uri": "https://localhost:8080/",
          "height": 34
        }
      },
      "source": [
        "def decrypt(c, k):\n",
        "    m = to_matrix(c)\n",
        "    \n",
        "    #Stage 1-2\n",
        "    for i in reversed(range(1, len(k))):\n",
        "        m = ark(m, k[i])\n",
        "        m = gf_mul(MC_MATRIX_INV, m) if i != len(k) - 1 else m\n",
        "        m = sb(m, SBOX_INV)\n",
        "        m = sr_inv(m)\n",
        "        \n",
        "    # Stage 3\n",
        "    m = ark(m, k[0])\n",
        "    \n",
        "    return ''.join(to_matrix(''.join(m)))\n",
        "\n",
        "c = 'e448e574a374d90cc33c22af9b8eab7f'\n",
        "decrypt(c, k)"
      ],
      "execution_count": 11,
      "outputs": [
        {
          "output_type": "execute_result",
          "data": {
            "text/plain": [
              "'414553206573206d757920666163696c'"
            ]
          },
          "metadata": {
            "tags": []
          },
          "execution_count": 11
        }
      ]
    },
    {
      "cell_type": "code",
      "metadata": {
        "id": "Ql4lqZdQ2GEt",
        "colab_type": "code",
        "colab": {}
      },
      "source": [
        "###QUIz\n",
        "# point 9\n",
        "\n",
        "# Let be m=2b7e151628aed2a6abf7158809cf4f3c and k=9a2bda0ee132ce621fbfacd1896f4721. \n",
        "m=\"2b7e151628aed2a6abf7158809cf4f3c\"\n",
        "ks = to_matrix('9a2bda0ee132ce621fbfacd1896f4721')\n",
        "#k= \"9a2bda0ee132ce621fbfacd1896f4721\"\n",
        "#print(ms)\n",
        "def to_matrix_inv(mat):\n",
        "  w1,w2,w3,w4=\"\",\"\",\"\",\"\"\n",
        "  for e in mat:\n",
        "    w1+=e[:2]\n",
        "    w2+=e[2:4]\n",
        "    w3+=e[4:6]\n",
        "    w4+=e[6:8]\n",
        "  return w1+w2+w3+w4\n"
      ],
      "execution_count": 0,
      "outputs": []
    },
    {
      "cell_type": "code",
      "metadata": {
        "id": "U-0KlERz2aKb",
        "colab_type": "code",
        "colab": {
          "base_uri": "https://localhost:8080/",
          "height": 51
        },
        "outputId": "93f763fd-d834-447b-d31c-e52b32877530"
      },
      "source": [
        "c = ark(m, ks)\n",
        "print(c)\n",
        "print(to_matrix_inv(c))"
      ],
      "execution_count": 14,
      "outputs": [
        {
          "output_type": "stream",
          "text": [
            "['9ae11f8b', '2b32bf64', 'daceac40', '0e62d12f']\n",
            "9a2bda0ee132ce621fbfacd18b64402f\n"
          ],
          "name": "stdout"
        }
      ]
    },
    {
      "cell_type": "code",
      "metadata": {
        "id": "Sq_Rj-zS3Vgy",
        "colab_type": "code",
        "colab": {
          "base_uri": "https://localhost:8080/",
          "height": 34
        },
        "outputId": "e87d9378-4d50-4aef-fd82-d21278430a49"
      },
      "source": [
        "''.join(c)"
      ],
      "execution_count": 15,
      "outputs": [
        {
          "output_type": "execute_result",
          "data": {
            "text/plain": [
              "'9ae11f8b2b32bf64daceac400e62d12f'"
            ]
          },
          "metadata": {
            "tags": []
          },
          "execution_count": 15
        }
      ]
    },
    {
      "cell_type": "code",
      "metadata": {
        "id": "mPLY5NC65iop",
        "colab_type": "code",
        "colab": {
          "base_uri": "https://localhost:8080/",
          "height": 68
        },
        "outputId": "f9777551-b039-4f67-b5aa-adf8b7d41529"
      },
      "source": [
        "### 10 Point\n",
        "\n",
        "#Let be x=19617b67467c866ec20e2e1fc9e08b8e. Find SubBytes(x)\n",
        "\n",
        "#Do not forget to convert x into a state array and the answer into a hex string.\n",
        "x=\"19617b67467c866ec20e2e1fc9e08b8e\"\n",
        "xm = to_matrix(x)\n",
        "print(xm)\n",
        "\n",
        "r10 = sb(xm,SBOX)\n",
        "print(to_matrix_inv(r10))\n",
        "print(''.join(r10))"
      ],
      "execution_count": 17,
      "outputs": [
        {
          "output_type": "stream",
          "text": [
            "['1946c2c9', '617c0ee0', '7b862e8b', '676e1f8e']\n",
            "d4ef21855a10449f25ab31c0dde13d19\n",
            "d45a25ddef10abe12144313d859fc019\n"
          ],
          "name": "stdout"
        }
      ]
    },
    {
      "cell_type": "code",
      "metadata": {
        "id": "WBP6UXwY6ijx",
        "colab_type": "code",
        "colab": {
          "base_uri": "https://localhost:8080/",
          "height": 51
        },
        "outputId": "9557cc14-b216-44d5-b248-e7b1ce4cb011"
      },
      "source": [
        "#### 11 point\n",
        "\n",
        "## Let be x=19617b67467c866ec20e2e1fc9e08b8e. Find ShiftRows(x)\n",
        "\n",
        "x=\"19617b67467c866ec20e2e1fc9e08b8e\"\n",
        "x_m = to_matrix(x)\n",
        "rta_11 = sr(x_m)\n",
        "print(to_matrix_inv(rta_11))\n",
        "print(''.join(rta_11))"
      ],
      "execution_count": 18,
      "outputs": [
        {
          "output_type": "stream",
          "text": [
            "197c2e8e460e8b67c2e07b6ec961861f\n",
            "1946c2c97c0ee0612e8b7b868e676e1f\n"
          ],
          "name": "stdout"
        }
      ]
    },
    {
      "cell_type": "code",
      "metadata": {
        "id": "G8O7nI6K7AJh",
        "colab_type": "code",
        "colab": {
          "base_uri": "https://localhost:8080/",
          "height": 51
        },
        "outputId": "09d30ca3-a7a8-492f-cff6-86e475a855bf"
      },
      "source": [
        "### 12 point\n",
        "\n",
        "# Let be x=19617b67467c866ec20e2e1fc9e08b8e. Find MixColumns(x)\n",
        "\n",
        "x=\"19617b67467c866ec20e2e1fc9e08b8e\"\n",
        "mc = gf_mul(MC_MATRIX,to_matrix(x))\n",
        "print(to_matrix_inv(mc))\n",
        "print(''.join(mc))"
      ],
      "execution_count": 19,
      "outputs": [
        {
          "output_type": "stream",
          "text": [
            "8d3127ffe0419fecbcb3b143b71aad2c\n",
            "8de0bcb73141b31a279fb1adffec432c\n"
          ],
          "name": "stdout"
        }
      ]
    },
    {
      "cell_type": "code",
      "metadata": {
        "id": "SKl6mV-87v1u",
        "colab_type": "code",
        "colab": {}
      },
      "source": [
        ""
      ],
      "execution_count": 0,
      "outputs": []
    }
  ]
}