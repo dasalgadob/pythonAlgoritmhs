{
  "nbformat": 4,
  "nbformat_minor": 0,
  "metadata": {
    "colab": {
      "name": "AES with pycrypto.ipynb",
      "version": "0.3.2",
      "provenance": [],
      "collapsed_sections": [],
      "include_colab_link": true
    },
    "kernelspec": {
      "name": "python2",
      "display_name": "Python 2"
    }
  },
  "cells": [
    {
      "cell_type": "markdown",
      "metadata": {
        "id": "view-in-github",
        "colab_type": "text"
      },
      "source": [
        "<a href=\"https://colab.research.google.com/github/dasalgadob/pythonAlgoritmhs/blob/master/cryptography/AES_with_pycrypto.ipynb\" target=\"_parent\"><img src=\"https://colab.research.google.com/assets/colab-badge.svg\" alt=\"Open In Colab\"/></a>"
      ]
    },
    {
      "cell_type": "code",
      "metadata": {
        "id": "eHwRiEKEJRmS",
        "colab_type": "code",
        "outputId": "f8e4d0a4-c39f-4900-84ed-25577b015b3c",
        "colab": {
          "base_uri": "https://localhost:8080/",
          "height": 170
        }
      },
      "source": [
        "!pip install pycrypto"
      ],
      "execution_count": 2,
      "outputs": [
        {
          "output_type": "stream",
          "text": [
            "Collecting pycrypto\n",
            "\u001b[?25l  Downloading https://files.pythonhosted.org/packages/60/db/645aa9af249f059cc3a368b118de33889219e0362141e75d4eaf6f80f163/pycrypto-2.6.1.tar.gz (446kB)\n",
            "\u001b[K     |████████████████████████████████| 450kB 4.6MB/s \n",
            "\u001b[?25hBuilding wheels for collected packages: pycrypto\n",
            "  Building wheel for pycrypto (setup.py) ... \u001b[?25l\u001b[?25hdone\n",
            "  Stored in directory: /root/.cache/pip/wheels/27/02/5e/77a69d0c16bb63c6ed32f5386f33a2809c94bd5414a2f6c196\n",
            "Successfully built pycrypto\n",
            "Installing collected packages: pycrypto\n",
            "Successfully installed pycrypto-2.6.1\n"
          ],
          "name": "stdout"
        }
      ]
    },
    {
      "cell_type": "code",
      "metadata": {
        "id": "xOW3q_K0IWVb",
        "colab_type": "code",
        "outputId": "dcc65e9f-9ee0-482c-c943-4a18e24a4266",
        "colab": {
          "base_uri": "https://localhost:8080/",
          "height": 51
        }
      },
      "source": [
        "from Crypto.Hash import MD5\n",
        "m = MD5.new()\n",
        "m.update('abc')\n",
        "m.digest(), m.hexdigest()"
      ],
      "execution_count": 3,
      "outputs": [
        {
          "output_type": "execute_result",
          "data": {
            "text/plain": [
              "('\\x90\\x01P\\x98<\\xd2O\\xb0\\xd6\\x96?}(\\xe1\\x7fr',\n",
              " '900150983cd24fb0d6963f7d28e17f72')"
            ]
          },
          "metadata": {
            "tags": []
          },
          "execution_count": 3
        }
      ]
    },
    {
      "cell_type": "code",
      "metadata": {
        "id": "6H1kRcVMJzKC",
        "colab_type": "code",
        "outputId": "ada29e30-072f-4c74-bc1f-ad9865153dd5",
        "colab": {
          "base_uri": "https://localhost:8080/",
          "height": 34
        }
      },
      "source": [
        "from Crypto.Cipher import AES\n",
        "from Crypto.Util import Counter\n",
        "\n",
        "k = '140b41b22a29beb4061bda66b6747e14'.decode('hex')\n",
        "c = '4ca00ff4c898d61e1edbf1800618fb2828a226d160dad07883d04e008a7897ee2e4b7465d5290d0c0e6c6822236e1daafb94ffe0c5da05d9476be028ad7c1d81'.decode('hex')\n",
        "iv = c[:AES.block_size]\n",
        "\n",
        "\n",
        "cipher = AES.new(k, AES.MODE_CBC, iv)\n",
        "cipher.decrypt(c[AES.block_size:])"
      ],
      "execution_count": 4,
      "outputs": [
        {
          "output_type": "execute_result",
          "data": {
            "text/plain": [
              "'Basic CBC mode encryption needs padding.\\x08\\x08\\x08\\x08\\x08\\x08\\x08\\x08'"
            ]
          },
          "metadata": {
            "tags": []
          },
          "execution_count": 4
        }
      ]
    },
    {
      "cell_type": "code",
      "metadata": {
        "id": "B3it9cx7LH5H",
        "colab_type": "code",
        "outputId": "7f8fe0e5-5885-4192-99ef-7dbff49c3870",
        "colab": {
          "base_uri": "https://localhost:8080/",
          "height": 34
        }
      },
      "source": [
        "k = '140b41b22a29beb4061bda66b6747e14'.decode('hex')\n",
        "c = '5b68629feb8606f9a6667670b75b38a5b4832d0f26e1ab7da33249de7d4afc48e713ac646ace36e872ad5fb8a512428a6e21364b0c374df45503473c5242a253'.decode('hex')\n",
        "iv = c[:AES.block_size]\n",
        "\n",
        "\n",
        "cipher = AES.new(k, AES.MODE_CBC, iv)\n",
        "cipher.decrypt(c[AES.block_size:])"
      ],
      "execution_count": 5,
      "outputs": [
        {
          "output_type": "execute_result",
          "data": {
            "text/plain": [
              "'Our implementation uses rand. IV\\x10\\x10\\x10\\x10\\x10\\x10\\x10\\x10\\x10\\x10\\x10\\x10\\x10\\x10\\x10\\x10'"
            ]
          },
          "metadata": {
            "tags": []
          },
          "execution_count": 5
        }
      ]
    },
    {
      "cell_type": "code",
      "metadata": {
        "id": "N31YnWT6Lr9P",
        "colab_type": "code",
        "outputId": "2f201eac-9f01-4e6f-bdb1-ea4248d65044",
        "colab": {
          "base_uri": "https://localhost:8080/",
          "height": 51
        }
      },
      "source": [
        "k = '36f18357be4dbd77f050515c73fcf9f2'.decode('hex')\n",
        "c = '69dda8455c7dd4254bf353b773304eec0ec7702330098ce7f7520d1cbbb20fc388d1b0adb5054dbd7370849dbf0b88d393f252e764f1f5f7ad97ef79d59ce29f5f51eeca32eabedd9afa9329'.decode('hex')\n",
        "iv = long(c[:AES.block_size].encode('hex'), 16)\n",
        "print iv\n",
        "\n",
        "ctr = Counter.new(AES.block_size*8, initial_value = iv)\n",
        "cipher = AES.new(k, AES.MODE_CTR, counter = ctr)\n",
        "cipher.decrypt(c[AES.block_size:])"
      ],
      "execution_count": 6,
      "outputs": [
        {
          "output_type": "stream",
          "text": [
            "140719850103333728986387782192061239020\n"
          ],
          "name": "stdout"
        },
        {
          "output_type": "execute_result",
          "data": {
            "text/plain": [
              "'CTR mode lets you build a stream cipher from a block cipher.'"
            ]
          },
          "metadata": {
            "tags": []
          },
          "execution_count": 6
        }
      ]
    },
    {
      "cell_type": "code",
      "metadata": {
        "id": "Dz9kifdRNWR_",
        "colab_type": "code",
        "outputId": "054b6f1f-a244-4c1e-a820-4d12afb524c4",
        "colab": {
          "base_uri": "https://localhost:8080/",
          "height": 51
        }
      },
      "source": [
        "k = '36f18357be4dbd77f050515c73fcf9f2'.decode('hex')\n",
        "c = '770b80259ec33beb2561358a9f2dc617e46218c0a53cbeca695ae45faa8952aa0e311bde9d4e01726d3184c34451'.decode('hex')\n",
        "iv = long(c[:AES.block_size].encode('hex'), 16)\n",
        "print iv\n",
        "\n",
        "ctr = Counter.new(AES.block_size*8, initial_value = iv)\n",
        "cipher = AES.new(k, AES.MODE_CTR, counter = ctr)\n",
        "cipher.decrypt(c[AES.block_size:])"
      ],
      "execution_count": 7,
      "outputs": [
        {
          "output_type": "stream",
          "text": [
            "158237845892854807464959844942305150487\n"
          ],
          "name": "stdout"
        },
        {
          "output_type": "execute_result",
          "data": {
            "text/plain": [
              "'Always avoid the two time pad!'"
            ]
          },
          "metadata": {
            "tags": []
          },
          "execution_count": 7
        }
      ]
    },
    {
      "cell_type": "code",
      "metadata": {
        "id": "_PgpM5pWFV8a",
        "colab_type": "code",
        "colab": {
          "base_uri": "https://localhost:8080/",
          "height": 341
        },
        "outputId": "a7f0c7e8-66f8-41e8-c3c0-5241118008e8"
      },
      "source": [
        "\n",
        "k = \"19617b67467c866ec20e2e1fc9e08b8e\"\n",
        "iv =\"ce7b3eac618e30ad97ba203fbc3fc1a0\"\n",
        "cipher = AES.new(k, AES.MODE_CBC, iv)\n"
      ],
      "execution_count": 9,
      "outputs": [
        {
          "output_type": "error",
          "ename": "ValueError",
          "evalue": "ignored",
          "traceback": [
            "\u001b[0;31m\u001b[0m",
            "\u001b[0;31mValueError\u001b[0mTraceback (most recent call last)",
            "\u001b[0;32m<ipython-input-9-f3bb319470bb>\u001b[0m in \u001b[0;36m<module>\u001b[0;34m()\u001b[0m\n\u001b[1;32m      2\u001b[0m \u001b[0mk\u001b[0m \u001b[0;34m=\u001b[0m \u001b[0;34m\"19617b67467c866ec20e2e1fc9e08b8e\"\u001b[0m\u001b[0;34m\u001b[0m\u001b[0m\n\u001b[1;32m      3\u001b[0m \u001b[0miv\u001b[0m \u001b[0;34m=\u001b[0m\u001b[0;34m\"ce7b3eac618e30ad97ba203fbc3fc1a0\"\u001b[0m\u001b[0;34m\u001b[0m\u001b[0m\n\u001b[0;32m----> 4\u001b[0;31m \u001b[0mcipher\u001b[0m \u001b[0;34m=\u001b[0m \u001b[0mAES\u001b[0m\u001b[0;34m.\u001b[0m\u001b[0mnew\u001b[0m\u001b[0;34m(\u001b[0m\u001b[0mk\u001b[0m\u001b[0;34m,\u001b[0m \u001b[0mAES\u001b[0m\u001b[0;34m.\u001b[0m\u001b[0mMODE_CBC\u001b[0m\u001b[0;34m,\u001b[0m \u001b[0miv\u001b[0m\u001b[0;34m)\u001b[0m\u001b[0;34m\u001b[0m\u001b[0m\n\u001b[0m",
            "\u001b[0;32m/usr/local/lib/python2.7/dist-packages/Crypto/Cipher/AES.pyc\u001b[0m in \u001b[0;36mnew\u001b[0;34m(key, *args, **kwargs)\u001b[0m\n\u001b[1;32m     93\u001b[0m     \u001b[0;34m:\u001b[0m\u001b[0mReturn\u001b[0m\u001b[0;34m:\u001b[0m \u001b[0man\u001b[0m \u001b[0;34m`\u001b[0m\u001b[0mAESCipher\u001b[0m\u001b[0;34m`\u001b[0m \u001b[0mobject\u001b[0m\u001b[0;34m\u001b[0m\u001b[0m\n\u001b[1;32m     94\u001b[0m     \"\"\"\n\u001b[0;32m---> 95\u001b[0;31m     \u001b[0;32mreturn\u001b[0m \u001b[0mAESCipher\u001b[0m\u001b[0;34m(\u001b[0m\u001b[0mkey\u001b[0m\u001b[0;34m,\u001b[0m \u001b[0;34m*\u001b[0m\u001b[0margs\u001b[0m\u001b[0;34m,\u001b[0m \u001b[0;34m**\u001b[0m\u001b[0mkwargs\u001b[0m\u001b[0;34m)\u001b[0m\u001b[0;34m\u001b[0m\u001b[0m\n\u001b[0m\u001b[1;32m     96\u001b[0m \u001b[0;34m\u001b[0m\u001b[0m\n\u001b[1;32m     97\u001b[0m \u001b[0;31m#: Electronic Code Book (ECB). See `blockalgo.MODE_ECB`.\u001b[0m\u001b[0;34m\u001b[0m\u001b[0;34m\u001b[0m\u001b[0m\n",
            "\u001b[0;32m/usr/local/lib/python2.7/dist-packages/Crypto/Cipher/AES.pyc\u001b[0m in \u001b[0;36m__init__\u001b[0;34m(self, key, *args, **kwargs)\u001b[0m\n\u001b[1;32m     57\u001b[0m \u001b[0;34m\u001b[0m\u001b[0m\n\u001b[1;32m     58\u001b[0m         See also `new()` at the module level.\"\"\"\n\u001b[0;32m---> 59\u001b[0;31m         \u001b[0mblockalgo\u001b[0m\u001b[0;34m.\u001b[0m\u001b[0mBlockAlgo\u001b[0m\u001b[0;34m.\u001b[0m\u001b[0m__init__\u001b[0m\u001b[0;34m(\u001b[0m\u001b[0mself\u001b[0m\u001b[0;34m,\u001b[0m \u001b[0m_AES\u001b[0m\u001b[0;34m,\u001b[0m \u001b[0mkey\u001b[0m\u001b[0;34m,\u001b[0m \u001b[0;34m*\u001b[0m\u001b[0margs\u001b[0m\u001b[0;34m,\u001b[0m \u001b[0;34m**\u001b[0m\u001b[0mkwargs\u001b[0m\u001b[0;34m)\u001b[0m\u001b[0;34m\u001b[0m\u001b[0m\n\u001b[0m\u001b[1;32m     60\u001b[0m \u001b[0;34m\u001b[0m\u001b[0m\n\u001b[1;32m     61\u001b[0m \u001b[0;32mdef\u001b[0m \u001b[0mnew\u001b[0m\u001b[0;34m(\u001b[0m\u001b[0mkey\u001b[0m\u001b[0;34m,\u001b[0m \u001b[0;34m*\u001b[0m\u001b[0margs\u001b[0m\u001b[0;34m,\u001b[0m \u001b[0;34m**\u001b[0m\u001b[0mkwargs\u001b[0m\u001b[0;34m)\u001b[0m\u001b[0;34m:\u001b[0m\u001b[0;34m\u001b[0m\u001b[0m\n",
            "\u001b[0;32m/usr/local/lib/python2.7/dist-packages/Crypto/Cipher/blockalgo.pyc\u001b[0m in \u001b[0;36m__init__\u001b[0;34m(self, factory, key, *args, **kwargs)\u001b[0m\n\u001b[1;32m    139\u001b[0m \u001b[0;34m\u001b[0m\u001b[0m\n\u001b[1;32m    140\u001b[0m         \u001b[0;32mif\u001b[0m \u001b[0mself\u001b[0m\u001b[0;34m.\u001b[0m\u001b[0mmode\u001b[0m \u001b[0;34m!=\u001b[0m \u001b[0mMODE_OPENPGP\u001b[0m\u001b[0;34m:\u001b[0m\u001b[0;34m\u001b[0m\u001b[0m\n\u001b[0;32m--> 141\u001b[0;31m             \u001b[0mself\u001b[0m\u001b[0;34m.\u001b[0m\u001b[0m_cipher\u001b[0m \u001b[0;34m=\u001b[0m \u001b[0mfactory\u001b[0m\u001b[0;34m.\u001b[0m\u001b[0mnew\u001b[0m\u001b[0;34m(\u001b[0m\u001b[0mkey\u001b[0m\u001b[0;34m,\u001b[0m \u001b[0;34m*\u001b[0m\u001b[0margs\u001b[0m\u001b[0;34m,\u001b[0m \u001b[0;34m**\u001b[0m\u001b[0mkwargs\u001b[0m\u001b[0;34m)\u001b[0m\u001b[0;34m\u001b[0m\u001b[0m\n\u001b[0m\u001b[1;32m    142\u001b[0m             \u001b[0mself\u001b[0m\u001b[0;34m.\u001b[0m\u001b[0mIV\u001b[0m \u001b[0;34m=\u001b[0m \u001b[0mself\u001b[0m\u001b[0;34m.\u001b[0m\u001b[0m_cipher\u001b[0m\u001b[0;34m.\u001b[0m\u001b[0mIV\u001b[0m\u001b[0;34m\u001b[0m\u001b[0m\n\u001b[1;32m    143\u001b[0m         \u001b[0;32melse\u001b[0m\u001b[0;34m:\u001b[0m\u001b[0;34m\u001b[0m\u001b[0m\n",
            "\u001b[0;31mValueError\u001b[0m: IV must be 16 bytes long"
          ]
        }
      ]
    },
    {
      "cell_type": "code",
      "metadata": {
        "id": "DHMgatqrPCXv",
        "colab_type": "code",
        "colab": {
          "base_uri": "https://localhost:8080/",
          "height": 68
        },
        "outputId": "5477a0b3-416a-4dad-9b64-31c0e7d65dda"
      },
      "source": [
        "k = \"19617b67467c866ec20e2e1fc9e08b8e\"\n",
        "iv = \"ce7b3eac618e30ad97ba203fbc3fc1a0\"\n",
        "print(k.decode('hex'))\n",
        "print(iv.decode('hex'))\n",
        "obj = AES.new(k.decode('hex'), AES.MODE_CBC, iv.decode('hex'))\n",
        "msg =\"I am by birth a Genevese, and my family is one of the most distinguished of that republic. My ancestors had been for many years counsellors and syndics, and my father had filled several public situations with honour and reputation. He was respected by all who knew him for his integrity and indefatigable attention to public business. He passed his younger days perpetually occupied by the affairs of his country; a variety of circumstances had prevented his marrying early, nor was it until the decline of life that he became a husband and the father of a family.            \"\n",
        "print(len(msg)) #length should be 576"
      ],
      "execution_count": 19,
      "outputs": [
        {
          "output_type": "stream",
          "text": [
            "\u0019a{gF|�n�\u000e.\u001f���\n",
            "�{>�a�0��� ?�?��\n",
            "576\n"
          ],
          "name": "stdout"
        }
      ]
    },
    {
      "cell_type": "code",
      "metadata": {
        "id": "yNyCH7KtP6cY",
        "colab_type": "code",
        "colab": {}
      },
      "source": [
        "ciphertext = obj.encrypt(msg)"
      ],
      "execution_count": 0,
      "outputs": []
    },
    {
      "cell_type": "code",
      "metadata": {
        "id": "fc3jdFOnREas",
        "colab_type": "code",
        "colab": {
          "base_uri": "https://localhost:8080/",
          "height": 54
        },
        "outputId": "42b7bd36-8f2e-46f9-fc6f-f7ebca95955b"
      },
      "source": [
        "ciphertext.encode('hex')"
      ],
      "execution_count": 22,
      "outputs": [
        {
          "output_type": "execute_result",
          "data": {
            "text/plain": [
              "'76aaff6f5338744cbf734fa8625326c7bf1476b3460b6a06f08ddc33d3ca1e8fb8b10d12b0e9ae61b32398a7deedd859bd66298146afdd1f1370c54f3cdea766e74e60db08543b4201cd7574dcbef73d66b538737dd3929305fa6f7737afd9f121dd76aaae6091f7f9e755156c07c02573cdd7cf99addaf1aed2f414316ebc3e1c73673288417fb2631495d995517a96e40246142839ec4b60e5c1caf644b2a521722a6c14d6618a791bed859ea97c591647a9f77004fb349daf7c590dc79d510a680e0f4003ef588be1b04960f89a05b0ef9b1c0cbf31786566740a61f88fbb2452ab05a9e9a83b5f65e19d42a2579b3bea6f94e63e0a519570518f2129a2346815d7bdd426f632e7692bc0d2073695e47a84431cd922fedb27985ecf7d73a135ad92b9b1b61b17c1b8e3361f3c58a1ec05b3f56cc82ff24473cb1bbfec8b427bf7baeeb47d257373d215f771a0a64c2d983541ececaa029f61833104080464ba48e86dd592452af3f2e808f36b66b45be5583571478e40533cf4d40eb1aaff915d6ed3823a891f51a2156870bf0d6a2975aaef339967d3c11fc2a75e9ecda5844eaeb568d8b18342c54f3950442613b5fe4ad9956cea72a05ca58c24a94e33894b321728e4d5dea9160be7ee5d82828eac5db8bbcdb121fac82f9ce4d0349b2ee43c29ad4d5ace046061088b3aa1eb58c6560750d52788071a0e8619285faf2c01d201f3b10546878e718779507497b9ae92c13abb48cdd726e9a7198f4c2dda2771c6e7aaf37f59e297aa3d59ab1bb66e1a5c846050c1f574c6c347d96001'"
            ]
          },
          "metadata": {
            "tags": []
          },
          "execution_count": 22
        }
      ]
    },
    {
      "cell_type": "code",
      "metadata": {
        "id": "EqeF6BsXS18Z",
        "colab_type": "code",
        "colab": {}
      },
      "source": [
        "k = \"19617b67467c866ec20e2e1fc9e08b8e\"\n",
        "iv = \"ce7b3eac618e30ad97ba203fbc3fc1a0\"\n",
        "iv = long(iv[:AES.block_size].encode('hex'), 16)\n",
        "ctr = Counter.new(AES.block_size*8, initial_value = iv)\n",
        "obj = AES.new(k.decode('hex'), AES.MODE_CTR, counter=ctr)\n",
        "#plaintext = raw_input('Enter message to cipher: ')\n",
        "#ciphertext = encryptor.encrypt(plaintext)\n",
        "msg=\"As the circumstances of his marriage illustrate his character, I cannot refrain from relating them. One of his most intimate friends was a merchant who, from a flourishing state, fell, through numerous mischances, into poverty. This man, whose name was Beaufort, was of a proud and unbending disposition and could not bear to live in poverty and oblivion in the same country where he had formerly been distinguished for his rank and magnificence. Having paid his debts, therefore, in the most honourable manner, he retreated with his daughter to the town of Lucerne, where he lived unknown and in wretchedness. My father loved Beaufort with the truest friendship and was deeply grieved by his retreat in these unfortunate circumstances. He bitterly deplored the false pride which led his friend to a conduct so little worthy of the affection that united them. He lost no time in endeavouring to seek him out, with the hope of persuading him to begin the world again through his credit and assistance.\""
      ],
      "execution_count": 0,
      "outputs": []
    },
    {
      "cell_type": "code",
      "metadata": {
        "id": "tuCDnQZrT7bx",
        "colab_type": "code",
        "colab": {
          "base_uri": "https://localhost:8080/",
          "height": 54
        },
        "outputId": "6f834fb9-239a-4418-9c10-18c912a4e0b4"
      },
      "source": [
        "ciphertext = obj.encrypt(msg)\n",
        "ciphertext.encode('hex')"
      ],
      "execution_count": 30,
      "outputs": [
        {
          "output_type": "execute_result",
          "data": {
            "text/plain": [
              "'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'"
            ]
          },
          "metadata": {
            "tags": []
          },
          "execution_count": 30
        }
      ]
    },
    {
      "cell_type": "code",
      "metadata": {
        "id": "BS_qqiMyUVJt",
        "colab_type": "code",
        "colab": {}
      },
      "source": [
        ""
      ],
      "execution_count": 0,
      "outputs": []
    }
  ]
}