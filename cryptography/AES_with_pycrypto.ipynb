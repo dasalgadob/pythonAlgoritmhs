{
  "nbformat": 4,
  "nbformat_minor": 0,
  "metadata": {
    "colab": {
      "name": "AES with pycrypto.ipynb",
      "version": "0.3.2",
      "provenance": [],
      "collapsed_sections": [],
      "include_colab_link": true
    },
    "kernelspec": {
      "name": "python2",
      "display_name": "Python 2"
    }
  },
  "cells": [
    {
      "cell_type": "markdown",
      "metadata": {
        "id": "view-in-github",
        "colab_type": "text"
      },
      "source": [
        "<a href=\"https://colab.research.google.com/github/dasalgadob/pythonAlgoritmhs/blob/master/cryptography/AES_with_pycrypto.ipynb\" target=\"_parent\"><img src=\"https://colab.research.google.com/assets/colab-badge.svg\" alt=\"Open In Colab\"/></a>"
      ]
    },
    {
      "cell_type": "code",
      "metadata": {
        "id": "eHwRiEKEJRmS",
        "colab_type": "code",
        "outputId": "e5af80c4-e0dc-4210-bc1d-35905125f8e7",
        "colab": {
          "base_uri": "https://localhost:8080/",
          "height": 170
        }
      },
      "source": [
        "!pip install pycrypto"
      ],
      "execution_count": 2,
      "outputs": [
        {
          "output_type": "stream",
          "text": [
            "Collecting pycrypto\n",
            "\u001b[?25l  Downloading https://files.pythonhosted.org/packages/60/db/645aa9af249f059cc3a368b118de33889219e0362141e75d4eaf6f80f163/pycrypto-2.6.1.tar.gz (446kB)\n",
            "\u001b[K     |████████████████████████████████| 450kB 4.8MB/s \n",
            "\u001b[?25hBuilding wheels for collected packages: pycrypto\n",
            "  Building wheel for pycrypto (setup.py) ... \u001b[?25l\u001b[?25hdone\n",
            "  Stored in directory: /root/.cache/pip/wheels/27/02/5e/77a69d0c16bb63c6ed32f5386f33a2809c94bd5414a2f6c196\n",
            "Successfully built pycrypto\n",
            "Installing collected packages: pycrypto\n",
            "Successfully installed pycrypto-2.6.1\n"
          ],
          "name": "stdout"
        }
      ]
    },
    {
      "cell_type": "code",
      "metadata": {
        "id": "xOW3q_K0IWVb",
        "colab_type": "code",
        "outputId": "45bc49b7-199c-45f2-f594-0fecc0643205",
        "colab": {
          "base_uri": "https://localhost:8080/",
          "height": 51
        }
      },
      "source": [
        "from Crypto.Hash import MD5\n",
        "m = MD5.new()\n",
        "m.update('abc')\n",
        "m.digest(), m.hexdigest()"
      ],
      "execution_count": 3,
      "outputs": [
        {
          "output_type": "execute_result",
          "data": {
            "text/plain": [
              "('\\x90\\x01P\\x98<\\xd2O\\xb0\\xd6\\x96?}(\\xe1\\x7fr',\n",
              " '900150983cd24fb0d6963f7d28e17f72')"
            ]
          },
          "metadata": {
            "tags": []
          },
          "execution_count": 3
        }
      ]
    },
    {
      "cell_type": "code",
      "metadata": {
        "id": "6H1kRcVMJzKC",
        "colab_type": "code",
        "outputId": "47a7e938-7f2b-4bc5-efba-f7769becdf13",
        "colab": {
          "base_uri": "https://localhost:8080/",
          "height": 34
        }
      },
      "source": [
        "from Crypto.Cipher import AES\n",
        "from Crypto.Util import Counter\n",
        "\n",
        "k = '140b41b22a29beb4061bda66b6747e14'.decode('hex')\n",
        "c = '4ca00ff4c898d61e1edbf1800618fb2828a226d160dad07883d04e008a7897ee2e4b7465d5290d0c0e6c6822236e1daafb94ffe0c5da05d9476be028ad7c1d81'.decode('hex')\n",
        "iv = c[:AES.block_size]\n",
        "\n",
        "\n",
        "cipher = AES.new(k, AES.MODE_CBC, iv)\n",
        "cipher.decrypt(c[AES.block_size:])"
      ],
      "execution_count": 4,
      "outputs": [
        {
          "output_type": "execute_result",
          "data": {
            "text/plain": [
              "'Basic CBC mode encryption needs padding.\\x08\\x08\\x08\\x08\\x08\\x08\\x08\\x08'"
            ]
          },
          "metadata": {
            "tags": []
          },
          "execution_count": 4
        }
      ]
    },
    {
      "cell_type": "code",
      "metadata": {
        "id": "B3it9cx7LH5H",
        "colab_type": "code",
        "outputId": "675b7a12-5b47-4247-8377-5ea01f15db6e",
        "colab": {
          "base_uri": "https://localhost:8080/",
          "height": 34
        }
      },
      "source": [
        "k = '140b41b22a29beb4061bda66b6747e14'.decode('hex')\n",
        "c = '5b68629feb8606f9a6667670b75b38a5b4832d0f26e1ab7da33249de7d4afc48e713ac646ace36e872ad5fb8a512428a6e21364b0c374df45503473c5242a253'.decode('hex')\n",
        "iv = c[:AES.block_size]\n",
        "\n",
        "\n",
        "cipher = AES.new(k, AES.MODE_CBC, iv)\n",
        "cipher.decrypt(c[AES.block_size:])"
      ],
      "execution_count": 5,
      "outputs": [
        {
          "output_type": "execute_result",
          "data": {
            "text/plain": [
              "'Our implementation uses rand. IV\\x10\\x10\\x10\\x10\\x10\\x10\\x10\\x10\\x10\\x10\\x10\\x10\\x10\\x10\\x10\\x10'"
            ]
          },
          "metadata": {
            "tags": []
          },
          "execution_count": 5
        }
      ]
    },
    {
      "cell_type": "code",
      "metadata": {
        "id": "N31YnWT6Lr9P",
        "colab_type": "code",
        "outputId": "a640142a-0d50-4601-c3e9-395fbf95a2ed",
        "colab": {
          "base_uri": "https://localhost:8080/",
          "height": 51
        }
      },
      "source": [
        "k = '36f18357be4dbd77f050515c73fcf9f2'.decode('hex')\n",
        "c = '69dda8455c7dd4254bf353b773304eec0ec7702330098ce7f7520d1cbbb20fc388d1b0adb5054dbd7370849dbf0b88d393f252e764f1f5f7ad97ef79d59ce29f5f51eeca32eabedd9afa9329'.decode('hex')\n",
        "iv = long(c[:AES.block_size].encode('hex'), 16)\n",
        "print iv\n",
        "\n",
        "ctr = Counter.new(AES.block_size*8, initial_value = iv)\n",
        "cipher = AES.new(k, AES.MODE_CTR, counter = ctr)\n",
        "cipher.decrypt(c[AES.block_size:])"
      ],
      "execution_count": 6,
      "outputs": [
        {
          "output_type": "stream",
          "text": [
            "140719850103333728986387782192061239020\n"
          ],
          "name": "stdout"
        },
        {
          "output_type": "execute_result",
          "data": {
            "text/plain": [
              "'CTR mode lets you build a stream cipher from a block cipher.'"
            ]
          },
          "metadata": {
            "tags": []
          },
          "execution_count": 6
        }
      ]
    },
    {
      "cell_type": "code",
      "metadata": {
        "id": "Dz9kifdRNWR_",
        "colab_type": "code",
        "outputId": "16b02cb0-ff0b-483f-e14d-0f34113c3f79",
        "colab": {
          "base_uri": "https://localhost:8080/",
          "height": 51
        }
      },
      "source": [
        "k = '36f18357be4dbd77f050515c73fcf9f2'.decode('hex')\n",
        "c = '770b80259ec33beb2561358a9f2dc617e46218c0a53cbeca695ae45faa8952aa0e311bde9d4e01726d3184c34451'.decode('hex')\n",
        "iv = long(c[:AES.block_size].encode('hex'), 16)\n",
        "print iv\n",
        "\n",
        "ctr = Counter.new(AES.block_size*8, initial_value = iv)\n",
        "cipher = AES.new(k, AES.MODE_CTR, counter = ctr)\n",
        "cipher.decrypt(c[AES.block_size:])"
      ],
      "execution_count": 7,
      "outputs": [
        {
          "output_type": "stream",
          "text": [
            "158237845892854807464959844942305150487\n"
          ],
          "name": "stdout"
        },
        {
          "output_type": "execute_result",
          "data": {
            "text/plain": [
              "'Always avoid the two time pad!'"
            ]
          },
          "metadata": {
            "tags": []
          },
          "execution_count": 7
        }
      ]
    },
    {
      "cell_type": "code",
      "metadata": {
        "id": "_PgpM5pWFV8a",
        "colab_type": "code",
        "outputId": "dd761fa3-7c9b-49cb-c5c4-3b069cf9871d",
        "colab": {
          "base_uri": "https://localhost:8080/",
          "height": 340
        }
      },
      "source": [
        "\n",
        "k = \"19617b67467c866ec20e2e1fc9e08b8e\"\n",
        "iv =\"ce7b3eac618e30ad97ba203fbc3fc1a0\"\n",
        "cipher = AES.new(k, AES.MODE_CBC, iv)\n"
      ],
      "execution_count": 8,
      "outputs": [
        {
          "output_type": "error",
          "ename": "ValueError",
          "evalue": "ignored",
          "traceback": [
            "\u001b[0;31m\u001b[0m",
            "\u001b[0;31mValueError\u001b[0mTraceback (most recent call last)",
            "\u001b[0;32m<ipython-input-8-f3bb319470bb>\u001b[0m in \u001b[0;36m<module>\u001b[0;34m()\u001b[0m\n\u001b[1;32m      2\u001b[0m \u001b[0mk\u001b[0m \u001b[0;34m=\u001b[0m \u001b[0;34m\"19617b67467c866ec20e2e1fc9e08b8e\"\u001b[0m\u001b[0;34m\u001b[0m\u001b[0m\n\u001b[1;32m      3\u001b[0m \u001b[0miv\u001b[0m \u001b[0;34m=\u001b[0m\u001b[0;34m\"ce7b3eac618e30ad97ba203fbc3fc1a0\"\u001b[0m\u001b[0;34m\u001b[0m\u001b[0m\n\u001b[0;32m----> 4\u001b[0;31m \u001b[0mcipher\u001b[0m \u001b[0;34m=\u001b[0m \u001b[0mAES\u001b[0m\u001b[0;34m.\u001b[0m\u001b[0mnew\u001b[0m\u001b[0;34m(\u001b[0m\u001b[0mk\u001b[0m\u001b[0;34m,\u001b[0m \u001b[0mAES\u001b[0m\u001b[0;34m.\u001b[0m\u001b[0mMODE_CBC\u001b[0m\u001b[0;34m,\u001b[0m \u001b[0miv\u001b[0m\u001b[0;34m)\u001b[0m\u001b[0;34m\u001b[0m\u001b[0m\n\u001b[0m",
            "\u001b[0;32m/usr/local/lib/python2.7/dist-packages/Crypto/Cipher/AES.pyc\u001b[0m in \u001b[0;36mnew\u001b[0;34m(key, *args, **kwargs)\u001b[0m\n\u001b[1;32m     93\u001b[0m     \u001b[0;34m:\u001b[0m\u001b[0mReturn\u001b[0m\u001b[0;34m:\u001b[0m \u001b[0man\u001b[0m \u001b[0;34m`\u001b[0m\u001b[0mAESCipher\u001b[0m\u001b[0;34m`\u001b[0m \u001b[0mobject\u001b[0m\u001b[0;34m\u001b[0m\u001b[0m\n\u001b[1;32m     94\u001b[0m     \"\"\"\n\u001b[0;32m---> 95\u001b[0;31m     \u001b[0;32mreturn\u001b[0m \u001b[0mAESCipher\u001b[0m\u001b[0;34m(\u001b[0m\u001b[0mkey\u001b[0m\u001b[0;34m,\u001b[0m \u001b[0;34m*\u001b[0m\u001b[0margs\u001b[0m\u001b[0;34m,\u001b[0m \u001b[0;34m**\u001b[0m\u001b[0mkwargs\u001b[0m\u001b[0;34m)\u001b[0m\u001b[0;34m\u001b[0m\u001b[0m\n\u001b[0m\u001b[1;32m     96\u001b[0m \u001b[0;34m\u001b[0m\u001b[0m\n\u001b[1;32m     97\u001b[0m \u001b[0;31m#: Electronic Code Book (ECB). See `blockalgo.MODE_ECB`.\u001b[0m\u001b[0;34m\u001b[0m\u001b[0;34m\u001b[0m\u001b[0m\n",
            "\u001b[0;32m/usr/local/lib/python2.7/dist-packages/Crypto/Cipher/AES.pyc\u001b[0m in \u001b[0;36m__init__\u001b[0;34m(self, key, *args, **kwargs)\u001b[0m\n\u001b[1;32m     57\u001b[0m \u001b[0;34m\u001b[0m\u001b[0m\n\u001b[1;32m     58\u001b[0m         See also `new()` at the module level.\"\"\"\n\u001b[0;32m---> 59\u001b[0;31m         \u001b[0mblockalgo\u001b[0m\u001b[0;34m.\u001b[0m\u001b[0mBlockAlgo\u001b[0m\u001b[0;34m.\u001b[0m\u001b[0m__init__\u001b[0m\u001b[0;34m(\u001b[0m\u001b[0mself\u001b[0m\u001b[0;34m,\u001b[0m \u001b[0m_AES\u001b[0m\u001b[0;34m,\u001b[0m \u001b[0mkey\u001b[0m\u001b[0;34m,\u001b[0m \u001b[0;34m*\u001b[0m\u001b[0margs\u001b[0m\u001b[0;34m,\u001b[0m \u001b[0;34m**\u001b[0m\u001b[0mkwargs\u001b[0m\u001b[0;34m)\u001b[0m\u001b[0;34m\u001b[0m\u001b[0m\n\u001b[0m\u001b[1;32m     60\u001b[0m \u001b[0;34m\u001b[0m\u001b[0m\n\u001b[1;32m     61\u001b[0m \u001b[0;32mdef\u001b[0m \u001b[0mnew\u001b[0m\u001b[0;34m(\u001b[0m\u001b[0mkey\u001b[0m\u001b[0;34m,\u001b[0m \u001b[0;34m*\u001b[0m\u001b[0margs\u001b[0m\u001b[0;34m,\u001b[0m \u001b[0;34m**\u001b[0m\u001b[0mkwargs\u001b[0m\u001b[0;34m)\u001b[0m\u001b[0;34m:\u001b[0m\u001b[0;34m\u001b[0m\u001b[0m\n",
            "\u001b[0;32m/usr/local/lib/python2.7/dist-packages/Crypto/Cipher/blockalgo.pyc\u001b[0m in \u001b[0;36m__init__\u001b[0;34m(self, factory, key, *args, **kwargs)\u001b[0m\n\u001b[1;32m    139\u001b[0m \u001b[0;34m\u001b[0m\u001b[0m\n\u001b[1;32m    140\u001b[0m         \u001b[0;32mif\u001b[0m \u001b[0mself\u001b[0m\u001b[0;34m.\u001b[0m\u001b[0mmode\u001b[0m \u001b[0;34m!=\u001b[0m \u001b[0mMODE_OPENPGP\u001b[0m\u001b[0;34m:\u001b[0m\u001b[0;34m\u001b[0m\u001b[0m\n\u001b[0;32m--> 141\u001b[0;31m             \u001b[0mself\u001b[0m\u001b[0;34m.\u001b[0m\u001b[0m_cipher\u001b[0m \u001b[0;34m=\u001b[0m \u001b[0mfactory\u001b[0m\u001b[0;34m.\u001b[0m\u001b[0mnew\u001b[0m\u001b[0;34m(\u001b[0m\u001b[0mkey\u001b[0m\u001b[0;34m,\u001b[0m \u001b[0;34m*\u001b[0m\u001b[0margs\u001b[0m\u001b[0;34m,\u001b[0m \u001b[0;34m**\u001b[0m\u001b[0mkwargs\u001b[0m\u001b[0;34m)\u001b[0m\u001b[0;34m\u001b[0m\u001b[0m\n\u001b[0m\u001b[1;32m    142\u001b[0m             \u001b[0mself\u001b[0m\u001b[0;34m.\u001b[0m\u001b[0mIV\u001b[0m \u001b[0;34m=\u001b[0m \u001b[0mself\u001b[0m\u001b[0;34m.\u001b[0m\u001b[0m_cipher\u001b[0m\u001b[0;34m.\u001b[0m\u001b[0mIV\u001b[0m\u001b[0;34m\u001b[0m\u001b[0m\n\u001b[1;32m    143\u001b[0m         \u001b[0;32melse\u001b[0m\u001b[0;34m:\u001b[0m\u001b[0;34m\u001b[0m\u001b[0m\n",
            "\u001b[0;31mValueError\u001b[0m: IV must be 16 bytes long"
          ]
        }
      ]
    },
    {
      "cell_type": "code",
      "metadata": {
        "id": "DHMgatqrPCXv",
        "colab_type": "code",
        "outputId": "f2b48042-1e76-46dc-d638-d769604661fe",
        "colab": {
          "base_uri": "https://localhost:8080/",
          "height": 68
        }
      },
      "source": [
        "## Point 13\n",
        "\n",
        "##Let be k=19617b67467c866ec20e2e1fc9e08b8e, iv=ce7b3eac618e30ad97ba203fbc3fc1a0 and m=the first paragraph of chapter 1 of Frankenstein by Mary Wollstonecraft (Godwin) Shelley.\n",
        "\n",
        "\n",
        "k = \"19617b67467c866ec20e2e1fc9e08b8e\"\n",
        "iv = \"ce7b3eac618e30ad97ba203fbc3fc1a0\"\n",
        "print(k.decode('hex'))\n",
        "print(iv.decode('hex'))\n",
        "obj = AES.new(k.decode('hex'), AES.MODE_CBC, iv.decode('hex'))\n",
        "#msg =\"I am by birth a Genevese, and my family is one of the most distinguished of that republic. My ancestors had been for many years counsellors and syndics, and my father had filled several public situations with honour and reputation. He was respected by all who knew him for his integrity and indefatigable attention to public business. He passed his younger days perpetually occupied by the affairs of his country; a variety of circumstances had prevented his marrying early, nor was it until the decline of life that he became a husband and the father of a family.            \"\n",
        "\n",
        "#k=\"19617b67467c866ec20e2e1fc9e08b8e\"\n",
        "m=\"I am by birth a Genevese, and my family is one of the most distinguished of that republic. My ancestors had been for many years counsellors and syndics, and my father had filled several public situations with honour and reputation. He was respected by all who knew him for his integrity and indefatigable attention to public business. He passed his younger days perpetually occupied by the affairs of his country; a variety of circumstances had prevented his marrying early, nor was it until the decline of life that he became a husband and the father of a family.\"\n",
        "m += '\\x0c' * 12\n",
        "\n",
        "print(len(m)) #length should be 576"
      ],
      "execution_count": 13,
      "outputs": [
        {
          "output_type": "stream",
          "text": [
            "\u0019a{gF|�n�\u000e.\u001f���\n",
            "�{>�a�0��� ?�?��\n",
            "576\n"
          ],
          "name": "stdout"
        }
      ]
    },
    {
      "cell_type": "code",
      "metadata": {
        "id": "ZG-0hbdo9H-f",
        "colab_type": "code",
        "colab": {
          "base_uri": "https://localhost:8080/",
          "height": 34
        },
        "outputId": "b7d8d76f-d9f4-467f-8bd8-24312cae8ea6"
      },
      "source": [
        "print(576-564)"
      ],
      "execution_count": 11,
      "outputs": [
        {
          "output_type": "stream",
          "text": [
            "12\n"
          ],
          "name": "stdout"
        }
      ]
    },
    {
      "cell_type": "code",
      "metadata": {
        "id": "yNyCH7KtP6cY",
        "colab_type": "code",
        "colab": {}
      },
      "source": [
        "ciphertext = obj.encrypt(m)"
      ],
      "execution_count": 0,
      "outputs": []
    },
    {
      "cell_type": "code",
      "metadata": {
        "id": "fc3jdFOnREas",
        "colab_type": "code",
        "outputId": "426d174e-307f-49ba-a289-8939f2bf678f",
        "colab": {
          "base_uri": "https://localhost:8080/",
          "height": 54
        }
      },
      "source": [
        "ciphertext.encode('hex')"
      ],
      "execution_count": 15,
      "outputs": [
        {
          "output_type": "execute_result",
          "data": {
            "text/plain": [
              "'76aaff6f5338744cbf734fa8625326c7bf1476b3460b6a06f08ddc33d3ca1e8fb8b10d12b0e9ae61b32398a7deedd859bd66298146afdd1f1370c54f3cdea766e74e60db08543b4201cd7574dcbef73d66b538737dd3929305fa6f7737afd9f121dd76aaae6091f7f9e755156c07c02573cdd7cf99addaf1aed2f414316ebc3e1c73673288417fb2631495d995517a96e40246142839ec4b60e5c1caf644b2a521722a6c14d6618a791bed859ea97c591647a9f77004fb349daf7c590dc79d510a680e0f4003ef588be1b04960f89a05b0ef9b1c0cbf31786566740a61f88fbb2452ab05a9e9a83b5f65e19d42a2579b3bea6f94e63e0a519570518f2129a2346815d7bdd426f632e7692bc0d2073695e47a84431cd922fedb27985ecf7d73a135ad92b9b1b61b17c1b8e3361f3c58a1ec05b3f56cc82ff24473cb1bbfec8b427bf7baeeb47d257373d215f771a0a64c2d983541ececaa029f61833104080464ba48e86dd592452af3f2e808f36b66b45be5583571478e40533cf4d40eb1aaff915d6ed3823a891f51a2156870bf0d6a2975aaef339967d3c11fc2a75e9ecda5844eaeb568d8b18342c54f3950442613b5fe4ad9956cea72a05ca58c24a94e33894b321728e4d5dea9160be7ee5d82828eac5db8bbcdb121fac82f9ce4d0349b2ee43c29ad4d5ace046061088b3aa1eb58c6560750d52788071a0e8619285faf2c01d201f3b10546878e718779507497b9ae92c13abb48cdd726e9a7198f4c2dda2771c6e7aaf37f59e297aa3d59ab1b5e513a0ee165de0db1724f97520821ed'"
            ]
          },
          "metadata": {
            "tags": []
          },
          "execution_count": 15
        }
      ]
    },
    {
      "cell_type": "code",
      "metadata": {
        "id": "EqeF6BsXS18Z",
        "colab_type": "code",
        "colab": {}
      },
      "source": [
        "#Let be k=19617b67467c866ec20e2e1fc9e08b8e, iv=ce7b3eac618e30ad97ba203fbc3fc1a0 and m=the second paragraph of chapter 1 of Frankenstein by Mary Wollstonecraft (Godwin) Shelley.\n",
        "\n",
        "k = \"19617b67467c866ec20e2e1fc9e08b8e\"\n",
        "iv = \"ce7b3eac618e30ad97ba203fbc3fc1a0\"\n",
        "#iv = long(iv[:AES.block_size].encode('hex'), 16)\n",
        "iv = long(iv, 16)\n",
        "ctr = Counter.new(AES.block_size*8, initial_value = iv)\n",
        "obj = AES.new(k.decode('hex'), AES.MODE_CTR, counter=ctr)\n",
        "#plaintext = raw_input('Enter message to cipher: ')\n",
        "#ciphertext = encryptor.encrypt(plaintext)\n",
        "msg=\"As the circumstances of his marriage illustrate his character, I cannot refrain from relating them. One of his most intimate friends was a merchant who, from a flourishing state, fell, through numerous mischances, into poverty. This man, whose name was Beaufort, was of a proud and unbending disposition and could not bear to live in poverty and oblivion in the same country where he had formerly been distinguished for his rank and magnificence. Having paid his debts, therefore, in the most honourable manner, he retreated with his daughter to the town of Lucerne, where he lived unknown and in wretchedness. My father loved Beaufort with the truest friendship and was deeply grieved by his retreat in these unfortunate circumstances. He bitterly deplored the false pride which led his friend to a conduct so little worthy of the affection that united them. He lost no time in endeavouring to seek him out, with the hope of persuading him to begin the world again through his credit and assistance.\""
      ],
      "execution_count": 0,
      "outputs": []
    },
    {
      "cell_type": "code",
      "metadata": {
        "id": "tuCDnQZrT7bx",
        "colab_type": "code",
        "outputId": "eed3dad6-32c3-4c91-ff52-0e80f034f3c2",
        "colab": {
          "base_uri": "https://localhost:8080/",
          "height": 54
        }
      },
      "source": [
        "ciphertext = obj.encrypt(msg)\n",
        "ciphertext.encode('hex')"
      ],
      "execution_count": 17,
      "outputs": [
        {
          "output_type": "execute_result",
          "data": {
            "text/plain": [
              "'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'"
            ]
          },
          "metadata": {
            "tags": []
          },
          "execution_count": 17
        }
      ]
    },
    {
      "cell_type": "code",
      "metadata": {
        "id": "BS_qqiMyUVJt",
        "colab_type": "code",
        "colab": {}
      },
      "source": [
        ""
      ],
      "execution_count": 0,
      "outputs": []
    }
  ]
}