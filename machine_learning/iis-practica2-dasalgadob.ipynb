{
 "cells": [
  {
   "cell_type": "markdown",
   "metadata": {
    "colab_type": "text",
    "id": "yTRoytbIps_y"
   },
   "source": [
    "# Práctica 2\n",
    "# Clasificación no lineal, complejidad y sobreajuste\n",
    "## [Introducción a los Sistemas Inteligentes](https://fagonzalezo.github.io/iis-2018-2/)\n",
    "### Grupos de máximo 2 personas\n",
    "### Entrega: Jueves 4 de Octubre 2018\n"
   ]
  },
  {
   "cell_type": "markdown",
   "metadata": {
    "colab_type": "text",
    "id": "dsd0ThXwptFr"
   },
   "source": [
    "Siguiendo con el uso del conjunto de datos **Wine** usado en la práctica anterior:"
   ]
  },
  {
   "cell_type": "code",
   "execution_count": 2,
   "metadata": {},
   "outputs": [],
   "source": [
    "%matplotlib inline\n",
    "import matplotlib.pyplot as plt\n",
    "import numpy as np\n",
    "import pylab as pl\n",
    "from sklearn import datasets\n",
    "from sklearn.datasets import make_moons\n",
    "import graphviz \n",
    "from sklearn.tree import export_graphviz\n",
    "import pydot\n",
    "\n",
    "\n",
    "# Función para visualizar un conjunto de datos en 2D\n",
    "def plot_data(X, y):\n",
    "    y_unique = np.unique(y)\n",
    "    colors = pl.cm.rainbow(np.linspace(0.0, 1.0, y_unique.size))\n",
    "    for this_y, color in zip(y_unique, colors):\n",
    "        this_X = X[y == this_y]\n",
    "        pl.scatter(this_X[:, 0], this_X[:, 1],  c=color,\n",
    "                    alpha=0.5, edgecolor='k',\n",
    "                    label=\"Class %s\" % this_y)\n",
    "    pl.legend(loc=\"best\")\n",
    "    pl.title(\"Data\")\n",
    "    \n",
    "# Función para visualizar de la superficie de decisión de un clasificador\n",
    "def plot_decision_region(X, pred_fun):\n",
    "    print(X.shape)\n",
    "    min_x = np.min(X[:, 0])\n",
    "    max_x = np.max(X[:, 0])\n",
    "    min_y = np.min(X[:, 1])\n",
    "    max_y = np.max(X[:, 1])\n",
    "    min_x = min_x - (max_x - min_x) * 0.05\n",
    "    max_x = max_x + (max_x - min_x) * 0.05\n",
    "    min_y = min_y - (max_y - min_y) * 0.05\n",
    "    max_y = max_y + (max_y - min_y) * 0.05\n",
    "    x_vals = np.linspace(min_x, max_x, 100)\n",
    "    y_vals = np.linspace(min_y, max_y, 100)\n",
    "    XX, YY = np.meshgrid(x_vals, y_vals)\n",
    "    grid_r, grid_c = XX.shape\n",
    "    ZZ = np.zeros((grid_r, grid_c))\n",
    "    for i in range(grid_r):\n",
    "        for j in range(grid_c):\n",
    "            ZZ[i, j] = pred_fun(XX[i, j], YY[i, j])\n",
    "    pl.contourf(XX, YY, ZZ, 100, cmap = pl.cm.coolwarm, vmin= -1, vmax=2)\n",
    "    pl.colorbar()\n",
    "    pl.xlabel(\"x\")\n",
    "    pl.ylabel(\"y\")\n",
    "    \n",
    "def gen_pred_fun(clf):\n",
    "    def pred_fun(x1, x2):\n",
    "        x = np.array([[x1, x2]])\n",
    "        return clf.predict(x)[0]\n",
    "    return pred_fun"
   ]
  },
  {
   "cell_type": "markdown",
   "metadata": {
    "colab_type": "text",
    "id": "An1HxRMrzNas"
   },
   "source": [
    "\n",
    "### 1. Cargamos el conjunto de datos **Wine** como un DataFrame de pandas."
   ]
  },
  {
   "cell_type": "code",
   "execution_count": 3,
   "metadata": {
    "colab": {},
    "colab_type": "code",
    "collapsed": true,
    "id": "nIljezPRY8U4"
   },
   "outputs": [
    {
     "data": {
      "text/html": [
       "<div>\n",
       "<style scoped>\n",
       "    .dataframe tbody tr th:only-of-type {\n",
       "        vertical-align: middle;\n",
       "    }\n",
       "\n",
       "    .dataframe tbody tr th {\n",
       "        vertical-align: top;\n",
       "    }\n",
       "\n",
       "    .dataframe thead th {\n",
       "        text-align: right;\n",
       "    }\n",
       "</style>\n",
       "<table border=\"1\" class=\"dataframe\">\n",
       "  <thead>\n",
       "    <tr style=\"text-align: right;\">\n",
       "      <th></th>\n",
       "      <th>Class</th>\n",
       "      <th>Alcohol</th>\n",
       "      <th>Malic_acid</th>\n",
       "      <th>Ash</th>\n",
       "      <th>Alcalinity</th>\n",
       "      <th>Magnesium</th>\n",
       "      <th>Phenols</th>\n",
       "      <th>Flavanoids</th>\n",
       "      <th>Nonflavanoid</th>\n",
       "      <th>Proanthocyanins</th>\n",
       "      <th>Color</th>\n",
       "      <th>Hue</th>\n",
       "      <th>OD280/OD315</th>\n",
       "      <th>Proline</th>\n",
       "    </tr>\n",
       "  </thead>\n",
       "  <tbody>\n",
       "    <tr>\n",
       "      <th>0</th>\n",
       "      <td>1</td>\n",
       "      <td>14.23</td>\n",
       "      <td>1.71</td>\n",
       "      <td>2.43</td>\n",
       "      <td>15.6</td>\n",
       "      <td>127</td>\n",
       "      <td>2.80</td>\n",
       "      <td>3.06</td>\n",
       "      <td>0.28</td>\n",
       "      <td>2.29</td>\n",
       "      <td>5.64</td>\n",
       "      <td>1.04</td>\n",
       "      <td>3.92</td>\n",
       "      <td>1065</td>\n",
       "    </tr>\n",
       "    <tr>\n",
       "      <th>1</th>\n",
       "      <td>1</td>\n",
       "      <td>13.20</td>\n",
       "      <td>1.78</td>\n",
       "      <td>2.14</td>\n",
       "      <td>11.2</td>\n",
       "      <td>100</td>\n",
       "      <td>2.65</td>\n",
       "      <td>2.76</td>\n",
       "      <td>0.26</td>\n",
       "      <td>1.28</td>\n",
       "      <td>4.38</td>\n",
       "      <td>1.05</td>\n",
       "      <td>3.40</td>\n",
       "      <td>1050</td>\n",
       "    </tr>\n",
       "    <tr>\n",
       "      <th>2</th>\n",
       "      <td>1</td>\n",
       "      <td>13.16</td>\n",
       "      <td>2.36</td>\n",
       "      <td>2.67</td>\n",
       "      <td>18.6</td>\n",
       "      <td>101</td>\n",
       "      <td>2.80</td>\n",
       "      <td>3.24</td>\n",
       "      <td>0.30</td>\n",
       "      <td>2.81</td>\n",
       "      <td>5.68</td>\n",
       "      <td>1.03</td>\n",
       "      <td>3.17</td>\n",
       "      <td>1185</td>\n",
       "    </tr>\n",
       "    <tr>\n",
       "      <th>3</th>\n",
       "      <td>1</td>\n",
       "      <td>14.37</td>\n",
       "      <td>1.95</td>\n",
       "      <td>2.50</td>\n",
       "      <td>16.8</td>\n",
       "      <td>113</td>\n",
       "      <td>3.85</td>\n",
       "      <td>3.49</td>\n",
       "      <td>0.24</td>\n",
       "      <td>2.18</td>\n",
       "      <td>7.80</td>\n",
       "      <td>0.86</td>\n",
       "      <td>3.45</td>\n",
       "      <td>1480</td>\n",
       "    </tr>\n",
       "    <tr>\n",
       "      <th>4</th>\n",
       "      <td>1</td>\n",
       "      <td>13.24</td>\n",
       "      <td>2.59</td>\n",
       "      <td>2.87</td>\n",
       "      <td>21.0</td>\n",
       "      <td>118</td>\n",
       "      <td>2.80</td>\n",
       "      <td>2.69</td>\n",
       "      <td>0.39</td>\n",
       "      <td>1.82</td>\n",
       "      <td>4.32</td>\n",
       "      <td>1.04</td>\n",
       "      <td>2.93</td>\n",
       "      <td>735</td>\n",
       "    </tr>\n",
       "  </tbody>\n",
       "</table>\n",
       "</div>"
      ],
      "text/plain": [
       "   Class  Alcohol   Malic_acid   Ash   Alcalinity   Magnesium   Phenols  \\\n",
       "0      1    14.23         1.71  2.43         15.6         127      2.80   \n",
       "1      1    13.20         1.78  2.14         11.2         100      2.65   \n",
       "2      1    13.16         2.36  2.67         18.6         101      2.80   \n",
       "3      1    14.37         1.95  2.50         16.8         113      3.85   \n",
       "4      1    13.24         2.59  2.87         21.0         118      2.80   \n",
       "\n",
       "    Flavanoids   Nonflavanoid   Proanthocyanins  Color   Hue   OD280/OD315  \\\n",
       "0         3.06           0.28              2.29   5.64  1.04          3.92   \n",
       "1         2.76           0.26              1.28   4.38  1.05          3.40   \n",
       "2         3.24           0.30              2.81   5.68  1.03          3.17   \n",
       "3         3.49           0.24              2.18   7.80  0.86          3.45   \n",
       "4         2.69           0.39              1.82   4.32  1.04          2.93   \n",
       "\n",
       "    Proline      \n",
       "0          1065  \n",
       "1          1050  \n",
       "2          1185  \n",
       "3          1480  \n",
       "4           735  "
      ]
     },
     "execution_count": 3,
     "metadata": {},
     "output_type": "execute_result"
    }
   ],
   "source": [
    "import pandas as pd\n",
    "wine_df = pd.read_csv('wine.data.txt')\n",
    "wine_df.head()"
   ]
  },
  {
   "cell_type": "markdown",
   "metadata": {},
   "source": [
    "#### 1.1 Se carga la clase aparte y se elimina de panda"
   ]
  },
  {
   "cell_type": "code",
   "execution_count": 4,
   "metadata": {},
   "outputs": [
    {
     "name": "stdout",
     "output_type": "stream",
     "text": [
      "<class 'pandas.core.series.Series'>\n",
      "178\n"
     ]
    }
   ],
   "source": [
    "#Se separa la columna y el valor se agrega al arreglo de resultados\n",
    "clase = wine_df['Class']\n",
    "clase_arr = []\n",
    "color_arr =[]\n",
    "print(type(clase))\n",
    "for e in clase:\n",
    "    clase_arr.append(e)\n",
    "    if e==1:\n",
    "        color_arr.append(\"black\")\n",
    "    elif e==2:\n",
    "        color_arr.append(\"yellow\")\n",
    "    else:\n",
    "        color_arr.append(\"red\")\n",
    "    #print(e)\n",
    "print(len(clase_arr))\n",
    "wine_df_full_hd = wine_df.drop(columns=[\"Class\"])\n",
    "#remove the white spaces in the columns \n",
    "wine_df_full_hd.columns = wine_df_full_hd.columns.str.strip()"
   ]
  },
  {
   "cell_type": "markdown",
   "metadata": {
    "colab_type": "text",
    "id": "FnkmAZTqzdSz"
   },
   "source": [
    "### 2. Generamos una partición estratificada 70-30 sobre el conjunto de datos cargados."
   ]
  },
  {
   "cell_type": "code",
   "execution_count": 5,
   "metadata": {
    "colab": {},
    "colab_type": "code",
    "collapsed": true,
    "id": "fbhykV4eZCKd"
   },
   "outputs": [],
   "source": [
    "from sklearn.model_selection import train_test_split\n",
    "X_train, X_test, y_train, y_test = train_test_split(wine_df_full_hd, clase_arr,\n",
    "                                                    test_size=0.3, \n",
    "                                                    random_state=1234,\n",
    "                                                    stratify=clase_arr)\n"
   ]
  },
  {
   "cell_type": "markdown",
   "metadata": {
    "colab_type": "text",
    "id": "46nn0X7_zoET"
   },
   "source": [
    "### 3. Generamos una gráfica de barras en Pandas que verifique que las particiones de entrenamiento y probamos tengan la misma distribución de clases."
   ]
  },
  {
   "cell_type": "code",
   "execution_count": 8,
   "metadata": {
    "colab": {},
    "colab_type": "code",
    "collapsed": true,
    "id": "s6VScTn7ZFoe"
   },
   "outputs": [
    {
     "data": {
      "image/png": "[encoded data removed]",
      "text/plain": [
       "<Figure size 432x288 with 1 Axes>"
      ]
     },
     "metadata": {},
     "output_type": "display_data"
    }
   ],
   "source": [
    "pl.hist(y_train)\n",
    "pl.show()"
   ]
  },
  {
   "cell_type": "code",
   "execution_count": 9,
   "metadata": {},
   "outputs": [
    {
     "data": {
      "image/png": "[encoded data removed]",
      "text/plain": [
       "<Figure size 432x288 with 1 Axes>"
      ]
     },
     "metadata": {},
     "output_type": "display_data"
    }
   ],
   "source": [
    "pl.hist(y_test)\n",
    "pl.show()"
   ]
  },
  {
   "cell_type": "code",
   "execution_count": 10,
   "metadata": {},
   "outputs": [
    {
     "name": "stdout",
     "output_type": "stream",
     "text": [
      "Número de muestras en entrenamiento: 124\n",
      "Número de muestras en prueba: 54\n",
      "Número de características: 13\n",
      "Distribución de clases en entrenamiento: [ 0 41 50 33]\n",
      "Distribución de clases en prueba: [ 0 18 21 15]\n"
     ]
    }
   ],
   "source": [
    "print('Número de muestras en entrenamiento: {}'.format(X_train.shape[0]))\n",
    "print('Número de muestras en prueba: {}'.format(X_test.shape[0]))\n",
    "print('Número de características: {}'.format(X_train.shape[1]))\n",
    "\n",
    "print('Distribución de clases en entrenamiento: {}'.format(np.bincount(y_train)))\n",
    "print('Distribución de clases en prueba: {}'.format(np.bincount(y_test)))"
   ]
  },
  {
   "cell_type": "markdown",
   "metadata": {
    "colab_type": "text",
    "id": "JB0z6jd30AP3"
   },
   "source": [
    "## Explorando la complejidad usando `KNearestNeighbor`"
   ]
  },
  {
   "cell_type": "markdown",
   "metadata": {
    "colab_type": "text",
    "id": "M3rpx6l40DuX"
   },
   "source": [
    "### 4. Entrenamos un modelo `KNearestNeighbor`. Usamos los siguientes valores para evaluar la complejidad:###\n",
    "   * $[1, 2, 3, \\dots, 20]$\n",
    "   * Graficamos los errores de entrenamiento y generalización conforme a la complejidad el modelo aumenta."
   ]
  },
  {
   "cell_type": "code",
   "execution_count": 11,
   "metadata": {
    "colab": {},
    "colab_type": "code",
    "collapsed": true,
    "id": "c7bxZvExZI0f"
   },
   "outputs": [],
   "source": [
    "from sklearn.neighbors import KNeighborsClassifier"
   ]
  },
  {
   "cell_type": "code",
   "execution_count": 12,
   "metadata": {},
   "outputs": [
    {
     "name": "stdout",
     "output_type": "stream",
     "text": [
      "[4, 5, 6, 7, 8, 9, 10, 11, 12, 13, 14, 15, 16, 17, 18, 19, 20, 21, 22, 23, 24]\n"
     ]
    }
   ],
   "source": [
    "k_values = list(range(4, 25))\n",
    "print(k_values)"
   ]
  },
  {
   "cell_type": "code",
   "execution_count": 13,
   "metadata": {},
   "outputs": [],
   "source": [
    "train_error = []\n",
    "generalization_error = []\n",
    "\n",
    "for nn in k_values:\n",
    "    knn = KNeighborsClassifier(n_neighbors=nn)\n",
    "    knn.fit(X_train, y_train)\n",
    "    train_error.append(1 - knn.score(X_train, y_train))\n",
    "    generalization_error.append(1 - knn.score(X_test, y_test))"
   ]
  },
  {
   "cell_type": "code",
   "execution_count": 14,
   "metadata": {},
   "outputs": [
    {
     "data": {
      "image/png": "[encoded data removed]",
      "text/plain": [
       "<Figure size 720x432 with 1 Axes>"
      ]
     },
     "metadata": {},
     "output_type": "display_data"
    }
   ],
   "source": [
    "pl.figure(figsize = (10, 6))\n",
    "\n",
    "pl.plot(k_values, train_error, label=\"Entrenamiento\")\n",
    "pl.plot(k_values, generalization_error, label=\"Generalización\")\n",
    "pl.xticks(k_values)\n",
    "pl.xlabel(\"k-vecinos\")\n",
    "pl.ylabel(\"Error\")\n",
    "#pl.gca().invert_xaxis()\n",
    "pl.arrow(13, 0.16, 0, -0.01, head_width=0.2, head_length=0.01, fc='k', ec='k')\n",
    "pl.text(15, 0.165, 'Punto de balance')\n",
    "pl.legend();"
   ]
  },
  {
   "cell_type": "markdown",
   "metadata": {},
   "source": [
    "#### Eligiendo K= 19 da el mejor modelo con el mejor rendimiento para la generalización."
   ]
  },
  {
   "cell_type": "markdown",
   "metadata": {
    "colab_type": "text",
    "id": "aeQsAkLG1GXp"
   },
   "source": [
    "### 5. Construimos un conjunto de datos usando las características `Proline` contra `Flavonoids`. \n",
    "   * Usamos la partición 70-30 definida al inicio\n",
    "   * Usando `KNearestNeighbor`, determinamos el número óptimo de k-vecinos usando evaluación de la complejidad. Use los mismos valores de $k$: $[1, 2, 3, \\dots, 20]$\n",
    "   * Graficamos la superficie de decisión contra los ejemplos de test.\n",
    "   * Reportamos accuracy, el error de clasificación, la precisión macro, el recall macro y el F1 score macro sobre el **conjunto de prueba**."
   ]
  },
  {
   "cell_type": "markdown",
   "metadata": {},
   "source": [
    "#### Separacion de caracteristicas Proline y Flavanoids"
   ]
  },
  {
   "cell_type": "code",
   "execution_count": 15,
   "metadata": {
    "colab": {},
    "colab_type": "code",
    "collapsed": true,
    "id": "Bgqc_XaUZM9O"
   },
   "outputs": [],
   "source": [
    "proline= wine_df_full_hd['Proline']\n",
    "flavanoids = wine_df_full_hd['Flavanoids']\n"
   ]
  },
  {
   "cell_type": "code",
   "execution_count": 16,
   "metadata": {},
   "outputs": [],
   "source": [
    "#Se crea la matriz X\n",
    "X=[]\n",
    "for i in range(len(proline)):\n",
    "    X.append([proline[i], flavanoids[i] ])\n",
    "X= np.matrix(X)"
   ]
  },
  {
   "cell_type": "markdown",
   "metadata": {},
   "source": [
    "#### Particion 70 30"
   ]
  },
  {
   "cell_type": "code",
   "execution_count": 17,
   "metadata": {},
   "outputs": [],
   "source": [
    "from sklearn.model_selection import train_test_split\n",
    "X_train, X_test, y_train, y_test = train_test_split(X, clase_arr,\n",
    "                                                    test_size=0.3, \n",
    "                                                    random_state=1234,\n",
    "                                                    stratify=clase_arr)\n"
   ]
  },
  {
   "cell_type": "markdown",
   "metadata": {},
   "source": [
    "#### Numero optimo de K vecinos"
   ]
  },
  {
   "cell_type": "code",
   "execution_count": 18,
   "metadata": {},
   "outputs": [],
   "source": [
    "k_values = list(range(4, 25))\n",
    "train_error = []\n",
    "generalization_error = []\n",
    "\n",
    "for nn in k_values:\n",
    "    knn = KNeighborsClassifier(n_neighbors=nn)\n",
    "    knn.fit(X_train, y_train)\n",
    "    train_error.append(1 - knn.score(X_train, y_train))\n",
    "    generalization_error.append(1 - knn.score(X_test, y_test))"
   ]
  },
  {
   "cell_type": "code",
   "execution_count": 19,
   "metadata": {},
   "outputs": [
    {
     "data": {
      "image/png": "[encoded data removed]",
      "text/plain": [
       "<Figure size 720x432 with 1 Axes>"
      ]
     },
     "metadata": {},
     "output_type": "display_data"
    }
   ],
   "source": [
    "pl.figure(figsize = (10, 6))\n",
    "\n",
    "pl.plot(k_values, train_error, label=\"Entrenamiento\")\n",
    "pl.plot(k_values, generalization_error, label=\"Generalización\")\n",
    "pl.xticks(k_values)\n",
    "pl.xlabel(\"k-vecinos\")\n",
    "pl.ylabel(\"Error\")\n",
    "#pl.gca().invert_xaxis()\n",
    "pl.arrow(13, 0.16, 0, -0.01, head_width=0.2, head_length=0.01, fc='k', ec='k')\n",
    "pl.text(15, 0.165, 'Punto de balance')\n",
    "pl.legend();"
   ]
  },
  {
   "cell_type": "markdown",
   "metadata": {},
   "source": [
    "#### Se encuentra el optimo en 17 ya que este tiene menor complejidad que el de 19"
   ]
  },
  {
   "cell_type": "markdown",
   "metadata": {},
   "source": [
    "### Reporte de medidas de precision en conjunto de pruebas"
   ]
  },
  {
   "cell_type": "code",
   "execution_count": 51,
   "metadata": {},
   "outputs": [
    {
     "name": "stdout",
     "output_type": "stream",
     "text": [
      "Accuracy: 0.7962962962962963\n",
      "Error: 0.20370370370370372\n",
      "Recall macro: 0.7783068783068782\n",
      "Precision macro: 0.8000000000000002\n",
      "F1 score: 0.7782456140350877\n"
     ]
    }
   ],
   "source": [
    "from sklearn.metrics import accuracy_score\n",
    "from sklearn.metrics import recall_score\n",
    "from sklearn.metrics import precision_score\n",
    "from sklearn.metrics import f1_score\n",
    "\n",
    "print('Accuracy: {}'.format(knn.score(X_test, y_test)))\n",
    "print('Error: {}'.format(1 - knn.score(X_test, y_test)))\n",
    "y_predict = knn.predict(X_test)\n",
    "print('Recall macro: {}'.format(recall_score(y_test, y_predict, average='macro')))\n",
    "print('Precision macro: {}'.format(precision_score(y_test, y_predict, average='macro')))\n",
    "print('F1 score: {}'.format(f1_score(y_test, y_predict, average='macro')))\n",
    "\n"
   ]
  },
  {
   "cell_type": "markdown",
   "metadata": {},
   "source": [
    "#### Graficacion de margen de decision"
   ]
  },
  {
   "cell_type": "code",
   "execution_count": 39,
   "metadata": {},
   "outputs": [
    {
     "data": {
      "text/plain": [
       "KNeighborsClassifier(algorithm='auto', leaf_size=30, metric='minkowski',\n",
       "           metric_params=None, n_jobs=1, n_neighbors=17, p=2,\n",
       "           weights='uniform')"
      ]
     },
     "execution_count": 39,
     "metadata": {},
     "output_type": "execute_result"
    }
   ],
   "source": [
    "knn = KNeighborsClassifier(n_neighbors=17)\n",
    "knn.fit(X_train, y_train)\n",
    "##pl.figure(figsize = (8,16/3))    \n",
    "##plot_decision_region(X[:, [0, 1]], gen_pred_fun(knn))\n",
    "##plot_data(X[:, [0, 1]], y_train)"
   ]
  },
  {
   "cell_type": "markdown",
   "metadata": {
    "colab_type": "text",
    "id": "-CZoBjCY1qGo"
   },
   "source": [
    "## Explorando la complejidad usando `DecisionTree`"
   ]
  },
  {
   "cell_type": "markdown",
   "metadata": {
    "colab_type": "text",
    "id": "Oa873iac1scj"
   },
   "source": [
    "### 6. Entrenamos un modelo de árbol de decisión usando los siguientes valores de profundidad:\n",
    "* $[1, 2, 3, 4, 5, 7, 8, 9, 10]$\n",
    "* Graficamos los errores de entrenamiento y generalización conforme a la complejidad el modelo aumenta."
   ]
  },
  {
   "cell_type": "code",
   "execution_count": 55,
   "metadata": {
    "colab": {},
    "colab_type": "code",
    "collapsed": true,
    "id": "h6VNrSl6ZRc3"
   },
   "outputs": [],
   "source": [
    "from sklearn.tree import DecisionTreeClassifier\n",
    "classifier = DecisionTreeClassifier()"
   ]
  },
  {
   "cell_type": "code",
   "execution_count": 56,
   "metadata": {},
   "outputs": [],
   "source": [
    "X_train, X_test, y_train, y_test = train_test_split(wine_df_full_hd, clase_arr,\n",
    "                                                    test_size=0.3, \n",
    "                                                    random_state=1234,\n",
    "                                                    stratify=clase_arr)"
   ]
  },
  {
   "cell_type": "code",
   "execution_count": 57,
   "metadata": {},
   "outputs": [],
   "source": [
    "train_error = []\n",
    "generalization_error = []\n",
    "max_depth_values = list(range(1, 11, 1))\n",
    "\n",
    "for depth in max_depth_values:\n",
    "    decision_tree = DecisionTreeClassifier(max_depth=depth)\n",
    "    decision_tree.fit(X_train, y_train)\n",
    "    train_error.append(1 - decision_tree.score(X_train, y_train))\n",
    "    generalization_error.append(1 - decision_tree.score(X_test, y_test))"
   ]
  },
  {
   "cell_type": "code",
   "execution_count": 58,
   "metadata": {},
   "outputs": [
    {
     "data": {
      "image/png": "[encoded data removed]",
      "text/plain": [
       "<Figure size 720x432 with 1 Axes>"
      ]
     },
     "metadata": {},
     "output_type": "display_data"
    }
   ],
   "source": [
    "pl.figure(figsize = (10, 6))\n",
    "\n",
    "pl.plot(max_depth_values, train_error, label=\"Entrenamiento\")\n",
    "pl.plot(max_depth_values, generalization_error, label=\"Generalización\")\n",
    "pl.xticks(max_depth_values)\n",
    "pl.xlabel(\"Profundidad máxima\")\n",
    "pl.ylabel(\"Error\")\n",
    "pl.legend;"
   ]
  },
  {
   "cell_type": "markdown",
   "metadata": {
    "colab_type": "text",
    "id": "gIgp72MM2Jxy"
   },
   "source": [
    "### 7. Construyamos un conjunto de datos usando las características `Alcalinity` contra `Malic Acid`.\n",
    "\n",
    "* Usamos la partición 70-30 definida al inicio\n",
    "* Usando `DecisionTree`, determine el número subóptimo de profundidad máxima usando evaluación de la complejidad. Use los mismos valores de $\\textit{max_depth}$ : $[1, 2, 3, 4, 5, 7, 8, 9, 10]$\n",
    "* Grafique la superficie de decisión contra los ejemplos de test.\n",
    "* Reporte accuracy, el error de clasificación, la precisión macro, el recall macro y el F1 score macro sobre el **conjunto de prueba**."
   ]
  },
  {
   "cell_type": "markdown",
   "metadata": {},
   "source": [
    "#### Separacion por caracteristicas Alcalinity y Malic Acid"
   ]
  },
  {
   "cell_type": "code",
   "execution_count": 59,
   "metadata": {
    "colab": {},
    "colab_type": "code",
    "collapsed": true,
    "id": "K5USBkHbZVSI"
   },
   "outputs": [],
   "source": [
    "alcalinity= wine_df_full_hd['Alcalinity']\n",
    "malic_acid = wine_df_full_hd['Malic_acid']"
   ]
  },
  {
   "cell_type": "code",
   "execution_count": 60,
   "metadata": {},
   "outputs": [],
   "source": [
    "X2=[]\n",
    "for i in range(len(proline)):\n",
    "    X2.append([alcalinity[i], malic_acid[i] ])\n",
    "X2= np.matrix(X2)"
   ]
  },
  {
   "cell_type": "markdown",
   "metadata": {},
   "source": [
    "#### Particion 70-30"
   ]
  },
  {
   "cell_type": "code",
   "execution_count": 61,
   "metadata": {},
   "outputs": [],
   "source": [
    "X_train, X_test, y_train, y_test = train_test_split(X2, clase_arr,\n",
    "                                                    test_size=0.3, \n",
    "                                                    random_state=1234,\n",
    "                                                    stratify=clase_arr)"
   ]
  },
  {
   "cell_type": "markdown",
   "metadata": {},
   "source": [
    "#### Determinacion de numero optimo de la complejidad"
   ]
  },
  {
   "cell_type": "code",
   "execution_count": 70,
   "metadata": {},
   "outputs": [],
   "source": [
    "train_error = []\n",
    "generalization_error = []\n",
    "max_depth_values = list(range(1, 11, 1))\n",
    "\n",
    "for depth in max_depth_values:\n",
    "    decision_tree = DecisionTreeClassifier(max_depth=depth)\n",
    "    decision_tree.fit(X_train, y_train)\n",
    "    train_error.append(1 - decision_tree.score(X_train, y_train))\n",
    "    generalization_error.append(1 - decision_tree.score(X_test, y_test))"
   ]
  },
  {
   "cell_type": "code",
   "execution_count": 71,
   "metadata": {},
   "outputs": [
    {
     "data": {
      "image/png": "[encoded data removed]",
      "text/plain": [
       "<Figure size 720x432 with 1 Axes>"
      ]
     },
     "metadata": {},
     "output_type": "display_data"
    }
   ],
   "source": [
    "pl.figure(figsize = (10, 6))\n",
    "\n",
    "pl.plot(max_depth_values, train_error, label=\"Entrenamiento\")\n",
    "pl.plot(max_depth_values, generalization_error, label=\"Generalización\")\n",
    "pl.xticks(max_depth_values)\n",
    "pl.xlabel(\"Profundidad máxima\")\n",
    "pl.ylabel(\"Error\")\n",
    "pl.legend;"
   ]
  },
  {
   "cell_type": "markdown",
   "metadata": {},
   "source": [
    "#### El numero optimo se encuentra en 3"
   ]
  },
  {
   "cell_type": "markdown",
   "metadata": {},
   "source": [
    "### Reporte de medidas de precision en conjunto de pruebas"
   ]
  },
  {
   "cell_type": "code",
   "execution_count": 72,
   "metadata": {},
   "outputs": [
    {
     "name": "stdout",
     "output_type": "stream",
     "text": [
      "Accuracy: 0.6666666666666666\n",
      "Error: 0.33333333333333337\n",
      "Recall macro: 0.6666666666666666\n",
      "Precision macro: 0.6997385620915034\n",
      "F1 score: 0.6783835595429798\n"
     ]
    }
   ],
   "source": [
    "from sklearn.metrics import accuracy_score\n",
    "from sklearn.metrics import recall_score\n",
    "from sklearn.metrics import precision_score\n",
    "from sklearn.metrics import f1_score\n",
    "\n",
    "decision_tree = DecisionTreeClassifier(max_depth=3)\n",
    "decision_tree.fit(X_train, y_train)\n",
    "\n",
    "print('Accuracy: {}'.format(decision_tree.score(X_test, y_test)))\n",
    "print('Error: {}'.format(1 - decision_tree.score(X_test, y_test)))\n",
    "y_predict = decision_tree.predict(X_test)\n",
    "print('Recall macro: {}'.format(recall_score(y_test, y_predict, average='macro')))\n",
    "print('Precision macro: {}'.format(precision_score(y_test, y_predict, average='macro')))\n",
    "print('F1 score: {}'.format(f1_score(y_test, y_predict, average='macro')))\n",
    "\n"
   ]
  },
  {
   "cell_type": "markdown",
   "metadata": {
    "colab_type": "text",
    "id": "1e11HeXOCpFR"
   },
   "source": [
    "## Visualización usando `DecisionTree`"
   ]
  },
  {
   "cell_type": "markdown",
   "metadata": {
    "colab_type": "text",
    "id": "P0HQVRhnCtOy"
   },
   "source": [
    "### 8. Escoja el mejor modelo entrenado sobre las 13 características. Visualice el árbol de decisión."
   ]
  },
  {
   "cell_type": "code",
   "execution_count": 78,
   "metadata": {},
   "outputs": [],
   "source": [
    "import os\n",
    "os.environ[\"PATH\"] += os.pathsep + 'C:/Program Files (x86)/Graphviz2.38/bin/'"
   ]
  },
  {
   "cell_type": "code",
   "execution_count": 79,
   "metadata": {
    "colab": {},
    "colab_type": "code",
    "collapsed": true,
    "id": "aWMUgRGEZZar"
   },
   "outputs": [
    {
     "data": {
      "image/svg+xml": [
       "<svg height=\"433pt\" viewBox=\"0.00 0.00 1062.00 433.00\" width=\"1062pt\" xmlns=\"http://www.w3.org/2000/svg\" xmlns:xlink=\"http://www.w3.org/1999/xlink\">\n",
       "<g class=\"graph\" id=\"graph0\" transform=\"scale(1 1) rotate(0) translate(4 429)\">\n",
       "<title>Tree</title>\n",
       "<polygon fill=\"white\" points=\"-4,4 -4,-429 1058,-429 1058,4 -4,4\" stroke=\"none\"/>\n",
       "<!-- 0 -->\n",
       "<g class=\"node\" id=\"node1\"><title>0</title>\n",
       "<path d=\"M585,-425C585,-425 472,-425 472,-425 466,-425 460,-419 460,-413 460,-413 460,-354 460,-354 460,-348 466,-342 472,-342 472,-342 585,-342 585,-342 591,-342 597,-348 597,-354 597,-354 597,-413 597,-413 597,-419 591,-425 585,-425\" fill=\"#39e581\" fill-opacity=\"0.109804\" stroke=\"black\"/>\n",
       "<text font-family=\"Helvetica,sans-Serif\" font-size=\"14.00\" text-anchor=\"start\" x=\"480\" y=\"-409.8\">Proline ≤ 755.0</text>\n",
       "<text font-family=\"Helvetica,sans-Serif\" font-size=\"14.00\" text-anchor=\"start\" x=\"491\" y=\"-394.8\">gini = 0.657</text>\n",
       "<text font-family=\"Helvetica,sans-Serif\" font-size=\"14.00\" text-anchor=\"start\" x=\"481\" y=\"-379.8\">samples = 124</text>\n",
       "<text font-family=\"Helvetica,sans-Serif\" font-size=\"14.00\" text-anchor=\"start\" x=\"468\" y=\"-364.8\">value = [41, 50, 33]</text>\n",
       "<text font-family=\"Helvetica,sans-Serif\" font-size=\"14.00\" text-anchor=\"start\" x=\"499.5\" y=\"-349.8\">class = 2</text>\n",
       "</g>\n",
       "<!-- 1 -->\n",
       "<g class=\"node\" id=\"node2\"><title>1</title>\n",
       "<path d=\"M477,-306C477,-306 372,-306 372,-306 366,-306 360,-300 360,-294 360,-294 360,-235 360,-235 360,-229 366,-223 372,-223 372,-223 477,-223 477,-223 483,-223 489,-229 489,-235 489,-235 489,-294 489,-294 489,-300 483,-306 477,-306\" fill=\"#39e581\" fill-opacity=\"0.407843\" stroke=\"black\"/>\n",
       "<text font-family=\"Helvetica,sans-Serif\" font-size=\"14.00\" text-anchor=\"start\" x=\"385\" y=\"-290.8\">Color ≤ 4.85</text>\n",
       "<text font-family=\"Helvetica,sans-Serif\" font-size=\"14.00\" text-anchor=\"start\" x=\"387\" y=\"-275.8\">gini = 0.479</text>\n",
       "<text font-family=\"Helvetica,sans-Serif\" font-size=\"14.00\" text-anchor=\"start\" x=\"381\" y=\"-260.8\">samples = 77</text>\n",
       "<text font-family=\"Helvetica,sans-Serif\" font-size=\"14.00\" text-anchor=\"start\" x=\"368\" y=\"-245.8\">value = [1, 48, 28]</text>\n",
       "<text font-family=\"Helvetica,sans-Serif\" font-size=\"14.00\" text-anchor=\"start\" x=\"395.5\" y=\"-230.8\">class = 2</text>\n",
       "</g>\n",
       "<!-- 0&#45;&gt;1 -->\n",
       "<g class=\"edge\" id=\"edge1\"><title>0-&gt;1</title>\n",
       "<path d=\"M492.418,-341.907C484.351,-332.832 475.719,-323.121 467.406,-313.769\" fill=\"none\" stroke=\"black\"/>\n",
       "<polygon fill=\"black\" points=\"469.778,-311.17 460.518,-306.021 464.546,-315.82 469.778,-311.17\" stroke=\"black\"/>\n",
       "<text font-family=\"Helvetica,sans-Serif\" font-size=\"14.00\" text-anchor=\"middle\" x=\"459.05\" y=\"-327.278\">True</text>\n",
       "</g>\n",
       "<!-- 8 -->\n",
       "<g class=\"node\" id=\"node9\"><title>8</title>\n",
       "<path d=\"M700,-306C700,-306 567,-306 567,-306 561,-306 555,-300 555,-294 555,-294 555,-235 555,-235 555,-229 561,-223 567,-223 567,-223 700,-223 700,-223 706,-223 712,-229 712,-235 712,-235 712,-294 712,-294 712,-300 706,-306 700,-306\" fill=\"#e58139\" fill-opacity=\"0.831373\" stroke=\"black\"/>\n",
       "<text font-family=\"Helvetica,sans-Serif\" font-size=\"14.00\" text-anchor=\"start\" x=\"563\" y=\"-290.8\">OD280/OD315 ≤ 2.49</text>\n",
       "<text font-family=\"Helvetica,sans-Serif\" font-size=\"14.00\" text-anchor=\"start\" x=\"596\" y=\"-275.8\">gini = 0.263</text>\n",
       "<text font-family=\"Helvetica,sans-Serif\" font-size=\"14.00\" text-anchor=\"start\" x=\"590\" y=\"-260.8\">samples = 47</text>\n",
       "<text font-family=\"Helvetica,sans-Serif\" font-size=\"14.00\" text-anchor=\"start\" x=\"581\" y=\"-245.8\">value = [40, 2, 5]</text>\n",
       "<text font-family=\"Helvetica,sans-Serif\" font-size=\"14.00\" text-anchor=\"start\" x=\"604.5\" y=\"-230.8\">class = 1</text>\n",
       "</g>\n",
       "<!-- 0&#45;&gt;8 -->\n",
       "<g class=\"edge\" id=\"edge8\"><title>0-&gt;8</title>\n",
       "<path d=\"M564.929,-341.907C573.155,-332.742 581.963,-322.927 590.433,-313.489\" fill=\"none\" stroke=\"black\"/>\n",
       "<polygon fill=\"black\" points=\"593.061,-315.801 597.135,-306.021 587.851,-311.126 593.061,-315.801\" stroke=\"black\"/>\n",
       "<text font-family=\"Helvetica,sans-Serif\" font-size=\"14.00\" text-anchor=\"middle\" x=\"598.485\" y=\"-327.284\">False</text>\n",
       "</g>\n",
       "<!-- 2 -->\n",
       "<g class=\"node\" id=\"node3\"><title>2</title>\n",
       "<path d=\"M248,-187C248,-187 135,-187 135,-187 129,-187 123,-181 123,-175 123,-175 123,-116 123,-116 123,-110 129,-104 135,-104 135,-104 248,-104 248,-104 254,-104 260,-110 260,-116 260,-116 260,-175 260,-175 260,-181 254,-187 248,-187\" fill=\"#39e581\" fill-opacity=\"0.894118\" stroke=\"black\"/>\n",
       "<text font-family=\"Helvetica,sans-Serif\" font-size=\"14.00\" text-anchor=\"start\" x=\"131\" y=\"-171.8\">Flavanoids ≤ 0.945</text>\n",
       "<text font-family=\"Helvetica,sans-Serif\" font-size=\"14.00\" text-anchor=\"start\" x=\"154\" y=\"-156.8\">gini = 0.177</text>\n",
       "<text font-family=\"Helvetica,sans-Serif\" font-size=\"14.00\" text-anchor=\"start\" x=\"148\" y=\"-141.8\">samples = 52</text>\n",
       "<text font-family=\"Helvetica,sans-Serif\" font-size=\"14.00\" text-anchor=\"start\" x=\"139\" y=\"-126.8\">value = [1, 47, 4]</text>\n",
       "<text font-family=\"Helvetica,sans-Serif\" font-size=\"14.00\" text-anchor=\"start\" x=\"162.5\" y=\"-111.8\">class = 2</text>\n",
       "</g>\n",
       "<!-- 1&#45;&gt;2 -->\n",
       "<g class=\"edge\" id=\"edge2\"><title>1-&gt;2</title>\n",
       "<path d=\"M359.906,-231.064C331.834,-216.968 298.708,-200.334 269.295,-185.565\" fill=\"none\" stroke=\"black\"/>\n",
       "<polygon fill=\"black\" points=\"270.803,-182.405 260.296,-181.046 267.662,-188.661 270.803,-182.405\" stroke=\"black\"/>\n",
       "</g>\n",
       "<!-- 5 -->\n",
       "<g class=\"node\" id=\"node6\"><title>5</title>\n",
       "<path d=\"M474,-187C474,-187 375,-187 375,-187 369,-187 363,-181 363,-175 363,-175 363,-116 363,-116 363,-110 369,-104 375,-104 375,-104 474,-104 474,-104 480,-104 486,-110 486,-116 486,-116 486,-175 486,-175 486,-181 480,-187 474,-187\" fill=\"#8139e5\" fill-opacity=\"0.956863\" stroke=\"black\"/>\n",
       "<text font-family=\"Helvetica,sans-Serif\" font-size=\"14.00\" text-anchor=\"start\" x=\"371\" y=\"-171.8\">Alcalinity ≤ 17.15</text>\n",
       "<text font-family=\"Helvetica,sans-Serif\" font-size=\"14.00\" text-anchor=\"start\" x=\"387\" y=\"-156.8\">gini = 0.077</text>\n",
       "<text font-family=\"Helvetica,sans-Serif\" font-size=\"14.00\" text-anchor=\"start\" x=\"381\" y=\"-141.8\">samples = 25</text>\n",
       "<text font-family=\"Helvetica,sans-Serif\" font-size=\"14.00\" text-anchor=\"start\" x=\"372\" y=\"-126.8\">value = [0, 1, 24]</text>\n",
       "<text font-family=\"Helvetica,sans-Serif\" font-size=\"14.00\" text-anchor=\"start\" x=\"395.5\" y=\"-111.8\">class = 3</text>\n",
       "</g>\n",
       "<!-- 1&#45;&gt;5 -->\n",
       "<g class=\"edge\" id=\"edge5\"><title>1-&gt;5</title>\n",
       "<path d=\"M424.5,-222.907C424.5,-214.649 424.5,-205.864 424.5,-197.302\" fill=\"none\" stroke=\"black\"/>\n",
       "<polygon fill=\"black\" points=\"428,-197.021 424.5,-187.021 421,-197.021 428,-197.021\" stroke=\"black\"/>\n",
       "</g>\n",
       "<!-- 3 -->\n",
       "<g class=\"node\" id=\"node4\"><title>3</title>\n",
       "<path d=\"M101,-68C101,-68 12,-68 12,-68 6,-68 0,-62 0,-56 0,-56 0,-12 0,-12 0,-6 6,-0 12,-0 12,-0 101,-0 101,-0 107,-0 113,-6 113,-12 113,-12 113,-56 113,-56 113,-62 107,-68 101,-68\" fill=\"#8139e5\" fill-opacity=\"0.666667\" stroke=\"black\"/>\n",
       "<text font-family=\"Helvetica,sans-Serif\" font-size=\"14.00\" text-anchor=\"start\" x=\"19\" y=\"-52.8\">gini = 0.375</text>\n",
       "<text font-family=\"Helvetica,sans-Serif\" font-size=\"14.00\" text-anchor=\"start\" x=\"17\" y=\"-37.8\">samples = 4</text>\n",
       "<text font-family=\"Helvetica,sans-Serif\" font-size=\"14.00\" text-anchor=\"start\" x=\"8\" y=\"-22.8\">value = [0, 1, 3]</text>\n",
       "<text font-family=\"Helvetica,sans-Serif\" font-size=\"14.00\" text-anchor=\"start\" x=\"27.5\" y=\"-7.8\">class = 3</text>\n",
       "</g>\n",
       "<!-- 2&#45;&gt;3 -->\n",
       "<g class=\"edge\" id=\"edge3\"><title>2-&gt;3</title>\n",
       "<path d=\"M141.231,-103.726C129.536,-94.2406 117.102,-84.1551 105.465,-74.7159\" fill=\"none\" stroke=\"black\"/>\n",
       "<polygon fill=\"black\" points=\"107.526,-71.8808 97.5543,-68.2996 103.116,-77.3173 107.526,-71.8808\" stroke=\"black\"/>\n",
       "</g>\n",
       "<!-- 4 -->\n",
       "<g class=\"node\" id=\"node5\"><title>4</title>\n",
       "<path d=\"M240,-68C240,-68 143,-68 143,-68 137,-68 131,-62 131,-56 131,-56 131,-12 131,-12 131,-6 137,-0 143,-0 143,-0 240,-0 240,-0 246,-0 252,-6 252,-12 252,-12 252,-56 252,-56 252,-62 246,-68 240,-68\" fill=\"#39e581\" fill-opacity=\"0.956863\" stroke=\"black\"/>\n",
       "<text font-family=\"Helvetica,sans-Serif\" font-size=\"14.00\" text-anchor=\"start\" x=\"154\" y=\"-52.8\">gini = 0.081</text>\n",
       "<text font-family=\"Helvetica,sans-Serif\" font-size=\"14.00\" text-anchor=\"start\" x=\"148\" y=\"-37.8\">samples = 48</text>\n",
       "<text font-family=\"Helvetica,sans-Serif\" font-size=\"14.00\" text-anchor=\"start\" x=\"139\" y=\"-22.8\">value = [1, 46, 1]</text>\n",
       "<text font-family=\"Helvetica,sans-Serif\" font-size=\"14.00\" text-anchor=\"start\" x=\"162.5\" y=\"-7.8\">class = 2</text>\n",
       "</g>\n",
       "<!-- 2&#45;&gt;4 -->\n",
       "<g class=\"edge\" id=\"edge4\"><title>2-&gt;4</title>\n",
       "<path d=\"M191.5,-103.726C191.5,-95.5175 191.5,-86.8595 191.5,-78.56\" fill=\"none\" stroke=\"black\"/>\n",
       "<polygon fill=\"black\" points=\"195,-78.2996 191.5,-68.2996 188,-78.2996 195,-78.2996\" stroke=\"black\"/>\n",
       "</g>\n",
       "<!-- 6 -->\n",
       "<g class=\"node\" id=\"node7\"><title>6</title>\n",
       "<path d=\"M371,-68C371,-68 282,-68 282,-68 276,-68 270,-62 270,-56 270,-56 270,-12 270,-12 270,-6 276,-0 282,-0 282,-0 371,-0 371,-0 377,-0 383,-6 383,-12 383,-12 383,-56 383,-56 383,-62 377,-68 371,-68\" fill=\"#39e581\" stroke=\"black\"/>\n",
       "<text font-family=\"Helvetica,sans-Serif\" font-size=\"14.00\" text-anchor=\"start\" x=\"297.5\" y=\"-52.8\">gini = 0.0</text>\n",
       "<text font-family=\"Helvetica,sans-Serif\" font-size=\"14.00\" text-anchor=\"start\" x=\"287\" y=\"-37.8\">samples = 1</text>\n",
       "<text font-family=\"Helvetica,sans-Serif\" font-size=\"14.00\" text-anchor=\"start\" x=\"278\" y=\"-22.8\">value = [0, 1, 0]</text>\n",
       "<text font-family=\"Helvetica,sans-Serif\" font-size=\"14.00\" text-anchor=\"start\" x=\"297.5\" y=\"-7.8\">class = 2</text>\n",
       "</g>\n",
       "<!-- 5&#45;&gt;6 -->\n",
       "<g class=\"edge\" id=\"edge6\"><title>5-&gt;6</title>\n",
       "<path d=\"M388.008,-103.726C379.845,-94.6054 371.186,-84.93 363.022,-75.8078\" fill=\"none\" stroke=\"black\"/>\n",
       "<polygon fill=\"black\" points=\"365.579,-73.417 356.302,-68.2996 360.363,-78.0853 365.579,-73.417\" stroke=\"black\"/>\n",
       "</g>\n",
       "<!-- 7 -->\n",
       "<g class=\"node\" id=\"node8\"><title>7</title>\n",
       "<path d=\"M510,-68C510,-68 413,-68 413,-68 407,-68 401,-62 401,-56 401,-56 401,-12 401,-12 401,-6 407,-0 413,-0 413,-0 510,-0 510,-0 516,-0 522,-6 522,-12 522,-12 522,-56 522,-56 522,-62 516,-68 510,-68\" fill=\"#8139e5\" stroke=\"black\"/>\n",
       "<text font-family=\"Helvetica,sans-Serif\" font-size=\"14.00\" text-anchor=\"start\" x=\"432.5\" y=\"-52.8\">gini = 0.0</text>\n",
       "<text font-family=\"Helvetica,sans-Serif\" font-size=\"14.00\" text-anchor=\"start\" x=\"418\" y=\"-37.8\">samples = 24</text>\n",
       "<text font-family=\"Helvetica,sans-Serif\" font-size=\"14.00\" text-anchor=\"start\" x=\"409\" y=\"-22.8\">value = [0, 0, 24]</text>\n",
       "<text font-family=\"Helvetica,sans-Serif\" font-size=\"14.00\" text-anchor=\"start\" x=\"432.5\" y=\"-7.8\">class = 3</text>\n",
       "</g>\n",
       "<!-- 5&#45;&gt;7 -->\n",
       "<g class=\"edge\" id=\"edge7\"><title>5-&gt;7</title>\n",
       "<path d=\"M438.277,-103.726C441.113,-95.3351 444.107,-86.4745 446.968,-78.0072\" fill=\"none\" stroke=\"black\"/>\n",
       "<polygon fill=\"black\" points=\"450.363,-78.8938 450.248,-68.2996 443.731,-76.6529 450.363,-78.8938\" stroke=\"black\"/>\n",
       "</g>\n",
       "<!-- 9 -->\n",
       "<g class=\"node\" id=\"node10\"><title>9</title>\n",
       "<path d=\"M689,-187C689,-187 578,-187 578,-187 572,-187 566,-181 566,-175 566,-175 566,-116 566,-116 566,-110 572,-104 578,-104 578,-104 689,-104 689,-104 695,-104 701,-110 701,-116 701,-116 701,-175 701,-175 701,-181 695,-187 689,-187\" fill=\"#8139e5\" fill-opacity=\"0.800000\" stroke=\"black\"/>\n",
       "<text font-family=\"Helvetica,sans-Serif\" font-size=\"14.00\" text-anchor=\"start\" x=\"574\" y=\"-171.8\">Malic_acid ≤ 2.085</text>\n",
       "<text font-family=\"Helvetica,sans-Serif\" font-size=\"14.00\" text-anchor=\"start\" x=\"596\" y=\"-156.8\">gini = 0.278</text>\n",
       "<text font-family=\"Helvetica,sans-Serif\" font-size=\"14.00\" text-anchor=\"start\" x=\"594\" y=\"-141.8\">samples = 6</text>\n",
       "<text font-family=\"Helvetica,sans-Serif\" font-size=\"14.00\" text-anchor=\"start\" x=\"585\" y=\"-126.8\">value = [0, 1, 5]</text>\n",
       "<text font-family=\"Helvetica,sans-Serif\" font-size=\"14.00\" text-anchor=\"start\" x=\"604.5\" y=\"-111.8\">class = 3</text>\n",
       "</g>\n",
       "<!-- 8&#45;&gt;9 -->\n",
       "<g class=\"edge\" id=\"edge9\"><title>8-&gt;9</title>\n",
       "<path d=\"M633.5,-222.907C633.5,-214.649 633.5,-205.864 633.5,-197.302\" fill=\"none\" stroke=\"black\"/>\n",
       "<polygon fill=\"black\" points=\"637,-197.021 633.5,-187.021 630,-197.021 637,-197.021\" stroke=\"black\"/>\n",
       "</g>\n",
       "<!-- 12 -->\n",
       "<g class=\"node\" id=\"node13\"><title>12</title>\n",
       "<path d=\"M921,-187C921,-187 804,-187 804,-187 798,-187 792,-181 792,-175 792,-175 792,-116 792,-116 792,-110 798,-104 804,-104 804,-104 921,-104 921,-104 927,-104 933,-110 933,-116 933,-116 933,-175 933,-175 933,-181 927,-187 921,-187\" fill=\"#e58139\" fill-opacity=\"0.976471\" stroke=\"black\"/>\n",
       "<text font-family=\"Helvetica,sans-Serif\" font-size=\"14.00\" text-anchor=\"start\" x=\"800\" y=\"-171.8\">Magnesium ≤ 135.5</text>\n",
       "<text font-family=\"Helvetica,sans-Serif\" font-size=\"14.00\" text-anchor=\"start\" x=\"825\" y=\"-156.8\">gini = 0.048</text>\n",
       "<text font-family=\"Helvetica,sans-Serif\" font-size=\"14.00\" text-anchor=\"start\" x=\"819\" y=\"-141.8\">samples = 41</text>\n",
       "<text font-family=\"Helvetica,sans-Serif\" font-size=\"14.00\" text-anchor=\"start\" x=\"810\" y=\"-126.8\">value = [40, 1, 0]</text>\n",
       "<text font-family=\"Helvetica,sans-Serif\" font-size=\"14.00\" text-anchor=\"start\" x=\"833.5\" y=\"-111.8\">class = 1</text>\n",
       "</g>\n",
       "<!-- 8&#45;&gt;12 -->\n",
       "<g class=\"edge\" id=\"edge12\"><title>8-&gt;12</title>\n",
       "<path d=\"M712.309,-223.235C735.152,-211.564 760.101,-198.817 782.987,-187.124\" fill=\"none\" stroke=\"black\"/>\n",
       "<polygon fill=\"black\" points=\"784.67,-190.195 791.982,-182.529 781.485,-183.962 784.67,-190.195\" stroke=\"black\"/>\n",
       "</g>\n",
       "<!-- 10 -->\n",
       "<g class=\"node\" id=\"node11\"><title>10</title>\n",
       "<path d=\"M641,-68C641,-68 552,-68 552,-68 546,-68 540,-62 540,-56 540,-56 540,-12 540,-12 540,-6 546,-0 552,-0 552,-0 641,-0 641,-0 647,-0 653,-6 653,-12 653,-12 653,-56 653,-56 653,-62 647,-68 641,-68\" fill=\"#39e581\" stroke=\"black\"/>\n",
       "<text font-family=\"Helvetica,sans-Serif\" font-size=\"14.00\" text-anchor=\"start\" x=\"567.5\" y=\"-52.8\">gini = 0.0</text>\n",
       "<text font-family=\"Helvetica,sans-Serif\" font-size=\"14.00\" text-anchor=\"start\" x=\"557\" y=\"-37.8\">samples = 1</text>\n",
       "<text font-family=\"Helvetica,sans-Serif\" font-size=\"14.00\" text-anchor=\"start\" x=\"548\" y=\"-22.8\">value = [0, 1, 0]</text>\n",
       "<text font-family=\"Helvetica,sans-Serif\" font-size=\"14.00\" text-anchor=\"start\" x=\"567.5\" y=\"-7.8\">class = 2</text>\n",
       "</g>\n",
       "<!-- 9&#45;&gt;10 -->\n",
       "<g class=\"edge\" id=\"edge10\"><title>9-&gt;10</title>\n",
       "<path d=\"M619.723,-103.726C616.887,-95.3351 613.893,-86.4745 611.032,-78.0072\" fill=\"none\" stroke=\"black\"/>\n",
       "<polygon fill=\"black\" points=\"614.269,-76.6529 607.752,-68.2996 607.637,-78.8938 614.269,-76.6529\" stroke=\"black\"/>\n",
       "</g>\n",
       "<!-- 11 -->\n",
       "<g class=\"node\" id=\"node12\"><title>11</title>\n",
       "<path d=\"M772,-68C772,-68 683,-68 683,-68 677,-68 671,-62 671,-56 671,-56 671,-12 671,-12 671,-6 677,-0 683,-0 683,-0 772,-0 772,-0 778,-0 784,-6 784,-12 784,-12 784,-56 784,-56 784,-62 778,-68 772,-68\" fill=\"#8139e5\" stroke=\"black\"/>\n",
       "<text font-family=\"Helvetica,sans-Serif\" font-size=\"14.00\" text-anchor=\"start\" x=\"698.5\" y=\"-52.8\">gini = 0.0</text>\n",
       "<text font-family=\"Helvetica,sans-Serif\" font-size=\"14.00\" text-anchor=\"start\" x=\"688\" y=\"-37.8\">samples = 5</text>\n",
       "<text font-family=\"Helvetica,sans-Serif\" font-size=\"14.00\" text-anchor=\"start\" x=\"679\" y=\"-22.8\">value = [0, 0, 5]</text>\n",
       "<text font-family=\"Helvetica,sans-Serif\" font-size=\"14.00\" text-anchor=\"start\" x=\"698.5\" y=\"-7.8\">class = 3</text>\n",
       "</g>\n",
       "<!-- 9&#45;&gt;11 -->\n",
       "<g class=\"edge\" id=\"edge11\"><title>9-&gt;11</title>\n",
       "<path d=\"M668.502,-103.726C676.254,-94.6966 684.472,-85.1235 692.234,-76.0816\" fill=\"none\" stroke=\"black\"/>\n",
       "<polygon fill=\"black\" points=\"695.056,-78.1671 698.914,-68.2996 689.745,-73.6075 695.056,-78.1671\" stroke=\"black\"/>\n",
       "</g>\n",
       "<!-- 13 -->\n",
       "<g class=\"node\" id=\"node14\"><title>13</title>\n",
       "<path d=\"M911,-68C911,-68 814,-68 814,-68 808,-68 802,-62 802,-56 802,-56 802,-12 802,-12 802,-6 808,-0 814,-0 814,-0 911,-0 911,-0 917,-0 923,-6 923,-12 923,-12 923,-56 923,-56 923,-62 917,-68 911,-68\" fill=\"#e58139\" stroke=\"black\"/>\n",
       "<text font-family=\"Helvetica,sans-Serif\" font-size=\"14.00\" text-anchor=\"start\" x=\"833.5\" y=\"-52.8\">gini = 0.0</text>\n",
       "<text font-family=\"Helvetica,sans-Serif\" font-size=\"14.00\" text-anchor=\"start\" x=\"819\" y=\"-37.8\">samples = 40</text>\n",
       "<text font-family=\"Helvetica,sans-Serif\" font-size=\"14.00\" text-anchor=\"start\" x=\"810\" y=\"-22.8\">value = [40, 0, 0]</text>\n",
       "<text font-family=\"Helvetica,sans-Serif\" font-size=\"14.00\" text-anchor=\"start\" x=\"833.5\" y=\"-7.8\">class = 1</text>\n",
       "</g>\n",
       "<!-- 12&#45;&gt;13 -->\n",
       "<g class=\"edge\" id=\"edge13\"><title>12-&gt;13</title>\n",
       "<path d=\"M862.5,-103.726C862.5,-95.5175 862.5,-86.8595 862.5,-78.56\" fill=\"none\" stroke=\"black\"/>\n",
       "<polygon fill=\"black\" points=\"866,-78.2996 862.5,-68.2996 859,-78.2996 866,-78.2996\" stroke=\"black\"/>\n",
       "</g>\n",
       "<!-- 14 -->\n",
       "<g class=\"node\" id=\"node15\"><title>14</title>\n",
       "<path d=\"M1042,-68C1042,-68 953,-68 953,-68 947,-68 941,-62 941,-56 941,-56 941,-12 941,-12 941,-6 947,-0 953,-0 953,-0 1042,-0 1042,-0 1048,-0 1054,-6 1054,-12 1054,-12 1054,-56 1054,-56 1054,-62 1048,-68 1042,-68\" fill=\"#39e581\" stroke=\"black\"/>\n",
       "<text font-family=\"Helvetica,sans-Serif\" font-size=\"14.00\" text-anchor=\"start\" x=\"968.5\" y=\"-52.8\">gini = 0.0</text>\n",
       "<text font-family=\"Helvetica,sans-Serif\" font-size=\"14.00\" text-anchor=\"start\" x=\"958\" y=\"-37.8\">samples = 1</text>\n",
       "<text font-family=\"Helvetica,sans-Serif\" font-size=\"14.00\" text-anchor=\"start\" x=\"949\" y=\"-22.8\">value = [0, 1, 0]</text>\n",
       "<text font-family=\"Helvetica,sans-Serif\" font-size=\"14.00\" text-anchor=\"start\" x=\"968.5\" y=\"-7.8\">class = 2</text>\n",
       "</g>\n",
       "<!-- 12&#45;&gt;14 -->\n",
       "<g class=\"edge\" id=\"edge14\"><title>12-&gt;14</title>\n",
       "<path d=\"M912.769,-103.726C924.464,-94.2406 936.898,-84.1551 948.535,-74.7159\" fill=\"none\" stroke=\"black\"/>\n",
       "<polygon fill=\"black\" points=\"950.884,-77.3173 956.446,-68.2996 946.474,-71.8808 950.884,-77.3173\" stroke=\"black\"/>\n",
       "</g>\n",
       "</g>\n",
       "</svg>"
      ],
      "text/plain": [
       "<IPython.core.display.SVG object>"
      ]
     },
     "execution_count": 79,
     "metadata": {},
     "output_type": "execute_result"
    }
   ],
   "source": [
    "X_train, X_test, y_train, y_test = train_test_split(wine_df_full_hd, clase_arr,\n",
    "                                                    test_size=0.3, \n",
    "                                                    random_state=1234,\n",
    "                                                    stratify=clase_arr)\n",
    "decision_tree = DecisionTreeClassifier(max_depth=3)\n",
    "decision_tree.fit(X_train, y_train)\n",
    "from IPython.display import SVG\n",
    "dot_data = export_graphviz(decision_tree, out_file=None, \n",
    "                         feature_names=wine_df_full_hd.columns,  \n",
    "                         class_names=[\"1\",\"2\",\"3\"],  \n",
    "                         filled=True, rounded=True,  \n",
    "                         special_characters=True)  \n",
    "graph = graphviz.Source(dot_data)\n",
    "SVG(graph.pipe(format='svg'))"
   ]
  },
  {
   "cell_type": "code",
   "execution_count": 60,
   "metadata": {},
   "outputs": [
    {
     "data": {
      "text/plain": [
       "array([0.        , 0.02189381, 0.        , 0.        , 0.        ,\n",
       "       0.        , 0.16472705, 0.        , 0.02522167, 0.3385328 ,\n",
       "       0.02563178, 0.        , 0.42399287])"
      ]
     },
     "execution_count": 60,
     "metadata": {},
     "output_type": "execute_result"
    }
   ],
   "source": [
    "decision_tree.feature_importances_"
   ]
  },
  {
   "cell_type": "markdown",
   "metadata": {
    "colab_type": "text",
    "id": "ZLxrlq70XcQG"
   },
   "source": [
    "### 9. ¿Cuales son las características más importantes del modelo?"
   ]
  },
  {
   "cell_type": "markdown",
   "metadata": {
    "colab_type": "text",
    "id": "LBxtj-ATZek6"
   },
   "source": [
    "Las mas importante son la ultima que es Proline y  la 13 que es Color"
   ]
  },
  {
   "cell_type": "markdown",
   "metadata": {
    "colab_type": "text",
    "id": "Sdv-LOofXcWQ"
   },
   "source": [
    "### 10. Exprese 5 reglas de decisión con base en el árbol entrenado.\n"
   ]
  },
  {
   "cell_type": "markdown",
   "metadata": {},
   "source": [
    "Si Proline <= 775.0 y Color <= 4.85  y Alcalinity > 17.5 pertenece a clase 2."
   ]
  },
  {
   "cell_type": "markdown",
   "metadata": {
    "colab": {},
    "colab_type": "code",
    "id": "eEEZgkFZX9sl"
   },
   "source": [
    "Si proline > 775.0 y OD280 <= 2.49 Queda como clase 1.\n",
    "\n",
    "Si proline > 775.0 y OD280 <= 2.49 y Magnesium >135.5 se coloca en clase 2.\n",
    "\n",
    "Si Proline <= 775.0 y Si color > 4.85  y Alcalinity <= 17.5 pertenece a clase 3.\n",
    "\n",
    "Si Proline <= 775.0 y Color <= 4.85 y Flavanoids >0.945 pertenece a clase 3."
   ]
  },
  {
   "cell_type": "markdown",
   "metadata": {},
   "source": [
    "**Instrucciones de envío:**\n",
    "\n",
    "Este notebook debe enviarse a través del siguiente [File Request](https://www.dropbox.com/request/BaGOOsyWbYDRQAfKRTGJ)\n",
    "antes de la medianoche de la fecha límite. El archivo debe nombrarse como \n",
    "`iis-practica2-unalusername1-unalusername2.ipynb`, donde `unalusername` es el nombre de usuario asignado por la universidad (incluya los nombres de usuario de todos los miembros del grupo)."
   ]
  },
  {
   "cell_type": "code",
   "execution_count": null,
   "metadata": {
    "collapsed": true
   },
   "outputs": [],
   "source": []
  }
 ],
 "metadata": {
  "colab": {
   "collapsed_sections": [],
   "name": "DEMO-s3_Clasificación no lineal, complejidad y sobreajuste.ipynb",
   "provenance": [],
   "version": "0.3.2"
  },
  "kernelspec": {
   "display_name": "Python 3",
   "language": "python",
   "name": "python3"
  },
  "language_info": {
   "codemirror_mode": {
    "name": "ipython",
    "version": 3
   },
   "file_extension": ".py",
   "mimetype": "text/x-python",
   "name": "python",
   "nbconvert_exporter": "python",
   "pygments_lexer": "ipython3",
   "version": "3.6.5"
  }
 },
 "nbformat": 4,
 "nbformat_minor": 2
}
