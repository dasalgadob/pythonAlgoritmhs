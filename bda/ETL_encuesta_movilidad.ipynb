{
 "cells": [
  {
   "cell_type": "markdown",
   "metadata": {},
   "source": [
    "### Importacion de informacion"
   ]
  },
  {
   "cell_type": "markdown",
   "metadata": {},
   "source": [
    "#### Extraccion"
   ]
  },
  {
   "cell_type": "code",
   "execution_count": 2,
   "metadata": {},
   "outputs": [],
   "source": [
    "file = open('encuesta.csv')\n"
   ]
  },
  {
   "cell_type": "code",
   "execution_count": 3,
   "metadata": {},
   "outputs": [],
   "source": [
    "file2 = open('salida.txt', 'w')"
   ]
  },
  {
   "cell_type": "markdown",
   "metadata": {},
   "source": [
    "#### Transformacion"
   ]
  },
  {
   "cell_type": "code",
   "execution_count": 4,
   "metadata": {},
   "outputs": [],
   "source": [
    "i=0\n",
    "for l in file:\n",
    "    ##To skip the header\n",
    "    if i==0:\n",
    "        #print(l.strip().split())\n",
    "        i+=1\n",
    "        continue\n",
    "    #print(i, end=\" \")\n",
    "    ### To visualize the import\n",
    "    #if i>=10:\n",
    "        #break\n",
    "    i+=1  \n",
    "    linea= l.strip().split(',')\n",
    "    \n",
    "    if int(linea[7].split(\":\")[0]) != 3:\n",
    "        continue\n",
    "    #print(linea[12], end=\" \")##origin\n",
    "    #print(linea[4])\n",
    "    origen=\"\"\n",
    "    diaHabil=False\n",
    "    #print(linea[10].strip(), end=\" \")\n",
    "    if linea[10].strip().startswith(\"BICICLETA CON MOTOR\") or linea[9].strip().startswith(\"PEATON\"):\n",
    "        continue\n",
    "        zat_dest=linea[11]\n",
    "        zat_origin=linea[12]\n",
    "        origen=linea[13]\n",
    "        l_o = str(linea[15][:1])+\".\"+ linea[15][1:len(linea[15])]\n",
    "        l_d = str(linea[16][:1])+\".\"+ linea[16][1:len(linea[16])]\n",
    "        #l_d= linea[16]\n",
    "        lg_o = str(linea[17][:3])+\".\"+ linea[17][3:len(linea[17])]\n",
    "        lg_d = str(linea[18][:3])+\".\"+ linea[18][3:len(linea[18])]\n",
    "        if linea[22]== \"S\":\n",
    "            diaHabil=True\n",
    "\n",
    "        #lg_o= linea[17]\n",
    "        #lg_d=linea[18]\n",
    "    else:\n",
    "        #continue\n",
    "        zat_dest=linea[10]\n",
    "        zat_origin=linea[11]\n",
    "        origen= linea[12]\n",
    "        l_o = str(linea[14][:1])+\".\"+ linea[14][1:len(linea[14])]\n",
    "        l_d = str(linea[15][:1])+\".\"+ linea[15][1:len(linea[15])]\n",
    "        #l_o = int(linea[14])\n",
    "        #l_d= linea[15]\n",
    "        lg_o = str(linea[16][:3])+\".\"+ linea[16][3:len(linea[16])]\n",
    "        lg_d = str(linea[17][:3])+\".\"+ linea[17][3:len(linea[17])]\n",
    "        \n",
    "    file2.write(\"insert into encuesta values (\"+linea[0]+linea[1]+linea[2]+linea[3]+linea[4]+linea[5]+linea[6]+linea[7]+linea[8]+linea[9]+linea[10]+linea[11] + \" );\");\n",
    "    \n",
    "   "
   ]
  }
 ],
 "metadata": {
  "kernelspec": {
   "display_name": "Python 3",
   "language": "python",
   "name": "python3"
  },
  "language_info": {
   "codemirror_mode": {
    "name": "ipython",
    "version": 3
   },
   "file_extension": ".py",
   "mimetype": "text/x-python",
   "name": "python",
   "nbconvert_exporter": "python",
   "pygments_lexer": "ipython3",
   "version": "3.6.5"
  }
 },
 "nbformat": 4,
 "nbformat_minor": 2
}
