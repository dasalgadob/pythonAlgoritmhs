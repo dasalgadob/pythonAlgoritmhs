{
  "nbformat": 4,
  "nbformat_minor": 0,
  "metadata": {
    "colab": {
      "name": "Numpy Review.ipynb",
      "provenance": [],
      "include_colab_link": true
    },
    "kernelspec": {
      "name": "python3",
      "display_name": "Python 3"
    },
    "accelerator": "GPU"
  },
  "cells": [
    {
      "cell_type": "markdown",
      "metadata": {
        "id": "view-in-github",
        "colab_type": "text"
      },
      "source": [
        "<a href=\"https://colab.research.google.com/github/dasalgadob/pythonAlgoritmhs/blob/master/numpy/Numpy_Review.ipynb\" target=\"_parent\"><img src=\"https://colab.research.google.com/assets/colab-badge.svg\" alt=\"Open In Colab\"/></a>"
      ]
    },
    {
      "cell_type": "code",
      "metadata": {
        "id": "A66dyG51Gnxl",
        "colab_type": "code",
        "colab": {}
      },
      "source": [
        "import numpy as np"
      ],
      "execution_count": 0,
      "outputs": []
    },
    {
      "cell_type": "code",
      "metadata": {
        "id": "FDnU49vJGyQl",
        "colab_type": "code",
        "colab": {}
      },
      "source": [
        "a = np.arange(15)"
      ],
      "execution_count": 0,
      "outputs": []
    },
    {
      "cell_type": "code",
      "metadata": {
        "id": "B_GvyrB0H4Qq",
        "colab_type": "code",
        "colab": {
          "base_uri": "https://localhost:8080/",
          "height": 34
        },
        "outputId": "babd1f0e-a22e-4608-b901-ea741a879f55"
      },
      "source": [
        "print(a)"
      ],
      "execution_count": 3,
      "outputs": [
        {
          "output_type": "stream",
          "text": [
            "[ 0  1  2  3  4  5  6  7  8  9 10 11 12 13 14]\n"
          ],
          "name": "stdout"
        }
      ]
    },
    {
      "cell_type": "code",
      "metadata": {
        "id": "-UNEmgu3H5es",
        "colab_type": "code",
        "colab": {}
      },
      "source": [
        "b= a.reshape(5,3)"
      ],
      "execution_count": 0,
      "outputs": []
    },
    {
      "cell_type": "markdown",
      "metadata": {
        "id": "CDpaPyRCI_nK",
        "colab_type": "text"
      },
      "source": [
        "#### Basic funcions"
      ]
    },
    {
      "cell_type": "code",
      "metadata": {
        "id": "h6jcH-0XIIq1",
        "colab_type": "code",
        "colab": {
          "base_uri": "https://localhost:8080/",
          "height": 51
        },
        "outputId": "045fd4ef-3ad8-44be-b001-821417915e65"
      },
      "source": [
        "print(b.shape)\n",
        "print(type(a))\n",
        "      "
      ],
      "execution_count": 14,
      "outputs": [
        {
          "output_type": "stream",
          "text": [
            "(5, 3)\n",
            "<class 'numpy.ndarray'>\n"
          ],
          "name": "stdout"
        }
      ]
    },
    {
      "cell_type": "code",
      "metadata": {
        "id": "mtbzWxsHILSo",
        "colab_type": "code",
        "colab": {
          "base_uri": "https://localhost:8080/",
          "height": 34
        },
        "outputId": "8ca63b2d-73e7-4e5f-d3fd-209b8c895c1a"
      },
      "source": [
        "b.ndim #number of axes"
      ],
      "execution_count": 9,
      "outputs": [
        {
          "output_type": "execute_result",
          "data": {
            "text/plain": [
              "2"
            ]
          },
          "metadata": {
            "tags": []
          },
          "execution_count": 9
        }
      ]
    },
    {
      "cell_type": "code",
      "metadata": {
        "id": "25u59v1fIUoB",
        "colab_type": "code",
        "colab": {
          "base_uri": "https://localhost:8080/",
          "height": 34
        },
        "outputId": "fd7aa9a6-1ea8-44df-a0ee-cccd54db1251"
      },
      "source": [
        "a.ndim"
      ],
      "execution_count": 10,
      "outputs": [
        {
          "output_type": "execute_result",
          "data": {
            "text/plain": [
              "1"
            ]
          },
          "metadata": {
            "tags": []
          },
          "execution_count": 10
        }
      ]
    },
    {
      "cell_type": "code",
      "metadata": {
        "id": "e0R6PYxfIWdV",
        "colab_type": "code",
        "colab": {
          "base_uri": "https://localhost:8080/",
          "height": 34
        },
        "outputId": "e94e0cc5-6ba1-433f-aa0a-365a29aa66a2"
      },
      "source": [
        "a.dtype.name"
      ],
      "execution_count": 11,
      "outputs": [
        {
          "output_type": "execute_result",
          "data": {
            "text/plain": [
              "'int64'"
            ]
          },
          "metadata": {
            "tags": []
          },
          "execution_count": 11
        }
      ]
    },
    {
      "cell_type": "code",
      "metadata": {
        "id": "BIQa0CY-Iatd",
        "colab_type": "code",
        "colab": {
          "base_uri": "https://localhost:8080/",
          "height": 34
        },
        "outputId": "3695b955-5abb-41f8-9083-8e87a257297c"
      },
      "source": [
        "b.size #Total number of elements"
      ],
      "execution_count": 13,
      "outputs": [
        {
          "output_type": "execute_result",
          "data": {
            "text/plain": [
              "15"
            ]
          },
          "metadata": {
            "tags": []
          },
          "execution_count": 13
        }
      ]
    },
    {
      "cell_type": "code",
      "metadata": {
        "id": "cxA11D9TIi2B",
        "colab_type": "code",
        "colab": {}
      },
      "source": [
        ""
      ],
      "execution_count": 0,
      "outputs": []
    },
    {
      "cell_type": "markdown",
      "metadata": {
        "id": "r6C9WTswJEJ8",
        "colab_type": "text"
      },
      "source": [
        "#### Arrays"
      ]
    },
    {
      "cell_type": "code",
      "metadata": {
        "id": "0WUWmUiFJFoe",
        "colab_type": "code",
        "colab": {
          "base_uri": "https://localhost:8080/",
          "height": 34
        },
        "outputId": "c51c74bf-ce05-4e9e-d2c4-4669d118a87f"
      },
      "source": [
        "c =np.array([1,2,3,4.5])\n",
        "print(c)"
      ],
      "execution_count": 17,
      "outputs": [
        {
          "output_type": "stream",
          "text": [
            "[1.  2.  3.  4.5]\n"
          ],
          "name": "stdout"
        }
      ]
    },
    {
      "cell_type": "code",
      "metadata": {
        "id": "atgE_D5YJK2Q",
        "colab_type": "code",
        "colab": {
          "base_uri": "https://localhost:8080/",
          "height": 34
        },
        "outputId": "0ece83c8-66fe-471a-c2a6-055c9f6bb04e"
      },
      "source": [
        "print(c.dtype.name)"
      ],
      "execution_count": 19,
      "outputs": [
        {
          "output_type": "stream",
          "text": [
            "float64\n"
          ],
          "name": "stdout"
        }
      ]
    },
    {
      "cell_type": "code",
      "metadata": {
        "id": "ql3OGsv6JMgd",
        "colab_type": "code",
        "colab": {
          "base_uri": "https://localhost:8080/",
          "height": 102
        },
        "outputId": "8a5b4d43-13e9-4f66-db1f-4bb9b3987c1f"
      },
      "source": [
        "print(b)"
      ],
      "execution_count": 20,
      "outputs": [
        {
          "output_type": "stream",
          "text": [
            "[[ 0  1  2]\n",
            " [ 3  4  5]\n",
            " [ 6  7  8]\n",
            " [ 9 10 11]\n",
            " [12 13 14]]\n"
          ],
          "name": "stdout"
        }
      ]
    },
    {
      "cell_type": "code",
      "metadata": {
        "id": "Ms0_Qb2CKngT",
        "colab_type": "code",
        "colab": {}
      },
      "source": [
        "d = np.pad(b, ((1,1), (1,1)), 'constant', constant_values = (0,0))"
      ],
      "execution_count": 0,
      "outputs": []
    },
    {
      "cell_type": "code",
      "metadata": {
        "id": "EDXV5G5LK5ni",
        "colab_type": "code",
        "colab": {
          "base_uri": "https://localhost:8080/",
          "height": 136
        },
        "outputId": "7119b934-52ce-4389-edff-28c1a33c3c27"
      },
      "source": [
        "d"
      ],
      "execution_count": 26,
      "outputs": [
        {
          "output_type": "execute_result",
          "data": {
            "text/plain": [
              "array([[ 0,  0,  0,  0,  0],\n",
              "       [ 0,  0,  1,  2,  0],\n",
              "       [ 0,  3,  4,  5,  0],\n",
              "       [ 0,  6,  7,  8,  0],\n",
              "       [ 0,  9, 10, 11,  0],\n",
              "       [ 0, 12, 13, 14,  0],\n",
              "       [ 0,  0,  0,  0,  0]])"
            ]
          },
          "metadata": {
            "tags": []
          },
          "execution_count": 26
        }
      ]
    },
    {
      "cell_type": "code",
      "metadata": {
        "id": "hXpWKDNyLQqN",
        "colab_type": "code",
        "colab": {}
      },
      "source": [
        "np.random.seed(1)\n",
        "a_slice_prev = np.random.randn(4, 4, 3)\n",
        "W = np.random.randn(4, 4, 3)\n",
        "b = np.random.randn(1, 1, 1)\n"
      ],
      "execution_count": 0,
      "outputs": []
    },
    {
      "cell_type": "code",
      "metadata": {
        "id": "e0Vs6LgZNFpw",
        "colab_type": "code",
        "colab": {
          "base_uri": "https://localhost:8080/",
          "height": 340
        },
        "outputId": "dd1cd645-1266-4028-c258-c2c26169c0b1"
      },
      "source": [
        "print(a_slice_prev)"
      ],
      "execution_count": 28,
      "outputs": [
        {
          "output_type": "stream",
          "text": [
            "[[[ 1.62434536 -0.61175641 -0.52817175]\n",
            "  [-1.07296862  0.86540763 -2.3015387 ]\n",
            "  [ 1.74481176 -0.7612069   0.3190391 ]\n",
            "  [-0.24937038  1.46210794 -2.06014071]]\n",
            "\n",
            " [[-0.3224172  -0.38405435  1.13376944]\n",
            "  [-1.09989127 -0.17242821 -0.87785842]\n",
            "  [ 0.04221375  0.58281521 -1.10061918]\n",
            "  [ 1.14472371  0.90159072  0.50249434]]\n",
            "\n",
            " [[ 0.90085595 -0.68372786 -0.12289023]\n",
            "  [-0.93576943 -0.26788808  0.53035547]\n",
            "  [-0.69166075 -0.39675353 -0.6871727 ]\n",
            "  [-0.84520564 -0.67124613 -0.0126646 ]]\n",
            "\n",
            " [[-1.11731035  0.2344157   1.65980218]\n",
            "  [ 0.74204416 -0.19183555 -0.88762896]\n",
            "  [-0.74715829  1.6924546   0.05080775]\n",
            "  [-0.63699565  0.19091548  2.10025514]]]\n"
          ],
          "name": "stdout"
        }
      ]
    },
    {
      "cell_type": "code",
      "metadata": {
        "id": "givfN2YbNHP1",
        "colab_type": "code",
        "colab": {
          "base_uri": "https://localhost:8080/",
          "height": 340
        },
        "outputId": "a04a57ff-0af5-45eb-af0c-4f0b8a03e84b"
      },
      "source": [
        "print(W)"
      ],
      "execution_count": 29,
      "outputs": [
        {
          "output_type": "stream",
          "text": [
            "[[[ 0.12015895  0.61720311  0.30017032]\n",
            "  [-0.35224985 -1.1425182  -0.34934272]\n",
            "  [-0.20889423  0.58662319  0.83898341]\n",
            "  [ 0.93110208  0.28558733  0.88514116]]\n",
            "\n",
            " [[-0.75439794  1.25286816  0.51292982]\n",
            "  [-0.29809284  0.48851815 -0.07557171]\n",
            "  [ 1.13162939  1.51981682  2.18557541]\n",
            "  [-1.39649634 -1.44411381 -0.50446586]]\n",
            "\n",
            " [[ 0.16003707  0.87616892  0.31563495]\n",
            "  [-2.02220122 -0.30620401  0.82797464]\n",
            "  [ 0.23009474  0.76201118 -0.22232814]\n",
            "  [-0.20075807  0.18656139  0.41005165]]\n",
            "\n",
            " [[ 0.19829972  0.11900865 -0.67066229]\n",
            "  [ 0.37756379  0.12182127  1.12948391]\n",
            "  [ 1.19891788  0.18515642 -0.37528495]\n",
            "  [-0.63873041  0.42349435  0.07734007]]]\n"
          ],
          "name": "stdout"
        }
      ]
    },
    {
      "cell_type": "code",
      "metadata": {
        "id": "YIvVbycPNJlT",
        "colab_type": "code",
        "colab": {
          "base_uri": "https://localhost:8080/",
          "height": 34
        },
        "outputId": "52e52513-7d1f-4d63-d39d-d34eec85aaa6"
      },
      "source": [
        "print(b)"
      ],
      "execution_count": 30,
      "outputs": [
        {
          "output_type": "stream",
          "text": [
            "[[[-0.34385368]]]\n"
          ],
          "name": "stdout"
        }
      ]
    },
    {
      "cell_type": "code",
      "metadata": {
        "id": "yZ9iUUW-NLrz",
        "colab_type": "code",
        "colab": {
          "base_uri": "https://localhost:8080/",
          "height": 51
        },
        "outputId": "5c732403-6316-453f-b91f-5aecc7a4999c"
      },
      "source": [
        "n1 =np.random.randn(2,2)\n",
        "print(n1)"
      ],
      "execution_count": 32,
      "outputs": [
        {
          "output_type": "stream",
          "text": [
            "[[ 1.2245077   0.40349164]\n",
            " [ 0.59357852 -1.09491185]]\n"
          ],
          "name": "stdout"
        }
      ]
    },
    {
      "cell_type": "code",
      "metadata": {
        "id": "P4HUAvwfQC7P",
        "colab_type": "code",
        "colab": {
          "base_uri": "https://localhost:8080/",
          "height": 51
        },
        "outputId": "dfca116a-fd4f-4226-c09a-1a9012528933"
      },
      "source": [
        "n2 =np.random.randn(2,2)\n",
        "print(n2)"
      ],
      "execution_count": 33,
      "outputs": [
        {
          "output_type": "stream",
          "text": [
            "[[ 0.16938243  0.74055645]\n",
            " [-0.9537006  -0.26621851]]\n"
          ],
          "name": "stdout"
        }
      ]
    },
    {
      "cell_type": "code",
      "metadata": {
        "id": "VFP75ubUQGyi",
        "colab_type": "code",
        "colab": {
          "base_uri": "https://localhost:8080/",
          "height": 51
        },
        "outputId": "8067014a-d54e-4c59-d34e-6386609369c8"
      },
      "source": [
        "np.dot(n1,n2)"
      ],
      "execution_count": 34,
      "outputs": [
        {
          "output_type": "execute_result",
          "data": {
            "text/plain": [
              "array([[-0.17740013,  0.79940014],\n",
              "       [ 1.14475986,  0.7310642 ]])"
            ]
          },
          "metadata": {
            "tags": []
          },
          "execution_count": 34
        }
      ]
    },
    {
      "cell_type": "code",
      "metadata": {
        "id": "XLZPpor9QS2A",
        "colab_type": "code",
        "colab": {
          "base_uri": "https://localhost:8080/",
          "height": 34
        },
        "outputId": "d1d96d00-c3c7-4905-bd95-dbd24f5c1712"
      },
      "source": [
        "n1.shape[0]"
      ],
      "execution_count": 36,
      "outputs": [
        {
          "output_type": "execute_result",
          "data": {
            "text/plain": [
              "2"
            ]
          },
          "metadata": {
            "tags": []
          },
          "execution_count": 36
        }
      ]
    },
    {
      "cell_type": "code",
      "metadata": {
        "id": "R9Vru5HTQy6p",
        "colab_type": "code",
        "colab": {
          "base_uri": "https://localhost:8080/",
          "height": 51
        },
        "outputId": "cca4caf3-23ee-4702-ee14-0f9471e06d95"
      },
      "source": [
        "for r in np.rollaxis(n1, 0):\n",
        "    print(r)"
      ],
      "execution_count": 40,
      "outputs": [
        {
          "output_type": "stream",
          "text": [
            "[1.2245077  0.40349164]\n",
            "[ 0.59357852 -1.09491185]\n"
          ],
          "name": "stdout"
        }
      ]
    },
    {
      "cell_type": "code",
      "metadata": {
        "id": "mCXKGupLRPg7",
        "colab_type": "code",
        "colab": {
          "base_uri": "https://localhost:8080/",
          "height": 34
        },
        "outputId": "7c3f0880-aa8b-484b-decd-188a136a3e24"
      },
      "source": [
        "n1[0]"
      ],
      "execution_count": 41,
      "outputs": [
        {
          "output_type": "execute_result",
          "data": {
            "text/plain": [
              "array([1.2245077 , 0.40349164])"
            ]
          },
          "metadata": {
            "tags": []
          },
          "execution_count": 41
        }
      ]
    },
    {
      "cell_type": "code",
      "metadata": {
        "id": "7wOiOiQqRco-",
        "colab_type": "code",
        "colab": {
          "base_uri": "https://localhost:8080/",
          "height": 204
        },
        "outputId": "f9cf9a6c-167b-4532-f998-7b881c217c83"
      },
      "source": [
        "np.zeros((3,3,3))"
      ],
      "execution_count": 42,
      "outputs": [
        {
          "output_type": "execute_result",
          "data": {
            "text/plain": [
              "array([[[0., 0., 0.],\n",
              "        [0., 0., 0.],\n",
              "        [0., 0., 0.]],\n",
              "\n",
              "       [[0., 0., 0.],\n",
              "        [0., 0., 0.],\n",
              "        [0., 0., 0.]],\n",
              "\n",
              "       [[0., 0., 0.],\n",
              "        [0., 0., 0.],\n",
              "        [0., 0., 0.]]])"
            ]
          },
          "metadata": {
            "tags": []
          },
          "execution_count": 42
        }
      ]
    },
    {
      "cell_type": "code",
      "metadata": {
        "id": "qoKSo5reSAOq",
        "colab_type": "code",
        "colab": {
          "base_uri": "https://localhost:8080/",
          "height": 34
        },
        "outputId": "bcc5f055-82ad-420b-fa76-85c424483293"
      },
      "source": [
        "np.sum(n1)"
      ],
      "execution_count": 43,
      "outputs": [
        {
          "output_type": "execute_result",
          "data": {
            "text/plain": [
              "1.1266660240923239"
            ]
          },
          "metadata": {
            "tags": []
          },
          "execution_count": 43
        }
      ]
    },
    {
      "cell_type": "code",
      "metadata": {
        "id": "izt7aVbFSjkF",
        "colab_type": "code",
        "colab": {}
      },
      "source": [
        ""
      ],
      "execution_count": 0,
      "outputs": []
    }
  ]
}