{
 "cells": [
  {
   "cell_type": "markdown",
   "metadata": {},
   "source": [
    "#### First you import the libraries after the installation of ortools"
   ]
  },
  {
   "cell_type": "code",
   "execution_count": 16,
   "metadata": {},
   "outputs": [],
   "source": [
    "from ortools.constraint_solver import pywrapcp\n",
    "from ortools.constraint_solver import routing_enums_pb2\n"
   ]
  },
  {
   "cell_type": "markdown",
   "metadata": {},
   "source": [
    "You use some sample data as the input for the optimization problem in this case the data is represented in matrix format and the graph is symetric"
   ]
  },
  {
   "cell_type": "code",
   "execution_count": 8,
   "metadata": {},
   "outputs": [],
   "source": [
    "\n",
    "# Distance callback\n",
    "class CreateDistanceCallback(object):\n",
    "  \"\"\"Create callback to calculate distances between points.\"\"\"\n",
    "  def __init__(self):\n",
    "    \"\"\"Array of distances between points.\"\"\"\n",
    "\n",
    "    self.matrix = [\n",
    "    [   0, 2451,  713, 1018, 1631, 1374, 2408,  213, 2571,  875, 1420, 2145, 1972], # New York\n",
    "    [2451,    0, 1745, 1524,  831, 1240,  959, 2596,  403, 1589, 1374,  357,  579], # Los Angeles\n",
    "    [ 713, 1745,    0,  355,  920,  803, 1737,  851, 1858,  262,  940, 1453, 1260], # Chicago\n",
    "    [1018, 1524,  355,    0,  700,  862, 1395, 1123, 1584,  466, 1056, 1280,  987], # Minneapolis\n",
    "    [1631,  831,  920,  700,    0,  663, 1021, 1769,  949,  796,  879,  586,  371], # Denver\n",
    "    [1374, 1240,  803,  862,  663,    0, 1681, 1551, 1765,  547,  225,  887,  999], # Dallas\n",
    "    [2408,  959, 1737, 1395, 1021, 1681,    0, 2493,  678, 1724, 1891, 1114,  701], # Seattle\n",
    "    [ 213, 2596,  851, 1123, 1769, 1551, 2493,    0, 2699, 1038, 1605, 2300, 2099], # Boston\n",
    "    [2571,  403, 1858, 1584,  949, 1765,  678, 2699,    0, 1744, 1645,  653,  600], # San Francisco\n",
    "    [ 875, 1589,  262,  466,  796,  547, 1724, 1038, 1744,    0,  679, 1272, 1162], # St. Louis\n",
    "    [1420, 1374,  940, 1056,  879,  225, 1891, 1605, 1645,  679,    0, 1017, 1200], # Houston\n",
    "    [2145,  357, 1453, 1280,  586,  887, 1114, 2300,  653, 1272, 1017,    0,  504], # Phoenix\n",
    "    [1972,  579, 1260,  987,  371,  999,  701, 2099,  600, 1162,  1200,  504,   0]] # Salt Lake City\n",
    "\n",
    "  def Distance(self, from_node, to_node):\n",
    "    return int(self.matrix[from_node][to_node])\n",
    "\n"
   ]
  },
  {
   "cell_type": "markdown",
   "metadata": {},
   "source": [
    "The cities that match the matrix are give"
   ]
  },
  {
   "cell_type": "code",
   "execution_count": 10,
   "metadata": {},
   "outputs": [],
   "source": [
    "\n",
    "\n",
    "  # Cities\n",
    "city_names = [\"New York\", \"Los Angeles\", \"Chicago\", \"Minneapolis\", \"Denver\", \"Dallas\", \"Seattle\",\n",
    "                \"Boston\", \"San Francisco\", \"St. Louis\", \"Houston\", \"Phoenix\", \"Salt Lake City\"]"
   ]
  },
  {
   "cell_type": "markdown",
   "metadata": {},
   "source": [
    "The routing is set"
   ]
  },
  {
   "cell_type": "code",
   "execution_count": 13,
   "metadata": {},
   "outputs": [],
   "source": [
    "tsp_size = len(city_names)\n",
    "num_routes = 1    # The number of routes, which is 1 in the TSP.\n",
    "# Nodes are indexed from 0 to tsp_size - 1. The depot is the starting node of the route.\n",
    "depot = 0\n",
    "\n",
    "# Create routing model\n",
    "if tsp_size > 0:\n",
    "    ## This set initial settings tsp_size for the amount of cities,  num_routes in this case just one\n",
    "    ## depot is the place where we start in this case New York\n",
    "    routing = pywrapcp.RoutingModel(tsp_size, num_routes, depot)\n",
    "    search_parameters = pywrapcp.RoutingModel.DefaultSearchParameters()\n",
    "\n",
    "    # Create the distance callback, which takes two arguments (the from and to node indices)\n",
    "    # and returns the distance between these nodes.\n",
    "    dist_between_nodes = CreateDistanceCallback()\n",
    "    dist_callback = dist_between_nodes.Distance\n",
    "    routing.SetArcCostEvaluatorOfAllVehicles(dist_callback)"
   ]
  },
  {
   "cell_type": "markdown",
   "metadata": {},
   "source": [
    "#### In the final step the solver is called and is shown the route calculated if anyone is found\n"
   ]
  },
  {
   "cell_type": "code",
   "execution_count": 15,
   "metadata": {},
   "outputs": [
    {
     "name": "stdout",
     "output_type": "stream",
     "text": [
      "Total distance: 7293 miles\n",
      "\n",
      "Route:\n",
      "\n",
      "New York -> Boston -> Chicago -> Minneapolis -> Denver -> Salt Lake City -> Seattle -> San Francisco -> Los Angeles -> Phoenix -> Houston -> Dallas -> St. Louis -> New York\n"
     ]
    }
   ],
   "source": [
    "assignment = routing.SolveWithParameters(search_parameters)\n",
    "if assignment:\n",
    "  # Solution cost.\n",
    "  print (\"Total distance: \" + str(assignment.ObjectiveValue()) + \" miles\\n\")\n",
    "  # Inspect solution.\n",
    "  # Only one route here; otherwise iterate from 0 to routing.vehicles() - 1\n",
    "  route_number = 0\n",
    "  index = routing.Start(route_number) # Index of the variable for the starting node.\n",
    "  route = ''\n",
    "  while not routing.IsEnd(index):\n",
    "    # Convert variable indices to node indices in the displayed route.\n",
    "    route += str(city_names[routing.IndexToNode(index)]) + ' -> '\n",
    "    index = assignment.Value(routing.NextVar(index))\n",
    "  route += str(city_names[routing.IndexToNode(index)])\n",
    "  print (\"Route:\\n\\n\" + route)\n",
    "else:\n",
    "  print ('No solution found.')\n"
   ]
  },
  {
   "cell_type": "code",
   "execution_count": null,
   "metadata": {},
   "outputs": [],
   "source": []
  }
 ],
 "metadata": {
  "kernelspec": {
   "display_name": "Python 3",
   "language": "python",
   "name": "python3"
  },
  "language_info": {
   "codemirror_mode": {
    "name": "ipython",
    "version": 3
   },
   "file_extension": ".py",
   "mimetype": "text/x-python",
   "name": "python",
   "nbconvert_exporter": "python",
   "pygments_lexer": "ipython3",
   "version": "3.6.5"
  }
 },
 "nbformat": 4,
 "nbformat_minor": 2
}
