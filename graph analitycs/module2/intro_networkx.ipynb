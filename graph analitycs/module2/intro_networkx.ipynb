{
 "cells": [
  {
   "cell_type": "code",
   "execution_count": 44,
   "metadata": {},
   "outputs": [],
   "source": [
    "import networkx as nx\n",
    "import matplotlib.pyplot as plt"
   ]
  },
  {
   "cell_type": "code",
   "execution_count": 12,
   "metadata": {},
   "outputs": [],
   "source": [
    "G = nx.read_edgelist(\"airportData.edges\")"
   ]
  },
  {
   "cell_type": "markdown",
   "metadata": {},
   "source": [
    "Display basic information on our graph"
   ]
  },
  {
   "cell_type": "code",
   "execution_count": 3,
   "metadata": {},
   "outputs": [
    {
     "name": "stdout",
     "output_type": "stream",
     "text": [
      "#nodes:  3618\n",
      "#edges:  14142\n",
      "#avg. clustering: 0.4957489312349579\n",
      "#Global clustering coefficient: 0.24345387322110054\n"
     ]
    }
   ],
   "source": [
    "print(\"#nodes: \",len(G.nodes()))\n",
    "print(\"#edges: \",len(G.edges()))\n",
    "print(\"#avg. clustering:\",nx.average_clustering(G))\n",
    "print(\"#Global clustering coefficient:\",nx.transitivity(G))"
   ]
  },
  {
   "cell_type": "code",
   "execution_count": 25,
   "metadata": {},
   "outputs": [],
   "source": [
    "#print(\"#nodes: \",G.nodes())"
   ]
  },
  {
   "cell_type": "code",
   "execution_count": 21,
   "metadata": {},
   "outputs": [],
   "source": [
    "#ACD\tSKAD\t30660\t-278280\tACANDI\tCOLOMBIA\n",
    "#BOG\tSKBO#SKED\t16920\t-266940\tBOGOTA\tCOLOMBIA"
   ]
  },
  {
   "cell_type": "code",
   "execution_count": 40,
   "metadata": {},
   "outputs": [],
   "source": [
    "f = open('airport_coor.txt')\n",
    "i=0\n",
    "colombiaAirports ={}\n",
    "for l in f:\n",
    "    arreglo = l.split()\n",
    "    if len(arreglo)>5 and arreglo[5]==\"COLOMBIA\":\n",
    "        #print(arreglo)\n",
    "        colombiaAirports[arreglo[0]]={}\n",
    "    elif   len(arreglo)==5 and arreglo[4]==\"COLOMBIA\":\n",
    "        colombiaAirports[arreglo[0]]={}\n",
    "        #print(arreglo)\n",
    "    #if i>10:\n",
    "        #break\n",
    "    #print(l)\n",
    "    #i+=1"
   ]
  },
  {
   "cell_type": "code",
   "execution_count": 41,
   "metadata": {},
   "outputs": [
    {
     "name": "stdout",
     "output_type": "stream",
     "text": [
      "Colombia Airports: 146\n"
     ]
    }
   ],
   "source": [
    "print(\"Colombia Airports: \" + str(len(colombiaAirports)))"
   ]
  },
  {
   "cell_type": "code",
   "execution_count": 49,
   "metadata": {},
   "outputs": [
    {
     "name": "stdout",
     "output_type": "stream",
     "text": [
      "{'ACL': {}, 'ACM': {}, 'ACR': {}, 'ARO': {}, 'ARQ': {}, 'AYA': {}, 'AYC': {}, 'AYG': {}, 'AZT': {}, 'BAC': {}, 'CCO': {}, 'CJD': {}, 'CPB': {}, 'CQT': {}, 'CRC': {}, 'CUI': {}, 'DZI': {}, 'ECR': {}, 'ELJ': {}, 'EUO': {}, 'GCA': {}, 'GGL': {}, 'HDA': {}, 'HRR': {}, 'ISD': {}, 'IVO': {}, 'LCR': {}, 'LGZ': {}, 'LMC': {}, 'LMX': {}, 'LPE': {}, 'LQM': {}, 'LRI': {}, 'MGH': {}, 'MMP': {}, 'MND': {}, 'MOY': {}, 'MQR': {}, 'MTB': {}, 'NAR': {}, 'NPU': {}, 'NUH': {}, 'PBE': {}, 'PCC': {}, 'PDA': {}, 'PLA': {}, 'PLC': {}, 'PRE': {}, 'RON': {}, 'RVE': {}, 'SCA': {}, 'SJG': {}, 'SJH': {}, 'SJM': {}, 'SJR': {}, 'ACD': {}, 'GRA': {}, 'AFI': {}, 'API': {}, 'AXM': {}, 'PUU': {}, 'ELB': {}, 'BGA': {}, 'BOG': {}, 'BAQ': {}, 'BSC': {}, 'BUN': {}, 'CUC': {}, 'COG': {}, 'CTG': {}, 'CLO': {}, 'CIM': {}, 'RAV': {}, 'TCO': {}, 'CUO': {}, 'CAQ': {}, 'CVE': {}, 'CZU': {}, 'EBG': {}, 'EJA': {}, 'FLA': {}, 'FDA': {}, 'LGT': {}, 'GIR': {}, 'SQB': {}, 'GPI': {}, 'CPL': {}, 'HTZ': {}, 'IBE': {}, 'IGO': {}, 'IPI': {}, 'APO': {}, 'LET': {}, 'MDE': {}, 'MGN': {}, 'MCJ': {}, 'MTR': {}, 'MVP': {}, 'MZL': {}, 'NCI': {}, 'NQU': {}, 'NVA': {}, 'OCV': {}, 'ORC': {}, 'OTU': {}, 'PCR': {}, 'LPD': {}, 'PEI': {}, 'PTX': {}, 'PLT': {}, 'PPN': {}, 'PAL': {}, 'PSO': {}, 'PVA': {}, 'PZA': {}, 'MQU': {}, 'MFS': {}, 'RCH': {}, 'SJE': {}, 'SMR': {}, 'ADZ': {}, 'SVI': {}, 'TAU': {}, 'TDA': {}, 'TLU': {}, 'TME': {}, 'TRB': {}, 'AUC': {}, 'UIB': {}, 'ULQ': {}, 'VUP': {}, 'VVC': {}, 'EYP': {}, 'SMC': {}, 'SNT': {}, 'SOH': {}, 'SOX': {}, 'SQE': {}, 'SRO': {}, 'SRS': {}, 'TQS': {}, 'TTM': {}, 'ULS': {}, 'UNC': {}, 'URI': {}, 'URR': {}}\n"
     ]
    }
   ],
   "source": [
    "print(colombiaAirports)"
   ]
  },
  {
   "cell_type": "markdown",
   "metadata": {},
   "source": [
    "## Centrality of airports in Colombia"
   ]
  },
  {
   "cell_type": "code",
   "execution_count": 26,
   "metadata": {},
   "outputs": [],
   "source": [
    "nodes_c = nx.degree_centrality(G)"
   ]
  },
  {
   "cell_type": "code",
   "execution_count": 31,
   "metadata": {},
   "outputs": [
    {
     "name": "stdout",
     "output_type": "stream",
     "text": [
      "('BOG_Bogota', 0.013547138512579486)\n",
      "('BAQ_Barranquilla', 0.0033176665745092617)\n",
      "('CLO_Cali', 0.004700027647221454)\n",
      "('CTG_Cartagena', 0.0035941387890517005)\n",
      "('MDE_Medellin', 0.006358860934476085)\n",
      "('ADZ_San_Andres_Island', 0.0016588332872546309)\n",
      "('AUC_Arauca', 0.0002764722145424385)\n",
      "('AXM_Armenia', 0.000552944429084877)\n",
      "('BGA_Bucaramanga', 0.0016588332872546309)\n",
      "('CUC_Cucuta', 0.0008294166436273154)\n",
      "('EJA_Barrancabermeja', 0.0002764722145424385)\n",
      "('EYP_El_Yopal', 0.0002764722145424385)\n",
      "('IBE_Ibague', 0.0016588332872546309)\n",
      "('LET_Leticia', 0.0002764722145424385)\n",
      "('MTR_Monteria', 0.0013823610727121925)\n",
      "('MZL_Manizales', 0.0008294166436273154)\n",
      "('NVA_Neiva', 0.0013823610727121925)\n",
      "('PEI_Pereira', 0.001105888858169754)\n",
      "('PPN_Popayan', 0.000552944429084877)\n",
      "('PSO_Pasto', 0.000552944429084877)\n",
      "('RCH_Riohacha', 0.001105888858169754)\n",
      "('SMR_Santa_Marta', 0.0016588332872546309)\n",
      "('UIB_Quibdo', 0.0008294166436273154)\n",
      "('VVC_Villavicencio', 0.0002764722145424385)\n",
      "('VUP_Valledupar', 0.001105888858169754)\n",
      "('MGH_Margate', 0.0002764722145424385)\n",
      "('BUN_Buenaventura', 0.0002764722145424385)\n",
      "('GPI_Guapi', 0.0002764722145424385)\n",
      "('IPI_Ipiales', 0.000552944429084877)\n",
      "('TCO_Tumaco', 0.0002764722145424385)\n",
      "('CZU_Corozal_(CO)', 0.000552944429084877)\n",
      "('MGN_Magangue', 0.0008294166436273154)\n",
      "('MMP_Mompos', 0.000552944429084877)\n",
      "('APO_Apartado', 0.000552944429084877)\n",
      "('CAQ_Caucasia', 0.0002764722145424385)\n",
      "('CPB_Capurgana', 0.0002764722145424385)\n",
      "('NQU_Nuqui', 0.0002764722145424385)\n",
      "('PBE_Puerto_Berrio', 0.0002764722145424385)\n",
      "('FLA_Florencia', 0.0002764722145424385)\n",
      "('PUU_Puerto_Asis', 0.000552944429084877)\n",
      "('MCJ_Maicao', 0.0002764722145424385)\n",
      "('BSC_Bahia_Solano', 0.0002764722145424385)\n"
     ]
    }
   ],
   "source": [
    "for e in nodes_c:\n",
    "    #print(e)\n",
    "    if e[:3] in colombiaAirports:\n",
    "        print((e, nodes_c[e]))     "
   ]
  },
  {
   "cell_type": "markdown",
   "metadata": {},
   "source": [
    "## South American Airports"
   ]
  },
  {
   "cell_type": "code",
   "execution_count": 32,
   "metadata": {},
   "outputs": [],
   "source": [
    "southAmCts={'argentina':{}, 'bolivia':{}, 'brazil':{}, 'chile':{}, 'colombia':{}, 'ecuador':{}, 'guyana':{}, 'paraguay':{}, 'peru':{}, 'suriname':{}, 'uruguay':{}, 'venezuela':{}}\n",
    "southAmAirp={}"
   ]
  },
  {
   "cell_type": "code",
   "execution_count": 36,
   "metadata": {},
   "outputs": [],
   "source": [
    "f = open('airport_coor.txt')\n",
    "for l in f:\n",
    "    arreglo = l.split()\n",
    "    if len(arreglo)>5 and arreglo[5].lower() in southAmCts:\n",
    "        #print(arreglo)\n",
    "        southAmAirp[arreglo[0]]={}\n",
    "    elif   len(arreglo)==5 and arreglo[4].lower() in southAmCts:\n",
    "        southAmAirp[arreglo[0]]={}\n",
    "        #print(arreglo)"
   ]
  },
  {
   "cell_type": "code",
   "execution_count": 37,
   "metadata": {},
   "outputs": [
    {
     "name": "stdout",
     "output_type": "stream",
     "text": [
      "South American Airports: 788\n"
     ]
    }
   ],
   "source": [
    "print(\"South American Airports: \" + str(len(southAmAirp)))"
   ]
  },
  {
   "cell_type": "markdown",
   "metadata": {},
   "source": [
    "## Graph visualization"
   ]
  },
  {
   "cell_type": "code",
   "execution_count": 45,
   "metadata": {},
   "outputs": [
    {
     "data": {
      "image/png": "[encoded data removed]",
      "text/plain": [
       "<Figure size 432x288 with 1 Axes>"
      ]
     },
     "metadata": {},
     "output_type": "display_data"
    }
   ],
   "source": [
    " nx.draw(G)"
   ]
  },
  {
   "cell_type": "markdown",
   "metadata": {},
   "source": [
    "### Copy of graphs"
   ]
  },
  {
   "cell_type": "code",
   "execution_count": 46,
   "metadata": {},
   "outputs": [],
   "source": [
    "GColombia  = G.copy()"
   ]
  },
  {
   "cell_type": "code",
   "execution_count": 47,
   "metadata": {},
   "outputs": [
    {
     "name": "stdout",
     "output_type": "stream",
     "text": [
      "#nodes:  3618\n",
      "#edges:  14142\n",
      "#nodes:  3618\n",
      "#edges:  14142\n"
     ]
    }
   ],
   "source": [
    "print(\"#nodes: \",len(G.nodes()))\n",
    "print(\"#edges: \",len(G.edges()))\n",
    "print(\"#nodes: \",len(GColombia.nodes()))\n",
    "print(\"#edges: \",len(GColombia.edges()))"
   ]
  },
  {
   "cell_type": "markdown",
   "metadata": {},
   "source": [
    "### Airports  of colombia graph"
   ]
  },
  {
   "cell_type": "code",
   "execution_count": 51,
   "metadata": {},
   "outputs": [],
   "source": [
    "nodesRm=[]\n",
    "for n in GColombia:\n",
    "    if n[:3] not in colombiaAirports:\n",
    "        nodesRm.append(n)\n",
    "#GColombia.remove_nodes_from(nodesRm)"
   ]
  },
  {
   "cell_type": "code",
   "execution_count": 53,
   "metadata": {},
   "outputs": [
    {
     "name": "stdout",
     "output_type": "stream",
     "text": [
      "3575\n"
     ]
    }
   ],
   "source": [
    "print(len(nodesRm))"
   ]
  },
  {
   "cell_type": "code",
   "execution_count": 54,
   "metadata": {},
   "outputs": [],
   "source": [
    "GColombia.remove_nodes_from(nodesRm)"
   ]
  },
  {
   "cell_type": "code",
   "execution_count": 55,
   "metadata": {},
   "outputs": [
    {
     "data": {
      "image/png": "[encoded data removed]",
      "text/plain": [
       "<Figure size 432x288 with 1 Axes>"
      ]
     },
     "metadata": {},
     "output_type": "display_data"
    }
   ],
   "source": [
    "nx.draw(GColombia)"
   ]
  },
  {
   "cell_type": "code",
   "execution_count": 62,
   "metadata": {},
   "outputs": [
    {
     "name": "stdout",
     "output_type": "stream",
     "text": [
      "#nodes:  42\n",
      "#edges:  83\n"
     ]
    }
   ],
   "source": [
    "print(\"#nodes: \",len(GColombia.nodes()))\n",
    "print(\"#edges: \",len(GColombia.edges()))"
   ]
  },
  {
   "cell_type": "code",
   "execution_count": 67,
   "metadata": {},
   "outputs": [
    {
     "name": "stdout",
     "output_type": "stream",
     "text": [
      "('BOG_Bogota', 0.5853658536585367)\n",
      "('BAQ_Barranquilla', 0.21951219512195122)\n",
      "('CLO_Cali', 0.36585365853658536)\n",
      "('CTG_Cartagena', 0.2682926829268293)\n",
      "('MDE_Medellin', 0.4634146341463415)\n",
      "('ADZ_San_Andres_Island', 0.12195121951219512)\n",
      "('AUC_Arauca', 0.024390243902439025)\n",
      "('AXM_Armenia', 0.04878048780487805)\n",
      "('BGA_Bucaramanga', 0.14634146341463417)\n",
      "('CUC_Cucuta', 0.07317073170731708)\n",
      "('EJA_Barrancabermeja', 0.024390243902439025)\n",
      "('EYP_El_Yopal', 0.024390243902439025)\n",
      "('IBE_Ibague', 0.14634146341463417)\n",
      "('LET_Leticia', 0.024390243902439025)\n",
      "('MTR_Monteria', 0.12195121951219512)\n",
      "('MZL_Manizales', 0.07317073170731708)\n",
      "('NVA_Neiva', 0.12195121951219512)\n",
      "('PEI_Pereira', 0.0975609756097561)\n",
      "('PPN_Popayan', 0.04878048780487805)\n",
      "('PSO_Pasto', 0.04878048780487805)\n",
      "('RCH_Riohacha', 0.0975609756097561)\n",
      "('SMR_Santa_Marta', 0.14634146341463417)\n",
      "('UIB_Quibdo', 0.07317073170731708)\n",
      "('VVC_Villavicencio', 0.024390243902439025)\n",
      "('VUP_Valledupar', 0.0975609756097561)\n",
      "('MGH_Margate', 0.0)\n",
      "('BUN_Buenaventura', 0.024390243902439025)\n",
      "('GPI_Guapi', 0.024390243902439025)\n",
      "('IPI_Ipiales', 0.04878048780487805)\n",
      "('TCO_Tumaco', 0.024390243902439025)\n",
      "('CZU_Corozal_(CO)', 0.04878048780487805)\n",
      "('MGN_Magangue', 0.07317073170731708)\n",
      "('MMP_Mompos', 0.04878048780487805)\n",
      "('APO_Apartado', 0.04878048780487805)\n",
      "('CAQ_Caucasia', 0.024390243902439025)\n",
      "('CPB_Capurgana', 0.024390243902439025)\n",
      "('NQU_Nuqui', 0.024390243902439025)\n",
      "('PBE_Puerto_Berrio', 0.024390243902439025)\n",
      "('FLA_Florencia', 0.024390243902439025)\n",
      "('PUU_Puerto_Asis', 0.04878048780487805)\n",
      "('MCJ_Maicao', 0.024390243902439025)\n",
      "('BSC_Bahia_Solano', 0.024390243902439025)\n"
     ]
    }
   ],
   "source": [
    "nodes_c = nx.degree_centrality(GColombia)\n",
    "for e in nodes_c:\n",
    "    print((e, nodes_c[e]))     "
   ]
  },
  {
   "cell_type": "markdown",
   "metadata": {},
   "source": [
    "### Airports of south america graph"
   ]
  },
  {
   "cell_type": "code",
   "execution_count": 56,
   "metadata": {},
   "outputs": [],
   "source": [
    "GSouthA  = G.copy()"
   ]
  },
  {
   "cell_type": "code",
   "execution_count": 57,
   "metadata": {},
   "outputs": [
    {
     "name": "stdout",
     "output_type": "stream",
     "text": [
      "#nodes:  3618\n",
      "#edges:  14142\n"
     ]
    }
   ],
   "source": [
    "print(\"#nodes: \",len(GSouthA.nodes()))\n",
    "print(\"#edges: \",len(GSouthA.edges()))"
   ]
  },
  {
   "cell_type": "code",
   "execution_count": 59,
   "metadata": {},
   "outputs": [],
   "source": [
    "nodesRmSA=[]\n",
    "for n in GSouthA:\n",
    "    if n[:3] not in southAmAirp:\n",
    "        nodesRmSA.append(n)\n",
    "#GColombia.remove_nodes_from(nodesRm)"
   ]
  },
  {
   "cell_type": "code",
   "execution_count": 60,
   "metadata": {},
   "outputs": [
    {
     "name": "stdout",
     "output_type": "stream",
     "text": [
      "3339\n"
     ]
    }
   ],
   "source": [
    "print(len(nodesRmSA))"
   ]
  },
  {
   "cell_type": "code",
   "execution_count": 63,
   "metadata": {},
   "outputs": [],
   "source": [
    "GSouthA.remove_nodes_from(nodesRmSA)"
   ]
  },
  {
   "cell_type": "code",
   "execution_count": 64,
   "metadata": {},
   "outputs": [
    {
     "data": {
      "image/png": "[encoded data removed]",
      "text/plain": [
       "<Figure size 432x288 with 1 Axes>"
      ]
     },
     "metadata": {},
     "output_type": "display_data"
    }
   ],
   "source": [
    "nx.draw(GSouthA)"
   ]
  },
  {
   "cell_type": "code",
   "execution_count": 66,
   "metadata": {},
   "outputs": [
    {
     "name": "stdout",
     "output_type": "stream",
     "text": [
      "#nodes:  279\n",
      "#edges:  626\n"
     ]
    }
   ],
   "source": [
    "print(\"#nodes: \",len(GSouthA.nodes()))\n",
    "print(\"#edges: \",len(GSouthA.edges()))"
   ]
  },
  {
   "cell_type": "code",
   "execution_count": 65,
   "metadata": {},
   "outputs": [],
   "source": [
    "nx.write_gexf(GSouthA, \"test.gexf\")"
   ]
  },
  {
   "cell_type": "code",
   "execution_count": null,
   "metadata": {},
   "outputs": [],
   "source": []
  }
 ],
 "metadata": {
  "kernelspec": {
   "display_name": "Python 3",
   "language": "python",
   "name": "python3"
  },
  "language_info": {
   "codemirror_mode": {
    "name": "ipython",
    "version": 3
   },
   "file_extension": ".py",
   "mimetype": "text/x-python",
   "name": "python",
   "nbconvert_exporter": "python",
   "pygments_lexer": "ipython3",
   "version": "3.6.5"
  }
 },
 "nbformat": 4,
 "nbformat_minor": 2
}
