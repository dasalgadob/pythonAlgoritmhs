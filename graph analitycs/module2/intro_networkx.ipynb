{
 "cells": [
  {
   "cell_type": "code",
   "execution_count": 18,
   "metadata": {},
   "outputs": [],
   "source": [
    "import networkx as nx\n",
    "import matplotlib.pyplot as plt\n",
    "from networkx.algorithms import community"
   ]
  },
  {
   "cell_type": "code",
   "execution_count": 69,
   "metadata": {},
   "outputs": [],
   "source": [
    "G = nx.read_edgelist(\"airportData.edges\")"
   ]
  },
  {
   "cell_type": "markdown",
   "metadata": {},
   "source": [
    "Display basic information on our graph"
   ]
  },
  {
   "cell_type": "code",
   "execution_count": 70,
   "metadata": {},
   "outputs": [
    {
     "name": "stdout",
     "output_type": "stream",
     "text": [
      "#nodes:  3618\n",
      "#edges:  14142\n",
      "#avg. clustering: 0.4957489312349579\n",
      "#Global clustering coefficient: 0.24345387322110054\n"
     ]
    }
   ],
   "source": [
    "print(\"#nodes: \",len(G.nodes()))\n",
    "print(\"#edges: \",len(G.edges()))\n",
    "print(\"#avg. clustering:\",nx.average_clustering(G))\n",
    "print(\"#Global clustering coefficient:\",nx.transitivity(G))"
   ]
  },
  {
   "cell_type": "code",
   "execution_count": 71,
   "metadata": {},
   "outputs": [],
   "source": [
    "#print(\"#nodes: \",G.nodes())"
   ]
  },
  {
   "cell_type": "code",
   "execution_count": 72,
   "metadata": {},
   "outputs": [],
   "source": [
    "#ACD\tSKAD\t30660\t-278280\tACANDI\tCOLOMBIA\n",
    "#BOG\tSKBO#SKED\t16920\t-266940\tBOGOTA\tCOLOMBIA"
   ]
  },
  {
   "cell_type": "code",
   "execution_count": 7,
   "metadata": {},
   "outputs": [],
   "source": [
    "f = open('airport_coor.txt')\n",
    "i=0\n",
    "colombiaAirports ={}\n",
    "for l in f:\n",
    "    arreglo = l.split()\n",
    "    if len(arreglo)>5 and arreglo[5]==\"COLOMBIA\":\n",
    "        #print(arreglo)\n",
    "        colombiaAirports[arreglo[0]]={}\n",
    "    elif   len(arreglo)==5 and arreglo[4]==\"COLOMBIA\":\n",
    "        colombiaAirports[arreglo[0]]={}\n",
    "        #print(arreglo)\n",
    "    #if i>10:\n",
    "        #break\n",
    "    #print(l)\n",
    "    #i+=1"
   ]
  },
  {
   "cell_type": "code",
   "execution_count": 8,
   "metadata": {},
   "outputs": [
    {
     "name": "stdout",
     "output_type": "stream",
     "text": [
      "Colombia Airports: 146\n"
     ]
    }
   ],
   "source": [
    "print(\"Colombia Airports: \" + str(len(colombiaAirports)))"
   ]
  },
  {
   "cell_type": "code",
   "execution_count": 9,
   "metadata": {},
   "outputs": [
    {
     "name": "stdout",
     "output_type": "stream",
     "text": [
      "{'ACL': {}, 'ACM': {}, 'ACR': {}, 'ARO': {}, 'ARQ': {}, 'AYA': {}, 'AYC': {}, 'AYG': {}, 'AZT': {}, 'BAC': {}, 'CCO': {}, 'CJD': {}, 'CPB': {}, 'CQT': {}, 'CRC': {}, 'CUI': {}, 'DZI': {}, 'ECR': {}, 'ELJ': {}, 'EUO': {}, 'GCA': {}, 'GGL': {}, 'HDA': {}, 'HRR': {}, 'ISD': {}, 'IVO': {}, 'LCR': {}, 'LGZ': {}, 'LMC': {}, 'LMX': {}, 'LPE': {}, 'LQM': {}, 'LRI': {}, 'MGH': {}, 'MMP': {}, 'MND': {}, 'MOY': {}, 'MQR': {}, 'MTB': {}, 'NAR': {}, 'NPU': {}, 'NUH': {}, 'PBE': {}, 'PCC': {}, 'PDA': {}, 'PLA': {}, 'PLC': {}, 'PRE': {}, 'RON': {}, 'RVE': {}, 'SCA': {}, 'SJG': {}, 'SJH': {}, 'SJM': {}, 'SJR': {}, 'ACD': {}, 'GRA': {}, 'AFI': {}, 'API': {}, 'AXM': {}, 'PUU': {}, 'ELB': {}, 'BGA': {}, 'BOG': {}, 'BAQ': {}, 'BSC': {}, 'BUN': {}, 'CUC': {}, 'COG': {}, 'CTG': {}, 'CLO': {}, 'CIM': {}, 'RAV': {}, 'TCO': {}, 'CUO': {}, 'CAQ': {}, 'CVE': {}, 'CZU': {}, 'EBG': {}, 'EJA': {}, 'FLA': {}, 'FDA': {}, 'LGT': {}, 'GIR': {}, 'SQB': {}, 'GPI': {}, 'CPL': {}, 'HTZ': {}, 'IBE': {}, 'IGO': {}, 'IPI': {}, 'APO': {}, 'LET': {}, 'MDE': {}, 'MGN': {}, 'MCJ': {}, 'MTR': {}, 'MVP': {}, 'MZL': {}, 'NCI': {}, 'NQU': {}, 'NVA': {}, 'OCV': {}, 'ORC': {}, 'OTU': {}, 'PCR': {}, 'LPD': {}, 'PEI': {}, 'PTX': {}, 'PLT': {}, 'PPN': {}, 'PAL': {}, 'PSO': {}, 'PVA': {}, 'PZA': {}, 'MQU': {}, 'MFS': {}, 'RCH': {}, 'SJE': {}, 'SMR': {}, 'ADZ': {}, 'SVI': {}, 'TAU': {}, 'TDA': {}, 'TLU': {}, 'TME': {}, 'TRB': {}, 'AUC': {}, 'UIB': {}, 'ULQ': {}, 'VUP': {}, 'VVC': {}, 'EYP': {}, 'SMC': {}, 'SNT': {}, 'SOH': {}, 'SOX': {}, 'SQE': {}, 'SRO': {}, 'SRS': {}, 'TQS': {}, 'TTM': {}, 'ULS': {}, 'UNC': {}, 'URI': {}, 'URR': {}}\n"
     ]
    }
   ],
   "source": [
    "print(colombiaAirports)"
   ]
  },
  {
   "cell_type": "markdown",
   "metadata": {},
   "source": [
    "## Centrality of airports in Colombia"
   ]
  },
  {
   "cell_type": "code",
   "execution_count": 10,
   "metadata": {},
   "outputs": [],
   "source": [
    "nodes_c = nx.degree_centrality(G)"
   ]
  },
  {
   "cell_type": "code",
   "execution_count": 11,
   "metadata": {},
   "outputs": [
    {
     "name": "stdout",
     "output_type": "stream",
     "text": [
      "('BOG_Bogota', 0.013547138512579486)\n",
      "('BAQ_Barranquilla', 0.0033176665745092617)\n",
      "('CLO_Cali', 0.004700027647221454)\n",
      "('CTG_Cartagena', 0.0035941387890517005)\n",
      "('MDE_Medellin', 0.006358860934476085)\n",
      "('ADZ_San_Andres_Island', 0.0016588332872546309)\n",
      "('AUC_Arauca', 0.0002764722145424385)\n",
      "('AXM_Armenia', 0.000552944429084877)\n",
      "('BGA_Bucaramanga', 0.0016588332872546309)\n",
      "('CUC_Cucuta', 0.0008294166436273154)\n",
      "('EJA_Barrancabermeja', 0.0002764722145424385)\n",
      "('EYP_El_Yopal', 0.0002764722145424385)\n",
      "('IBE_Ibague', 0.0016588332872546309)\n",
      "('LET_Leticia', 0.0002764722145424385)\n",
      "('MTR_Monteria', 0.0013823610727121925)\n",
      "('MZL_Manizales', 0.0008294166436273154)\n",
      "('NVA_Neiva', 0.0013823610727121925)\n",
      "('PEI_Pereira', 0.001105888858169754)\n",
      "('PPN_Popayan', 0.000552944429084877)\n",
      "('PSO_Pasto', 0.000552944429084877)\n",
      "('RCH_Riohacha', 0.001105888858169754)\n",
      "('SMR_Santa_Marta', 0.0016588332872546309)\n",
      "('UIB_Quibdo', 0.0008294166436273154)\n",
      "('VVC_Villavicencio', 0.0002764722145424385)\n",
      "('VUP_Valledupar', 0.001105888858169754)\n",
      "('MGH_Margate', 0.0002764722145424385)\n",
      "('BUN_Buenaventura', 0.0002764722145424385)\n",
      "('GPI_Guapi', 0.0002764722145424385)\n",
      "('IPI_Ipiales', 0.000552944429084877)\n",
      "('TCO_Tumaco', 0.0002764722145424385)\n",
      "('CZU_Corozal_(CO)', 0.000552944429084877)\n",
      "('MGN_Magangue', 0.0008294166436273154)\n",
      "('MMP_Mompos', 0.000552944429084877)\n",
      "('APO_Apartado', 0.000552944429084877)\n",
      "('CAQ_Caucasia', 0.0002764722145424385)\n",
      "('CPB_Capurgana', 0.0002764722145424385)\n",
      "('NQU_Nuqui', 0.0002764722145424385)\n",
      "('PBE_Puerto_Berrio', 0.0002764722145424385)\n",
      "('FLA_Florencia', 0.0002764722145424385)\n",
      "('PUU_Puerto_Asis', 0.000552944429084877)\n",
      "('MCJ_Maicao', 0.0002764722145424385)\n",
      "('BSC_Bahia_Solano', 0.0002764722145424385)\n"
     ]
    }
   ],
   "source": [
    "for e in nodes_c:\n",
    "    #print(e)\n",
    "    if e[:3] in colombiaAirports:\n",
    "        print((e, nodes_c[e]))     "
   ]
  },
  {
   "cell_type": "markdown",
   "metadata": {},
   "source": [
    "## South American Airports"
   ]
  },
  {
   "cell_type": "code",
   "execution_count": 12,
   "metadata": {},
   "outputs": [],
   "source": [
    "southAmCts={'argentina':{}, 'bolivia':{}, 'brazil':{}, 'chile':{}, 'colombia':{}, 'ecuador':{}, 'guyana':{}, 'paraguay':{}, 'peru':{}, 'suriname':{}, 'uruguay':{}, 'venezuela':{}}\n",
    "southAmAirp={}"
   ]
  },
  {
   "cell_type": "code",
   "execution_count": 13,
   "metadata": {},
   "outputs": [],
   "source": [
    "f = open('airport_coor.txt')\n",
    "for l in f:\n",
    "    arreglo = l.split()\n",
    "    if len(arreglo)>5 and arreglo[5].lower() in southAmCts:\n",
    "        #print(arreglo)\n",
    "        southAmAirp[arreglo[0]]={}\n",
    "    elif   len(arreglo)==5 and arreglo[4].lower() in southAmCts:\n",
    "        southAmAirp[arreglo[0]]={}\n",
    "        #print(arreglo)"
   ]
  },
  {
   "cell_type": "code",
   "execution_count": 14,
   "metadata": {},
   "outputs": [
    {
     "name": "stdout",
     "output_type": "stream",
     "text": [
      "South American Airports: 788\n"
     ]
    }
   ],
   "source": [
    "print(\"South American Airports: \" + str(len(southAmAirp)))"
   ]
  },
  {
   "cell_type": "markdown",
   "metadata": {},
   "source": [
    "## Graph visualization"
   ]
  },
  {
   "cell_type": "code",
   "execution_count": 15,
   "metadata": {},
   "outputs": [
    {
     "data": {
      "image/png": "[encoded data removed]",
      "text/plain": [
       "<Figure size 432x288 with 1 Axes>"
      ]
     },
     "metadata": {},
     "output_type": "display_data"
    }
   ],
   "source": [
    " nx.draw(G)"
   ]
  },
  {
   "cell_type": "markdown",
   "metadata": {},
   "source": [
    "### Copy of graphs"
   ]
  },
  {
   "cell_type": "code",
   "execution_count": 16,
   "metadata": {},
   "outputs": [],
   "source": [
    "GColombia  = G.copy()"
   ]
  },
  {
   "cell_type": "code",
   "execution_count": 21,
   "metadata": {},
   "outputs": [
    {
     "name": "stdout",
     "output_type": "stream",
     "text": [
      "#nodes:  3618\n",
      "#edges:  14142\n",
      "#nodes:  3618\n",
      "#edges:  14142\n"
     ]
    }
   ],
   "source": [
    "print(\"#nodes: \",len(G.nodes()))\n",
    "print(\"#edges: \",len(G.edges()))\n",
    "print(\"#nodes: \",len(GColombia.nodes()))\n",
    "print(\"#edges: \",len(GColombia.edges()))"
   ]
  },
  {
   "cell_type": "markdown",
   "metadata": {},
   "source": [
    "### Airports  of colombia graph"
   ]
  },
  {
   "cell_type": "code",
   "execution_count": 24,
   "metadata": {},
   "outputs": [],
   "source": [
    "nodesRm=[]\n",
    "for n in GColombia:\n",
    "    if n[:3] not in colombiaAirports:\n",
    "        nodesRm.append(n)\n",
    "#GColombia.remove_nodes_from(nodesRm)"
   ]
  },
  {
   "cell_type": "code",
   "execution_count": 25,
   "metadata": {},
   "outputs": [
    {
     "name": "stdout",
     "output_type": "stream",
     "text": [
      "3576\n"
     ]
    }
   ],
   "source": [
    "print(len(nodesRm))"
   ]
  },
  {
   "cell_type": "code",
   "execution_count": 26,
   "metadata": {},
   "outputs": [],
   "source": [
    "GColombia.remove_nodes_from(nodesRm)"
   ]
  },
  {
   "cell_type": "code",
   "execution_count": 27,
   "metadata": {},
   "outputs": [
    {
     "data": {
      "image/png": "[encoded data removed]",
      "text/plain": [
       "<Figure size 432x288 with 1 Axes>"
      ]
     },
     "metadata": {},
     "output_type": "display_data"
    }
   ],
   "source": [
    "nx.draw(GColombia)"
   ]
  },
  {
   "cell_type": "code",
   "execution_count": 28,
   "metadata": {},
   "outputs": [
    {
     "name": "stdout",
     "output_type": "stream",
     "text": [
      "#nodes:  42\n",
      "#edges:  83\n"
     ]
    }
   ],
   "source": [
    "print(\"#nodes: \",len(GColombia.nodes()))\n",
    "print(\"#edges: \",len(GColombia.edges()))"
   ]
  },
  {
   "cell_type": "code",
   "execution_count": 29,
   "metadata": {},
   "outputs": [
    {
     "name": "stdout",
     "output_type": "stream",
     "text": [
      "('BOG_Bogota', 0.5853658536585367)\n",
      "('BAQ_Barranquilla', 0.21951219512195122)\n",
      "('CLO_Cali', 0.36585365853658536)\n",
      "('CTG_Cartagena', 0.2682926829268293)\n",
      "('MDE_Medellin', 0.4634146341463415)\n",
      "('ADZ_San_Andres_Island', 0.12195121951219512)\n",
      "('AUC_Arauca', 0.024390243902439025)\n",
      "('AXM_Armenia', 0.04878048780487805)\n",
      "('BGA_Bucaramanga', 0.14634146341463417)\n",
      "('CUC_Cucuta', 0.07317073170731708)\n",
      "('EJA_Barrancabermeja', 0.024390243902439025)\n",
      "('EYP_El_Yopal', 0.024390243902439025)\n",
      "('IBE_Ibague', 0.14634146341463417)\n",
      "('LET_Leticia', 0.024390243902439025)\n",
      "('MTR_Monteria', 0.12195121951219512)\n",
      "('MZL_Manizales', 0.07317073170731708)\n",
      "('NVA_Neiva', 0.12195121951219512)\n",
      "('PEI_Pereira', 0.0975609756097561)\n",
      "('PPN_Popayan', 0.04878048780487805)\n",
      "('PSO_Pasto', 0.04878048780487805)\n",
      "('RCH_Riohacha', 0.0975609756097561)\n",
      "('SMR_Santa_Marta', 0.14634146341463417)\n",
      "('UIB_Quibdo', 0.07317073170731708)\n",
      "('VVC_Villavicencio', 0.024390243902439025)\n",
      "('VUP_Valledupar', 0.0975609756097561)\n",
      "('MGH_Margate', 0.0)\n",
      "('BUN_Buenaventura', 0.024390243902439025)\n",
      "('GPI_Guapi', 0.024390243902439025)\n",
      "('IPI_Ipiales', 0.04878048780487805)\n",
      "('TCO_Tumaco', 0.024390243902439025)\n",
      "('CZU_Corozal_(CO)', 0.04878048780487805)\n",
      "('MGN_Magangue', 0.07317073170731708)\n",
      "('MMP_Mompos', 0.04878048780487805)\n",
      "('APO_Apartado', 0.04878048780487805)\n",
      "('CAQ_Caucasia', 0.024390243902439025)\n",
      "('CPB_Capurgana', 0.024390243902439025)\n",
      "('NQU_Nuqui', 0.024390243902439025)\n",
      "('PBE_Puerto_Berrio', 0.024390243902439025)\n",
      "('FLA_Florencia', 0.024390243902439025)\n",
      "('PUU_Puerto_Asis', 0.04878048780487805)\n",
      "('MCJ_Maicao', 0.024390243902439025)\n",
      "('BSC_Bahia_Solano', 0.024390243902439025)\n"
     ]
    }
   ],
   "source": [
    "nodes_c = nx.degree_centrality(GColombia)\n",
    "for e in nodes_c:\n",
    "    print((e, nodes_c[e]))     "
   ]
  },
  {
   "cell_type": "markdown",
   "metadata": {},
   "source": [
    "### Airports of south america graph"
   ]
  },
  {
   "cell_type": "code",
   "execution_count": 30,
   "metadata": {},
   "outputs": [],
   "source": [
    "GSouthA  = G.copy()"
   ]
  },
  {
   "cell_type": "code",
   "execution_count": 31,
   "metadata": {},
   "outputs": [
    {
     "name": "stdout",
     "output_type": "stream",
     "text": [
      "#nodes:  3618\n",
      "#edges:  14142\n"
     ]
    }
   ],
   "source": [
    "print(\"#nodes: \",len(GSouthA.nodes()))\n",
    "print(\"#edges: \",len(GSouthA.edges()))"
   ]
  },
  {
   "cell_type": "code",
   "execution_count": 32,
   "metadata": {},
   "outputs": [],
   "source": [
    "nodesRmSA=[]\n",
    "for n in GSouthA:\n",
    "    if n[:3] not in southAmAirp:\n",
    "        nodesRmSA.append(n)\n",
    "#GColombia.remove_nodes_from(nodesRm)"
   ]
  },
  {
   "cell_type": "code",
   "execution_count": 33,
   "metadata": {},
   "outputs": [
    {
     "name": "stdout",
     "output_type": "stream",
     "text": [
      "3339\n"
     ]
    }
   ],
   "source": [
    "print(len(nodesRmSA))"
   ]
  },
  {
   "cell_type": "code",
   "execution_count": 34,
   "metadata": {},
   "outputs": [],
   "source": [
    "GSouthA.remove_nodes_from(nodesRmSA)"
   ]
  },
  {
   "cell_type": "code",
   "execution_count": 35,
   "metadata": {},
   "outputs": [
    {
     "data": {
      "image/png": "[encoded data removed]",
      "text/plain": [
       "<Figure size 432x288 with 1 Axes>"
      ]
     },
     "metadata": {},
     "output_type": "display_data"
    }
   ],
   "source": [
    "nx.draw(GSouthA)"
   ]
  },
  {
   "cell_type": "code",
   "execution_count": 36,
   "metadata": {},
   "outputs": [
    {
     "name": "stdout",
     "output_type": "stream",
     "text": [
      "#nodes:  279\n",
      "#edges:  626\n"
     ]
    }
   ],
   "source": [
    "print(\"#nodes: \",len(GSouthA.nodes()))\n",
    "print(\"#edges: \",len(GSouthA.edges()))"
   ]
  },
  {
   "cell_type": "code",
   "execution_count": 37,
   "metadata": {},
   "outputs": [],
   "source": [
    "nx.write_gexf(GSouthA, \"test.gexf\")"
   ]
  },
  {
   "cell_type": "code",
   "execution_count": 45,
   "metadata": {},
   "outputs": [],
   "source": [
    "communities_generator = community.girvan_newman(GSouthA)"
   ]
  },
  {
   "cell_type": "code",
   "execution_count": 47,
   "metadata": {},
   "outputs": [],
   "source": [
    "top_level_communities = next(communities_generator)"
   ]
  },
  {
   "cell_type": "code",
   "execution_count": 48,
   "metadata": {},
   "outputs": [
    {
     "name": "stdout",
     "output_type": "stream",
     "text": [
      "12\n"
     ]
    }
   ],
   "source": [
    "print(len(top_level_communities))"
   ]
  },
  {
   "cell_type": "code",
   "execution_count": 60,
   "metadata": {},
   "outputs": [],
   "source": [
    "#for c in top_level_communities:\n",
    "    #print(c)"
   ]
  },
  {
   "cell_type": "code",
   "execution_count": 51,
   "metadata": {},
   "outputs": [],
   "source": [
    "next_level_communities = next(communities_generator)"
   ]
  },
  {
   "cell_type": "code",
   "execution_count": 54,
   "metadata": {},
   "outputs": [
    {
     "name": "stdout",
     "output_type": "stream",
     "text": [
      "13\n"
     ]
    }
   ],
   "source": [
    "print(len(next_level_communities))"
   ]
  },
  {
   "cell_type": "code",
   "execution_count": 59,
   "metadata": {},
   "outputs": [],
   "source": [
    "#for c in next_level_communities:\n",
    "    #print(c)"
   ]
  },
  {
   "cell_type": "code",
   "execution_count": 55,
   "metadata": {},
   "outputs": [],
   "source": [
    "third_level_communities = next(communities_generator)"
   ]
  },
  {
   "cell_type": "code",
   "execution_count": 56,
   "metadata": {},
   "outputs": [
    {
     "name": "stdout",
     "output_type": "stream",
     "text": [
      "14\n"
     ]
    }
   ],
   "source": [
    "print(len(third_level_communities))"
   ]
  },
  {
   "cell_type": "code",
   "execution_count": 61,
   "metadata": {},
   "outputs": [],
   "source": [
    "#for c in third_level_communities:\n",
    "    #print(c)"
   ]
  },
  {
   "cell_type": "code",
   "execution_count": 98,
   "metadata": {},
   "outputs": [],
   "source": [
    "dendrogram = generate_dendrogram(GSouthA)"
   ]
  },
  {
   "cell_type": "code",
   "execution_count": 99,
   "metadata": {},
   "outputs": [
    {
     "name": "stdout",
     "output_type": "stream",
     "text": [
      "Louvain Modularity:  0.6739938143698517\n",
      "Louvain Partition:  {'AAA_Anaa': 0, 'IPC_Easter_Island': 1, 'BUE_Buenos_Aires': 2, 'SCL_Santiago_(CL)': 1, 'SAO_Sao_Paulo': 3, 'SJU_San_Juan_(PR)': 4, 'AFA_San_Rafael': 2, 'AOL_Paso_de_Los_Libres': 2, 'ASU_Asuncion': 2, 'BHI_Bahia_Blanca': 2, 'BOG_Bogota': 4, 'BRC_San_Carlos_de_Bariloche': 2, 'CNQ_Corrientes': 2, 'COC_Concordia': 2, 'COR_Cordoba': 2, 'CPC_San_Martin_de_Los_Andes': 2, 'CRD_Comodoro_Rivadavia': 2, 'CTC_Catamarca': 2, 'FLN_Florianopolis': 3, 'FMA_Formosa': 2, 'GPO_General_Pico': 2, 'IGR_Iguazu': 2, 'IRJ_La_Rioja': 2, 'JUJ_Jujuy': 2, 'LUQ_San_Luis': 2, 'MDQ_Mar_del_Plata': 2, 'MDZ_Mendoza': 2, 'MVD_Montevideo': 2, 'NEC_Necochea': 2, 'NQN_Neuquen': 2, 'PDP_Punta_del_Este': 2, 'PMY_Puerto_Madryn': 2, 'POA_Porto_Alegre': 3, 'PRA_Parana': 2, 'PSS_Posadas': 2, 'RCU_Rio_Cuarto': 2, 'REL_Trelew': 2, 'RES_Resistencia': 2, 'RGA_Rio_Grande_(AR)': 2, 'RGL_Rio_Gallegos': 2, 'RIO_Rio_de_Janeiro': 5, 'ROS_Rosario_(AR)': 2, 'RSA_Santa_Rosa_(AR)': 2, 'SDE_Santiago_del_Estero': 2, 'SFN_Santa_Fe_(AR)': 2, 'SLA_Salta': 2, 'SRZ_Santa_Cruz_(BO)': 6, 'TDL_Tandil': 2, 'TUC_Tucuman': 2, 'UAQ_San_Juan_(AR)': 2, 'USH_Ushuaia': 2, 'VDM_Viedma': 2, 'VME_Villa_Mercedes': 2, 'CBB_Cochabamba': 6, 'EQS_Esquel': 2, 'CCS_Caracas': 4, 'GYE_Guayaquil': 4, 'UIO_Quito': 4, 'GEO_Georgetown_(GY)': 7, 'ANF_Antofagasta': 1, 'CCP_Concepcion_(CL)': 1, 'CPO_Copiapo': 1, 'IQQ_Iquique': 6, 'LSC_La_Serena': 1, 'PMC_Puerto_Montt': 1, 'CJC_Calama': 1, 'LSQ_Los_Angeles_(CL)': 1, 'ZCO_Temuco': 1, 'ZOS_Osorno': 1, 'PBM_Paramaribo': 7, 'LPB_La_Paz_(BO)': 6, 'MAO_Manaus': 8, 'BAQ_Barranquilla': 4, 'BEL_Belem': 5, 'CLO_Cali': 4, 'CTG_Cartagena': 4, 'MAR_Maracaibo': 4, 'MDE_Medellin': 4, 'REC_Recife': 5, 'VLN_Valencia_(VE)': 4, 'FOR_Fortaleza': 5, 'SSA_Salvador': 5, 'AGT_Ciudad_del_Este': 2, 'ARU_Aracatuba': 3, 'BAU_Bauru': 3, 'BHZ_Belo_Horizonte': 3, 'BPS_Porto_Seguro': 5, 'BSB_Brasilia': 5, 'CCM_Criciuma': 3, 'CGB_Cuiaba': 3, 'CGR_Campo_Grande': 3, 'CPQ_Campinas': 3, 'CWB_Curitiba': 3, 'CXJ_Caxias_do_Sul': 3, 'FRC_Franca': 3, 'GVR_Governador_Valadares': 3, 'GYN_Goiania': 3, 'IGU_Iguassu_Falls': 3, 'IOS_Ilheus': 3, 'IPN_Ipatinga': 3, 'JDF_Juiz_de_Fora': 3, 'JOI_Joinville': 3, 'LAJ_Lages': 3, 'LDB_Londrina': 3, 'MCZ_Maceio': 5, 'MGF_Maringa': 3, 'MII_Marilia': 3, 'NAT_Natal': 5, 'NVT_Navegantes': 3, 'PPB_President_Prudente': 3, 'PVH_Porto_Velho': 8, 'RAO_Ribeirao_Preto': 3, 'SJK_Sao_Jose_Dos_Campos': 3, 'SJP_Sao_Jose_do_Rio_Preto': 3, 'SOD_Sorocaba': 3, 'TOW_Toledo_(BR)': 3, 'UBA_Uberaba': 3, 'UDI_Uberlandia': 3, 'VAG_Varginha': 3, 'VIX_Vitoria_(BR)': 5, 'XAP_Chapeco': 3, 'NAV_Nevsehir': 9, 'COQ_Choibalsan': 10, 'SDG_Sanandaj': 11, 'BLA_Barcelona_(VE)': 4, 'BRM_Barquisimeto': 4, 'LSP_Las_Piedras': 4, 'ADZ_San_Andres_Island': 4, 'AUC_Arauca': 4, 'AXM_Armenia': 4, 'BGA_Bucaramanga': 4, 'CUC_Cucuta': 4, 'EJA_Barrancabermeja': 4, 'EYP_El_Yopal': 4, 'IBE_Ibague': 4, 'LET_Leticia': 4, 'MTR_Monteria': 4, 'MZL_Manizales': 4, 'NVA_Neiva': 4, 'PEI_Pereira': 4, 'PPN_Popayan': 4, 'PSO_Pasto': 4, 'RCH_Riohacha': 4, 'SMR_Santa_Marta': 4, 'UIB_Quibdo': 4, 'VVC_Villavicencio': 4, 'VUP_Valledupar': 4, 'EHL_El_Bolson': 2, 'PMQ_Perito_Moreno': 2, 'PUD_Puerto_Deseado': 2, 'ROY_Rio_Mayo': 2, 'MGH_Margate': 12, 'LGS_Malargue': 2, 'OES_San_Antonio_Oeste': 2, 'GEL_Santo_Angelo': 3, 'PET_Pelotas': 3, 'PFB_Passo_Fundo': 3, 'RIA_Santa_Maria_(BR)': 3, 'RIG_Rio_Grande_(BR)': 3, 'OYA_Goya': 2, 'PRQ_President_Roque_Saenz_Pena': 2, 'RCQ_Reconquista': 2, 'ING_Lago_Argentino': 2, 'RYO_Rio_Turbio': 2, 'RZA_Santa_Cruz_(AR)': 2, 'AJU_Aracaju': 5, 'CAW_Campos': 5, 'TJA_Tarija': 6, 'BYC_Yacuiba': 6, 'PSZ_Puerto_Suarez': 6, 'SRE_Sucre': 6, 'TDD_Trinidad': 6, 'OYO_Tres_Arroyos': 2, 'EMX_El_Maiten': 2, 'TIM_Tembagapura': 13, 'BNS_Barinas': 4, 'CAJ_Canaima': 4, 'CBL_Ciudad_Bolivar': 4, 'CUM_Cumana': 4, 'CUP_Carupano': 4, 'CZE_Coro': 4, 'LRV_Los_Roques': 4, 'MRD_Merida_(VE)': 4, 'MUN_Maturin': 4, 'PMV_Porlamar': 4, 'PYH_Puerto_Ayacucho': 4, 'PZO_Puerto_Ordaz': 4, 'SFD_San_Fernando_de_Apure': 4, 'SOM_San_Tome': 4, 'SVZ_San_Antonio_(VE)': 4, 'VIG_El_Vigia': 4, 'VLV_Valera': 4, 'PUQ_Punta_Arenas': 1, 'ZAL_Valdivia': 1, 'ESR_El_Salvador': 1, 'ARI_Arica': 6, 'BBA_Balmaceda': 1, 'SIC_Sinop_(TR)': 14, 'CIJ_Cobija': 6, 'BVB_Boa_Vista_(BR)': 4, 'LBR_Labrea': 8, 'PIN_Parintins': 8, 'RBR_Rio_Branco': 8, 'STM_Santarem': 8, 'TBT_Tabatinga': 8, 'TFF_Tefe': 8, 'TMT_Trombetas': 8, 'ATM_Altamira': 5, 'BVS_Breves': 5, 'IMP_Imperatriz': 5, 'MAB_Maraba': 5, 'MCP_Macapa': 5, 'MEU_Monte_Dourado': 5, 'SLZ_Sao_Luiz': 5, 'THE_Teresina': 5, 'TUR_Tucurui': 5, 'BUN_Buenaventura': 4, 'GPI_Guapi': 4, 'IPI_Ipiales': 4, 'TCO_Tumaco': 4, 'CZU_Corozal_(CO)': 4, 'MGN_Magangue': 4, 'MMP_Mompos': 4, 'STB_Santa_Barbara_Zulia': 4, 'APO_Apartado': 4, 'CAQ_Caucasia': 4, 'CPB_Capurgana': 4, 'NQU_Nuqui': 4, 'PBE_Puerto_Berrio': 4, 'CPV_Campina_Grande': 5, 'FEN_Fernando_de_Noronha': 5, 'JPA_Joao_Pessoa': 5, 'PNZ_Petrolina': 5, 'JDO_Juazeiro_do_Norte': 5, 'PHB_Parnaiba': 5, 'BRA_Barreiras': 5, 'VDC_Vitoria_Da_Conquista': 3, 'MOC_Montes_Claros': 3, 'CKS_Carajas': 5, 'PMW_Palmas': 5, 'BVH_Vilhena': 3, 'JIA_Juina': 3, 'OPS_Sinop_(BR)': 8, 'CMG_Corumba': 3, 'GPB_Guarapuava': 3, 'MVS_Mucuri': 3, 'GJM_Guajara-Mirim': 8, 'PTO_Pato_Branco': 3, 'FLA_Florencia': 4, 'PUU_Puerto_Asis': 4, 'MCJ_Maicao': 4, 'BSC_Bahia_Solano': 4, 'GGS_Gobernador_Gregores': 2, 'ARR_Alto_Rio_Senguerr': 2, 'URG_Uruguaiana': 3, 'GYA_Guayaramerin': 6, 'MGD_Magdalena': 6, 'RIB_Riberalta': 6, 'SJB_San_Joaquin': 6, 'SNV_Santa_Elena': 4, 'GUI_Guiria': 4, 'TUV_Tucupita': 4, 'MYC_Maracay': 4, 'ITB_Itaituba': 8, 'CZS_Cruzeiro_do_Sul': 8, 'TRQ_Tarauaca': 8, 'OBI_Obidos': 8, 'SJL_Sao_Gabriel': 8, 'PTQ_Porto_de_Moz': 5, 'OYK_Oiapoque': 5, 'AUX_Araguaina': 5, 'JPR_Ji-Parana': 3, 'AIR_Aripuana': 3, 'AFL_Alta_Floresta': 8, 'MBK_Matupa': 8, 'CQS_Costa_Marques': 8, 'ARP_Aragip': 15, 'JCR_Jacareacanga': 8, 'ORX_Oriximina': 8}\n"
     ]
    }
   ],
   "source": [
    "partition = best_partition(GSouthA)\n",
    "print (\"Louvain Modularity: \", modularity(partition, GSouthA))\n",
    "print (\"Louvain Partition: \", partition)\n"
   ]
  },
  {
   "cell_type": "code",
   "execution_count": 100,
   "metadata": {},
   "outputs": [],
   "source": [
    "arreglo1 = sorted(partition.items(), key=lambda x: x[1])"
   ]
  },
  {
   "cell_type": "code",
   "execution_count": 101,
   "metadata": {},
   "outputs": [
    {
     "name": "stdout",
     "output_type": "stream",
     "text": [
      "[('AAA_Anaa', 0), ('IPC_Easter_Island', 1), ('SCL_Santiago_(CL)', 1), ('ANF_Antofagasta', 1), ('CCP_Concepcion_(CL)', 1), ('CPO_Copiapo', 1), ('LSC_La_Serena', 1), ('PMC_Puerto_Montt', 1), ('CJC_Calama', 1), ('LSQ_Los_Angeles_(CL)', 1), ('ZCO_Temuco', 1), ('ZOS_Osorno', 1), ('PUQ_Punta_Arenas', 1), ('ZAL_Valdivia', 1), ('ESR_El_Salvador', 1), ('BBA_Balmaceda', 1), ('BUE_Buenos_Aires', 2), ('AFA_San_Rafael', 2), ('AOL_Paso_de_Los_Libres', 2), ('ASU_Asuncion', 2), ('BHI_Bahia_Blanca', 2), ('BRC_San_Carlos_de_Bariloche', 2), ('CNQ_Corrientes', 2), ('COC_Concordia', 2), ('COR_Cordoba', 2), ('CPC_San_Martin_de_Los_Andes', 2), ('CRD_Comodoro_Rivadavia', 2), ('CTC_Catamarca', 2), ('FMA_Formosa', 2), ('GPO_General_Pico', 2), ('IGR_Iguazu', 2), ('IRJ_La_Rioja', 2), ('JUJ_Jujuy', 2), ('LUQ_San_Luis', 2), ('MDQ_Mar_del_Plata', 2), ('MDZ_Mendoza', 2), ('MVD_Montevideo', 2), ('NEC_Necochea', 2), ('NQN_Neuquen', 2), ('PDP_Punta_del_Este', 2), ('PMY_Puerto_Madryn', 2), ('PRA_Parana', 2), ('PSS_Posadas', 2), ('RCU_Rio_Cuarto', 2), ('REL_Trelew', 2), ('RES_Resistencia', 2), ('RGA_Rio_Grande_(AR)', 2), ('RGL_Rio_Gallegos', 2), ('ROS_Rosario_(AR)', 2), ('RSA_Santa_Rosa_(AR)', 2), ('SDE_Santiago_del_Estero', 2), ('SFN_Santa_Fe_(AR)', 2), ('SLA_Salta', 2), ('TDL_Tandil', 2), ('TUC_Tucuman', 2), ('UAQ_San_Juan_(AR)', 2), ('USH_Ushuaia', 2), ('VDM_Viedma', 2), ('VME_Villa_Mercedes', 2), ('EQS_Esquel', 2), ('AGT_Ciudad_del_Este', 2), ('EHL_El_Bolson', 2), ('PMQ_Perito_Moreno', 2), ('PUD_Puerto_Deseado', 2), ('ROY_Rio_Mayo', 2), ('LGS_Malargue', 2), ('OES_San_Antonio_Oeste', 2), ('OYA_Goya', 2), ('PRQ_President_Roque_Saenz_Pena', 2), ('RCQ_Reconquista', 2), ('ING_Lago_Argentino', 2), ('RYO_Rio_Turbio', 2), ('RZA_Santa_Cruz_(AR)', 2), ('OYO_Tres_Arroyos', 2), ('EMX_El_Maiten', 2), ('GGS_Gobernador_Gregores', 2), ('ARR_Alto_Rio_Senguerr', 2), ('SAO_Sao_Paulo', 3), ('FLN_Florianopolis', 3), ('POA_Porto_Alegre', 3), ('ARU_Aracatuba', 3), ('BAU_Bauru', 3), ('BHZ_Belo_Horizonte', 3), ('CCM_Criciuma', 3), ('CGB_Cuiaba', 3), ('CGR_Campo_Grande', 3), ('CPQ_Campinas', 3), ('CWB_Curitiba', 3), ('CXJ_Caxias_do_Sul', 3), ('FRC_Franca', 3), ('GVR_Governador_Valadares', 3), ('GYN_Goiania', 3), ('IGU_Iguassu_Falls', 3), ('IOS_Ilheus', 3), ('IPN_Ipatinga', 3), ('JDF_Juiz_de_Fora', 3), ('JOI_Joinville', 3), ('LAJ_Lages', 3), ('LDB_Londrina', 3), ('MGF_Maringa', 3), ('MII_Marilia', 3), ('NVT_Navegantes', 3), ('PPB_President_Prudente', 3), ('RAO_Ribeirao_Preto', 3), ('SJK_Sao_Jose_Dos_Campos', 3), ('SJP_Sao_Jose_do_Rio_Preto', 3), ('SOD_Sorocaba', 3), ('TOW_Toledo_(BR)', 3), ('UBA_Uberaba', 3), ('UDI_Uberlandia', 3), ('VAG_Varginha', 3), ('XAP_Chapeco', 3), ('GEL_Santo_Angelo', 3), ('PET_Pelotas', 3), ('PFB_Passo_Fundo', 3), ('RIA_Santa_Maria_(BR)', 3), ('RIG_Rio_Grande_(BR)', 3), ('VDC_Vitoria_Da_Conquista', 3), ('MOC_Montes_Claros', 3), ('BVH_Vilhena', 3), ('JIA_Juina', 3), ('CMG_Corumba', 3), ('GPB_Guarapuava', 3), ('MVS_Mucuri', 3), ('PTO_Pato_Branco', 3), ('URG_Uruguaiana', 3), ('JPR_Ji-Parana', 3), ('AIR_Aripuana', 3), ('SJU_San_Juan_(PR)', 4), ('BOG_Bogota', 4), ('CCS_Caracas', 4), ('GYE_Guayaquil', 4), ('UIO_Quito', 4), ('BAQ_Barranquilla', 4), ('CLO_Cali', 4), ('CTG_Cartagena', 4), ('MAR_Maracaibo', 4), ('MDE_Medellin', 4), ('VLN_Valencia_(VE)', 4), ('BLA_Barcelona_(VE)', 4), ('BRM_Barquisimeto', 4), ('LSP_Las_Piedras', 4), ('ADZ_San_Andres_Island', 4), ('AUC_Arauca', 4), ('AXM_Armenia', 4), ('BGA_Bucaramanga', 4), ('CUC_Cucuta', 4), ('EJA_Barrancabermeja', 4), ('EYP_El_Yopal', 4), ('IBE_Ibague', 4), ('LET_Leticia', 4), ('MTR_Monteria', 4), ('MZL_Manizales', 4), ('NVA_Neiva', 4), ('PEI_Pereira', 4), ('PPN_Popayan', 4), ('PSO_Pasto', 4), ('RCH_Riohacha', 4), ('SMR_Santa_Marta', 4), ('UIB_Quibdo', 4), ('VVC_Villavicencio', 4), ('VUP_Valledupar', 4), ('BNS_Barinas', 4), ('CAJ_Canaima', 4), ('CBL_Ciudad_Bolivar', 4), ('CUM_Cumana', 4), ('CUP_Carupano', 4), ('CZE_Coro', 4), ('LRV_Los_Roques', 4), ('MRD_Merida_(VE)', 4), ('MUN_Maturin', 4), ('PMV_Porlamar', 4), ('PYH_Puerto_Ayacucho', 4), ('PZO_Puerto_Ordaz', 4), ('SFD_San_Fernando_de_Apure', 4), ('SOM_San_Tome', 4), ('SVZ_San_Antonio_(VE)', 4), ('VIG_El_Vigia', 4), ('VLV_Valera', 4), ('BVB_Boa_Vista_(BR)', 4), ('BUN_Buenaventura', 4), ('GPI_Guapi', 4), ('IPI_Ipiales', 4), ('TCO_Tumaco', 4), ('CZU_Corozal_(CO)', 4), ('MGN_Magangue', 4), ('MMP_Mompos', 4), ('STB_Santa_Barbara_Zulia', 4), ('APO_Apartado', 4), ('CAQ_Caucasia', 4), ('CPB_Capurgana', 4), ('NQU_Nuqui', 4), ('PBE_Puerto_Berrio', 4), ('FLA_Florencia', 4), ('PUU_Puerto_Asis', 4), ('MCJ_Maicao', 4), ('BSC_Bahia_Solano', 4), ('SNV_Santa_Elena', 4), ('GUI_Guiria', 4), ('TUV_Tucupita', 4), ('MYC_Maracay', 4), ('RIO_Rio_de_Janeiro', 5), ('BEL_Belem', 5), ('REC_Recife', 5), ('FOR_Fortaleza', 5), ('SSA_Salvador', 5), ('BPS_Porto_Seguro', 5), ('BSB_Brasilia', 5), ('MCZ_Maceio', 5), ('NAT_Natal', 5), ('VIX_Vitoria_(BR)', 5), ('AJU_Aracaju', 5), ('CAW_Campos', 5), ('ATM_Altamira', 5), ('BVS_Breves', 5), ('IMP_Imperatriz', 5), ('MAB_Maraba', 5), ('MCP_Macapa', 5), ('MEU_Monte_Dourado', 5), ('SLZ_Sao_Luiz', 5), ('THE_Teresina', 5), ('TUR_Tucurui', 5), ('CPV_Campina_Grande', 5), ('FEN_Fernando_de_Noronha', 5), ('JPA_Joao_Pessoa', 5), ('PNZ_Petrolina', 5), ('JDO_Juazeiro_do_Norte', 5), ('PHB_Parnaiba', 5), ('BRA_Barreiras', 5), ('CKS_Carajas', 5), ('PMW_Palmas', 5), ('PTQ_Porto_de_Moz', 5), ('OYK_Oiapoque', 5), ('AUX_Araguaina', 5), ('SRZ_Santa_Cruz_(BO)', 6), ('CBB_Cochabamba', 6), ('IQQ_Iquique', 6), ('LPB_La_Paz_(BO)', 6), ('TJA_Tarija', 6), ('BYC_Yacuiba', 6), ('PSZ_Puerto_Suarez', 6), ('SRE_Sucre', 6), ('TDD_Trinidad', 6), ('ARI_Arica', 6), ('CIJ_Cobija', 6), ('GYA_Guayaramerin', 6), ('MGD_Magdalena', 6), ('RIB_Riberalta', 6), ('SJB_San_Joaquin', 6), ('GEO_Georgetown_(GY)', 7), ('PBM_Paramaribo', 7), ('MAO_Manaus', 8), ('PVH_Porto_Velho', 8), ('LBR_Labrea', 8), ('PIN_Parintins', 8), ('RBR_Rio_Branco', 8), ('STM_Santarem', 8), ('TBT_Tabatinga', 8), ('TFF_Tefe', 8), ('TMT_Trombetas', 8), ('OPS_Sinop_(BR)', 8), ('GJM_Guajara-Mirim', 8), ('ITB_Itaituba', 8), ('CZS_Cruzeiro_do_Sul', 8), ('TRQ_Tarauaca', 8), ('OBI_Obidos', 8), ('SJL_Sao_Gabriel', 8), ('AFL_Alta_Floresta', 8), ('MBK_Matupa', 8), ('CQS_Costa_Marques', 8), ('JCR_Jacareacanga', 8), ('ORX_Oriximina', 8), ('NAV_Nevsehir', 9), ('COQ_Choibalsan', 10), ('SDG_Sanandaj', 11), ('MGH_Margate', 12), ('TIM_Tembagapura', 13), ('SIC_Sinop_(TR)', 14), ('ARP_Aragip', 15)]\n"
     ]
    }
   ],
   "source": [
    "print(arreglo1)"
   ]
  },
  {
   "cell_type": "code",
   "execution_count": 68,
   "metadata": {},
   "outputs": [
    {
     "name": "stdout",
     "output_type": "stream",
     "text": [
      "279\n"
     ]
    }
   ],
   "source": [
    "print(len(partition))"
   ]
  },
  {
   "cell_type": "code",
   "execution_count": 103,
   "metadata": {},
   "outputs": [],
   "source": [
    "iG = induced_graph(partition, GSouthA)"
   ]
  },
  {
   "cell_type": "code",
   "execution_count": 107,
   "metadata": {},
   "outputs": [
    {
     "name": "stdout",
     "output_type": "stream",
     "text": [
      "[(1, 1), (1, 2), (1, 4), (1, 6), (1, 3), (2, 2), (2, 4), (2, 3), (2, 5), (2, 6), (3, 3), (3, 4), (3, 5), (3, 8), (3, 6), (4, 4), (4, 6), (4, 8), (5, 5), (5, 8), (6, 6), (6, 8), (7, 7), (8, 8)]\n"
     ]
    }
   ],
   "source": [
    "print(iG.edges())"
   ]
  },
  {
   "cell_type": "code",
   "execution_count": 104,
   "metadata": {},
   "outputs": [
    {
     "data": {
      "image/png": "[encoded data removed]",
      "text/plain": [
       "<Figure size 432x288 with 1 Axes>"
      ]
     },
     "metadata": {},
     "output_type": "display_data"
    }
   ],
   "source": [
    "nx.draw(iG)"
   ]
  },
  {
   "cell_type": "code",
   "execution_count": 76,
   "metadata": {},
   "outputs": [],
   "source": [
    "dendo = generate_dendrogram(G)\n",
    "#for level in range(len(dendo) - 1) :\n",
    "    #print(\"partition at level\", level, \"is\", partition_at_level(dendo, level))"
   ]
  },
  {
   "cell_type": "code",
   "execution_count": 93,
   "metadata": {},
   "outputs": [],
   "source": [
    "di = partition_at_level(dendo, 3)"
   ]
  },
  {
   "cell_type": "code",
   "execution_count": 94,
   "metadata": {},
   "outputs": [],
   "source": [
    "#print(di)\n",
    "arreglo = sorted(di.items(), key=lambda x: x[1])"
   ]
  },
  {
   "cell_type": "code",
   "execution_count": 102,
   "metadata": {},
   "outputs": [],
   "source": [
    "#print(arreglo)"
   ]
  },
  {
   "cell_type": "markdown",
   "metadata": {},
   "source": [
    "## Communities in the general graph"
   ]
  },
  {
   "cell_type": "code",
   "execution_count": 121,
   "metadata": {},
   "outputs": [
    {
     "name": "stdout",
     "output_type": "stream",
     "text": [
      "Louvain Modularity:  0.6835933763209577\n",
      "Louvain Partition:  {'AAA_Anaa': 0, 'IPC_Easter_Island': 1, 'BUE_Buenos_Aires': 2, 'SCL_Santiago_(CL)': 1, 'SAO_Sao_Paulo': 3, 'SJU_San_Juan_(PR)': 4, 'AFA_San_Rafael': 2, 'AOL_Paso_de_Los_Libres': 2, 'ASU_Asuncion': 2, 'BHI_Bahia_Blanca': 2, 'BOG_Bogota': 4, 'BRC_San_Carlos_de_Bariloche': 2, 'CNQ_Corrientes': 2, 'COC_Concordia': 2, 'COR_Cordoba': 2, 'CPC_San_Martin_de_Los_Andes': 2, 'CRD_Comodoro_Rivadavia': 2, 'CTC_Catamarca': 2, 'FLN_Florianopolis': 3, 'FMA_Formosa': 2, 'GPO_General_Pico': 2, 'IGR_Iguazu': 2, 'IRJ_La_Rioja': 2, 'JUJ_Jujuy': 2, 'LUQ_San_Luis': 2, 'MDQ_Mar_del_Plata': 2, 'MDZ_Mendoza': 2, 'MVD_Montevideo': 2, 'NEC_Necochea': 2, 'NQN_Neuquen': 2, 'PDP_Punta_del_Este': 2, 'PMY_Puerto_Madryn': 2, 'POA_Porto_Alegre': 3, 'PRA_Parana': 2, 'PSS_Posadas': 2, 'RCU_Rio_Cuarto': 2, 'REL_Trelew': 2, 'RES_Resistencia': 2, 'RGA_Rio_Grande_(AR)': 2, 'RGL_Rio_Gallegos': 2, 'RIO_Rio_de_Janeiro': 5, 'ROS_Rosario_(AR)': 2, 'RSA_Santa_Rosa_(AR)': 2, 'SDE_Santiago_del_Estero': 2, 'SFN_Santa_Fe_(AR)': 2, 'SLA_Salta': 2, 'SRZ_Santa_Cruz_(BO)': 6, 'TDL_Tandil': 2, 'TUC_Tucuman': 2, 'UAQ_San_Juan_(AR)': 2, 'USH_Ushuaia': 2, 'VDM_Viedma': 2, 'VME_Villa_Mercedes': 2, 'CBB_Cochabamba': 6, 'EQS_Esquel': 2, 'CCS_Caracas': 4, 'GYE_Guayaquil': 4, 'UIO_Quito': 4, 'GEO_Georgetown_(GY)': 7, 'ANF_Antofagasta': 1, 'CCP_Concepcion_(CL)': 1, 'CPO_Copiapo': 1, 'IQQ_Iquique': 6, 'LSC_La_Serena': 1, 'PMC_Puerto_Montt': 1, 'CJC_Calama': 1, 'LSQ_Los_Angeles_(CL)': 1, 'ZCO_Temuco': 1, 'ZOS_Osorno': 1, 'PBM_Paramaribo': 7, 'LPB_La_Paz_(BO)': 6, 'MAO_Manaus': 8, 'BAQ_Barranquilla': 4, 'BEL_Belem': 5, 'CLO_Cali': 4, 'CTG_Cartagena': 4, 'MAR_Maracaibo': 4, 'MDE_Medellin': 4, 'REC_Recife': 5, 'VLN_Valencia_(VE)': 4, 'FOR_Fortaleza': 5, 'SSA_Salvador': 5, 'AGT_Ciudad_del_Este': 2, 'ARU_Aracatuba': 3, 'BAU_Bauru': 3, 'BHZ_Belo_Horizonte': 3, 'BPS_Porto_Seguro': 5, 'BSB_Brasilia': 5, 'CCM_Criciuma': 3, 'CGB_Cuiaba': 3, 'CGR_Campo_Grande': 3, 'CPQ_Campinas': 3, 'CWB_Curitiba': 3, 'CXJ_Caxias_do_Sul': 3, 'FRC_Franca': 3, 'GVR_Governador_Valadares': 3, 'GYN_Goiania': 3, 'IGU_Iguassu_Falls': 3, 'IOS_Ilheus': 3, 'IPN_Ipatinga': 3, 'JDF_Juiz_de_Fora': 3, 'JOI_Joinville': 3, 'LAJ_Lages': 3, 'LDB_Londrina': 3, 'MCZ_Maceio': 5, 'MGF_Maringa': 3, 'MII_Marilia': 3, 'NAT_Natal': 5, 'NVT_Navegantes': 3, 'PPB_President_Prudente': 3, 'PVH_Porto_Velho': 8, 'RAO_Ribeirao_Preto': 3, 'SJK_Sao_Jose_Dos_Campos': 3, 'SJP_Sao_Jose_do_Rio_Preto': 3, 'SOD_Sorocaba': 3, 'TOW_Toledo_(BR)': 3, 'UBA_Uberaba': 3, 'UDI_Uberlandia': 3, 'VAG_Varginha': 3, 'VIX_Vitoria_(BR)': 5, 'XAP_Chapeco': 3, 'NAV_Nevsehir': 9, 'COQ_Choibalsan': 10, 'SDG_Sanandaj': 11, 'BLA_Barcelona_(VE)': 4, 'BRM_Barquisimeto': 4, 'LSP_Las_Piedras': 4, 'ADZ_San_Andres_Island': 4, 'AUC_Arauca': 4, 'AXM_Armenia': 4, 'BGA_Bucaramanga': 4, 'CUC_Cucuta': 4, 'EJA_Barrancabermeja': 4, 'EYP_El_Yopal': 4, 'IBE_Ibague': 4, 'LET_Leticia': 4, 'MTR_Monteria': 4, 'MZL_Manizales': 4, 'NVA_Neiva': 4, 'PEI_Pereira': 4, 'PPN_Popayan': 4, 'PSO_Pasto': 4, 'RCH_Riohacha': 4, 'SMR_Santa_Marta': 4, 'UIB_Quibdo': 4, 'VVC_Villavicencio': 4, 'VUP_Valledupar': 4, 'EHL_El_Bolson': 2, 'PMQ_Perito_Moreno': 2, 'PUD_Puerto_Deseado': 2, 'ROY_Rio_Mayo': 2, 'MGH_Margate': 12, 'LGS_Malargue': 2, 'OES_San_Antonio_Oeste': 2, 'GEL_Santo_Angelo': 3, 'PET_Pelotas': 3, 'PFB_Passo_Fundo': 3, 'RIA_Santa_Maria_(BR)': 3, 'RIG_Rio_Grande_(BR)': 3, 'OYA_Goya': 2, 'PRQ_President_Roque_Saenz_Pena': 2, 'RCQ_Reconquista': 2, 'ING_Lago_Argentino': 2, 'RYO_Rio_Turbio': 2, 'RZA_Santa_Cruz_(AR)': 2, 'AJU_Aracaju': 5, 'CAW_Campos': 5, 'TJA_Tarija': 6, 'BYC_Yacuiba': 6, 'PSZ_Puerto_Suarez': 6, 'SRE_Sucre': 6, 'TDD_Trinidad': 6, 'OYO_Tres_Arroyos': 2, 'EMX_El_Maiten': 2, 'TIM_Tembagapura': 13, 'BNS_Barinas': 4, 'CAJ_Canaima': 4, 'CBL_Ciudad_Bolivar': 4, 'CUM_Cumana': 4, 'CUP_Carupano': 4, 'CZE_Coro': 4, 'LRV_Los_Roques': 4, 'MRD_Merida_(VE)': 4, 'MUN_Maturin': 4, 'PMV_Porlamar': 4, 'PYH_Puerto_Ayacucho': 4, 'PZO_Puerto_Ordaz': 4, 'SFD_San_Fernando_de_Apure': 4, 'SOM_San_Tome': 4, 'SVZ_San_Antonio_(VE)': 4, 'VIG_El_Vigia': 4, 'VLV_Valera': 4, 'PUQ_Punta_Arenas': 1, 'ZAL_Valdivia': 1, 'ESR_El_Salvador': 1, 'ARI_Arica': 6, 'BBA_Balmaceda': 1, 'SIC_Sinop_(TR)': 14, 'CIJ_Cobija': 6, 'BVB_Boa_Vista_(BR)': 4, 'LBR_Labrea': 8, 'PIN_Parintins': 8, 'RBR_Rio_Branco': 8, 'STM_Santarem': 8, 'TBT_Tabatinga': 8, 'TFF_Tefe': 8, 'TMT_Trombetas': 8, 'ATM_Altamira': 5, 'BVS_Breves': 5, 'IMP_Imperatriz': 5, 'MAB_Maraba': 5, 'MCP_Macapa': 5, 'MEU_Monte_Dourado': 5, 'SLZ_Sao_Luiz': 5, 'THE_Teresina': 5, 'TUR_Tucurui': 5, 'BUN_Buenaventura': 4, 'GPI_Guapi': 4, 'IPI_Ipiales': 4, 'TCO_Tumaco': 4, 'CZU_Corozal_(CO)': 4, 'MGN_Magangue': 4, 'MMP_Mompos': 4, 'STB_Santa_Barbara_Zulia': 4, 'APO_Apartado': 4, 'CAQ_Caucasia': 4, 'CPB_Capurgana': 4, 'NQU_Nuqui': 4, 'PBE_Puerto_Berrio': 4, 'CPV_Campina_Grande': 5, 'FEN_Fernando_de_Noronha': 5, 'JPA_Joao_Pessoa': 5, 'PNZ_Petrolina': 5, 'JDO_Juazeiro_do_Norte': 5, 'PHB_Parnaiba': 5, 'BRA_Barreiras': 5, 'VDC_Vitoria_Da_Conquista': 3, 'MOC_Montes_Claros': 3, 'CKS_Carajas': 5, 'PMW_Palmas': 5, 'BVH_Vilhena': 3, 'JIA_Juina': 3, 'OPS_Sinop_(BR)': 8, 'CMG_Corumba': 3, 'GPB_Guarapuava': 3, 'MVS_Mucuri': 3, 'GJM_Guajara-Mirim': 8, 'PTO_Pato_Branco': 3, 'FLA_Florencia': 4, 'PUU_Puerto_Asis': 4, 'MCJ_Maicao': 4, 'BSC_Bahia_Solano': 4, 'GGS_Gobernador_Gregores': 2, 'ARR_Alto_Rio_Senguerr': 2, 'URG_Uruguaiana': 3, 'GYA_Guayaramerin': 6, 'MGD_Magdalena': 6, 'RIB_Riberalta': 6, 'SJB_San_Joaquin': 6, 'SNV_Santa_Elena': 4, 'GUI_Guiria': 4, 'TUV_Tucupita': 4, 'MYC_Maracay': 4, 'ITB_Itaituba': 8, 'CZS_Cruzeiro_do_Sul': 8, 'TRQ_Tarauaca': 8, 'OBI_Obidos': 8, 'SJL_Sao_Gabriel': 8, 'PTQ_Porto_de_Moz': 5, 'OYK_Oiapoque': 5, 'AUX_Araguaina': 5, 'JPR_Ji-Parana': 3, 'AIR_Aripuana': 3, 'AFL_Alta_Floresta': 8, 'MBK_Matupa': 8, 'CQS_Costa_Marques': 8, 'ARP_Aragip': 15, 'JCR_Jacareacanga': 8, 'ORX_Oriximina': 8}\n"
     ]
    }
   ],
   "source": [
    "partitionG = best_partition(G)\n",
    "print (\"Louvain Modularity: \", modularity(partitionG, G))\n",
    "#print (\"Louvain Partition: \", partitionG)\n"
   ]
  },
  {
   "cell_type": "code",
   "execution_count": 20,
   "metadata": {},
   "outputs": [],
   "source": [
    "top_level_communities = next(communities_generator)"
   ]
  },
  {
   "cell_type": "code",
   "execution_count": 115,
   "metadata": {},
   "outputs": [
    {
     "name": "stdout",
     "output_type": "stream",
     "text": [
      "279\n"
     ]
    }
   ],
   "source": [
    "print(len(partition))"
   ]
  },
  {
   "cell_type": "code",
   "execution_count": 110,
   "metadata": {},
   "outputs": [],
   "source": [
    "#print(top_level_communities)\n",
    "iG = induced_graph(partitionG, G)"
   ]
  },
  {
   "cell_type": "code",
   "execution_count": 117,
   "metadata": {},
   "outputs": [
    {
     "name": "stdout",
     "output_type": "stream",
     "text": [
      "[0, 1, 2, 3, 4, 5, 6, 7, 8, 9, 10, 11, 12, 13, 14, 15, 16, 17, 18, 19, 20, 21, 22, 23, 24, 25, 26, 27, 28, 29, 30, 31, 32, 33, 34, 35, 36, 37, 38, 39, 40]\n"
     ]
    }
   ],
   "source": [
    "#grafo=nx.erdos_renyi_graph(100, 0.01)\n",
    "print(iG.nodes())"
   ]
  },
  {
   "cell_type": "code",
   "execution_count": 116,
   "metadata": {},
   "outputs": [
    {
     "data": {
      "image/png": "[encoded data removed]",
      "text/plain": [
       "<Figure size 432x288 with 1 Axes>"
      ]
     },
     "metadata": {},
     "output_type": "display_data"
    }
   ],
   "source": [
    "nx.draw(iG)"
   ]
  },
  {
   "cell_type": "code",
   "execution_count": 130,
   "metadata": {},
   "outputs": [],
   "source": [
    "degreeC = {}\n",
    "for n in G:\n",
    "    d = G.degree(n)\n",
    "    if d>0:\n",
    "        degreeC[n]=d\n",
    "        #print ((n,d))"
   ]
  },
  {
   "cell_type": "code",
   "execution_count": 131,
   "metadata": {},
   "outputs": [],
   "source": [
    "dicReal={}\n",
    "for n in iG:\n",
    "    dicReal[n]={'airport':None, 'degree':0}\n",
    "    for a in degreeC:\n",
    "        if partitionG[a] == n and degreeC[a]>dicReal[n]['degree']:\n",
    "            dicReal[n]={'airport':a, 'degree':degreeC[a]}"
   ]
  },
  {
   "cell_type": "code",
   "execution_count": 132,
   "metadata": {},
   "outputs": [
    {
     "name": "stdout",
     "output_type": "stream",
     "text": [
      "{0: {'airport': 'PPT_Papeete', 'degree': 29}, 1: {'airport': 'TYO_Tokyo', 'degree': 111}, 2: {'airport': 'CHI_Chicago', 'degree': 184}, 3: {'airport': 'BUE_Buenos_Aires', 'degree': 76}, 4: {'airport': 'VLI_Port_Vila', 'degree': 20}, 5: {'airport': 'MAJ_Majuro', 'degree': 19}, 6: {'airport': 'PAR_Paris', 'degree': 250}, 7: {'airport': 'ANC_Anchorage', 'degree': 39}, 8: {'airport': 'MOW_Moscow', 'degree': 186}, 9: {'airport': 'SAO_Sao_Paulo', 'degree': 82}, 10: {'airport': 'ULN_Ulaanbaatar', 'degree': 20}, 11: {'airport': 'POM_Port_Moresby', 'degree': 38}, 12: {'airport': 'HID_Horn_Island', 'degree': 9}, 13: {'airport': 'RGN_Yangon', 'degree': 24}, 14: {'airport': 'CWT_Cowra', 'degree': 3}, 15: {'airport': 'PLS_Providenciales', 'degree': 12}, 16: {'airport': 'REK_Reykjavik', 'degree': 23}, 17: {'airport': 'FRD_Friday_Harbor', 'degree': 7}, 18: {'airport': 'KTN_Ketchikan', 'degree': 22}, 19: {'airport': 'YKQ_Waskaganish', 'degree': 6}, 20: {'airport': 'YYR_Goose_Bay', 'degree': 11}, 21: {'airport': 'ZEL_Bella_Bella', 'degree': 3}, 22: {'airport': 'GRI_Grand_Island', 'degree': 5}, 23: {'airport': 'BJI_Bemidji', 'degree': 3}, 24: {'airport': 'ART_Watertown_(US)_NY', 'degree': 3}, 25: {'airport': 'TOS_Tromso', 'degree': 16}, 26: {'airport': 'KTR_Katherine', 'degree': 5}, 27: {'airport': 'SBU_Springbok', 'degree': 2}, 28: {'airport': 'KRL_Korla', 'degree': 4}, 29: {'airport': 'TRK_Tarakan', 'degree': 6}, 30: {'airport': 'LCE_La_Ceiba', 'degree': 11}, 31: {'airport': 'RAI_Praia', 'degree': 8}, 32: {'airport': 'YXL_Sioux_Lookout', 'degree': 15}, 33: {'airport': 'DGA_Dangriga', 'degree': 2}, 34: {'airport': 'YVC_La_Ronge', 'degree': 6}, 35: {'airport': 'NDZ_Nordholz-Spieka', 'degree': 3}, 36: {'airport': 'JIM_Jimma', 'degree': 6}, 37: {'airport': 'DIR_Dire_Dawa', 'degree': 6}, 38: {'airport': 'MZI_Mopti', 'degree': 3}, 39: {'airport': 'MOQ_Morondava', 'degree': 6}, 40: {'airport': 'MAT_Matadi', 'degree': 3}}\n"
     ]
    }
   ],
   "source": [
    "print(dicReal)"
   ]
  },
  {
   "cell_type": "code",
   "execution_count": 44,
   "metadata": {},
   "outputs": [
    {
     "ename": "AttributeError",
     "evalue": "module 'networkx.algorithms.community' has no attribute 'best_partition'",
     "output_type": "error",
     "traceback": [
      "\u001b[1;31m---------------------------------------------------------------------------\u001b[0m",
      "\u001b[1;31mAttributeError\u001b[0m                            Traceback (most recent call last)",
      "\u001b[1;32m<ipython-input-44-b28cc3e0078e>\u001b[0m in \u001b[0;36m<module>\u001b[1;34m()\u001b[0m\n\u001b[1;32m----> 1\u001b[1;33m \u001b[0mpart\u001b[0m \u001b[1;33m=\u001b[0m \u001b[0mcommunity\u001b[0m\u001b[1;33m.\u001b[0m\u001b[0mbest_partition\u001b[0m\u001b[1;33m(\u001b[0m\u001b[0mgrafo\u001b[0m\u001b[1;33m)\u001b[0m\u001b[1;33m\u001b[0m\u001b[0m\n\u001b[0m",
      "\u001b[1;31mAttributeError\u001b[0m: module 'networkx.algorithms.community' has no attribute 'best_partition'"
     ]
    }
   ],
   "source": [
    "part = community.best_partition(grafo)"
   ]
  },
  {
   "cell_type": "code",
   "execution_count": 133,
   "metadata": {},
   "outputs": [
    {
     "name": "stdout",
     "output_type": "stream",
     "text": [
      "{'AAA_Anaa': 0, 'HOI_Hao_Island': 0, 'PPT_Papeete': 0, 'GMR_Gambier_Island': 0, 'MKP_Makemo': 0, 'AHE_Ahe': 0, 'AKL_Auckland': 1, 'AUQ_Atuona': 0, 'BOB_Bora_Bora': 0, 'FAV_Fakarava': 0, 'HNL_Honolulu': 1, 'HUH_Huahine': 0, 'IPC_Easter_Island': 0, 'KKR_Kaukura_Atoll': 0, 'LAX_Los_Angeles_(US)': 2, 'MOZ_Moorea': 0, 'NHV_Nuku_Hiva': 0, 'NOU_Noumea': 0, 'OSA_Osaka': 1, 'MVT_Mataiva': 0, 'RAR_Rarotonga': 0, 'RFP_Raiatea_Island': 0, 'RGI_Rangiroa_Island': 0, 'RUR_Rurutu': 0, 'TIH_Tikehau_Atoll': 0, 'TKX_Takaroa': 0, 'TUB_Tubuai': 0, 'TYO_Tokyo': 1, 'WLS_Wallis_Island': 0, 'XMH_Manihi': 0, 'APW_Apia': 1, 'BHE_Blenheim': 1, 'BNE_Brisbane': 1, 'BUE_Buenos_Aires': 3, 'CHC_Christchurch': 1, 'CNS_Cairns': 1, 'DPS_Denpasar_Bali': 1, 'GIS_Gisborne': 1, 'HKG_Hong_Kong': 1, 'HLZ_Hamilton_(NZ)': 1, 'IUE_Niue': 1, 'KAT_Kaitaia': 1, 'KKE_Kerikeri': 1, 'KUL_Kuala_Lumpur': 1, 'MEL_Melbourne_(AU)': 1, 'NAN_Nadi': 1, 'NGO_Nagoya': 1, 'NLK_Norfolk_Island': 1, 'NPE_Napier-Hastings': 1, 'NPL_New_Plymouth': 1, 'NSN_Nelson': 1, 'PER_Perth': 1, 'PMR_Palmerston_North': 1, 'ROT_Rotorua': 1, 'SEL_Seoul': 1, 'SIN_Singapore': 1, 'SYD_Sydney_(AU)': 1, \"TBU_Nuku'alofa\": 1, 'TPE_Taipei': 1, 'TRG_Tauranga': 1, 'TUO_Taupo': 1, 'VLI_Port_Vila': 4, 'WAG_Wanganui': 1, 'WHK_Whakatane': 1, 'WLG_Wellington': 1, 'WRE_Whangarei': 1, 'ZQN_Queenstown': 1, 'ATL_Atlanta': 2, 'CHI_Chicago': 2, 'DFW_Dallas/Fort_Worth': 2, 'FUK_Fukuoka': 1, 'GUM_Guam': 1, 'HIJ_Hiroshima': 1, 'HNM_Hana': 1, 'HOU_Houston': 2, 'ITO_Hilo': 1, 'JHM_Kapalua': 1, 'JON_Johnston_Island': 5, 'KIJ_Niigata': 1, 'KOA_Kona': 1, 'LIH_Kauai_Island': 1, 'LNY_Lanai_City': 1, 'LUP_Kalaupapa': 1, 'MAJ_Majuro': 5, 'MDY_Midway_Island': 1, 'MKK_Hoolehua': 1, 'MNL_Manila': 1, 'MUE_Kamuela': 1, 'NYC_New_York': 2, 'OAK_Oakland': 2, 'OGG_Kahului': 1, 'PDX_Portland_(US)': 2, 'PHX_Phoenix': 2, 'PPG_Pago_Pago': 1, 'SDJ_Sendai': 1, 'SEA_Seattle': 2, 'SFO_San_Francisco': 2, 'SJC_San_Jose_(US)': 2, 'SPK_Sapporo': 1, 'STL_St_Louis': 2, 'YEA_Edmonton': 2, 'YTO_Toronto': 2, 'YVR_Vancouver': 2, 'YYC_Calgary': 2, 'YYJ_Victoria_(CA)': 2, 'SCL_Santiago_(CL)': 3, 'ABQ_Albuquerque': 2, 'AGU_Aguascalientes': 2, 'AMS_Amsterdam': 6, 'ANC_Anchorage': 7, 'AUS_Austin': 2, 'BFL_Bakersfield': 2, 'BJS_Beijing': 1, 'BJX_Leon/Guanajuato': 2, 'BNA_Nashville': 2, 'BOI_Boise': 2, 'BOS_Boston': 2, 'BWI_Baltimore': 2, 'CAN_Guangzhou': 1, 'CLD_Carlsbad_(US)_CA': 2, 'CLE_Cleveland': 2, 'CLT_Charlotte': 2, 'CMH_Columbus_(US)_OH': 2, 'COS_Colorado_Springs': 2, 'CSL_San_Luis_Obispo': 2, 'CUL_Culiacan': 2, 'CUN_Cancun': 2, 'CVG_Cincinnati': 2, 'DEN_Denver': 2, 'DGO_Durango_(MX)': 2, 'DTT_Detroit': 2, 'DUB_Dublin': 6, 'ELP_El_Paso': 2, 'EUG_Eugene': 2, 'FAT_Fresno': 2, 'FLL_Fort_Lauderdale': 2, 'FRA_Frankfurt': 6, 'GDL_Guadalajara': 2, 'GUA_Guatemala_City': 2, 'HFD_Hartford': 2, 'HMO_Hermosillo': 2, 'IND_Indianapolis': 2, 'IPL_Imperial': 2, 'IYK_Inyokern': 2, 'LAP_La_Paz_(MX)': 2, 'LAS_Las_Vegas': 2, 'LIM_Lima': 3, 'LON_London_(GB)': 6, 'LTO_Loreto': 2, 'MBJ_Montego_Bay': 2, 'MCE_Merced': 2, 'MEM_Memphis': 2, 'MEX_Mexico_City': 2, 'MFR_Medford': 2, 'MIA_Miami': 2, 'MIL_Milan': 6, 'MKC_Kansas_City': 2, 'MKE_Milwaukee': 2, 'MLM_Morelia': 2, 'MOW_Moscow': 8, 'MRY_Monterey': 2, 'MSP_Minneapolis/St_Paul': 2, 'MSY_New_Orleans': 2, 'MZT_Mazatlan': 2, 'OMA_Omaha': 2, 'ONT_Ontario': 2, 'ORL_Orlando': 2, 'OXR_Oxnard/Ventura': 2, 'PAR_Paris': 6, 'PHL_Philadelphia': 2, 'PIT_Pittsburgh': 2, 'PSP_Palm_Springs': 2, 'PTY_Panama_City_(PA)': 3, 'PVR_Puerto_Vallarta': 2, 'RNO_Reno': 2, 'SAC_Sacramento': 2, 'SAL_San_Salvador_(SV)': 2, 'SAN_San_Diego': 2, 'SAO_Sao_Paulo': 9, 'SAT_San_Antonio_(US)': 2, 'SBA_Santa_Barbara': 2, 'SGU_St_George_(US)': 2, 'SJD_San_Jose_Cabo': 2, 'SJU_San_Juan_(PR)': 2, 'SLC_Salt_Lake_City': 2, 'SMX_Santa_Maria': 2, 'SNA_Santa_Ana': 2, 'STO_Stockholm': 6, 'STS_Santa_Rosa_(US)': 2, 'TIJ_Tijuana': 2, 'TPA_Tampa': 2, 'TRC_Torreon': 2, 'TUL_Tulsa': 2, 'TUS_Tucson': 2, 'VIS_Visalia': 2, 'WAS_Washington': 2, 'YMQ_Montreal': 2, 'YUM_Yuma': 2, 'ZIH_Ixtapa/zihuatanejo': 2, 'ZLO_Manzanillo_(MX)': 2, 'ZRH_Zurich': 6, 'MXL_Mexicali': 2, 'SHA_Shanghai': 1, 'ZCL_Zacatecas': 2, 'ILP_Ile_des_Pins': 0, 'KNQ_Kone': 0, 'KOC_Koumac': 0, 'LIF_Lifou': 0, 'MEE_Mare': 0, 'TGJ_Tiga': 0, 'TOU_Touho': 0, 'UVE_Ouvea': 0, 'AKJ_Asahikawa': 1, 'AOJ_Aomori': 1, 'ASJ_Amami_O_Shima': 1, 'AXT_Akita': 1, 'BKK_Bangkok': 1, 'BOM_Mumbai': 8, 'CAI_Cairo': 8, 'CEB_Cebu': 1, 'CJU_Cheju': 1, 'DLC_Dalian': 1, 'FKS_Fukushima': 1, 'GAJ_Yamagata': 1, 'HKD_Hakodate': 1, 'HNA_Morioka': 1, 'HSG_Saga': 1, 'ISG_Ishigaki': 1, 'IST_Istanbul': 8, 'IWJ_Iwami': 1, 'IZO_Izumo': 1, 'JKT_Jakarta': 1, 'KCZ_Kochi': 1, 'KHH_Kaohsiung': 1, 'KMG_Kunming': 1, 'KMI_Miyazaki': 1, 'KMJ_Kumamoto': 1, 'KOJ_Kagoshima': 1, 'KUH_Kushiro': 1, 'MMB_Memambetsu': 1, 'MMJ_Matsumoto': 1, 'MMY_Miyako_Jima': 1, 'MSJ_Misawa': 1, 'MYJ_Matsuyama': 1, 'NGS_Nagasaki': 1, 'OBO_Obihiro': 1, 'OIT_Oita': 1, 'OKA_Okinawa': 1, 'OKI_Oki_Island': 1, 'ONJ_Odate_Noshiro': 1, 'LGK_Langkawi': 1, 'PEN_Penang': 1, 'PUS_Pusan': 1, 'SGN_Ho_Chi_Minh_City': 1, 'SHE_Shenyang': 1, 'SPN_Saipan': 1, 'SYO_Shonai': 1, 'TAK_Takamatsu': 1, 'TAO_Qingdao': 1, 'TJH_Toyooka': 1, 'TKS_Tokushima': 1, 'TNE_Tanegashima': 1, 'TSN_Tianjin': 1, 'ULN_Ulaanbaatar': 10, 'VIE_Vienna': 6, 'XMN_Xiamen': 1, 'AIT_Aitutaki': 0, 'AIU_Atiu_Island': 0, 'MGS_Mangaia_Island': 0, 'MHX_Manihiki_Island': 0, 'MOI_Mitiaro_Island': 0, 'MUK_Mauke_Island': 0, 'PYE_Penrhyn_Island': 0, 'MAU_Maupiti_Island': 0, 'TKP_Takapoto': 0, 'BKI_Kota_Kinabalu': 1, 'BRU_Brussels': 6, 'CMB_Colombo': 8, 'CPH_Copenhagen': 6, 'DEL_Delhi': 8, 'HAC_Hachijo_Jima': 1, 'HEL_Helsinki': 6, 'KKJ_Kita_Kyushu': 1, 'KMQ_Komatsu': 1, 'MBE_Monbetsu': 1, 'MYE_Miyake_Jima': 1, 'OIM_Oshima': 1, 'OKJ_Okayama': 1, 'ROM_Rome': 6, 'SHB_Nakashibetsu': 1, 'SHM_Nanki_Shirahama': 1, 'SIA_Xi_An': 1, 'THR_Tehran': 8, 'TOY_Toyama': 1, 'TTJ_Tottori': 1, 'HKT_Phuket': 1, 'UBJ_Ube': 1, 'WKJ_Wakkanai': 1, 'YGJ_Yonago': 1, 'FUT_Futuna': 0, 'MXS_Maota_Savail_Is': 1, 'ADL_Adelaide': 1, 'ARM_Armidale': 1, 'BDB_Bundaberg': 1, 'BKQ_Blackall': 1, 'BLT_Blackwater': 1, 'BCI_Barcaldine': 1, 'BNK_Ballina': 1, 'BWN_Bandar_Seri_Begawan': 1, 'CBR_Canberra': 1, 'CFS_Coffs_Harbour': 1, 'CNJ_Cloncurry': 1, 'CTL_Charleville': 1, 'DRW_Darwin': 1, 'EMD_Emerald': 1, 'GLT_Gladstone': 1, 'HIR_Honiara': 4, 'HTI_Hamilton_Island': 1, 'HVB_Hervey_Bay': 1, 'INU_Nauru_Island': 1, 'ISA_Mount_Isa': 1, 'LDH_Lord_Howe_Island': 1, 'LRE_Longreach': 1, 'MBH_Maryborough': 1, 'MCY_Sunshine_Coast': 1, 'MKY_Mackay': 1, 'MRZ_Moree': 1, 'NTL_Newcastle_(AU)': 1, 'OOL_Gold_Coast': 1, 'POM_Port_Moresby': 11, 'PPP_Proserpine': 1, 'PQQ_Port_Macquarie': 1, 'RMA_Roma': 1, 'ROK_Rockhampton': 1, 'THG_Thangool': 1, 'TSV_Townsville': 1, 'TWB_Toowoomba': 1, 'AFA_San_Rafael': 3, 'AOL_Paso_de_Los_Libres': 3, 'ASU_Asuncion': 3, 'AUA_Aruba': 3, 'BHI_Bahia_Blanca': 3, 'BOG_Bogota': 3, 'BRC_San_Carlos_de_Bariloche': 3, 'AVI_Ciego_de_Avila': 6, 'CMW_Camaguey': 3, 'CNQ_Corrientes': 3, 'COC_Concordia': 3, 'COR_Cordoba': 3, 'CPC_San_Martin_de_Los_Andes': 3, 'CPT_Cape_Town': 6, 'CRD_Comodoro_Rivadavia': 3, 'CTC_Catamarca': 3, 'CYO_Cayo_Largo_del_Sur': 6, 'FLN_Florianopolis': 9, 'FMA_Formosa': 3, 'GPO_General_Pico': 3, 'HAV_Havana': 3, 'IGR_Iguazu': 3, 'IRJ_La_Rioja': 3, 'JNB_Johannesburg': 6, 'JUJ_Jujuy': 3, 'LUQ_San_Luis': 3, 'MAD_Madrid': 6, 'MDQ_Mar_del_Plata': 3, 'MDZ_Mendoza': 3, 'MVD_Montevideo': 3, 'NEC_Necochea': 3, 'NQN_Neuquen': 3, 'OVR_Olavarria': 3, 'PDP_Punta_del_Este': 3, 'PMY_Puerto_Madryn': 3, 'POA_Porto_Alegre': 9, 'PRA_Parana': 3, 'PSS_Posadas': 3, 'PUJ_Punta_Cana': 6, 'RCU_Rio_Cuarto': 3, 'REL_Trelew': 3, 'RES_Resistencia': 3, 'RGA_Rio_Grande_(AR)': 3, 'RGL_Rio_Gallegos': 3, 'RIO_Rio_de_Janeiro': 9, 'ROS_Rosario_(AR)': 3, 'RSA_Santa_Rosa_(AR)': 3, 'SDE_Santiago_del_Estero': 3, 'SFN_Santa_Fe_(AR)': 3, 'SLA_Salta': 3, 'SRZ_Santa_Cruz_(BO)': 3, 'TDL_Tandil': 3, 'TUC_Tucuman': 3, 'UAQ_San_Juan_(AR)': 3, 'USH_Ushuaia': 3, 'VDM_Viedma': 3, 'VME_Villa_Mercedes': 3, 'VRA_Varadero': 6, 'CBB_Cochabamba': 3, 'EQS_Esquel': 3, 'CHT_Chatham_Island': 1, 'DUD_Dunedin': 1, 'HKK_Hokitika': 1, 'IVC_Invercargill': 1, 'MON_Mount_Cook': 1, 'ABM_Bamaga': 1, 'ASP_Alice_Springs': 1, 'AUU_Aurukun_Mission': 1, 'AYQ_Ayers_Rock': 1, 'CTN_Cooktown': 1, 'CUQ_Coen': 1, 'DKI_Dunk_Island': 1, 'EDR_Edward_River': 1, 'GOV_Gove': 1, 'GTE_Groote_Eylandt': 1, 'HID_Horn_Island': 12, 'IRG_Lockhart_River': 1, 'KRB_Karumba': 1, 'KWM_Kowanyama': 1, 'LZR_Lizard_Island': 1, 'MIS_Misima_Island': 11, 'MXH_Moro': 11, 'NTN_Normanton': 1, 'OKR_Yorke_Island': 12, 'WEI_Weipa': 1, 'AMI_Mataram': 1, 'BME_Broome': 1, 'BMU_Bima': 1, 'DIL_Dili': 1, 'JOG_Yogyakarta': 1, 'KOE_Kupang': 1, 'SUB_Surabaya': 1, 'UPG_Ujung_Pandang': 1, 'BAH_Bahrain': 8, 'CGO_Zhengzhou': 1, 'CGQ_Changchun': 1, 'CKG_Chongqing': 1, 'CSX_Changsha': 1, 'CTU_Chengdu': 1, 'DAC_Dhaka': 8, 'DXB_Dubai': 8, 'FOC_Fuzhou': 1, 'HAK_Haikou': 1, 'HAN_Hanoi': 1, 'HFE_Hefei': 1, 'HGH_Hangzhou': 1, 'HRB_Harbin': 1, 'KHN_Nanchang': 1, 'KTM_Kathmandu': 8, 'KWE_Guiyang': 1, 'KWL_Guilin': 1, 'MRU_Mauritius': 6, 'MXZ_Meixian': 1, 'NGB_Ningbo': 1, 'NKG_Nanjing': 1, 'NNG_Nanning': 1, 'PNH_Phnom_Penh': 1, 'RGN_Yangon': 13, 'SJW_Shijiazhuang': 1, 'SWA_Shantou': 1, 'SYX_Sanya': 1, 'TLV_Tel_Aviv': 6, 'TNA_Jinan': 1, 'TXN_Tunxi': 1, 'TYN_Taiyuan': 1, 'URC_Urumqi': 1, 'WNZ_Wenzhou': 1, 'WUH_Wuhan': 1, 'WUS_Wuyishan': 1, 'YNT_Yantai': 1, 'ZHA_Zhanjiang': 1, 'AOR_Alor_Setar': 1, 'AUH_Abu_Dhabi': 8, 'BEY_Beirut': 8, 'CNX_Chiang_Mai': 1, 'DOH_Doha': 8, 'HDY_Hat_Yai': 1, 'IPH_Ipoh': 1, 'JED_Jeddah': 8, 'JHB_Johor_Bahru': 1, 'KBR_Kota_Bharu': 1, 'KCH_Kuching': 1, 'KHI_Karachi': 8, 'KTE_Kerteh': 1, 'KUA_Kuantan': 1, 'LBU_Labuan': 1, 'MAA_Chennai': 8, 'MAN_Manchester_(GB)': 6, 'MES_Medan': 1, 'MLE_Male': 6, 'MYY_Miri': 1, 'PKG_Pangkor': 1, 'PKU_Pekanbaru': 1, 'RUH_Riyadh': 8, 'SBW_Sibu': 1, 'TAS_Tashkent': 8, 'TGG_Kuala_Terengganu': 1, 'TOD_Tioman': 1, 'LHE_Lahore': 8, 'ABX_Albury': 1, 'BWT_Burnie': 1, 'DPO_Devonport': 1, 'FLS_Flinders_Island': 1, 'HBA_Hobart': 1, 'KNS_King_Island': 1, 'LST_Launceston': 1, 'MGB_Mount_Gambier': 1, 'MIM_Merimbula': 1, 'MQL_Mildura': 1, 'PTJ_Portland_(AU)': 1, 'TGN_Traralgon': 1, 'WGA_Wagga_Wagga': 1, 'KDV_Kandavu': 1, 'LBS_Labasa': 1, 'MNF_Mana_Island': 1, 'PTF_Malololailai': 1, 'SUV_Suva': 1, 'SVU_Savusavu': 1, 'TRW_Tarawa': 1, 'TVU_Taveuni': 1, 'ALH_Albany': 1, 'BQB_Busselton': 1, 'CCK_Cocos_Islands': 1, 'CVQ_Carnarvon': 1, 'EPR_Esperance': 1, 'GET_Geraldton': 1, 'GYL_Argyle': 1, 'KGI_Kalgoorlie': 1, 'KTA_Karratha': 1, 'LEA_Learmonth': 1, 'LER_Leinster': 1, 'LNO_Leonora': 1, 'LVO_Laverton': 1, 'MJK_Monkey_Mia': 1, 'MKR_Meekatharra': 1, 'MMG_Mount_Magnet': 1, 'MQZ_Margaret_River': 1, 'PBO_Paraburdoo': 1, 'KNX_Kununurra': 1, 'PHE_Port_Hedland': 1, 'WME_Mount_Keith': 1, 'WUN_Wiluna': 1, 'ZNE_Newman': 1, 'TEU_Te_Anau': 1, 'ALA_Almaty': 8, 'HIN_Chinju': 1, 'KAG_Kangnung': 1, 'KHV_Khabarovsk': 1, 'KJA_Krasnoyarsk': 8, 'KPO_Pohang': 1, 'KUV_Kunsan': 1, 'KWJ_Kwangju': 1, 'MFM_Macau': 1, 'MPK_Mokpo': 1, 'OVB_Novosibirsk': 8, 'RSU_Yosu': 1, 'SHO_Sokcho': 1, 'TAE_Taegu': 1, 'USN_Ulsan': 1, 'UUS_Yuzhno-Sakhalinsk': 1, 'VVO_Vladivostok': 1, 'YEC_Yechon': 1, 'YNJ_Yanji': 1, 'ATH_Athens_(GR)': 8, 'BLR_Bangalore': 8, 'BPN_Balikpapan': 1, 'CCU_Calcutta': 8, 'DVO_Davao': 1, 'HYD_Hyderabad': 8, 'KBV_Krabi': 1, 'KWI_Kuwait': 8, 'MDC_Manado': 1, 'PDG_Padang': 1, 'RUN_St_Denis_de_la_Reunion': 6, 'SEZ_Mahe_Island': 6, 'ISB_Islamabad': 8, 'REP_Siem_Reap': 1, 'SOC_Solo_City': 1, 'TRV_Thiruvananthapuram': 8, 'USM_Koh_Samui': 1, 'BHS_Bathurst_(AU)': 1, 'CSI_Casino': 1, 'CWT_Cowra': 14, 'DBO_Dubbo': 1, 'DGE_Mudgee': 1, 'GFF_Griffith': 1, 'GFN_Grafton': 1, 'GUH_Gunnedah': 1, 'LSY_Lismore': 1, 'MTL_Maitland': 1, 'MYA_Moruya': 1, 'NRA_Narrandera': 1, 'OAG_Orange': 1, 'OOM_Cooma': 1, 'PKE_Parkes': 1, 'NAA_Narrabri': 1, 'TMW_Tamworth': 1, 'TRO_Taree': 1, 'EUA_Eua': 1, \"HPA_Ha'apai\": 1, \"VAV_Vava'u\": 1, 'CYI_Chiayi': 1, 'HUN_Hualien': 1, 'KNH_Kinmen': 1, 'MZG_Makung': 1, 'PIF_Pingtung': 1, 'ROR_Koror': 1, 'SFS_Subic_Bay': 1, 'TNN_Tainan': 1, 'TTT_Taitung': 1, 'TXG_Taichung': 1, 'DLY_Dillons_Bay': 4, 'EAE_Emae': 4, 'IPA_Ipota': 4, 'LNB_Lamen_Bay': 4, 'LNE_Lonorore': 4, 'LOD_Longana': 4, 'LPM_Lamap': 4, 'NUS_Norsup': 4, 'SON_Espiritu_Santo': 4, 'SWJ_South_West_Bay': 4, 'TAH_Tanna': 4, 'TGH_Tongoa': 4, 'CCV_Craig_Cove': 4, 'TIU_Timaru': 1, 'WSZ_Westport': 1, 'WKA_Wanaka': 1, 'ABE_Allentown/Bethlehem/Easton': 2, 'ABY_Albany_(US)_GA': 2, 'AGS_Augusta_(US)_GA': 2, 'ALB_Albany_(US)_NY': 2, 'AVL_Asheville': 2, 'BDA_Bermuda': 2, 'BHM_Birmingham_(US)': 2, 'BMI_Bloomington-Normal': 2, 'BTR_Baton_Rouge': 2, 'BUF_Buffalo': 2, 'CAE_Columbia_(US)_SC': 2, 'CAK_Akron/Canton': 2, 'CCS_Caracas': 3, 'CHA_Chattanooga': 2, 'CHS_Charleston_(US)_SC': 2, 'CRP_Corpus_Christi': 2, 'CRW_Charleston_(US)_WV': 2, 'CSG_Columbus_(US)_GA': 2, 'CZM_Cozumel': 2, 'DAB_Daytona_Beach': 2, 'DAY_Dayton': 2, 'DHN_Dothan': 2, 'DSM_Des_Moines': 2, 'EVV_Evansville': 2, 'FAY_Fayetteville_(US)_NC': 2, 'FLO_Florence_(US)': 2, 'FMY_Fort_Myers': 2, 'FNT_Flint': 2, 'FWA_Fort_Wayne': 2, 'FYV_Fayetteville_(US)_AR': 2, 'GCM_Grand_Cayman_Island': 2, 'GNV_Gainesville': 2, 'GPT_Gulfport/Biloxi': 2, 'GRR_Grand_Rapids_(US)_MI': 2, 'GSO_Greensboro/High_Point': 2, 'GSP_Greenville_(US)_SC': 2, 'HAR_Harrisburg': 2, 'HPN_Westchester_County': 2, 'HSV_Huntsville': 2, 'HTS_Huntington': 2, 'ICT_Wichita': 2, 'ILM_Wilmington_(US)_NC': 2, 'ISP_Long_Island_Macarthur': 2, 'JAN_Jackson_(US)_MS': 2, 'JAX_Jacksonville_(US)_FL': 2, 'LEX_Lexington': 2, 'LIT_Little_Rock': 2, 'LYH_Lynchburg': 2, 'MCN_Macon': 2, 'MEI_Meridian': 2, 'MGM_Montgomery': 2, 'MHT_Manchester_(US)': 2, 'MID_Merida_(MX)': 2, 'MLB_Melbourne_(US)': 2, 'MLI_Moline': 2, 'MLU_Monroe': 2, 'MOB_Mobile': 2, 'MTY_Monterrey': 2, 'MUC_Munich': 6, 'MYR_Myrtle_Beach': 2, 'NAS_Nassau': 2, 'OKC_Oklahoma_City': 2, 'ORF_Norfolk_(US)_VA': 2, 'ORH_Worcester': 2, 'PBI_West_Palm_Beach': 2, 'PFN_Panama_City_(US)': 2, 'PHF_Newport_News': 2, 'PNS_Pensacola': 2, 'PVD_Providence': 2, 'PWM_Portland': 2, 'RDU_Raleigh/Durham': 2, 'RIC_Richmond_(US)': 2, 'ROA_Roanoke': 2, 'ROC_Rochester_(US)_NY': 2, 'SAV_Savannah': 2, 'SBN_South_Bend': 2, 'SDF_Louisville': 2, 'SHV_Shreveport': 2, 'SJO_San_Jose': 3, 'SNN_Shannon': 6, 'SRQ_Sarasota/Bradenton': 2, 'SSI_Brunswick': 2, 'STR_Stuttgart': 6, 'STT_St_Thomas_Island': 2, 'SWF_Newburgh': 2, 'SYR_Syracuse': 2, 'TLH_Tallahassee': 2, 'TOL_Toledo_(US)': 2, 'TRI_Tri-Cities_Regional': 2, 'TYS_Knoxville': 2, 'UBS_Columbus': 2, 'VLD_Valdosta': 2, 'VPS_Valparaiso': 2, 'SID_Sal': 6, 'ALO_Waterloo': 2, 'ATW_Appleton': 2, 'AUW_Wausau': 2, 'AVP_Wilkes-Barre': 2, 'AZO_Kalamazoo': 2, 'BHX_Birmingham_(GB)': 6, 'BLV_Belleville': 2, 'BRL_Burlington_(US)_IA': 2, 'BTV_Burlington_(US)_VT': 2, 'CID_Cedar_Rapids': 2, 'CMI_Champaign': 2, 'COU_Columbia_(US)_MO': 2, 'DBQ_Dubuque': 2, 'DLH_Duluth/Superior': 2, 'DUS_Dusseldorf': 6, 'FAR_Fargo': 2, 'FSD_Sioux_Falls': 2, 'GEG_Spokane': 2, 'GRB_Green_Bay': 2, 'IMT_Iron_Mountain': 2, 'KRK_Krakow': 6, 'LAF_Lafayette_(US)_IN': 2, 'LAN_Lansing': 2, 'LNK_Lincoln': 2, 'LSE_La_Crosse': 2, 'MBS_Saginaw': 2, 'MKG_Muskegon': 2, 'MSN_Madison': 2, 'OSH_Oshkosh': 2, 'PIA_Peoria': 2, 'PIE_St_Petersburg_(US)': 2, 'RHI_Rhinelander': 2, 'RST_Rochester_(US)_MN': 2, 'SGF_Springfield_(US)_MO': 2, 'SPI_Springfield_(US)_IL': 2, 'TVC_Traverse_City': 2, 'UIN_Quincy': 2, 'WAW_Warsaw': 6, 'YOW_Ottawa': 2, 'YWG_Winnipeg': 2, 'ABI_Abilene': 2, 'ACA_Acapulco': 2, 'ACT_Waco': 2, 'AEX_Alexandria_(US)': 2, 'AMA_Amarillo': 2, 'BPT_Beaumont': 2, 'BUR_Burbank': 2, 'BWD_Brownwood': 2, 'BZE_Belize_City': 2, 'CLL_College_Station': 2, 'CNM_Carlsbad_(US)_NM': 2, 'ELD_El_Dorado': 2, 'FSM_Fort_Smith_(US)': 2, 'GGG_Longview': 2, 'HOB_Hobbs': 2, 'HOT_Hot_Springs': 2, 'HRL_Harlingen': 2, 'ILE_Killeen': 2, 'JLN_Joplin': 2, 'LAW_Lawton': 2, 'LBB_Lubbock': 2, 'LFT_Lafayette_(US)_LA': 2, 'LGB_Long_Beach': 2, 'LRD_Laredo': 2, 'MAF_Midland/odessa': 2, 'MFE_Mcallen': 2, 'PBC_Puebla': 2, 'PNC_Ponca_City': 2, 'ROW_Roswell': 2, 'SJT_San_Angelo': 2, 'SPS_Wichita_Falls': 2, 'TXK_Texarkana': 2, 'TYR_Tyler': 2, 'WDG_Enid': 2, 'FUJ_Fukue': 1, 'TSJ_Tsushima': 1, 'PNI_Pohnpei': 1, 'ROP_Rota': 1, 'TIQ_Tinian': 1, 'TKK_Truk': 1, 'YAP_Yap': 1, 'BRO_Brownsville': 2, 'CUU_Chihuahua': 2, 'GYE_Guayaquil': 3, 'LCH_Lake_Charles': 2, 'MGA_Managua': 2, 'RTB_Roatan': 2, 'SAP_San_Pedro_Sula': 2, 'SLP_San_Luis_Potosi': 2, 'SLW_Saltillo': 2, 'TAM_Tampico': 2, 'TGU_Tegucigalpa': 2, 'UIO_Quito': 3, 'VCT_Victoria_(US)': 2, 'VER_Veracruz': 2, 'AIC_Airok': 5, 'AUL_Aur_Island': 5, 'JAT_Jabot': 5, 'JEJ_Jeh': 5, 'KBT_Kaben': 5, 'KWA_Kwajalein': 5, 'EBO_Ebon': 5, 'KIO_Kili_Island': 5, 'MAV_Maloelap_Island': 5, 'MIJ_Mili_Island': 5, 'MJB_Mejit_Island': 5, 'UIT_Jaluit_Island': 5, 'UTK_Utirik_Island': 5, 'WJA_Woja': 5, 'NDK_Namdrik_Island': 5, 'WTE_Wotje_Island': 5, 'BCD_Bacolod': 1, 'BXU_Butuan': 1, 'CBO_Cotabato': 1, 'CGY_Cagayan_de_Oro': 1, 'CRM_Catarman': 1, 'CYP_Calbayog': 1, 'CYU_Cuyo': 1, 'DGT_Dumaguete': 1, 'DMM_Dammam': 8, 'DPL_Dipolog': 1, 'GES_General_Santos': 1, 'ILO_Iloilo': 1, 'KLO_Kalibo': 1, 'LAO_Laoag': 1, 'LBX_Lubang': 1, 'LGP_Legaspi': 1, 'MBT_Masbate': 1, 'MCT_Muscat': 8, 'CUJ_Culion': 1, 'MPH_Caticlan': 1, 'MRQ_Marinduque': 1, 'PPS_Puerto_Princesa': 1, 'RXS_Roxas': 1, 'SJI_San_Jose_(PH)': 1, 'TAC_Tacloban': 1, 'TAG_Tagbilaran': 1, 'TUG_Tuguegarao': 1, 'USU_Busuanga': 1, 'VRC_Virac': 1, 'WNP_Naga': 1, 'ZAM_Zamboanga': 1, 'ACC_Accra': 8, 'ACK_Nantucket': 2, 'ANU_Antigua': 2, 'BCN_Barcelona_(ES)': 6, 'BED_Bedford': 2, 'BGI_Barbados': 2, 'BGM_Binghamton': 2, 'BGR_Bangor': 2, 'BQN_Aguadilla': 2, 'BUD_Budapest': 6, 'BUH_Bucharest': 6, 'CAS_Casablanca': 6, 'CHO_Charlottesville': 2, 'DKR_Dakar': 8, 'GEO_Georgetown_(GY)': 2, 'GLA_Glasgow_(GB)': 6, 'GND_Grenada': 2, 'GVA_Geneva': 6, 'HYA_Hyannis': 2, 'IEV_Kiev': 8, 'ITH_Ithaca': 2, 'KIN_Kingston_(JM)': 2, 'LEB_Lebanon': 2, 'LIS_Lisbon': 6, 'LOS_Lagos': 8, 'LYS_Lyon': 6, 'NCE_Nice': 6, 'BJL_Banjul': 8, 'MLW_Monrovia': 8, 'OSL_Oslo': 6, 'PAP_Port_au_Prince': 2, 'PLS_Providenciales': 15, 'POP_Puerto_Plata': 6, 'POS_Port_of_Spain': 2, 'PRG_Prague': 6, 'RAK_Marrakech': 6, 'REK_Reykjavik': 16, 'SDQ_Santo_Domingo': 6, 'SXM_St_Maarten': 2, 'TSR_Timisoara': 6, 'VCE_Venice': 6, 'YHZ_Halifax': 2, 'YQB_Quebec': 2, 'ACV_Arcata/Eureka': 2, 'CVO_Corvallis': 2, 'LMT_Klamath_Falls': 2, 'ONP_Newport': 2, 'OTH_North_Bend': 2, 'PDT_Pendleton': 2, 'PSC_Pasco': 2, 'RDD_Redding': 2, 'RDM_Redmond': 2, 'ASE_Aspen': 2, 'DRO_Durango_(US)': 2, 'FHU_Fort_Huachuca/Sierra_Vista': 2, 'FLG_Flagstaff': 2, 'FMN_Farmington': 2, 'GJT_Grand_Junction': 2, 'GYM_Guaymas': 2, 'HII_Lake_Havasu_City': 2, 'IFP_Bullhead_City': 2, 'MTJ_Montrose': 2, 'PGA_Page': 2, 'PRC_Prescott': 2, 'SAF_Santa_Fe_(US)': 2, 'SOW_Show_Low': 2, 'OFU_Ofu': 1, 'TAV_Tau': 1, 'ALW_Walla_Walla': 2, 'BIL_Billings': 2, 'BLI_Bellingham': 17, 'BTM_Butte': 2, 'BZN_Bozeman': 2, 'CLM_Port_Angeles': 17, 'EAT_Wenatchee': 2, 'ESD_Eastsound': 17, 'FAI_Fairbanks': 7, 'FCA_Kalispell': 2, 'FRD_Friday_Harbor': 17, 'GTF_Great_Falls': 2, 'HLN_Helena': 2, 'JNU_Juneau': 18, 'KEH_Kenmore_Air_Harbor': 2, 'KTN_Ketchikan': 18, 'LPS_Lopez_Island': 17, 'LWS_Lewiston': 2, 'MSO_Missoula': 2, 'MWH_Moses_Lake': 2, 'ODW_Oak_Harbor': 17, 'PUW_Pullman': 2, 'RCE_Roche_Harbor': 2, 'RSJ_Rosario_(US)': 2, 'SUN_Sun_Valley': 2, 'WSX_Westsound': 2, 'YKM_Yakima': 2, 'YLW_Kelowna': 2, 'CEC_Crescent_City': 2, 'CIC_Chico': 2, 'MOD_Modesto': 2, 'CGI_Cape_Girardeau': 2, 'DEC_Decatur': 2, 'MWA_Marion': 2, 'PAH_Paducah': 2, 'SUX_Sioux_City': 2, 'TBN_Fort_Leonard_Wood': 2, 'WMH_Mountain_Home': 2, 'YMM_Fort_Mcmurray': 16, 'YOJ_High_Level': 2, 'YPE_Peace_River': 2, 'YQR_Regina': 2, 'YQU_Grande_Prairie': 2, 'YSM_Fort_Smith_(CA)': 16, 'YXE_Saskatoon': 2, 'YZF_Yellowknife': 16, 'YHY_Hay_River': 16, 'YOP_Rainbow_Lake': 2, 'YXX_Abbotsford': 2, 'CFG_Cienfuegos': 3, 'OPO_Porto': 6, 'SKB_St_Kitts': 2, 'SLU_St_Lucia': 2, 'YAM_Sault_Ste_Marie_(CA)': 2, 'YFC_Fredericton': 2, 'YGK_Kingston_(CA)': 19, 'YQG_Windsor': 2, 'YQM_Moncton': 2, 'YQT_Thunder_Bay': 2, 'YQX_Gander': 20, 'YSB_Sudbury': 2, 'YSJ_St_John': 2, 'YTA_Pembroke': 2, 'YTS_Timmins': 2, 'YXU_London_(CA)': 2, 'YYB_North_Bay': 2, 'YYG_Charlottetown_(CA)_PE': 2, 'YYT_St_Johns': 20, 'YZR_Sarnia': 2, 'XQU_Qualicum': 2, 'YAA_Anahim_Lake': 21, 'YAZ_Tofino': 2, 'YBL_Campbell_River': 2, 'YCD_Nanaimo': 2, 'YCG_Castlegar': 2, 'YKA_Kamloops': 2, 'YPR_Prince_Rupert': 18, 'YPW_Powell_River': 2, 'YQQ_Comox': 2, 'YQZ_Quesnel': 2, 'YXC_Cranbrook': 2, 'YXJ_Fort_St_John': 2, 'YXS_Prince_George': 2, 'YXT_Terrace': 2, 'YXY_Whitehorse': 16, 'YYD_Smithers': 2, 'YYF_Penticton': 2, 'YZP_Sandspit': 2, 'YZT_Port_Hardy': 21, 'YWL_Williams_Lake': 2, 'YLL_Lloydminster': 2, 'YQL_Lethbridge': 2, 'YXH_Medicine_Hat': 2, 'ANF_Antofagasta': 3, 'CCP_Concepcion_(CL)': 3, 'CPO_Copiapo': 3, 'IQQ_Iquique': 3, 'LSC_La_Serena': 3, 'PMC_Puerto_Montt': 3, 'CJC_Calama': 3, 'LSQ_Los_Angeles_(CL)': 3, 'TCQ_Tacna': 3, 'ZCO_Temuco': 3, 'ZOS_Osorno': 3, 'ALM_Alamogordo': 2, 'CVN_Clovis': 2, 'GUP_Gallup': 2, 'LAM_Los_Alamos': 2, 'LRU_Las_Cruces': 2, 'SVC_Silver_City': 2, 'TSM_Taos': 2, 'ABJ_Abidjan': 8, 'ABV_Abuja': 8, 'ABZ_Aberdeen_(GB)': 6, 'AGP_Malaga': 6, 'AHU_Al_Hoceima': 6, 'ALC_Alicante': 6, 'ALP_Aleppo': 8, 'AMM_Amman': 8, 'ANR_Antwerp': 6, 'AYT_Antalya': 6, 'BEG_Belgrade': 6, 'BER_Berlin': 6, 'BGO_Bergen': 6, 'BLL_Billund': 6, 'BLQ_Bologna': 6, 'BON_Bonaire': 3, 'BRE_Bremen': 6, 'BRN_Berne': 6, 'BRS_Bristol': 6, 'BXN_Bodrum': 6, 'CBG_Cambridge': 6, 'CFE_Clermont-Ferrand': 6, 'CGN_Cologne': 6, 'CTA_Catania': 6, 'CUR_Curacao': 3, 'CWL_Cardiff': 6, 'DAM_Damascus': 8, 'DLM_Dalaman': 6, 'DTM_Dortmund': 6, 'EAP_Euroairport': 6, 'EDI_Edinburgh': 6, 'EIN_Eindhoven': 6, 'EVN_Yerevan': 8, 'FAO_Faro': 6, 'FLR_Florence_(IT)': 6, 'FMO_Munster': 6, 'FNC_Funchal': 6, 'FUE_Fuerteventura': 6, 'GCI_Guernsey': 6, 'GOT_Gothenburg': 6, 'HAJ_Hanover': 6, 'HAM_Hamburg': 6, 'HER_Heraklion': 6, 'HUY_Humberside': 6, 'INN_Innsbruck': 6, 'JRO_Kilimanjaro': 8, 'KAN_Kano': 8, 'LBA_Leeds_Bradford': 6, 'LCA_Larnaca': 6, 'LED_St_Petersburg_(RU)': 8, 'LJU_Ljubljana': 6, 'LNZ_Linz': 6, 'LPA_Las_Palmas': 6, 'LPL_Liverpool': 6, 'LUX_Luxembourg': 6, 'MLA_Malta': 6, 'MMA_Malmo': 6, 'MME_Teesside': 6, 'MST_Maastricht': 6, 'NAP_Naples_(IT)': 6, 'NBO_Nairobi': 8, 'NCL_Newcastle_(GB)': 6, 'NDR_Nador': 6, 'NQT_Nottingham': 6, 'NUE_Nuremberg': 6, 'NWI_Norwich': 6, 'ORK_Cork': 6, 'OUD_Oujda': 6, 'PAD_Paderborn': 6, 'PBM_Paramaribo': 9, 'PMI_Palma_Mallorca': 6, 'RHO_Rhodes': 6, 'SHJ_Sharjah': 8, 'SKG_Thessaloniki': 6, 'SKP_Skopje': 6, 'SOU_Southampton': 6, 'SPC_Santa_Cruz_de_la_Palma': 6, 'SVG_Stavanger': 6, 'SVQ_Seville': 6, 'SXB_Strasbourg': 6, 'SZG_Salzburg': 6, 'TBS_Tbilisi': 8, 'TCI_Tenerife': 6, 'TLS_Toulouse': 6, 'TNG_Tangier': 6, 'TRN_Turin': 6, 'TUN_Tunis': 6, 'VNO_Vilnius': 6, 'ZAG_Zagreb': 6, 'CND_Constanta': 8, 'DAR_Dar_Es_Salaam': 8, 'HOG_Holguin': 6, 'IZM_Izmir': 6, 'LFW_Lome': 8, 'PFO_Paphos': 6, 'ADQ_Kodiak': 7, 'AKN_King_Salmon': 7, 'ANI_Aniak': 7, 'BET_Bethel': 7, 'CDB_Cold_Bay': 7, 'CDV_Cordova': 18, 'DLG_Dillingham': 7, 'DUT_Dutch_Harbor': 7, 'EMK_Emmonak': 7, 'ENA_Kenai': 7, 'GAL_Galena': 7, 'HOM_Homer': 7, 'ILI_Iliamna': 7, 'MCG_Mcgrath': 7, 'OME_Nome': 7, 'OTZ_Kotzebue': 7, 'PKC_Petropavlovsk-Kamchats': 1, 'PTH_Port_Heiden': 7, 'SCC_Prudhoe_Bay/Deadhorse': 7, 'SDP_Sand_Point': 7, 'STG_St_George_Island': 7, 'UNK_Unalakleet': 7, 'VDZ_Valdez': 7, 'BRW_Barrow': 7, 'KSM_St_Marys': 7, 'SNP_St_Paul_Island': 7, 'AQG_Anqing': 1, 'BAV_Baotou': 1, 'CHG_Chaoyang': 1, 'CIF_Chifeng': 1, 'CIH_Changzhi': 1, 'CZX_Changzhou': 1, 'DYG_Dayong': 1, \"ENY_Yan'an\": 1, 'FNJ_Pyongyang': 1, 'FRU_Bishkek': 8, 'HET_Hohhot': 1, 'HLD_Hailar': 1, 'HYN_Huangyan': 1, 'INC_Yinchuan': 1, 'JDZ_Jingdezhen': 1, 'JMU_Jiamusi': 1, 'JUZ_Juzhou': 1, 'LHW_Lanzhou': 1, 'LYA_Luoyang': 1, 'LYG_Lianyungang': 1, 'LZO_Luzhou': 1, 'MDG_Mudanjiang': 1, 'NTG_Nantong': 1, 'SZX_Shenzhen': 1, 'TGO_Tongliao': 1, 'WEH_Weihai': 1, 'XFN_Xiangfan': 1, 'XIL_Xilinhot': 1, 'XNN_Xining': 1, 'YBP_Yibin': 1, 'YIH_Yichang': 1, 'YIW_Yiwu': 1, 'YNZ_Yancheng': 1, 'ZUH_Zhuhai': 1, 'CJS_Ciudad_Juarez': 2, 'IDA_Idaho_Falls': 2, 'PIH_Pocatello': 2, 'AUG_Augusta_(US)_ME': 2, 'BHB_Bar_Harbor': 2, 'ELM_Elmira/Corning': 2, \"MVY_Martha's_Vineyard\": 2, 'PDL_Ponta_Delgada': 6, 'PQI_Presque_Isle': 2, 'PVC_Provincetown': 2, 'RKD_Rockland': 2, 'RUT_Rutland': 2, 'AIY_Atlantic_City': 2, 'FPO_Freeport': 2, 'SBY_Salisbury-Ocean_City': 2, 'BHY_Beihai': 1, 'CGD_Changde': 1, 'GYS_Guang_Yuan': 1, 'JJN_Jinjiang': 1, 'KOW_Ganzhou': 1, 'LYI_Linyi': 1, 'LZH_Liuzhou': 1, 'WXN_Wanxian': 1, 'XUZ_Xuzhou': 1, 'NNY_Nanyang': 1, 'ERI_Erie': 2, 'AHN_Athens_(US)': 2, 'EWN_New_Bern': 2, 'HHH_Hilton_Head_Island': 2, 'HKY_Hickory': 2, 'LWB_Lewisburg': 2, 'OAJ_Jacksonville_(US)_NC': 2, 'PGV_Greenville_(US)_NC': 2, 'RWI_Rocky_Mount': 2, 'SOP_Southern_Pines': 2, 'LMM_Los_Mochis': 2, 'CPE_Campeche': 2, 'CTM_Chetumal': 2, 'FRS_Flores': 2, 'TGZ_Tuxtla_Gutierrez': 2, 'VSA_Villahermosa': 2, 'AIA_Alliance': 2, 'ALS_Alamosa': 2, 'BFF_Scottsbluff': 2, 'BIS_Bismarck': 2, 'CDR_Chadron': 2, 'CEZ_Cortez': 2, 'COD_Cody': 2, 'CPR_Casper': 2, 'CYS_Cheyenne': 2, 'DIK_Dickinson': 2, 'EAR_Kearney': 22, 'EGE_Vail': 2, 'GCC_Gillette': 2, 'GCK_Garden_City': 2, 'GRI_Grand_Island': 22, 'GUC_Gunnison': 2, 'HYS_Hays': 2, 'JAC_Jackson_(US)_WY': 2, 'LAR_Laramie': 2, 'LBF_North_Platte': 22, 'LBL_Liberal': 2, 'MCK_Mccook': 22, 'PIR_Pierre': 2, 'PUB_Pueblo': 2, 'RAP_Rapid_City': 2, 'RIW_Riverton': 2, 'RKS_Rock_Springs': 2, 'SBS_Steamboat_Springs': 2, 'SHR_Sheridan': 2, 'TEX_Telluride': 2, 'APN_Alpena': 2, 'CMX_Hancock': 2, 'MQT_Marquette': 2, 'PLN_Pellston': 2, 'RFD_Rockford': 2, 'SCE_State_College': 2, 'YNG_Youngstown': 2, 'BLK_Blackpool': 6, 'BOH_Bournemouth': 6, 'CFN_Donegal': 6, 'EXT_Exeter': 6, 'GWY_Galway': 6, 'IOM_Isle_of_Man': 6, 'KIR_Kerry_County': 6, 'LDY_Londonderry': 6, 'SXL_Sligo': 6, 'SZD_Sheffield': 6, 'ELH_North_Eleuthera': 2, 'EYW_Key_West': 2, 'GGT_George_Town': 2, 'GHB_Governors_Harbour': 2, 'IGA_Inagua': 2, 'MHH_Marsh_Harbour': 2, 'TBI_The_Bight': 2, 'TCB_Treasure_Cay': 2, 'ZSA_San_Salvador_(BS)': 2, 'ACE_Lanzarote': 6, 'ADA_Adana': 6, 'ADD_Addis_Ababa': 8, 'AGA_Agadir': 6, 'ALG_Algiers': 6, 'ANK_Ankara': 6, 'AQJ_Aqaba': 6, 'ASB_Ashgabat': 8, 'BAK_Baku': 8, 'BIO_Bilbao': 6, 'BYU_Bayreuth': 6, 'BZO_Bolzano': 6, 'CLJ_Cluj': 6, 'DJE_Djerba': 6, 'DNK_Dnepropetrovsk': 8, 'DRS_Dresden': 6, 'FDH_Friedrichshafen': 6, 'GOJ_Nizhniy_Novgorod': 8, 'GRZ_Graz': 6, 'HBE_Borg_el_Arab': 8, 'HOQ_Hof': 6, 'HRE_Harare': 8, 'HRG_Hurghada': 6, 'IBZ_Ibiza': 6, 'KEL_Kiel': 6, 'KGF_Karaganda': 8, 'KIV_Chisinau': 6, 'KLU_Klagenfurt': 6, 'KSN_Kostanay': 6, 'KTW_Katowice': 6, 'KUF_Samara': 8, 'LEJ_Leipzig': 6, 'LWO_Lvov': 8, 'MIR_Monastir': 6, 'MJV_Murcia': 6, 'MSQ_Minsk': 6, 'OMS_Omsk': 8, 'RIX_Riga': 6, 'SJJ_Sarajevo': 6, 'SOF_Sofia': 6, 'SPU_Split': 6, 'SVX_Ekaterinburg': 8, 'TAB_Tobago': 2, 'TBJ_Tabarka': 6, 'TIA_Tirana': 6, 'TIP_Tripoli': 8, 'TLL_Tallinn': 6, 'TOE_Tozeur': 6, 'TSE_Astana': 8, 'VLC_Valencia_(ES)': 6, 'VRN_Verona': 6, 'WDH_Windhoek': 6, 'WRO_Wroclaw': 6, 'XRY_Jerez_de_la_Frontera': 6, 'ZAZ_Zaragoza': 6, 'CEN_Ciudad_Obregon': 2, 'CVJ_Cuernavaca': 2, 'NLD_Nuevo_Laredo': 2, 'QRO_Queretaro': 2, 'OAX_Oaxaca': 2, 'LCF_Rio_Dulce': 2, 'PBR_Puerto_Barrios': 2, 'GUB_Guerrero_Negro': 2, 'ELY_Ely_(US)_NV': 2, 'GCN_Grand_Canyon': 2, 'AQP_Arequipa': 3, 'AYP_Ayacucho': 3, 'CIX_Chiclayo': 3, 'CUZ_Cuzco': 3, 'HUU_Huanuco': 3, 'IQT_Iquitos': 3, 'CJA_Cajamarca': 3, 'JAU_Jauja': 3, 'LPB_La_Paz_(BO)': 3, 'PCL_Pucallpa': 3, 'PIU_Piura': 3, 'TPP_Tarapoto': 3, 'TRU_Trujillo_(PE)': 3, 'AAR_Aarhus': 6, 'AHO_Alghero': 6, 'AOI_Ancona': 6, 'BFS_Belfast': 6, 'BIQ_Biarritz': 6, 'BOD_Bordeaux': 6, 'CCF_Carcassonne': 6, 'DLA_Douala': 8, 'DND_Dundee': 6, 'DNR_Dinard': 6, 'EBB_Entebbe/Kampala': 8, 'EBU_St_Etienne': 6, 'FNI_Nimes': 6, 'GDN_Gdansk': 6, 'GIB_Gibraltar': 6, 'GOA_Genoa': 6, 'INV_Inverness': 6, 'JER_Jersey': 6, 'KID_Kristianstad': 6, 'LBV_Libreville': 8, 'LEH_Le_Havre': 6, 'LXR_Luxor': 6, 'MAH_Menorca': 6, 'MPL_Montpellier': 6, 'MRS_Marseille': 6, 'NOC_Knock': 6, 'NQY_Newquay': 6, 'NTE_Nantes': 6, 'OVD_Asturias': 6, 'PGF_Perpignan': 6, 'PLH_Plymouth': 6, 'RMI_Rimini': 8, 'RTM_Rotterdam': 6, 'SCQ_Santiago_de_Compostela': 6, 'SUF_Lamezia_Terme': 6, 'VDA_Ovda': 6, 'WAT_Waterford': 6, 'NEG_Negril': 2, 'OCJ_Ocho_Rios': 2, 'POT_Port_Antonio': 2, 'GLH_Greenville_(US)_MS': 2, 'LUL_Laurel': 2, 'MKL_Jackson': 2, 'OWB_Owensboro': 2, 'TUP_Tupelo': 2, 'CJT_Comitan': 2, 'CLQ_Colima': 2, 'CME_Ciudad_del_Carmen': 2, 'CVM_Ciudad_Victoria': 2, 'HUX_Huatulco': 2, 'IZT_Ixtepec': 2, 'JAL_Jalapa': 2, 'LZC_Lazaro_Cardenas': 2, 'MAM_Matamoros': 2, 'MAO_Manaus': 9, 'MTT_Minatitlan': 2, 'PAZ_Poza_Rica': 2, 'PXM_Puerto_Escondido': 2, 'REX_Reynosa': 2, 'SZT_San_Cristobal_de_Las_Casas': 2, 'TAP_Tapachula': 2, 'TPQ_Tepic': 2, 'APF_Naples_(US)': 2, 'BAQ_Barranquilla': 3, 'BEL_Belem': 9, 'BIM_Bimini': 2, 'CLO_Cali': 3, 'CTG_Cartagena': 3, 'LRM_La_Romana': 2, 'MAR_Maracaibo': 3, 'MDE_Medellin': 3, 'REC_Recife': 9, 'STX_St_Croix_Island': 2, 'VLN_Valencia_(VE)': 3, 'BDS_Brindisi': 6, 'BRI_Bari': 6, 'CAG_Cagliari': 6, 'CUF_Cuneo': 6, 'FOG_Foggia': 6, 'LMP_Lampedusa': 6, 'FOR_Fortaleza': 9, 'OLB_Olbia': 6, 'PEG_Perugia': 6, 'PMF_Parma': 6, 'PMO_Palermo': 6, 'PSR_Pescara': 6, 'REG_Reggio_Calabria': 6, 'SCU_Santiago_(CU)': 6, 'SSA_Salvador': 9, 'SSH_Sharm_el_Sheikh': 6, 'TRS_Trieste': 6, 'DDC_Dodge_City': 2, 'GBD_Great_Bend': 2, 'IRK_Kirksville': 2, 'MHK_Manhattan': 2, 'SLN_Salina': 2, 'TOP_Topeka': 2, 'ESC_Escanaba': 2, 'UPN_Uruapan': 2, 'AAQ_Anapa': 8, 'AER_Adler/Sochi': 8, 'ARH_Arkhangelsk': 8, 'AZN_Andizhan': 8, 'BAX_Barnaul': 8, 'BHK_Bukhara': 8, 'BOJ_Bourgas': 8, 'BTK_Bratsk': 8, 'BTS_Bratislava': 6, 'BUS_Batumi': 8, 'CEE_Cherepovets': 8, 'CEK_Chelyabinsk': 8, 'CWC_Chernovtsy': 8, 'DOK_Donetsk': 8, 'DYR_Anadyr': 8, 'EGO_Belgorod': 8, 'ESL_Elista': 8, 'ETH_Elat': 6, 'GDX_Magadan': 8, 'GDZ_Gelendzik': 8, 'GZA_Gaza': 8, 'HRK_Kharkov': 8, 'IKT_Irkutsk': 8, 'KEJ_Kemerovo': 8, 'KGD_Kaliningrad': 8, 'KGP_Kogalym': 8, 'KHE_Kherson': 8, 'KLV_Karlovy_Vary': 8, 'KRO_Kurgan': 8, 'KRR_Krasnodar': 8, 'KUT_Kutaisi': 8, 'KVD_Gyandzha': 8, 'KWG_Krivoy_Rog': 8, 'KZN_Kazan': 8, 'LWN_Gyoumri': 8, 'MCX_Makhachkala': 8, 'MJZ_Mirnyj': 8, 'MMK_Murmansk': 8, 'HTA_Chita': 8, 'MQF_Magnitogorsk': 8, 'MRV_Mineralnye_Vody': 8, 'NAJ_Nakhichevan': 8, 'NAL_Nalchik': 8, 'NBC_Naberevnye_Chelny': 8, 'NCU_Nukus': 8, 'NER_Neryungri': 8, 'NJC_Nizhnevartovsk': 8, 'NLV_Nikolaev': 8, 'NOZ_Novokuznetsk': 8, 'NSK_Norilsk': 8, 'NUX_Novy_Urengoy': 8, 'NYM_Nadym': 8, 'ODS_Odessa': 8, 'OSS_Osh': 8, 'OSW_Orsk': 8, 'OZH_Zaporozhye': 8, 'PEE_Perm': 8, 'REN_Orenburg': 8, 'ROV_Rostov': 8, 'RTW_Saratov': 8, 'SCW_Syktyvkar': 8, 'SGC_Surgut': 8, 'SIP_Simferopol': 8, 'SKD_Samarkand': 8, 'SLY_Salehard': 8, 'STW_Stavropol': 8, 'TJM_Tyumen': 8, 'TOF_Tomsk': 8, 'UCT_Ukhta': 8, 'UDJ_Uzhgorod': 8, 'UFA_Ufa': 8, 'UGC_Urgench': 8, 'UKK_Ust-Kamenogorsk': 8, 'USK_Usinsk': 8, 'UUD_Ulan-Ude': 8, 'VAR_Varna': 8, 'VLK_Volgodonsk': 8, 'VOG_Volgograd': 8, 'YKS_Yakutsk': 8, 'ABR_Aberdeen_(US)': 2, 'BJI_Bemidji': 23, 'BKX_Brookings': 2, 'BRD_Brainerd': 23, 'EAU_Eau_Claire': 2, 'GFK_Grand_Forks': 23, 'IWD_Ironwood': 2, 'JMS_Jamestown_(US)_ND': 2, 'MCW_Mason_City': 2, 'MOT_Minot': 2, 'STC_St_Cloud': 2, 'PSM_Portsmouth_(US)': 2, 'AAE_Annaba': 6, 'AGF_Agen': 6, 'AJA_Ajaccio': 6, 'AOT_Aosta': 6, 'ASW_Aswan': 6, 'AUR_Aurillac': 6, 'AVN_Avignon': 6, 'BES_Brest': 6, 'BIA_Bastia': 6, 'BJA_Bejaia': 6, 'BKO_Bamako': 8, 'BLJ_Batna': 6, 'BSK_Biskra': 6, 'BVE_Brive-La-Gaillarde': 6, 'BZR_Beziers': 6, 'CAY_Cayenne': 9, 'CER_Cherbourg': 6, 'CLY_Calvi': 6, 'CMF_Chambery': 6, 'COO_Cotonou': 8, 'CZL_Constantine': 6, 'DCM_Castres': 6, 'EGC_Bergerac': 6, 'EPL_Epinal': 6, 'ETZ_Metz/Nancy': 6, 'FDF_Fort_de_France': 2, 'FEZ_Fez': 6, 'FSC_Figari': 6, 'GNB_Grenoble': 6, 'KRT_Khartoum': 8, 'LAD_Luanda': 6, 'LAI_Lannion': 6, 'LDE_Lourdes/Tarbes': 6, 'LIG_Limoges': 6, 'LPY_Le_Puy': 6, 'LRH_La_Rochelle': 6, 'LRT_Lorient': 6, 'MCU_Montlucon': 6, 'NCY_Annecy': 6, 'NDJ_Ndjamena': 8, 'NIM_Niamey': 8, 'NKC_Nouakchott': 8, 'ORN_Oran': 6, 'OUA_Ouagadougou': 8, 'OZZ_Ouarzazate': 6, 'CKY_Conakry': 8, 'PGX_Perigueux': 6, 'PHC_Port_Harcourt': 8, 'PTP_Pointe-a-Pitre': 2, 'PUF_Pau': 6, 'RBA_Rabat': 6, 'RDZ_Rodez': 6, 'RNE_Roanne': 6, 'RNS_Rennes': 6, 'SAH_Sanaa': 8, 'SBK_St_Brieuc': 6, 'SFA_Sfax': 6, 'TLM_Tlemcen': 6, 'TLN_Toulon': 6, 'TNR_Antananarivo': 6, 'UIP_Quimper': 6, 'VLL_Valladolid': 6, 'YAO_Yaounde': 8, 'GON_New_London/Groton': 2, 'HVN_New_Haven': 2, 'IPT_Williamsport': 2, 'RDG_Reading': 2, 'AOO_Altoona': 2, 'ART_Watertown_(US)_NY': 24, 'BFD_Bradford': 2, 'CBE_Cumberland': 2, 'CKB_Clarksburg': 2, 'DUJ_Dubois': 2, 'FKL_Franklin': 2, 'HGR_Hagerstown': 2, 'JHW_Jamestown_(US)_NY': 2, 'JST_Johnstown': 2, 'LBE_Latrobe': 2, 'LNS_Lancaster': 2, 'MGW_Morgantown': 2, 'PKB_Parkersburg/Marietta': 2, 'SHD_Staunton': 2, 'YHM_Hamilton_(CA)': 2, 'BOC_Bocas_del_Toro': 3, 'CHX_Changuinola': 3, 'CTD_Chitre': 3, 'DAV_David': 3, 'ELE_El_Real': 3, 'JQE_Jaque': 3, 'NMG_San_Miguel': 3, 'ONX_Colon': 3, 'OTD_Contadora': 3, 'BFQ_Bahia_Pinas': 3, 'GHE_Garachine': 3, 'PLP_La_Palma': 3, 'SYP_Santiago_(PA)': 3, 'SAX_Sambu': 3, 'EKO_Elko': 2, 'AGT_Ciudad_del_Este': 3, 'ARU_Aracatuba': 9, 'BAU_Bauru': 9, 'BHZ_Belo_Horizonte': 9, 'BPS_Porto_Seguro': 9, 'BSB_Brasilia': 9, 'CAC_Cascavel': 9, 'CCM_Criciuma': 9, 'CGB_Cuiaba': 9, 'CGR_Campo_Grande': 9, 'CPQ_Campinas': 9, 'CWB_Curitiba': 9, 'CXJ_Caxias_do_Sul': 9, 'FRC_Franca': 9, 'GVR_Governador_Valadares': 9, 'GYN_Goiania': 9, 'IGU_Iguassu_Falls': 9, 'IOS_Ilheus': 9, 'IPN_Ipatinga': 9, 'JDF_Juiz_de_Fora': 9, 'JOI_Joinville': 9, 'LAJ_Lages': 9, 'LDB_Londrina': 9, 'MCZ_Maceio': 9, 'MGF_Maringa': 9, 'MII_Marilia': 9, 'NAT_Natal': 9, 'NVT_Navegantes': 9, 'PPB_President_Prudente': 9, 'PVH_Porto_Velho': 9, 'RAO_Ribeirao_Preto': 9, 'SJK_Sao_Jose_Dos_Campos': 9, 'SJP_Sao_Jose_do_Rio_Preto': 9, 'SOD_Sorocaba': 9, 'TOW_Toledo_(BR)': 9, 'UBA_Uberaba': 9, 'UDI_Uberlandia': 9, 'UNA_Una': 9, 'VAG_Varginha': 9, 'VIX_Vitoria_(BR)': 9, 'XAP_Chapeco': 9, 'AXA_Anguilla': 2, 'DOM_Dominica': 2, 'EIS_Beef_Island': 2, 'MAZ_Mayaguez': 6, 'PSE_Ponce': 2, 'SBH_St_Barthelemy': 2, 'STI_Santiago_(DO)': 2, 'SVD_St_Vincent': 2, 'VIJ_Virgin_Gorda': 2, 'VQS_Vieques': 2, 'CDC_Cedar_City': 2, 'CNY_Moab': 2, 'TWF_Twin_Falls': 2, 'VEL_Vernal': 2, 'AGH_Helsingborg': 6, 'AJR_Arvidsjaur': 6, 'BLE_Borlange': 6, 'GEV_Gallivare': 6, 'HAD_Halmstad': 6, 'HFS_Hagfors': 6, 'HUV_Hudiksvall': 6, 'JKG_Jonkoping': 6, 'JYV_Jyvaskyla': 6, 'KLR_Kalmar': 6, 'KRF_Kramfors': 6, 'KRN_Kiruna': 6, 'KSD_Karlstad': 6, 'KVB_Skovde': 6, 'LLA_Lulea': 6, 'LPI_Linkoping': 6, 'LYC_Lycksele': 6, 'MHQ_Mariehamn': 6, 'MXX_Mora': 6, 'NRK_Norrkoping': 6, 'OER_Ornskoldsvik': 6, 'ORB_Orebro': 6, 'OSD_Ostersund': 6, 'OSK_Oskarshamn': 6, 'OUL_Oulu': 6, 'POR_Pori': 6, 'RNB_Ronneby': 6, 'SDL_Sundsvall': 6, 'SFT_Skelleftea': 6, 'SOO_Soderhamn': 6, 'SQO_Storuman': 6, 'HLF_Hultsfred': 6, 'THN_Trollhattan': 6, 'TKU_Turku': 6, 'TMP_Tampere': 6, 'UME_Umea': 6, 'VAA_Vaasa': 6, 'VBY_Visby': 6, 'VHM_Vilhelmina': 6, 'VXO_Vaxjo': 6, 'BKW_Beckley': 2, 'BLF_Bluefield': 2, 'YBC_Baie_Comeau': 2, 'YBG_Bagotville': 2, 'YGL_La_Grande': 2, 'YGW_Kuujjuarapik': 16, 'FSP_St_Pierre': 2, 'YMT_Chibougamau': 19, 'YRJ_Roberval': 19, 'YSL_St_Leonard': 2, 'YTF_Alma': 2, 'YUY_Rouyn': 2, \"YVO_Val_D'Or\": 2, 'YVP_Kuujjuaq': 16, 'ZBF_Bathurst_(CA)': 2, 'YYY_Mont_Joli': 2, 'BEN_Benghazi': 8, 'BNX_Banja_Luka': 6, 'LUG_Lugano': 6, 'OHD_Ohrid': 6, 'PRN_Pristina': 6, 'SIR_Sion': 6, 'SSG_Malabo': 8, 'JIL_Jilin': 1, 'JNZ_Jinzhou': 1, 'NDG_Qiqihar': 1, 'SHP_Qinhuangdao': 1, 'PUV_Poum': 0, 'BMY_Belep_Island': 0, 'KKX_Kikaiga_Shima': 1, 'OKE_Okino_Erabu': 1, 'TKN_Tokunoshima': 1, 'BFV_Buri_Ram': 1, 'CEI_Chiang_Rai': 1, 'JHG_Jinghong': 1, 'KKC_Khon_Kaen': 1, 'KOP_Nakhon_Phanom': 1, 'MAQ_Mae_Sot': 1, 'NAK_Nakhon_Ratchasima': 1, 'NST_Nakhon_Si_Thammarat': 1, 'PHS_Phitsanulok': 1, 'PHY_Phetchabun': 1, 'PRH_Phrae': 1, 'ROI_Roi_Et': 1, 'SNO_Sakon_Nakhon': 1, 'THS_Sukhothai': 1, 'TST_Trang': 1, 'UBP_Ubon_Ratchathani': 1, 'UNN_Ranong': 1, 'URT_Surat_Thani': 1, 'UTH_Udon_Thani': 1, 'VTE_Vientiane': 1, 'JIB_Djibouti': 8, 'ADE_Aden': 8, 'AMD_Ahmedabad': 8, 'BBI_Bhubaneswar': 8, 'BDQ_Vadodara': 8, 'BHJ_Bhuj': 8, 'BHU_Bhavnagar': 8, 'BHO_Bhopal': 8, 'CCJ_Kozhikode': 8, 'CJB_Coimbatore': 8, 'COK_Cochin': 8, 'DIU_Diu': 8, 'GOI_Goa': 8, 'IDR_Indore': 8, 'IXE_Mangalore': 8, 'IXM_Madurai': 8, 'IXU_Aurangabad': 8, 'JAI_Jaipur': 8, 'JGA_Jamnagar': 8, 'LKO_Lucknow': 8, 'NAG_Nagpur': 8, 'PNQ_Pune': 8, 'PUT_Puttaparthi': 8, 'RAJ_Rajkot': 8, 'RPR_Raipur': 8, 'UDR_Udaipur': 8, 'PBD_Porbandar': 8, 'AAN_Al_Ain': 8, 'ASM_Asmara': 8, 'ATZ_Assiut': 8, 'HOD_Hodeidah': 8, 'LTK_Latakia': 8, 'MED_Madinah': 8, 'PZU_Port_Sudan': 8, 'RKT_Ras_al_Khaimah': 8, 'SEB_Sebha': 8, 'TAI_Taiz': 8, 'UVL_Kharga': 8, 'DAK_Dakhla_Oasis': 8, 'TCP_Taba': 8, 'SUG_Surigao': 1, 'CJJ_Cheong_Ju_City': 1, 'OIR_Okushiri': 1, 'HTR_Hateruma': 1, 'OGN_Yonaguni_Jima': 1, 'TRA_Taramajima': 1, 'ASR_Kayseri': 8, 'DIY_Diyarbakir': 8, 'DNZ_Denizli': 8, 'ECN_Ercan': 6, 'ERZ_Erzurum': 8, 'EZS_Elazig': 8, 'GZT_Gaziantep': 8, 'ISE_Isparta': 8, 'KSY_Kars': 8, 'KYA_Konya': 8, 'MLX_Malatya': 8, 'NAV_Nevsehir': 8, 'SFQ_Sanliurfa': 8, 'SSX_Samsun': 6, 'TZX_Trabzon': 8, 'USQ_Usak': 8, 'VAN_Van': 8, 'VAS_Sivas': 8, 'BDJ_Banjarmasin': 1, 'BKS_Bengkulu': 1, 'BTH_Batam': 1, 'DJB_Jambi': 1, 'PGK_Pangkalpinang': 1, 'PKY_Palangkaraya': 1, 'PLM_Palembang': 1, 'PNK_Pontianak': 1, 'SRG_Semarang': 1, 'TJQ_Tanjung_Pandan': 1, 'TKG_Bandar_Lampung': 1, 'CMJ_Chi_Mei': 1, 'HSZ_Hsinchu': 1, 'BSD_Baoshan': 1, 'DIG_Diqing': 1, 'DLU_Dali_City': 1, 'LJG_Lijiang_City': 1, 'LUM_Luxi': 1, 'SYM_Simao': 1, 'ZAT_Zhaotong': 1, 'KUM_Yakushima': 1, 'RNJ_Yoronjima': 1, 'AGJ_Aguni': 1, 'KJP_Kerama': 1, 'KTD_Kitadaito': 1, 'MMD_Minami_Daito': 1, 'UEO_Kume_Jima': 1, 'WJU_Won-ju': 1, 'BMV_Ban_Me_Thuot': 1, 'DAD_Da_Nang': 1, 'DLI_Dalat': 1, 'HPH_Haiphong': 1, 'HUI_Hue': 1, 'NHA_Nha-Trang': 1, 'PKZ_Pakse': 1, 'PQC_Phuquoc': 1, 'PXU_Pleiku': 1, 'UIH_Quinhon': 1, 'AVK_Arvaikheer': 10, 'BYN_Bayankhongor': 10, 'COQ_Choibalsan': 10, 'DLZ_Dalanzadgad': 10, 'HVD_Khovd': 10, 'LTI_Altai': 10, 'MXV_Moron': 10, 'MXW_Mandalgobi': 10, 'UGA_Bulgan': 10, 'ULG_Ulgit': 10, 'ULO_Ulaangom': 10, 'ULZ_Uliastai': 10, 'UNR_Underkhaan': 10, 'ACH_Altenrhein': 6, 'KSC_Kosice': 6, 'OMO_Mostar': 6, 'HSN_Zhoushan': 1, 'BTU_Bintulu': 1, 'KUD_Kudat': 1, 'LDU_Lahad_Datu': 1, 'LMN_Limbang': 1, 'LWY_Lawas': 1, 'SDK_Sandakan': 1, 'SMM_Semporna': 1, 'TWU_Tawau': 1, 'BJM_Bujumbura': 8, 'FIH_Kinshasa': 8, 'KGL_Kigali': 8, 'POZ_Poznan': 6, 'TRZ_Tiruchirapally': 8, 'AAL_Aalborg': 6, 'FAE_Faroe_Islands': 16, 'KRP_Karup': 6, 'KRS_Kristiansand': 6, 'RNN_Bornholm': 6, 'SFJ_Kangerlussuaq': 16, 'SGD_Sonderborg': 6, 'SZZ_Szczecin': 6, 'TRD_Trondheim': 25, 'UAK_Narsarsuaq': 16, 'VST_Vasteras': 6, 'AGR_Agra': 8, 'ATQ_Amritsar': 8, 'GAU_Guwahati': 8, 'GWL_Gwalior': 8, 'IXB_Bagdogra': 8, 'IXC_Chandigarh': 8, 'IXJ_Jammu': 8, 'IXL_Leh': 8, 'PAT_Patna': 8, 'SXR_Srinagar': 8, 'VNS_Varanasi': 8, 'IVL_Ivalo': 6, 'JOE_Joensuu': 6, 'KAJ_Kajaani': 6, 'KAO_Kuusamo': 6, 'KEM_Kemi/Tornio': 6, 'KOK_Kokkola/Pietarsaari': 6, 'KTT_Kittila': 6, 'KUO_Kuopio': 6, 'LPP_Lappeenranta': 6, 'MIK_Mikkeli': 6, 'PES_Petrozavodsk': 8, 'RVN_Rovaniemi': 6, 'SJY_Seinajoki': 6, 'SVL_Savonlinna': 6, 'TAY_Tartu': 6, 'VRK_Varkaus': 6, 'BZV_Brazzaville': 8, 'DBV_Dubrovnik': 6, 'TPS_Trapani': 6, 'VIC_Vicenza': 6, 'AKA_Ankang': 1, 'DNH_Dunhuang': 1, 'HZG_Hanzhong': 1, 'UYN_Yulin': 1, 'ABD_Abadan': 8, 'ADU_Ardabil': 8, 'AWZ_Ahwaz': 8, 'AZD_Yazd': 8, 'BJB_Bojnord': 8, 'BND_Bandar_Abbas': 8, 'BUZ_Bushehr': 8, 'BXR_Bam': 8, 'IFN_Isfahan': 8, 'KER_Kerman': 8, 'KHD_Khorramabad': 8, 'KIH_Kish_Island': 8, 'KSH_Kermanshah': 8, 'LRR_Lar': 8, 'MHD_Mashad': 8, 'OMH_Urmieh': 8, 'RAS_Rasht': 8, 'RJN_Rafsanjan': 8, 'RZR_Ramsar': 8, 'SDG_Sanandaj': 8, 'SRY_Sary': 8, 'SYZ_Shiraz': 8, 'TBZ_Tabriz': 8, 'TCX_Tabas': 8, 'XBJ_Birjand': 8, 'ZAH_Zahedan': 8, 'ZBR_Chah-Bahar': 8, 'NAW_Narathiwat': 1, 'RBJ_Rebun': 1, 'RIS_Rishiri': 1, 'AAU_Asau': 1, 'BHQ_Broken_Hill': 1, 'CED_Ceduna': 1, 'CPD_Coober_Pedy': 1, 'CVC_Cleve': 1, 'KGC_Kingscote': 1, 'OLP_Olympic_Dam': 1, 'PLO_Port_Lincoln': 1, 'PUG_Port_Augusta': 1, 'WYA_Whyalla': 1, 'GLI_Glen_Innes': 1, 'IVR_Inverell': 1, 'JCK_Julia_Creek': 1, 'ULP_Quilpie': 1, 'BRT_Bathurst_Island': 1, 'CKI_Croker_Island': 1, 'GBL_Goulburn_Island': 1, 'GPN_Garden_Point': 1, 'KTR_Katherine': 26, 'MCV_Mcarthur_River': 1, 'MNG_Maningrida': 1, 'SNB_Snake_Bay': 1, 'AFT_Afutara': 4, 'AKS_Auki': 4, 'ATD_Atoifi': 4, 'BNY_Bellona': 4, 'EGM_Sege': 4, 'FRE_Fera_Island': 4, 'GZO_Gizo': 4, 'IRA_Kirakira': 4, 'KGE_Kagau': 4, 'MUA_Munda': 4, 'PRS_Parasi': 4, 'RNA_Arona': 4, 'SCZ_Santa_Cruz_Island': 4, 'VAO_Suavanao': 4, 'XYA_Yandina': 4, 'RNL_Rennell': 4, 'BMP_Brampton_Island': 1, 'BQL_Boulia': 1, 'DMD_Doomadgee_Mission': 1, 'WIN_Winton': 1, 'AGL_Wanigela': 11, 'AZB_Amazon_Bay': 11, 'BUA_Buka': 11, 'BUL_Bulolo': 11, 'CMU_Kundiawa': 11, 'DAU_Daru': 11, 'GKA_Goroka': 11, 'GUR_Alotau': 11, 'HGU_Mount_Hagen': 11, 'HKN_Hoskins': 11, 'KKD_Kokoda': 11, 'KMA_Kerema': 11, 'KVG_Kavieng': 11, 'KWO_Kawito': 11, 'LAE_Lae': 11, 'LNV_Lihir_Island': 11, 'LSA_Losuia': 11, 'MAG_Madang': 11, 'MAS_Manus_Island': 11, 'MDU_Mendi': 11, 'OPU_Balimo': 11, 'PNP_Popondetta': 11, 'RAB_Rabaul': 11, 'TBG_Tabubil': 11, 'TDB_Tetabedi': 11, 'TFI_Tufi': 11, 'TIZ_Tari': 11, 'UNG_Kiunga': 11, 'WBM_Wapenamanda': 11, 'WUG_Wau_(PG)': 11, 'WWK_Wewak': 11, 'KPS_Kempsey': 1, 'HGD_Hughenden': 1, 'SGO_St_George_(AU)': 1, 'CIO_Concepcion_(PY)': 3, 'BLA_Barcelona_(VE)': 3, 'BRM_Barquisimeto': 3, 'LSP_Las_Piedras': 3, 'ADZ_San_Andres_Island': 3, 'AUC_Arauca': 3, 'AXM_Armenia': 3, 'BGA_Bucaramanga': 3, 'CUC_Cucuta': 3, 'EJA_Barrancabermeja': 3, 'EYP_El_Yopal': 3, 'IBE_Ibague': 3, 'LET_Leticia': 3, 'MTR_Monteria': 3, 'MZL_Manizales': 3, 'NVA_Neiva': 3, 'PEI_Pereira': 3, 'PPN_Popayan': 3, 'PSO_Pasto': 3, 'RCH_Riohacha': 3, 'SMR_Santa_Marta': 3, 'UIB_Quibdo': 3, 'VVC_Villavicencio': 3, 'VUP_Valledupar': 3, 'EHL_El_Bolson': 3, 'BFN_Bloemfontein': 6, 'DUR_Durban': 6, 'ELS_East_London': 6, 'GRJ_George': 6, 'KIM_Kimberley': 6, 'NTY_Sun_City': 6, 'OMD_Oranjemund': 6, 'PLZ_Port_Elizabeth': 6, 'SBU_Springbok': 27, 'UTN_Upington': 6, 'WVB_Walvis_Bay': 6, 'PMQ_Perito_Moreno': 3, 'PUD_Puerto_Deseado': 3, 'ROY_Rio_Mayo': 3, 'BCA_Baracoa': 3, 'BYM_Bayamo': 3, 'GAO_Guantanamo': 3, 'GER_Nueva_Gerona': 3, 'MZO_Manzanillo_(CU)': 3, 'VIT_Vitoria_(ES)': 6, 'VTU_Las_Tunas': 3, 'BEW_Beira': 6, 'BLZ_Blantyre': 8, 'BUQ_Bulawayo': 8, 'FBM_Lubumbashi': 8, 'GBE_Gaborone': 6, 'HDS_Hoedspruit': 6, 'LLW_Lilongwe': 8, 'LUN_Lusaka': 8, 'MBD_Mmabatho': 6, 'MGH_Margate': 6, 'MPM_Maputo': 6, 'MSU_Maseru': 6, 'MTS_Manzini': 6, 'MUB_Maun': 6, 'NLA_Ndola': 8, 'NLP_Nelspruit': 6, 'PBZ_Plettenberg_Bay': 6, 'PHW_Phalaborwa': 6, 'PTG_Pietersburg': 6, 'PZB_Pietermaritzburg': 6, 'RCB_Richards_Bay': 6, 'SZK_Skukuza': 6, 'UTT_Umtata': 6, 'VFA_Victoria_Falls': 6, 'YVA_Moroni': 6, 'ZNZ_Zanzibar': 8, 'BJZ_Badajoz': 6, 'EAS_San_Sebastian': 6, 'GRO_Gerona': 6, 'GRX_Granada': 6, 'LCG_La_Coruna': 6, 'LEI_Almeria': 6, 'LEN_Leon': 6, 'PNA_Pamplona': 6, 'REU_Reus': 6, 'SDR_Santander': 6, 'VGO_Vigo': 6, 'LGS_Malargue': 3, 'CSZ_Coronel_Suarez': 3, 'OES_San_Antonio_Oeste': 3, 'GEL_Santo_Angelo': 9, 'PET_Pelotas': 9, 'PFB_Passo_Fundo': 9, 'RIA_Santa_Maria_(BR)': 9, 'RIG_Rio_Grande_(BR)': 9, 'OYA_Goya': 3, 'PRQ_President_Roque_Saenz_Pena': 3, 'RCQ_Reconquista': 3, 'ING_Lago_Argentino': 3, 'RYO_Rio_Turbio': 3, 'RZA_Santa_Cruz_(AR)': 3, 'AJU_Aracaju': 9, 'CAW_Campos': 9, 'TJA_Tarija': 3, 'BYC_Yacuiba': 3, 'PSZ_Puerto_Suarez': 3, 'SRE_Sucre': 3, 'TDD_Trinidad': 3, 'OYO_Tres_Arroyos': 3, 'EMX_El_Maiten': 3, 'TIS_Thursday_Island': 12, 'TCA_Tennant_Creek': 26, 'ELC_Elcho_Island': 1, 'LEL_Lake_Evella': 1, 'NUB_Numbulwar': 26, 'CNC_Coconut_Island': 12, 'GIC_Boigu_Island': 12, 'KUG_Kubin_Island': 12, 'MYI_Murray_Island': 12, 'NLF_Darnley_Island': 12, 'SYU_Warraber_Island': 12, 'UBB_Mabuiag_Island': 12, 'XMY_Yam_Island': 12, 'ONG_Mornington_Island': 1, 'SWQ_Sumbawa': 1, 'DRB_Derby': 1, 'FIZ_Fitzroy_Crossing': 1, 'BDO_Bandung': 1, 'AMQ_Ambon': 1, 'BIK_Biak': 1, 'KDI_Kendari': 1, 'PLW_Palu': 1, 'SOQ_Sorong': 1, 'TIM_Tembagapura': 1, 'LXA_Lhasa': 1, 'BPX_Bangda': 1, 'XIC_Xichang': 1, 'BZL_Barisal': 8, 'CGP_Chittagong': 8, \"CXB_Cox's_Bazar\": 8, 'JSR_Jessore': 8, 'PBH_Paro': 8, 'RJH_Rajshahi': 8, 'SPD_Saidpur': 8, 'ZYL_Sylhet': 8, 'BBO_Berbera': 8, 'LYP_Faisalabad': 8, 'MUX_Multan': 8, 'PEW_Peshawar': 8, 'RIY_Riyan_Mukalla': 8, 'SLL_Salalah': 8, 'DIN_Dien_Bien_Phu': 1, 'SQH_Son-La': 1, 'FUG_Fuyang': 1, 'BHR_Bharatpur': 8, 'BIR_Biratnagar': 8, 'BWA_Bhairawa': 8, 'JKR_Janakpur': 8, 'KEP_Nepalganj': 8, 'LUA_Lukla': 8, 'PKR_Pokhara': 8, 'RRG_Rodrigues_Island': 6, 'ZSE_St_Pierre_de_la_Reunion': 6, 'BBM_Battambang': 1, 'KKZ_Koh_Kong': 1, 'RBE_Ratanankiri': 1, 'TNX_Stung_Treng': 1, 'UTP_Utapao': 1, 'AKY_Sittwe': 13, 'HEH_Heho': 13, 'KAW_Kawthaung': 13, 'KYP_Kyaukpyu': 13, 'LIW_Loikaw': 13, 'MDL_Mandalay': 13, 'MGZ_Myeik': 13, 'MNU_Maulmyine': 13, 'NYU_Nyaung-u': 13, 'KET_Kengtung': 13, 'KMV_Kalemyo': 13, 'LSH_Lashio': 13, 'SNW_Thandwe': 13, 'THL_Tachilek': 13, 'TVY_Dawe': 13, 'HFA_Haifa': 6, 'JRS_Jerusalem': 6, 'KSW_Kiryat_Shmona': 6, 'RPN_Rosh_Pina': 6, 'AAT_Altay': 1, 'HTN_Hotan': 1, 'KHG_Kashi': 1, 'KRL_Korla': 28, 'KRY_Karamay': 1, 'YIN_Yining': 1, 'SHS_Shashi': 1, 'FJR_Al-Fujairah': 8, 'GXF_Seiyun': 8, 'KGS_Kos': 8, 'HGN_Mae_Hong_Son': 1, 'LPQ_Luang_Prabang': 1, 'NNT_Nan': 1, 'ABT_Al-Baha': 8, 'AHB_Abha': 8, 'AJF_Jouf': 8, 'AQI_Qaisumah': 8, 'BHH_Bisha': 8, 'DOG_Dongola': 8, 'EAM_Nejran': 8, 'EJH_Wedjh': 8, 'ELQ_Gassim': 8, 'GIZ_Gizan': 8, 'HAS_Hail': 8, 'TIF_Taif': 8, 'TUU_Tabuk': 8, 'WAE_Wadi_Ad_Dawasir': 8, 'YNB_Yanbu': 8, 'MKM_Mukah': 1, 'BHV_Bahawalpur': 8, 'DEA_Dera_Ghazi_Khan': 8, 'GWD_Gwadar': 8, 'JAG_Jacobabad': 8, 'JIW_Jiwani': 8, 'KCF_Kadanwari': 8, 'MJD_Mohenjodaro': 8, 'ORW_Ormara': 8, 'PJG_Panjgur': 8, 'PSI_Pasni': 8, 'RYK_Rahim_Yar_Khan': 8, 'SKZ_Sukkur': 8, 'TUK_Turbat': 8, 'UET_Quetta': 8, 'WNS_Nawabshah': 8, 'IXZ_Port_Blair': 8, 'TIR_Tirupati': 8, 'VTZ_Vishakhapatnam': 8, 'BTJ_Banda_Aceh': 1, 'GAN_Gan_Island': 6, 'HAQ_Hanimaadhoo': 6, 'KDM_Kaadedhdhoo': 6, 'KDO_Kadhdhoo': 6, 'BBN_Bario': 1, 'LBP_Long_Banga': 1, 'MUR_Marudi': 1, 'MZV_Mulu': 1, 'MKZ_Malacca': 1, 'HBT_Hafr_Albatin': 8, 'HOF_Hofuf': 8, 'RAE_Arar': 8, 'RAH_Rafha': 8, 'URY_Gurayat': 8, 'FEG_Fergana': 8, 'KSQ_Karshi': 8, 'NMA_Namangan': 8, 'TMJ_Termez': 8, 'FUN_Funafuti_Atol': 1, 'ICI_Cicia': 1, 'KXF_Koro_Island': 1, 'LEV_Bureta': 1, 'LKB_Lakeba': 1, 'MFJ_Moala': 1, 'NGI_Ngau_Island': 1, 'RTA_Rotuma_Island': 1, 'VBV_Vanuabalavu': 1, 'LUC_Laucala_Island': 1, 'XCH_Christmas_Island': 1, 'KAX_Kalbarri': 1, 'EXM_Exmouth_Gulf': 1, 'BQW_Balgo_Hills': 1, 'IVW_Inverway': 1, 'WYN_Wyndham': 1, 'AKX_Aktyubinsk': 8, 'CIT_Shimkent': 8, 'GUW_Atyrau': 8, 'PWQ_Pavlodar': 8, 'SCO_Aktau': 8, 'URA_Uralsk': 8, 'OHO_Okhotsk': 1, 'BQS_Blagoveschensk': 8, 'KXK_Komsomolsk_Na_Amure': 8, 'PYJ_Polyarnyj': 8, 'ULY_Ulyanovsk': 8, 'AOK_Karpathos': 8, 'AXD_Alexandroupolis': 8, 'CFU_Kerkyra': 6, 'CHQ_Chania': 8, 'EFL_Kefallinia': 8, 'IOA_Ioannina': 6, 'JIK_Ikaria_Island': 8, 'JKH_Chios': 8, 'JMK_Mikonos': 8, 'JNX_Naxos_Is': 8, 'JSH_Sitia': 8, 'JSY_Syros_Island': 8, 'JTR_Thira': 8, 'KIT_Kithira': 8, 'KLX_Kalamata': 8, 'KVA_Kavala': 6, 'KZI_Kozani': 8, 'LRS_Leros': 8, 'LXS_Lemnos': 8, 'MJT_Mytilene': 8, 'MLO_Milos': 8, 'PAS_Paros': 8, 'PVK_Preveza/Lefkas': 6, 'SMI_Samos': 8, 'ZTH_Zakinthos': 8, 'KSO_Kastoria': 8, 'SRI_Samarinda': 29, 'TJG_Tanjung': 1, 'TRK_Tarakan': 29, 'AJL_Aizawl': 8, 'DIB_Dibrugarh': 8, 'IMF_Imphal': 8, 'IXA_Agartala': 8, 'IXS_Silchar': 8, 'JRH_Jorhat': 8, 'TEZ_Tezpur': 8, 'DMU_Dimapur': 8, 'DEZ_Deirezzor': 8, 'DZA_Dzaoudzi': 6, 'NOS_Nossi-Be': 6, 'TMM_Tamatave': 6, 'PRI_Praslin_Island': 6, 'GIL_Gilgit': 8, 'KDU_Skardu': 8, 'MFG_Muzaffarabad': 8, 'RAZ_Rawala_Kot': 8, 'SDT_Saidu_Sharif': 8, 'FRB_Forbes': 14, 'NGA_Young': 14, 'BWQ_Brewarrina': 1, 'CAZ_Cobar': 1, 'CNB_Coonamble': 1, 'NYN_Nyngan': 1, 'COJ_Coonabarabran': 1, 'SIX_Singleton': 1, \"NFO_Niuafo'ou\": 1, 'NTT_Niuatoputapu': 1, 'GNI_Green_Island': 1, 'KYD_Orchid_Island': 1, 'VLS_Valesdir': 4, 'AWD_Aniwa': 4, 'PBJ_Paama': 4, 'SSR_Sara': 4, 'MWF_Maewo': 4, 'RCL_Redcliffe': 4, 'WLH_Walaha': 4, 'OLJ_Olpoi': 4, 'ZGU_Gaua': 4, 'AUY_Aneityum': 4, 'FTA_Futuna_Island': 4, 'ULB_Ulei': 4, 'SLK_Saranac_Lake': 2, 'PLB_Plattsburgh': 2, 'BNS_Barinas': 3, 'CAJ_Canaima': 3, 'CBL_Ciudad_Bolivar': 3, 'CUM_Cumana': 3, 'CUP_Carupano': 3, 'CZE_Coro': 3, 'LRV_Los_Roques': 3, 'MRD_Merida_(VE)': 3, 'MUN_Maturin': 3, 'PMV_Porlamar': 3, 'PYH_Puerto_Ayacucho': 3, 'PZO_Puerto_Ordaz': 3, 'SFD_San_Fernando_de_Apure': 3, 'SOM_San_Tome': 3, 'SVZ_San_Antonio_(VE)': 3, 'VIG_El_Vigia': 3, 'VLV_Valera': 3, 'CYB_Cayman_Brac': 2, 'LCE_La_Ceiba': 30, 'POU_Poughkeepsie': 2, 'PQM_Palenque': 2, 'LOV_Monclova': 2, 'PDS_Piedras_Negras': 2, 'ERF_Erfurt': 6, 'SBZ_Sibiu': 6, 'SCN_Saarbrucken': 6, 'ASD_Andros_Town': 2, \"ATC_Arthur's_Town\": 2, 'AXP_Spring_Point': 2, 'CRI_Crooked_Island': 2, 'LGI_Deadmans_Cay': 2, 'MAY_Mangrove_Cay': 2, 'MYG_Mayaguana': 2, 'RSD_Rock_Sound': 2, 'SAQ_San_Andros': 2, 'SML_Stella_Maris': 2, 'TZN_South_Andros': 2, 'BCL_Barra_Colorado': 3, 'FON_Fortuna': 3, 'GLF_Golfito': 3, 'LIR_Liberia': 3, 'PJM_Puerto_Jimenez': 3, 'PLD_Playa_Samara': 3, 'PMZ_Palmar': 3, 'NOB_Nosara_Beach': 3, 'PBP_Punta_Islita': 3, 'TMU_Tambor': 3, 'TNO_Tamarindo': 3, 'TTQ_Tortuquero': 3, 'XQP_Quepos': 3, 'ARW_Arad': 6, 'FAJ_Fajardo': 2, 'TOV_Tortola': 2, 'UCA_Utica': 2, 'BVC_Boa_Vista_(CV)': 31, 'OXB_Bissau': 8, 'RAI_Praia': 31, 'SNE_Sao_Nicolau': 31, 'TMS_Sao_Tome_Island': 8, 'VXE_Sao_Vicente': 31, 'SPW_Spencer': 2, 'OTM_Ottumwa': 2, 'GWT_Westerland': 6, 'MTO_Mattoon': 2, 'MBL_Manistee': 2, 'BZG_Bydgoszcz': 6, 'RZE_Rzeszow': 8, 'YFB_Iqaluit': 16, 'YKF_Kitchener': 2, 'YBR_Brandon': 2, 'YBV_Berens_River': 2, 'YDN_Dauphin': 2, 'YFO_Flin_Flon': 2, 'YGO_Gods_Narrows': 16, 'YHD_Dryden': 2, 'YIV_Island_Lake/Garden_Hill': 16, 'YNE_Norway_House': 2, 'YOH_Oxford_House': 16, 'YPM_Pikangikum': 32, 'YQD_The_Pas': 2, 'YRL_Red_Lake': 32, 'YRT_Rankin_Inlet': 16, 'YST_Ste_Therese_Point': 16, 'YTH_Thompson': 16, 'YGX_Gillam': 16, 'YXL_Sioux_Lookout': 32, 'YYQ_Churchill': 16, 'ZGI_Gods_River': 16, 'CUK_Caye_Caulker': 2, 'DGA_Dangriga': 33, 'SPR_San_Pedro': 2, 'JBR_Jonesboro': 2, 'HRO_Harrison': 2, 'TVL_Lake_Tahoe': 2, 'KSA_Kosrae': 1, 'BII_Bikini_Atoll': 5, 'LIK_Likiep_Island': 5, 'MJE_Majkin': 5, 'RNP_Rongelap_Island': 5, 'UJE_Ujae_Island': 5, 'WTO_Wotho_Island': 5, 'LML_Lae_Island': 5, 'AIM_Ailuk_Island': 5, 'BSO_Basco': 1, 'KHS_Khasab': 8, 'SUH_Sur': 8, 'FNA_Freetown': 8, 'EWB_New_Bedford': 2, 'NEV_Nevis': 2, 'ASF_Astrakhan': 6, 'BAY_Baia_Mare': 6, 'IAS_Iasi': 6, 'OMR_Oradea': 6, 'SUJ_Satu_Mare': 6, 'TGM_Tirgu_Mures': 6, 'SCV_Suceava': 6, 'ESU_Essaouira': 6, 'EUN_Laayoune': 6, 'TTU_Tetuan': 6, 'CSK_Cap_Skirring': 8, 'ZIG_Ziguinchor': 8, 'BEB_Benbecula': 6, 'BRR_Barra': 6, 'CAL_Campbeltown': 6, 'ILY_Islay': 6, 'SYY_Stornoway': 6, 'TRE_Tiree': 6, 'IFO_Ivano-Frankovsk': 8, 'MPW_Mariupol': 8, 'TIV_Tivat': 8, 'HOR_Horta': 6, 'PXO_Porto_Santo': 6, 'TER_Terceira': 6, 'JOS_Jos': 8, 'SKO_Sokoto': 8, 'MIU_Maiduguri': 8, 'YOL_Yola': 8, 'CFR_Caen': 6, 'LIL_Lille': 6, 'PIS_Poitiers': 6, 'URO_Rouen': 6, 'CEQ_Cannes': 6, 'MCM_Monte_Carlo': 6, 'AES_Aalesund': 6, 'BDU_Bardufoss': 25, 'BOO_Bodo': 25, 'EVE_Harstad-Narvik': 25, 'FDE_Forde': 6, 'FRO_Floro': 6, 'HAU_Haugesund': 6, 'HOV_Orsta-Volda': 6, 'KSU_Kristiansund': 6, 'MOL_Molde': 6, 'PLQ_Palanga': 6, 'RRS_Roros': 6, 'SDN_Sandane': 6, 'SOG_Sogndal': 6, 'SRP_Stord': 6, 'TOS_Tromso': 25, 'VDB_Fagernes': 6, 'CAP_Cap_Haitien': 15, 'JEE_Jeremie': 2, 'PAX_Port_de_Paix': 15, 'GDT_Grand_Turk': 15, 'NCA_North_Caicos': 15, 'XSC_South_Caicos': 15, 'BRQ_Brno': 6, 'OSR_Ostrava': 6, 'AEY_Akureyri': 16, 'BIU_Bildudalur': 16, 'EGS_Egilsstadir': 16, 'HFN_Hornafjordur': 16, 'IFJ_Isafjordur': 16, 'KUS_Kulusuk_Island': 16, 'SAK_Saudarkrokur': 16, 'VEY_Vestmannaeyjar': 16, 'EPS_El_Portillo_/_Samana': 6, 'EUX_St_Eustatius': 2, 'SAB_Saba': 2, 'BCM_Bacau': 6, 'YDF_Deer_Lake_(CA)_NF': 20, 'YGR_Iles_de_la_Madeleine': 2, 'YJT_Stephenville': 20, 'YQI_Yarmouth': 2, 'YQY_Sydney_(CA)': 2, 'YCH_Miramichi': 2, 'YCL_Charlo': 2, 'YXK_Rimouski': 2, 'YZV_Sept-Iles': 20, 'IGM_Kingman': 2, 'GGW_Glasgow_(US)': 2, 'LWT_Lewistown': 2, 'MLS_Miles_City': 2, 'OLF_Wolf_Point': 2, 'SDY_Sidney': 2, 'BYW_Blakely_Island': 17, 'AET_Allakaket': 7, 'AKP_Anaktuvuk_Pass': 7, 'BTI_Barter_Island': 7, 'BTT_Bettles': 7, 'CHP_Circle_Hot_Springs': 7, 'EAA_Eagle': 7, 'DJN_Delta_Junction': 7, 'FYU_Fort_Yukon': 7, 'HKB_Healy_Lake': 7, 'HSL_Huslia': 7, 'HUS_Hughes': 7, 'IRC_Circle': 7, 'KBC_Birch_Creek': 7, 'LMA_Lake_Minchumina': 7, 'MLY_Manley_Hot_Springs': 7, 'RMP_Rampart': 7, 'SHG_Shungnak': 7, 'SVS_Stevens_Village': 7, 'TAL_Tanana': 7, 'WBQ_Beaver': 7, 'YDA_Dawson_City': 16, 'KAL_Kaltag': 7, 'MNT_Minto': 7, 'NUL_Nulato': 7, 'OBU_Kobuk': 7, 'TKJ_Tok': 7, 'UTO_Utopia_Creek': 7, 'VEE_Venetie': 7, 'YOC_Old_Crow': 16, 'OTS_Anacortes': 17, 'AGN_Angoon': 18, 'CUW_Cube_Cove': 18, 'ELV_Elfin_Cove': 18, 'EXI_Excursion_Inlet': 18, 'GST_Gustavus': 18, 'HNH_Hoonah': 18, 'HNS_Haines': 18, 'KAE_Kake': 18, 'PEC_Pelican': 18, 'PSG_Petersburg': 18, 'SGY_Skagway': 18, 'SIT_Sitka': 18, 'TKE_Tenakee': 18, 'YAK_Yakutat': 18, 'HYL_Hollis': 18, 'KCC_Coffman_Cove': 18, 'KLW_Klawock': 18, 'KTB_Thorne_Bay': 18, 'CGA_Craig': 18, 'DLO_Dolomi': 18, 'EDA_Edna_Bay': 18, 'KPB_Point_Baker': 18, 'KWF_Waterfall': 18, 'MTM_Metlakatla': 18, 'SCJ_Smith_Cove': 18, 'WMK_Meyers_Chuck': 18, 'WRG_Wrangell': 18, 'KXA_Kasaan': 18, 'LIJ_Long_Island_(US)': 18, 'NKI_Naukiti': 18, 'PPV_Port_Protection': 18, 'WWP_Whale_Pass': 18, 'CWS_Center_Island': 17, 'YPY_Fort_Chipewyan': 16, 'YPA_Prince_Albert': 34, 'YVC_La_Ronge': 34, 'YCB_Cambridge_Bay': 16, 'YCO_Kugluktuk_Coppermine': 16, 'YEV_Inuvik': 16, 'YFJ_Snare_Lake': 16, 'YFS_Fort_Simpson': 16, 'YLE_Wha_Ti__Lac_la_Martre': 16, 'YRA_Rae_Lakes': 16, 'YRB_Resolute': 16, 'YSG_Lutselke_Snowdrift': 16, 'YVQ_Norman_Wells': 16, 'YWJ_Deline': 16, 'YYH_Taloyoak': 16, 'YHK_Gjoa_Haven': 16, 'YMO_Moosonee': 19, 'YAG_Fort_Frances': 2, 'YFH_Fort_Hope': 32, 'YQK_Kenora': 2, 'YWP_Webequie': 32, 'YYU_Kapuskasing': 2, 'YAY_St_Anthony': 20, 'YYR_Goose_Bay': 20, 'YGB_Gillies_Bay': 2, 'QBC_Bella_Coola': 21, 'YYE_Fort_Nelson': 2, 'YDQ_Dawson_Creek': 2, 'ZEL_Bella_Bella': 21, 'PUQ_Punta_Arenas': 3, 'ZAL_Valdivia': 3, 'ESR_El_Salvador': 3, 'ARI_Arica': 3, 'BBA_Balmaceda': 3, 'BOY_Bobo_Dioulasso': 8, 'EBJ_Esbjerg': 6, 'KOI_Kirkwall': 6, 'SDZ_Shetland_Islands': 6, 'WIC_Wick': 6, 'JCU_Ceuta_Heliport': 6, 'TGD_Podgorica': 6, 'FKB_Karlsruhe/Baden_Baden': 6, 'MHG_Mannheim': 6, 'SKE_Skien': 6, 'ANE_Angers': 6, 'ANG_Angouleme': 6, 'DIJ_Dijon': 6, 'KAC_Kameshli': 8, 'ACI_Alderney': 6, 'RLG_Rostock-Laage': 6, 'NDZ_Nordholz-Spieka': 35, 'ARK_Arusha': 8, 'MBA_Mombasa': 8, 'MWZ_Mwanza': 8, 'NDB_Nouadhibou': 8, 'VDE_Valverde': 6, 'GZM_Gozo': 6, 'ASV_Amboseli': 8, 'EDL_Eldoret': 8, 'KIS_Kisumu': 8, 'KWY_Kiwayu': 8, 'LAU_Lamu': 8, 'LKG_Lokichoggio': 8, 'MRE_Mara_Lodges': 8, 'MYD_Malindi': 8, 'NYK_Nanyuki': 8, 'SLM_Salamanca': 6, 'KZS_Kastelorizo': 6, 'DLD_Geilo': 6, 'GAF_Gafsa': 6, 'PUY_Pula': 6, 'ZAD_Zadar': 6, 'DOD_Dodoma': 8, 'LDI_Lindi': 8, 'MFA_Mafia': 8, 'MYW_Mtwara': 8, 'NCH_Nachingwea': 8, 'SHY_Shinyanga': 8, 'TKQ_Kigoma': 8, 'TBO_Tabora': 8, 'MOA_Moa': 6, 'LRL_Niamtougou': 8, 'EGX_Egegik': 7, 'KLL_Levelock': 7, 'WSN_South_Naknek': 7, 'CHU_Chuathbaluk': 7, 'HCR_Holy_Cross': 7, 'KLG_Kalskag': 7, 'SHX_Shageluk': 7, 'SLQ_Sleetmute': 7, 'RSH_Russian_Mission': 7, 'SRV_Stony_River': 7, 'ATT_Atmautluak': 7, 'AUK_Alakanuk': 7, 'CYF_Chefornak': 7, 'CZF_Cape_Romanzof': 7, 'GNU_Goodnews_Bay': 7, 'HPB_Hooper_Bay': 7, 'KPN_Kipnuk': 7, 'KUK_Kasigluk': 7, 'KWK_Kwigillingok': 7, 'KWN_Quinhagak': 7, 'KWT_Kwethluk': 7, 'MLL_Marshall': 7, 'MYU_Mekoryuk': 7, 'OOK_Toksook_Bay': 7, 'PQS_Pilot_Station': 7, 'SCM_Scammon_Bay': 7, 'TNK_Tununak': 7, 'TOG_Togiak': 7, 'VAK_Chevak': 7, 'WNA_Napakiak': 7, 'WTL_Tuntutuliak': 7, 'EEK_Eek': 7, 'PKA_Napaskiak': 7, 'TLT_Tuluksak': 7, 'WWT_Newtok': 7, 'ADK_Adak_Island': 7, 'KFP_False_Pass': 7, 'KVC_King_Cove': 7, 'NLG_Nelson_Lagoon': 7, 'CLP_Clarks_Point': 7, 'EHM_Cape_Newenham': 7, 'KEK_Ekwok': 7, 'KGK_Koliganek': 7, 'KKU_Ekuk': 7, 'KMO_Manokotak': 7, 'PCA_Portage_Creek': 7, 'WKK_Aleknagik': 7, 'TWA_Twin_Hills': 7, 'AKB_Atka': 7, 'IKO_Nikolski': 7, 'KQA_Akutan': 7, 'KOT_Kotlik': 7, 'KYU_Koyukuk': 7, 'RBY_Ruby': 7, 'SOV_Seldovia': 7, 'PGM_Port_Graham': 7, 'NNL_Nondalton': 7, 'PDB_Pedro_Bay': 7, 'KNK_Kakhonak': 7, 'PTA_Port_Alsworth': 7, 'LVD_Lime_Village': 7, 'NIB_Nikolai': 7, 'TCT_Takotna': 7, 'TLJ_Tatalina': 7, 'DIO_Diomede_Island': 7, 'DRG_Deering': 7, 'ELI_Elim': 7, 'GAM_Gambell': 7, 'KKA_Koyuk': 7, 'KPC_Port_Clarence': 7, 'KTS_Teller_Mission': 7, 'SHH_Shishmaref': 7, 'SKK_Shaktoolik': 7, 'SVA_Savoonga': 7, 'TLA_Teller': 7, 'WAA_Wales': 7, 'WBB_Stebbins': 7, 'WMO_White_Mountain': 7, 'TNC_Tin_City': 7, 'ABL_Ambler': 7, 'BKC_Buckland': 7, 'IAN_Kiana': 7, 'KVL_Kivalina': 7, 'LUR_Cape_Lisburne': 7, 'ORV_Noorvik': 7, 'PHO_Point_Hope': 7, 'WLK_Selawik': 7, 'WTK_Noatak': 7, 'KCL_Chignik': 7, 'KIB_Ivanof_Bay': 7, 'NUI_Nuiqsut': 7, 'SMK_St_Michael': 7, 'AIN_Wainwright': 7, 'ATK_Atqasuk': 7, 'PIZ_Point_Lay': 7, 'MOU_Mountain_Village': 7, 'SXP_Sheldon_Point': 7, 'JGN_Jiayuguan': 1, 'HLH_Ulanhot': 1, 'PIX_Pico_Island': 6, 'SMA_Santa_Maria_(XB)': 6, 'ISN_Williston': 2, 'OFK_Norfolk_(US)_NE': 22, 'YKN_Yankton': 22, 'WRL_Worland': 2, 'SSM_Sault_Ste_Marie_(US)': 2, 'AMH_Arba_Mintch': 8, 'BJR_Bahar_Dar': 8, 'DBM_Debra_Marcos': 8, 'DEM_Dembidollo': 36, 'DIR_Dire_Dawa': 37, 'DSE_Dessie': 8, 'GDQ_Gondar': 8, 'GOB_Goba': 8, 'GOR_Gore': 36, 'HGA_Hargeisa': 8, 'JIM_Jimma': 36, 'LLI_Lalibela': 8, 'MKS_Mekane_Selam': 8, 'MQX_Makale': 8, 'DBT_Debra_Tabor': 8, 'VIL_Dakhla': 6, 'AZR_Adrar': 6, 'CBH_Bechar': 6, 'DJG_Djanet': 6, 'ELG_El_Golea': 6, 'ELU_El_Oued': 6, 'GHA_Ghardaia': 6, 'GJL_Jijel': 6, 'HME_Hassi_Messaoud': 6, 'IAM_In_Amenas': 6, 'INZ_In_Salah': 6, 'MUW_Mascara': 6, 'OGX_Ouargla': 6, 'TEE_Tbessa': 6, 'TGR_Touggourt': 6, 'TID_Tiaret': 6, 'TIN_Tindouf': 6, 'TMR_Tamanrasset': 6, 'TMX_Timimoun': 6, 'VVZ_Illizi': 6, 'ADF_Adiyaman': 6, 'AJI_Agri': 6, 'BAL_Batman': 6, 'BZI_Balikesir': 6, 'ERC_Erzincan': 6, 'KCM_Kahramanmaras': 6, 'MQM_Mardin': 6, 'MSR_Mus': 6, 'SXZ_Siirt': 6, 'SIC_Sinop_(TR)': 6, 'KAB_Kariba': 8, 'DYU_Dushanbe': 8, 'UIK_Ust-Ilimsk': 8, 'HUQ_Houn': 8, 'LTD_Ghadames': 8, 'SRX_Sert': 8, 'TOB_Tobruk': 8, 'KDL_Kardla': 6, 'LUD_Luderitz': 6, 'MPA_Mpacha': 6, 'OKU_Mokuti_Lodge': 6, 'OND_Ondangwa': 6, 'SWP_Swakopmund': 6, 'SDD_Lubango': 6, 'HAE_Havasupai': 2, 'JUL_Juliaca': 3, 'TBP_Tumbes': 3, 'PEM_Puerto_Maldonado': 3, 'CIJ_Cobija': 3, 'BGF_Bangui': 8, 'PNR_Pointe_Noire': 8, 'KSE_Kasese': 8, 'PAF_Pakuba': 8, 'RUA_Arua': 8, 'ULU_Gulu': 8, 'OYG_Moyo': 8, 'KOU_Koulamoutou': 8, 'MJL_Mouila': 8, 'MKU_Makokou': 8, 'MVB_Franceville': 8, 'OYE_Oyem': 8, 'POG_Port_Gentil': 8, 'TCH_Tchibanga': 8, 'MSL_Muscle_Shoals': 2, 'BVB_Boa_Vista_(BR)': 9, 'LBR_Labrea': 9, 'PIN_Parintins': 9, 'RBR_Rio_Branco': 9, 'STM_Santarem': 9, 'TBT_Tabatinga': 9, 'TFF_Tefe': 9, 'TMT_Trombetas': 9, 'ATM_Altamira': 9, 'BVS_Breves': 9, 'IMP_Imperatriz': 9, 'MAB_Maraba': 9, 'MCP_Macapa': 9, 'MEU_Monte_Dourado': 9, 'SLZ_Sao_Luiz': 9, 'THE_Teresina': 9, 'TUR_Tucurui': 9, 'BUN_Buenaventura': 3, 'GPI_Guapi': 3, 'IPI_Ipiales': 3, 'TCO_Tumaco': 3, 'CZU_Corozal_(CO)': 3, 'MGN_Magangue': 3, 'MMP_Mompos': 3, 'STB_Santa_Barbara_Zulia': 3, 'APO_Apartado': 3, 'CAQ_Caucasia': 3, 'CPB_Capurgana': 3, 'NQU_Nuqui': 3, 'PBE_Puerto_Berrio': 3, 'CPV_Campina_Grande': 9, 'FEN_Fernando_de_Noronha': 9, 'JPA_Joao_Pessoa': 9, 'PNZ_Petrolina': 9, 'JDO_Juazeiro_do_Norte': 9, 'TQR_San_Domino_Island_(tremiti_Islands)': 6, 'PHB_Parnaiba': 9, 'PNL_Pantelleria': 6, 'BRA_Barreiras': 9, 'LEC_Lencois': 9, 'VDC_Vitoria_Da_Conquista': 9, 'NNM_Naryan-Mar': 8, 'BIN_Bamiyan': 8, 'CKL_Chkalovsky': 8, 'NFG_Nefteyugansk': 8, 'ADH_Aldan': 8, 'ABA_Abakan': 8, 'PWE_Pevek': 8, 'NOJ_Nojabrxsk': 8, 'ATY_Watertown_(US)_SD': 2, 'INL_International_Falls': 23, 'TVF_Thief_River_Falls': 23, 'HON_Huron': 2, 'HIB_Hibbing/Chisholm': 23, 'DVL_Devils_Lake': 2, 'FOD_Fort_Dodge': 2, 'GPZ_Grand_Rapids_(US)_MN': 2, 'ABS_Abu_Simbel': 6, 'EYL_Yelimane': 8, 'KNZ_Kenieba': 8, 'KYS_Kayes': 8, 'MZI_Mopti': 38, 'NIX_Nioro': 8, 'MPY_Maripasoula': 9, \"OYP_St_Georges_de_L'oyapock\": 9, 'XAU_Saul': 9, 'CIW_Canouan_Island': 2, 'UNI_Union_Island': 2, 'EBD_El_Obeid': 8, 'ELF_El_Fasher': 8, 'JUB_Juba': 8, 'UYL_Nyala': 8, 'MVR_Maroua': 8, 'EMN_Nema': 8, 'SEY_Selibaby': 8, 'DSD_La_Desirade': 2, 'GBJ_Marie_Galante': 2, 'LSS_Terre-de-Haut': 2, 'SFG_St_Martin': 2, 'AAY_Al_Ghaydah': 8, 'AXK_Ataq': 8, 'AMY_Ambatomainty': 6, 'ANM_Antalaha': 6, 'BMD_Belo': 6, 'DIE_Antsiranana': 6, 'FTU_Fort_Dauphin': 39, 'MJN_Majunga': 6, 'MNJ_Mananjary': 39, 'MOQ_Morondava': 39, 'MXT_Maintirano': 6, 'SMS_Ste_Marie': 6, 'SVB_Sambava': 6, 'TLE_Tulear': 39, 'RVA_Farafangana': 39, 'TTS_Tsaratanana': 6, 'TVA_Morafenobe': 6, 'VVB_Mahanoro': 6, 'WAI_Antsohihy': 6, 'WAM_Ambatondrazaka': 6, 'WFI_Fianarantsoa': 6, 'WMN_Maroantsetra': 6, 'GOU_Garoua': 8, 'NGE_Ngaoundere': 8, 'MSS_Massena': 24, 'OGS_Ogdensburg': 24, 'MOC_Montes_Claros': 9, 'CKS_Carajas': 9, 'PMW_Palmas': 9, 'BVH_Vilhena': 9, 'JIA_Juina': 9, 'OPS_Sinop_(BR)': 9, 'JUA_Juara': 9, 'CMG_Corumba': 9, 'GPB_Guarapuava': 9, 'VIA_Videira': 9, 'MVS_Mucuri': 9, 'GJM_Guajara-Mirim': 9, 'RVD_Rio_Verde': 9, 'PTO_Pato_Branco': 9, 'TYF_Torsby': 6, 'PJA_Pajala': 6, 'EVG_Sveg': 6, 'YKQ_Waskaganish': 19, 'YPH_Inukjuak': 16, 'YSK_Sanikiluaq': 16, 'YUD_Umiujaq': 16, 'YKU_Chisasibi': 19, 'XGR_Kangiqsualujjuaq': 16, 'YKG_Kangirsuk': 16, 'YPX_Puvirnituq': 16, 'YTQ_Tasiujuaq': 16, 'YGP_Gaspe': 2, 'AKF_Kufrah': 8, 'MRA_Misurata': 8, 'LPT_Lampang': 1, 'LXG_Luang_Namtha': 1, 'ODY_Oudomxay': 1, 'XKH_Xieng_Khouang': 1, 'ZVK_Savannakhet': 1, 'BUO_Burao': 8, 'BXX_Borama': 8, 'MGQ_Mogadishu': 8, 'JDH_Jodhpur': 8, 'JSA_Jaisalmer': 8, 'ASA_Assab': 8, 'GHT_Ghat': 8, 'PKN_Pangkalanbun': 1, 'SMQ_Sampit': 1, 'KTG_Ketapang': 1, 'SQG_Sintang': 1, 'VII_Vinh_City': 1, 'VKG_Rachgia': 1, 'UUN_Baruun-urt': 10, 'BLG_Belaga': 1, 'TMG_Tomanggong': 1, 'GOM_Goma': 8, 'KGA_Kananga': 8, 'MAT_Matadi': 40, 'MDK_Mbandaka': 8, 'MJM_Mbuji-Mayi': 8, 'GYI_Gisenyi': 8, 'KME_Kamembe': 8, 'CNP_Neerlerit_Inaat': 16, 'GOH_Nuuk': 16, 'JAV_Ilulissat': 16, 'JEG_Aasiaat': 16, 'JHS_Sisimiut': 16, 'JSU_Maniitsoq': 16, 'THU_Pituffik': 16, 'BNN_Bronnoysund': 25, 'MJF_Mosjoen': 25, 'MQN_Mo_I_Rana': 25, 'OSY_Namsos': 25, 'RVK_Roervik': 25, 'SSJ_Sandnessjoen': 25, 'JGR_Groennedal': 16, 'JJU_Qaqortoq': 16, 'JNN_Nanortalik': 16, 'JNS_Narsaq': 16, 'LLU_Alluitsup_Paa': 16, 'HJR_Khajuraho': 8, 'IXR_Ranchi': 8, 'BDH_Bandar_Lengeh': 8, 'WUD_Wudinna': 1, 'LGH_Leigh_Creek': 1, 'RCM_Richmond_(AU)': 1, 'WNR_Windorah': 1, 'HOK_Hooker_Creek': 26, 'RPM_Ngukurr': 26, 'VCD_Victoria_River_Downs': 26, 'MGT_Milingimbi': 1, 'RAM_Ramingining': 1, 'BAS_Balalae': 4, 'CHY_Choiseul_Bay': 4, 'MNY_Mono': 4, 'NNB_Santa_Ana_Island': 4, 'BEU_Bedourie': 1, 'BUC_Burketown': 1, 'CVL_Cape_Vogel': 11, 'IIS_Nissan_Island': 11, 'RBP_Rabaraba': 11, 'SAM_Salamo': 11, 'WED_Wedau': 11, 'SXH_Sehulea': 11, 'VIV_Vivigani': 11, 'MWI_Maramuni': 11, 'GMI_Gasmata': 11, 'IBI_Iboki': 11, 'JAQ_Jacquinot_Bay': 11, 'KDR_Kandrian': 11, 'LGN_Linga_Linga': 11, 'MFZ_Meselia': 11, 'SXW_Sauren': 11, 'UVO_Uvol': 11, 'IHU_Ihu': 11, 'KMF_Kamina': 11, 'KRI_Kikori': 11, 'EMI_Emirau': 11, 'MPU_Mapua': 11, 'MWU_Mussau': 11, 'BXZ_Bunsil': 11, 'GAR_Garaina': 11, 'IDN_Indagen': 11, 'LAB_Lablab': 11, 'MXK_Mindik': 11, 'MYX_Menyamya': 11, 'TEP_Teptep': 11, 'ATN_Namatanai': 11, 'BOV_Boang': 11, 'SDI_Saidor': 11, 'IOP_Ioma': 11, 'ITK_Itokama': 11, 'NDI_Namudi': 11, 'SFU_Safia': 11, 'CPI_Cape_Orford': 11, 'OPB_Open_Bay': 11, 'SWR_Silur': 11, 'ULE_Sule': 11, 'TFM_Telefomin': 11, 'GRL_Garasa': 11, 'KOR_Kokoro': 11, 'KZF_Kaintiba': 11, 'OSE_Omora': 11, 'BPD_Bapi': 11, 'TKB_Tekadu': 11, 'HYF_Hayfields': 11, 'TAJ_Tadji': 11, 'VAI_Vanimo': 11, 'CMA_Cunnamulla': 1, 'VMI_Vallemi': 3, 'FLA_Florencia': 3, 'PUU_Puerto_Asis': 3, 'MCJ_Maicao': 3, 'BSC_Bahia_Solano': 3, 'KLZ_Kleinzee': 27, 'GGS_Gobernador_Gregores': 3, 'ULA_San_Julian': 3, 'ARR_Alto_Rio_Senguerr': 3, 'APL_Nampula': 6, 'POL_Pemba_(MZ)': 6, 'UEL_Quelimane': 6, 'VXC_Lichinga': 6, 'CMK_Club_Makokola': 8, 'FRW_Francistown': 6, 'CEH_Chelinda': 8, 'ZZU_Mzuzu': 8, 'CIP_Chipata': 8, 'KIW_Kitwe': 8, 'LVI_Livingstone': 8, 'MFU_Mfuwe': 8, 'MNR_Mongu': 8, 'TET_Tete': 6, 'BBK_Kasane': 6, 'KAA_Kasama': 8, 'MNS_Mansa': 8, 'ULD_Ulundi': 6, 'HWN_Hwange_National_Park': 8, 'PMA_Pemba_(TZ)': 8, 'URG_Uruguaiana': 9, 'GYA_Guayaramerin': 3, 'MGD_Magdalena': 3, 'RIB_Riberalta': 3, 'SJB_San_Joaquin': 3, 'BOX_Borroloola': 26, 'BDD_Badu_Island': 12, 'HCQ_Halls_Creek': 1, 'DJJ_Jayapura': 1, 'DSK_Dera_Ismail_Khan': 8, 'PZH_Zhob': 8, 'BNP_Bannu': 8, 'CJL_Chitral': 8, 'PAJ_Para_Chinar': 8, 'SCT_Socotra': 8, 'JMO_Jomsom': 8, 'NGX_Manang': 8, 'MOG_Mong_Hsat': 13, 'BMO_Bhamo': 13, 'KHM_Khamti': 13, 'MYT_Myitkyina': 13, 'AKU_Aksu': 28, 'IQM_Qiemo': 28, 'KCA_Kuqa': 28, 'TCG_Tacheng': 1, 'SHW_Sharurah': 8, 'TUI_Turaif': 8, 'KMC_King_Khalid_Military_City': 8, 'MWE_Merowe': 8, 'WHF_Wadi_Halfa': 8, 'KDD_Khuzdar': 8, 'SUL_Sui': 8, 'USL_Useless_Loop': 1, 'LGE_Lake_Gregory': 1, 'NLS_Nicholson': 1, 'KSJ_Kasos_Island': 8, 'JTY_Astypalaia_Island': 8, 'BEJ_Berau': 29, 'DTD_Datadawai': 29, 'LPU_Long_Apung': 29, 'TJS_Tanjung_Selor': 29, 'LBW_Long_Bawan': 29, 'NNX_Nunukan': 29, 'IVA_Ambanja': 6, 'VOH_Vohemar': 6, 'VAT_Vatomandry': 6, 'WMA_Mandritsara': 6, 'WMR_Mananara': 6, 'WWY_West_Wyalong': 14, 'CMD_Cootamundra': 14, 'BRK_Bourke': 1, 'WGE_Walgett': 1, 'NSO_Scone': 1, 'SLH_Sola': 4, 'SNV_Santa_Elena': 3, 'GUI_Guiria': 3, 'TUV_Tucupita': 3, 'MYC_Maracay': 3, 'AHS_Ahuas': 30, 'GJA_Guanaja': 30, 'BHG_Brus_Laguna': 30, 'PCH_Palacios': 30, 'PEU_Puerto_Lempira': 30, 'TJI_Trujillo_(HN)': 30, 'UII_Utila': 30, 'MMO_Maio': 31, 'NTO_Santo_Antao': 31, 'SFL_Sao_Filipe': 31, 'PCP_Principe_Island': 8, 'YCY_Clyde_River': 16, 'YGT_Igloolik': 16, 'YLC_Kimmirut/Lake_Harbour': 16, 'YTE_Cape_Dorset': 16, 'YUX_Hall_Beach': 16, 'YVM_Broughton_Island': 16, 'YXP_Pangnirtung': 16, 'YSR_Nanisivik': 16, 'ZJN_Swan_River': 2, 'YRS_Red_Sucker_Lake': 16, 'YCR_Cross_Lake': 2, 'YHP_Poplar_Hill': 32, 'YVZ_Deer_Lake_(CA)_ON': 32, 'YBK_Baker_Lake': 16, 'YCS_Chesterfield_Inlet': 16, 'YEK_Arviat': 16, 'YUT_Repulse_Bay': 16, 'YXN_Whale_Cove': 16, 'YZS_Coral_Harbour': 16, 'XLB_Lac_Brochet': 16, 'XPK_Pukatawagan': 16, 'XSI_South_Indian_Lake': 16, 'XTL_Tadoule_Lake': 16, 'YBT_Brochet': 16, 'YLR_Leaf_Rapids': 16, 'YYL_Lynn_Lake': 16, 'ZAC_York_Landing': 16, 'ZTM_Shamattawa': 16, 'KEW_Keewaywin': 32, 'KIF_Kingfisher_Lake': 32, 'MSA_Muskrat_Dam': 32, 'XKS_Kasabonika': 32, 'YAC_Cat_Lake': 32, 'YER_Fort_Severn': 32, 'YPL_Pickle_Lake': 32, 'YTL_Big_Trout_Lake': 32, 'ZRJ_Round_Lake': 32, 'ZSJ_Sandy_Lake': 32, 'PLJ_Placencia': 33, 'CZH_Corozal_(BZ)': 2, 'MSH_Masirah': 8, 'CVU_Corvo_Island': 6, 'FLW_Flores_Island': 6, 'GRW_Graciosa_Island': 6, 'SJZ_Sao_Jorge_Island': 6, 'KAD_Kaduna': 8, 'ANX_Andenes': 25, 'LKN_Leknes': 25, 'NVK_Narvik': 25, 'RET_Rost': 25, 'SKN_Stokmarknes': 25, 'SVJ_Svolvaer': 25, 'VRY_Vaeroy': 25, 'KUN_Kaunas': 6, 'ALF_Alta': 25, 'HAA_Hasvik': 25, 'HFT_Hammerfest': 25, 'KKN_Kirkenes': 25, 'LKL_Lakselv': 25, 'LYR_Longyearbyen': 25, 'SOJ_Sorkjosen': 25, 'VDS_Vadso': 25, 'SLX_Salt_Cay': 15, 'MDS_Middle_Caicos': 15, 'GRY_Grimsey': 16, 'VPN_Vopnafjordur': 16, 'THO_Thorshofn': 16, 'SIJ_Siglufjordur': 16, 'YVB_Bonaventure': 2, 'YGV_Havre_St_Pierre': 20, 'YHR_Chevery': 20, 'YKL_Schefferville': 20, 'YNA_Natashquan': 20, 'YWK_Wabush': 20, 'HVR_Havre': 2, 'GDV_Glendive': 2, 'CEM_Central': 7, 'CIK_Chalkyitsik': 7, 'ARC_Arctic_Village': 7, 'BYA_Boundary': 7, 'CKX_Chicken': 7, 'ORT_Northway': 7, 'TEH_Tetlin': 7, 'CZN_Chisana': 7, 'DTR_Decatur_Island': 17, 'YSF_Stony_Rapids': 34, 'YNL_Points_North_Landing': 34, 'ZFD_Fond_du_Lac': 34, 'ZWL_Wollaston_Lake': 34, 'YHI_Holman_Island': 16, 'YGH_Fort_Good_Hope': 16, 'YPC_Paulatuk': 16, 'YSY_Sachs_Harbour': 16, 'YUB_Tuktoyaktuk': 16, 'YGZ_Grise_Fiord': 16, 'YAB_Arctic_Bay': 16, 'YCK_Colville_Lake': 16, 'ZFN_Tulita_Fort_Norman': 16, 'YUF_Pelly_Bay': 16, 'YAT_Attawapiskat': 19, 'YFA_Fort_Albany': 19, 'YLH_Lansdowne_House': 32, 'YQN_Nakina': 32, 'SUR_Summer_Beaver': 32, 'YHF_Hearst': 2, 'YBX_Blanc_Sablon': 20, \"YMH_Mary's_Harbour\": 20, 'YDP_Nain': 20, 'YMN_Makkovik': 20, 'YRF_Cartwright': 20, 'YRG_Rigolet': 20, 'ZUM_Churchill_Falls': 20, 'YKT_Klemtu': 21, 'MPN_Mount_Pleasant': 3, 'EOI_Eday': 6, 'NDY_Sanday': 6, 'NRL_North_Ronaldsay': 6, 'PPW_Papa_Westray': 6, 'SOY_Stronsay': 6, 'WRY_Westray': 6, 'FIE_Fair_Isle': 6, 'UNT_Unst': 6, 'HGL_Helgoland': 35, 'WVN_Wilhelmshaven': 35, 'SEU_Seronera': 8, 'BKZ_Bukoba': 8, 'UAS_Samburu': 8, 'PIP_Pilot_Point': 7, 'IGG_Igiugig': 7, 'CKD_Crooked_Creek': 7, 'ANV_Anvik': 7, 'KGX_Grayling': 7, 'RDV_Red_Devil': 7, 'NUP_Nunapitchuk': 7, 'NME_Nightmute': 7, 'PTU_Platinum': 7, 'KKH_Kongiganak': 7, 'KKI_Akiachak': 7, 'AKI_Akiak': 7, 'PML_Port_Moller': 7, 'KNW_New_Stuyahok': 7, 'KEB_Nanwalek': 7, 'GLV_Golovin': 7, 'KPV_Perryville': 7, 'BCO_Jinka': 8, 'PWI_Beles': 36, 'ASO_Asosa': 36, 'BEI_Beica': 36, 'ABK_Kabri_Dar': 37, 'HIL_Shillavo': 37, 'JIJ_Jijiga': 37, 'GDE_Gode': 37, 'HUE_Humera': 8, 'EGL_Neghelli': 8, 'GMB_Gambela': 36, 'TIE_Tippi': 36, 'AXU_Axum': 8, 'SHC_Indaselassie': 8, 'BMW_Bordj_Badji_Mokhtar': 6, 'CAB_Cabinda': 8, 'DIS_Loubomo': 8, 'GAX_Gamba': 8, 'OMB_Omboue': 8, 'ITB_Itaituba': 9, 'CZS_Cruzeiro_do_Sul': 9, 'FEJ_Feijo': 9, 'TRQ_Tarauaca': 9, 'OBI_Obidos': 9, 'SJL_Sao_Gabriel': 9, 'PTQ_Porto_de_Moz': 9, 'OYK_Oiapoque': 9, 'AMV_Amderma': 8, 'GUD_Goundam': 38, 'TOM_Tombouctou': 38, 'EGN_Geneina': 8, 'MAK_Malakal': 8, 'WUU_Wau_(SD)': 8, 'WTS_Tsiroanomandidy': 6, 'WVK_Manakara': 39, 'BPY_Besalampy': 6, 'DWB_Soalala': 6, 'HVA_Analalava': 6, 'WMP_Mampikony': 6, 'WPB_Port_Berge': 6, 'WTA_Tambohorano': 6, 'MJA_Manja': 39, 'MXM_Morombe': 39, 'WAQ_Antsalova': 6, 'AUX_Araguaina': 9, 'JPR_Ji-Parana': 9, 'AIR_Aripuana': 9, 'JRN_Juruena': 9, 'AFL_Alta_Floresta': 9, 'MBK_Matupa': 9, 'CQS_Costa_Marques': 9, 'YNS_Nemiscau': 19, 'ZEM_East_Main': 19, 'YNC_Wemindji': 19, 'YPJ_Aupaluk': 16, 'YQC_Quaqtaq': 16, 'AKV_Akulivik': 16, 'YZG_Salluit': 16, 'BSA_Bossaso': 8, 'PSU_Putussibau': 1, 'BNC_Beni': 8, 'BOA_Boma': 40, 'MNB_Moanda': 40, 'JCH_Qasigiannguit': 16, 'JGO_Qeqertarsuaq': 16, 'JQA_Qaarsut': 16, 'JUV_Upernavik': 16, 'UMD_Uummannaq': 16, 'JFR_Paamiut': 16, 'BVI_Birdsville': 1, 'KFG_Kalkurung': 26, 'AUP_Agaun': 11, 'ARP_Aragip': 11, 'XBN_Biniguni': 11, 'AUV_Aumo': 11, 'GOE_Gonalia': 11, 'WUM_Wasum': 11, 'VMU_Baimuru': 11, 'KEX_Kanabea': 11, 'HIT_Hivaro': 11, 'KUY_Kamusi': 11, 'KGB_Konge': 11, 'PDI_Pindiu': 11, 'BCP_Bambu': 11, 'MKN_Malekolon': 11, 'NKN_Nankina': 11, 'DDM_Dodoima': 11, 'KIQ_Kira': 11, 'GEW_Gewoya': 11, 'EMS_Embessa': 11, 'MFO_Manguna': 11, 'GVI_Green_River': 11, 'YVD_Yeva': 11, 'SMJ_Sim': 11, 'UKU_Nuku': 11, 'ATP_Aitape': 11, 'XTG_Thargomindah': 1, 'ALJ_Alexander_Bay': 27, 'KGJ_Karonga': 8, 'ZKB_Kasaba_Bay': 8, 'FVL_Flora_Valley': 1, 'BIW_Billiluna': 1, 'MKQ_Merauke': 1, 'PBU_Putao': 13, 'DNM_Denham': 1, 'LHG_Lightning_Ridge': 1, 'MTV_Mota_Lava': 4, 'TOH_Torres': 4, 'CDD_Cauquira': 30, 'YIO_Pond_Inlet': 16, 'YNO_North_Spirit_Lake': 32, 'WNN_Wunnummin_Lake': 32, 'ZPB_Sachigo_Lake': 32, 'YAX_Angling_Lake': 32, 'XBE_Bearskin_Lake': 32, 'PND_Punta_Gorda': 33, 'BJF_Batsfjord': 25, 'MEH_Mehamn': 25, 'BVG_Berlevag': 25, 'HVG_Honningsvag': 25, 'VAW_Vardoe': 25, 'YIF_Pakuashipi': 20, 'ZGS_Gethsemani': 20, 'ZLT_La_Tabatiere': 20, 'ZTB_Tete-a-La_Baleine': 20, 'ZKG_Kegaska': 20, 'YBE_Uranium_City': 34, 'YPO_Peawanuck': 19, 'ZKE_Kaschechewan': 19, 'YOG_Ogoki': 32, 'YFX_Fox_Harbour': 20, 'YDI_Davis_Inlet': 20, 'YHO_Hopedale': 20, 'YSO_Postville': 20, 'YBI_Black_Tickle': 20, 'ASI_Georgetown_(XV)': 3, 'AGE_Wangerooge': 35, 'MTF_Mizan_Teferi': 36, 'TUJ_Tum': 36, 'SZA_Soyo': 8, 'NKY_Nkayi': 8, 'JCR_Jacareacanga': 9, 'ORX_Oriximina': 9, 'GAQ_Gao': 38, 'JVA_Ankavandra': 6, 'YWB_Kangiqsujuaq': 16, 'YIK_Ivujivik': 16, 'BUX_Bunia': 8, 'PMN_Pumani': 11, 'KUQ_Kuri': 11, 'KBM_Kabwum': 11, 'FIN_Finschhafen': 11, 'UBI_Buin': 11, 'AKG_Anguganak': 11, 'LMI_Lumi': 11, 'YWM_Williams_Harbour': 20, 'YHG_Charlottetown_(CA)_NF': 20, 'BZZ_Brize_Norton': 3, 'ZVA_Miandrivazo': 6, 'SWG_Satwag': 11, 'YHA_Port_Hope_Simpson': 20, 'DER_Derim': 11, 'KYX_Yalumet': 11, 'WSU_Wasu': 11}\n"
     ]
    }
   ],
   "source": [
    "print(partitionG)"
   ]
  },
  {
   "cell_type": "code",
   "execution_count": 62,
   "metadata": {},
   "outputs": [],
   "source": [
    "\n",
    "class Status(object):\n",
    "    \"\"\"\n",
    "    To handle several data in one struct.\n",
    "    Could be replaced by named tuple, but don't want to depend on python 2.6\n",
    "    \"\"\"\n",
    "    node2com = {}\n",
    "    total_weight = 0\n",
    "    internals = {}\n",
    "    degrees = {}\n",
    "    gdegrees = {}\n",
    "\n",
    "    def __init__(self):\n",
    "        self.node2com = dict([])\n",
    "        self.total_weight = 0\n",
    "        self.degrees = dict([])\n",
    "        self.gdegrees = dict([])\n",
    "        self.internals = dict([])\n",
    "        self.loops = dict([])\n",
    "\n",
    "    def __str__(self):\n",
    "        return (\"node2com : \" + str(self.node2com) + \" degrees : \"\n",
    "                + str(self.degrees) + \" internals : \" + str(self.internals)\n",
    "                + \" total_weight : \" + str(self.total_weight))\n",
    "\n",
    "    def copy(self):\n",
    "        \"\"\"Perform a deep copy of status\"\"\"\n",
    "        new_status = Status()\n",
    "        new_status.node2com = self.node2com.copy()\n",
    "        new_status.internals = self.internals.copy()\n",
    "        new_status.degrees = self.degrees.copy()\n",
    "        new_status.gdegrees = self.gdegrees.copy()\n",
    "        new_status.total_weight = self.total_weight\n",
    "\n",
    "    def init(self, graph, weight, part=None):\n",
    "        \"\"\"Initialize the status of a graph with every node in one community\"\"\"\n",
    "        count = 0\n",
    "        self.node2com = dict([])\n",
    "        self.total_weight = 0\n",
    "        self.degrees = dict([])\n",
    "        self.gdegrees = dict([])\n",
    "        self.internals = dict([])\n",
    "        self.total_weight = graph.size(weight=weight)\n",
    "        if part is None:\n",
    "            for node in graph.nodes():\n",
    "                self.node2com[node] = count\n",
    "                deg = float(graph.degree(node, weight=weight))\n",
    "                if deg < 0:\n",
    "                    error = \"Bad node degree ({})\".format(deg)\n",
    "                    raise ValueError(error)\n",
    "                self.degrees[count] = deg\n",
    "                self.gdegrees[node] = deg\n",
    "                edge_data = graph.get_edge_data(node, node, default={weight: 0})\n",
    "                self.loops[node] = float(edge_data.get(weight, 1))\n",
    "                self.internals[count] = self.loops[node]\n",
    "                count += 1\n",
    "        else:\n",
    "            for node in graph.nodes():\n",
    "                com = part[node]\n",
    "                self.node2com[node] = com\n",
    "                deg = float(graph.degree(node, weight=weight))\n",
    "                self.degrees[com] = self.degrees.get(com, 0) + deg\n",
    "                self.gdegrees[node] = deg\n",
    "                inc = 0.\n",
    "                for neighbor, datas in graph[node].items():\n",
    "                    edge_weight = datas.get(weight, 1)\n",
    "                    if edge_weight <= 0:\n",
    "                        error = \"Bad graph type ({})\".format(type(graph))\n",
    "                        raise ValueError(error)\n",
    "                    if part[neighbor] == com:\n",
    "                        if neighbor == node:\n",
    "                            inc += float(edge_weight)\n",
    "                        else:\n",
    "                            inc += float(edge_weight) / 2.\n",
    "                self.internals[com] = self.internals.get(com, 0) + inc"
   ]
  },
  {
   "cell_type": "code",
   "execution_count": 63,
   "metadata": {},
   "outputs": [],
   "source": [
    "# -*- coding: utf-8 -*-\n",
    "\"\"\"\n",
    "This module implements community detection.\n",
    "\"\"\"\n",
    "from __future__ import print_function\n",
    "\n",
    "import array\n",
    "import random\n",
    "\n",
    "import networkx as nx\n",
    "\n",
    "#from .community_status import Status\n",
    "\n",
    "__author__ = \"\"\"Thomas Aynaud (thomas.aynaud@lip6.fr)\"\"\"\n",
    "#    Copyright (C) 2009 by\n",
    "#    Thomas Aynaud <thomas.aynaud@lip6.fr>\n",
    "#    All rights reserved.\n",
    "#    BSD license.\n",
    "\n",
    "__PASS_MAX = -1\n",
    "__MIN = 0.0000001\n",
    "\n",
    "\n",
    "def partition_at_level(dendrogram, level):\n",
    "    \"\"\"Return the partition of the nodes at the given level\n",
    "    A dendrogram is a tree and each level is a partition of the graph nodes.\n",
    "    Level 0 is the first partition, which contains the smallest communities,\n",
    "    and the best is len(dendrogram) - 1.\n",
    "    The higher the level is, the bigger are the communities\n",
    "    Parameters\n",
    "    ----------\n",
    "    dendrogram : list of dict\n",
    "       a list of partitions, ie dictionnaries where keys of the i+1 are the\n",
    "       values of the i.\n",
    "    level : int\n",
    "       the level which belongs to [0..len(dendrogram)-1]\n",
    "    Returns\n",
    "    -------\n",
    "    partition : dictionnary\n",
    "       A dictionary where keys are the nodes and the values are the set it\n",
    "       belongs to\n",
    "    Raises\n",
    "    ------\n",
    "    KeyError\n",
    "       If the dendrogram is not well formed or the level is too high\n",
    "    See Also\n",
    "    --------\n",
    "    best_partition which directly combines partition_at_level and\n",
    "    generate_dendrogram to obtain the partition of highest modularity\n",
    "    Examples\n",
    "    --------\n",
    "    >>> G=nx.erdos_renyi_graph(100, 0.01)\n",
    "    >>> dendrogram = generate_dendrogram(G)\n",
    "    >>> for level in range(len(dendrogram) - 1) :\n",
    "    >>>     print(\"partition at level\", level, \"is\", partition_at_level(dendrogram, level))  # NOQA\n",
    "    \"\"\"\n",
    "    partition = dendrogram[0].copy()\n",
    "    for index in range(1, level + 1):\n",
    "        for node, community in partition.items():\n",
    "            partition[node] = dendrogram[index][community]\n",
    "    return partition\n",
    "\n",
    "\n",
    "def modularity(partition, graph, weight='weight'):\n",
    "    \"\"\"Compute the modularity of a partition of a graph\n",
    "    Parameters\n",
    "    ----------\n",
    "    partition : dict\n",
    "       the partition of the nodes, i.e a dictionary where keys are their nodes\n",
    "       and values the communities\n",
    "    graph : networkx.Graph\n",
    "       the networkx graph which is decomposed\n",
    "    weight : str, optional\n",
    "        the key in graph to use as weight. Default to 'weight'\n",
    "    Returns\n",
    "    -------\n",
    "    modularity : float\n",
    "       The modularity\n",
    "    Raises\n",
    "    ------\n",
    "    KeyError\n",
    "       If the partition is not a partition of all graph nodes\n",
    "    ValueError\n",
    "        If the graph has no link\n",
    "    TypeError\n",
    "        If graph is not a networkx.Graph\n",
    "    References\n",
    "    ----------\n",
    "    .. 1. Newman, M.E.J. & Girvan, M. Finding and evaluating community\n",
    "    structure in networks. Physical Review E 69, 26113(2004).\n",
    "    Examples\n",
    "    --------\n",
    "    >>> G=nx.erdos_renyi_graph(100, 0.01)\n",
    "    >>> part = best_partition(G)\n",
    "    >>> modularity(part, G)\n",
    "    \"\"\"\n",
    "    if graph.is_directed():\n",
    "        raise TypeError(\"Bad graph type, use only non directed graph\")\n",
    "\n",
    "    inc = dict([])\n",
    "    deg = dict([])\n",
    "    links = graph.size(weight=weight)\n",
    "    if links == 0:\n",
    "        raise ValueError(\"A graph without link has an undefined modularity\")\n",
    "\n",
    "    for node in graph:\n",
    "        com = partition[node]\n",
    "        deg[com] = deg.get(com, 0.) + graph.degree(node, weight=weight)\n",
    "        for neighbor, datas in graph[node].items():\n",
    "            edge_weight = datas.get(weight, 1)\n",
    "            if partition[neighbor] == com:\n",
    "                if neighbor == node:\n",
    "                    inc[com] = inc.get(com, 0.) + float(edge_weight)\n",
    "                else:\n",
    "                    inc[com] = inc.get(com, 0.) + float(edge_weight) / 2.\n",
    "\n",
    "    res = 0.\n",
    "    for com in set(partition.values()):\n",
    "        res += (inc.get(com, 0.) / links) - \\\n",
    "               (deg.get(com, 0.) / (2. * links)) ** 2\n",
    "    return res\n",
    "\n",
    "\n",
    "def best_partition(graph, partition=None,\n",
    "                   weight='weight', resolution=1., randomize=False):\n",
    "    \"\"\"Compute the partition of the graph nodes which maximises the modularity\n",
    "    (or try..) using the Louvain heuristices\n",
    "    This is the partition of highest modularity, i.e. the highest partition\n",
    "    of the dendrogram generated by the Louvain algorithm.\n",
    "    Parameters\n",
    "    ----------\n",
    "    graph : networkx.Graph\n",
    "       the networkx graph which is decomposed\n",
    "    partition : dict, optional\n",
    "       the algorithm will start using this partition of the nodes.\n",
    "       It's a dictionary where keys are their nodes and values the communities\n",
    "    weight : str, optional\n",
    "        the key in graph to use as weight. Default to 'weight'\n",
    "    resolution :  double, optional\n",
    "        Will change the size of the communities, default to 1.\n",
    "        represents the time described in\n",
    "        \"Laplacian Dynamics and Multiscale Modular Structure in Networks\",\n",
    "        R. Lambiotte, J.-C. Delvenne, M. Barahona\n",
    "    randomize :  boolean, optional\n",
    "        Will randomize the node evaluation order and the community evaluation\n",
    "        order to get different partitions at each call\n",
    "    Returns\n",
    "    -------\n",
    "    partition : dictionnary\n",
    "       The partition, with communities numbered from 0 to number of communities\n",
    "    Raises\n",
    "    ------\n",
    "    NetworkXError\n",
    "       If the graph is not Eulerian.\n",
    "    See Also\n",
    "    --------\n",
    "    generate_dendrogram to obtain all the decompositions levels\n",
    "    Notes\n",
    "    -----\n",
    "    Uses Louvain algorithm\n",
    "    References\n",
    "    ----------\n",
    "    .. 1. Blondel, V.D. et al. Fast unfolding of communities in\n",
    "    large networks. J. Stat. Mech 10008, 1-12(2008).\n",
    "    Examples\n",
    "    --------\n",
    "    >>>  #Basic usage\n",
    "    >>> G=nx.erdos_renyi_graph(100, 0.01)\n",
    "    >>> part = best_partition(G)\n",
    "    >>> #other example to display a graph with its community :\n",
    "    >>> #better with karate_graph() as defined in networkx examples\n",
    "    >>> #erdos renyi don't have true community structure\n",
    "    >>> G = nx.erdos_renyi_graph(30, 0.05)\n",
    "    >>> #first compute the best partition\n",
    "    >>> partition = community.best_partition(G)\n",
    "    >>>  #drawing\n",
    "    >>> size = float(len(set(partition.values())))\n",
    "    >>> pos = nx.spring_layout(G)\n",
    "    >>> count = 0.\n",
    "    >>> for com in set(partition.values()) :\n",
    "    >>>     count += 1.\n",
    "    >>>     list_nodes = [nodes for nodes in partition.keys()\n",
    "    >>>                                 if partition[nodes] == com]\n",
    "    >>>     nx.draw_networkx_nodes(G, pos, list_nodes, node_size = 20,\n",
    "                                    node_color = str(count / size))\n",
    "    >>> nx.draw_networkx_edges(G, pos, alpha=0.5)\n",
    "    >>> plt.show()\n",
    "    \"\"\"\n",
    "    dendo = generate_dendrogram(graph,\n",
    "                                partition,\n",
    "                                weight,\n",
    "                                resolution,\n",
    "                                randomize)\n",
    "    return partition_at_level(dendo, len(dendo) - 1)\n",
    "\n",
    "\n",
    "def generate_dendrogram(graph,\n",
    "                        part_init=None,\n",
    "                        weight='weight',\n",
    "                        resolution=1.,\n",
    "                        randomize=False):\n",
    "    \"\"\"Find communities in the graph and return the associated dendrogram\n",
    "    A dendrogram is a tree and each level is a partition of the graph nodes.\n",
    "    Level 0 is the first partition, which contains the smallest communities,\n",
    "    and the best is len(dendrogram) - 1. The higher the level is, the bigger\n",
    "    are the communities\n",
    "    Parameters\n",
    "    ----------\n",
    "    graph : networkx.Graph\n",
    "        the networkx graph which will be decomposed\n",
    "    part_init : dict, optional\n",
    "        the algorithm will start using this partition of the nodes. It's a\n",
    "        dictionary where keys are their nodes and values the communities\n",
    "    weight : str, optional\n",
    "        the key in graph to use as weight. Default to 'weight'\n",
    "    resolution :  double, optional\n",
    "        Will change the size of the communities, default to 1.\n",
    "        represents the time described in\n",
    "        \"Laplacian Dynamics and Multiscale Modular Structure in Networks\",\n",
    "        R. Lambiotte, J.-C. Delvenne, M. Barahona\n",
    "    Returns\n",
    "    -------\n",
    "    dendrogram : list of dictionaries\n",
    "        a list of partitions, ie dictionnaries where keys of the i+1 are the\n",
    "        values of the i. and where keys of the first are the nodes of graph\n",
    "    Raises\n",
    "    ------\n",
    "    TypeError\n",
    "        If the graph is not a networkx.Graph\n",
    "    See Also\n",
    "    --------\n",
    "    best_partition\n",
    "    Notes\n",
    "    -----\n",
    "    Uses Louvain algorithm\n",
    "    References\n",
    "    ----------\n",
    "    .. 1. Blondel, V.D. et al. Fast unfolding of communities in large\n",
    "    networks. J. Stat. Mech 10008, 1-12(2008).\n",
    "    Examples\n",
    "    --------\n",
    "    >>> G=nx.erdos_renyi_graph(100, 0.01)\n",
    "    >>> dendo = generate_dendrogram(G)\n",
    "    >>> for level in range(len(dendo) - 1) :\n",
    "    >>>     print(\"partition at level\", level,\n",
    "    >>>           \"is\", partition_at_level(dendo, level))\n",
    "    :param weight:\n",
    "    :type weight:\n",
    "    \"\"\"\n",
    "    if graph.is_directed():\n",
    "        raise TypeError(\"Bad graph type, use only non directed graph\")\n",
    "\n",
    "    # special case, when there is no link\n",
    "    # the best partition is everyone in its community\n",
    "    if graph.number_of_edges() == 0:\n",
    "        part = dict([])\n",
    "        for node in graph.nodes():\n",
    "            part[node] = node\n",
    "        return [part]\n",
    "\n",
    "    current_graph = graph.copy()\n",
    "    status = Status()\n",
    "    status.init(current_graph, weight, part_init)\n",
    "    status_list = list()\n",
    "    __one_level(current_graph, status, weight, resolution, randomize)\n",
    "    new_mod = __modularity(status)\n",
    "    partition = __renumber(status.node2com)\n",
    "    status_list.append(partition)\n",
    "    mod = new_mod\n",
    "    current_graph = induced_graph(partition, current_graph, weight)\n",
    "    status.init(current_graph, weight)\n",
    "\n",
    "    while True:\n",
    "        __one_level(current_graph, status, weight, resolution, randomize)\n",
    "        new_mod = __modularity(status)\n",
    "        if new_mod - mod < __MIN:\n",
    "            break\n",
    "        partition = __renumber(status.node2com)\n",
    "        status_list.append(partition)\n",
    "        mod = new_mod\n",
    "        current_graph = induced_graph(partition, current_graph, weight)\n",
    "        status.init(current_graph, weight)\n",
    "    return status_list[:]\n",
    "\n",
    "\n",
    "def induced_graph(partition, graph, weight=\"weight\"):\n",
    "    \"\"\"Produce the graph where nodes are the communities\n",
    "    there is a link of weight w between communities if the sum of the weights\n",
    "    of the links between their elements is w\n",
    "    Parameters\n",
    "    ----------\n",
    "    partition : dict\n",
    "       a dictionary where keys are graph nodes and  values the part the node\n",
    "       belongs to\n",
    "    graph : networkx.Graph\n",
    "        the initial graph\n",
    "    weight : str, optional\n",
    "        the key in graph to use as weight. Default to 'weight'\n",
    "    Returns\n",
    "    -------\n",
    "    g : networkx.Graph\n",
    "       a networkx graph where nodes are the parts\n",
    "    Examples\n",
    "    --------\n",
    "    >>> n = 5\n",
    "    >>> g = nx.complete_graph(2*n)\n",
    "    >>> part = dict([])\n",
    "    >>> for node in g.nodes() :\n",
    "    >>>     part[node] = node % 2\n",
    "    >>> ind = induced_graph(part, g)\n",
    "    >>> goal = nx.Graph()\n",
    "    >>> goal.add_weighted_edges_from([(0,1,n*n),(0,0,n*(n-1)/2), (1, 1, n*(n-1)/2)])  # NOQA\n",
    "    >>> nx.is_isomorphic(int, goal)\n",
    "    True\n",
    "    \"\"\"\n",
    "    ret = nx.Graph()\n",
    "    ret.add_nodes_from(partition.values())\n",
    "\n",
    "    for node1, node2, datas in graph.edges(data=True):\n",
    "        edge_weight = datas.get(weight, 1)\n",
    "        com1 = partition[node1]\n",
    "        com2 = partition[node2]\n",
    "        w_prec = ret.get_edge_data(com1, com2, {weight: 0}).get(weight, 1)\n",
    "        ret.add_edge(com1, com2, **{weight: w_prec + edge_weight})\n",
    "\n",
    "    return ret\n",
    "\n",
    "\n",
    "def __renumber(dictionary):\n",
    "    \"\"\"Renumber the values of the dictionary from 0 to n\n",
    "    \"\"\"\n",
    "    count = 0\n",
    "    ret = dictionary.copy()\n",
    "    new_values = dict([])\n",
    "\n",
    "    for key in dictionary.keys():\n",
    "        value = dictionary[key]\n",
    "        new_value = new_values.get(value, -1)\n",
    "        if new_value == -1:\n",
    "            new_values[value] = count\n",
    "            new_value = count\n",
    "            count += 1\n",
    "        ret[key] = new_value\n",
    "\n",
    "    return ret\n",
    "\n",
    "\n",
    "def load_binary(data):\n",
    "    \"\"\"Load binary graph as used by the cpp implementation of this algorithm\n",
    "    \"\"\"\n",
    "    data = open(data, \"rb\")\n",
    "\n",
    "    reader = array.array(\"I\")\n",
    "    reader.fromfile(data, 1)\n",
    "    num_nodes = reader.pop()\n",
    "    reader = array.array(\"I\")\n",
    "    reader.fromfile(data, num_nodes)\n",
    "    cum_deg = reader.tolist()\n",
    "    num_links = reader.pop()\n",
    "    reader = array.array(\"I\")\n",
    "    reader.fromfile(data, num_links)\n",
    "    links = reader.tolist()\n",
    "    graph = nx.Graph()\n",
    "    graph.add_nodes_from(range(num_nodes))\n",
    "    prec_deg = 0\n",
    "\n",
    "    for index in range(num_nodes):\n",
    "        last_deg = cum_deg[index]\n",
    "        neighbors = links[prec_deg:last_deg]\n",
    "        graph.add_edges_from([(index, int(neigh)) for neigh in neighbors])\n",
    "        prec_deg = last_deg\n",
    "\n",
    "    return graph\n",
    "\n",
    "\n",
    "def __randomly(seq, randomize):\n",
    "    \"\"\" Convert sequence or iterable to an iterable in random order if\n",
    "    randomize \"\"\"\n",
    "    if randomize:\n",
    "        shuffled = list(seq)\n",
    "        random.shuffle(shuffled)\n",
    "        return iter(shuffled)\n",
    "    return seq\n",
    "\n",
    "\n",
    "def __one_level(graph, status, weight_key, resolution, randomize):\n",
    "    \"\"\"Compute one level of communities\n",
    "    \"\"\"\n",
    "    modified = True\n",
    "    nb_pass_done = 0\n",
    "    cur_mod = __modularity(status)\n",
    "    new_mod = cur_mod\n",
    "\n",
    "    while modified and nb_pass_done != __PASS_MAX:\n",
    "        cur_mod = new_mod\n",
    "        modified = False\n",
    "        nb_pass_done += 1\n",
    "\n",
    "        for node in __randomly(graph.nodes(), randomize):\n",
    "            com_node = status.node2com[node]\n",
    "            degc_totw = status.gdegrees.get(node, 0.) / (status.total_weight * 2.)  # NOQA\n",
    "            neigh_communities = __neighcom(node, graph, status, weight_key)\n",
    "            remove_cost = - resolution * neigh_communities.get(com_node,0) + \\\n",
    "                (status.degrees.get(com_node, 0.) - status.gdegrees.get(node, 0.)) * degc_totw\n",
    "            __remove(node, com_node,\n",
    "                     neigh_communities.get(com_node, 0.), status)\n",
    "            best_com = com_node\n",
    "            best_increase = 0\n",
    "            for com, dnc in __randomly(neigh_communities.items(),\n",
    "                                       randomize):\n",
    "                incr = remove_cost + resolution * dnc - \\\n",
    "                       status.degrees.get(com, 0.) * degc_totw\n",
    "                if incr > best_increase:\n",
    "                    best_increase = incr\n",
    "                    best_com = com\n",
    "            __insert(node, best_com,\n",
    "                     neigh_communities.get(best_com, 0.), status)\n",
    "            if best_com != com_node:\n",
    "                modified = True\n",
    "        new_mod = __modularity(status)\n",
    "        if new_mod - cur_mod < __MIN:\n",
    "            break\n",
    "\n",
    "\n",
    "def __neighcom(node, graph, status, weight_key):\n",
    "    \"\"\"\n",
    "    Compute the communities in the neighborhood of node in the graph given\n",
    "    with the decomposition node2com\n",
    "    \"\"\"\n",
    "    weights = {}\n",
    "    for neighbor, datas in graph[node].items():\n",
    "        if neighbor != node:\n",
    "            edge_weight = datas.get(weight_key, 1)\n",
    "            neighborcom = status.node2com[neighbor]\n",
    "            weights[neighborcom] = weights.get(neighborcom, 0) + edge_weight\n",
    "\n",
    "    return weights\n",
    "\n",
    "\n",
    "def __remove(node, com, weight, status):\n",
    "    \"\"\" Remove node from community com and modify status\"\"\"\n",
    "    status.degrees[com] = (status.degrees.get(com, 0.)\n",
    "                           - status.gdegrees.get(node, 0.))\n",
    "    status.internals[com] = float(status.internals.get(com, 0.) -\n",
    "                                  weight - status.loops.get(node, 0.))\n",
    "    status.node2com[node] = -1\n",
    "\n",
    "\n",
    "def __insert(node, com, weight, status):\n",
    "    \"\"\" Insert node into community and modify status\"\"\"\n",
    "    status.node2com[node] = com\n",
    "    status.degrees[com] = (status.degrees.get(com, 0.) +\n",
    "                           status.gdegrees.get(node, 0.))\n",
    "    status.internals[com] = float(status.internals.get(com, 0.) +\n",
    "                                  weight + status.loops.get(node, 0.))\n",
    "\n",
    "\n",
    "def __modularity(status):\n",
    "    \"\"\"\n",
    "    Fast compute the modularity of the partition of the graph using\n",
    "    status precomputed\n",
    "    \"\"\"\n",
    "    links = float(status.total_weight)\n",
    "    result = 0.\n",
    "    for community in set(status.node2com.values()):\n",
    "        in_degree = status.internals.get(community, 0.)\n",
    "        degree = status.degrees.get(community, 0.)\n",
    "        if links > 0:\n",
    "            result += in_degree / links - ((degree / (2. * links)) ** 2)\n",
    "    return result"
   ]
  },
  {
   "cell_type": "code",
   "execution_count": null,
   "metadata": {},
   "outputs": [],
   "source": []
  }
 ],
 "metadata": {
  "kernelspec": {
   "display_name": "Python 3",
   "language": "python",
   "name": "python3"
  },
  "language_info": {
   "codemirror_mode": {
    "name": "ipython",
    "version": 3
   },
   "file_extension": ".py",
   "mimetype": "text/x-python",
   "name": "python",
   "nbconvert_exporter": "python",
   "pygments_lexer": "ipython3",
   "version": "3.6.5"
  }
 },
 "nbformat": 4,
 "nbformat_minor": 2
}
