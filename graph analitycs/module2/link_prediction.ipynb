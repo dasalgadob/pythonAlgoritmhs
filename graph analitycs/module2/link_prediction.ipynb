{
 "cells": [
  {
   "cell_type": "code",
   "execution_count": 62,
   "metadata": {},
   "outputs": [],
   "source": [
    "import networkx as nx\n",
    "import matplotlib.pyplot as plt\n",
    "from networkx.algorithms import community\n",
    "import numpy as np\n",
    "from sklearn import metrics\n",
    "from sklearn import preprocessing\n",
    "from random import randrange\n",
    "from sklearn.metrics import precision_recall_curve\n",
    "import math"
   ]
  },
  {
   "cell_type": "code",
   "execution_count": 2,
   "metadata": {},
   "outputs": [],
   "source": [
    "G = nx.read_edgelist(\"airportData.edges\")"
   ]
  },
  {
   "cell_type": "code",
   "execution_count": 3,
   "metadata": {},
   "outputs": [
    {
     "name": "stdout",
     "output_type": "stream",
     "text": [
      "#nodes:  3618\n",
      "#edges:  14142\n"
     ]
    }
   ],
   "source": [
    "print(\"#nodes: \",len(G.nodes()))\n",
    "print(\"#edges: \",len(G.edges()))"
   ]
  },
  {
   "cell_type": "code",
   "execution_count": 4,
   "metadata": {},
   "outputs": [],
   "source": [
    "aaI = nx.adamic_adar_index(G, G.edges())\n",
    "prefA = nx.preferential_attachment(G, G.edges())"
   ]
  },
  {
   "cell_type": "code",
   "execution_count": 35,
   "metadata": {},
   "outputs": [
    {
     "name": "stdout",
     "output_type": "stream",
     "text": [
      "0\n"
     ]
    }
   ],
   "source": [
    "i=0\n",
    "for u, v, p in aaI:\n",
    "    i+=1    \n",
    "    #print((u,v,p))\n",
    "print(i)"
   ]
  },
  {
   "cell_type": "code",
   "execution_count": 5,
   "metadata": {},
   "outputs": [],
   "source": [
    "grafo = nx.complete_graph(5)\n",
    "preds = nx.adamic_adar_index(grafo)\n",
    "for u, v, p in preds:\n",
    "    print((u,v,p))"
   ]
  },
  {
   "cell_type": "markdown",
   "metadata": {},
   "source": [
    "### South America airports"
   ]
  },
  {
   "cell_type": "code",
   "execution_count": 7,
   "metadata": {},
   "outputs": [
    {
     "name": "stdout",
     "output_type": "stream",
     "text": [
      "#nodes:  3618\n",
      "#edges:  14142\n"
     ]
    }
   ],
   "source": [
    "GSouthA  = G.copy()\n",
    "print(\"#nodes: \",len(GSouthA.nodes()))\n",
    "print(\"#edges: \",len(GSouthA.edges()))"
   ]
  },
  {
   "cell_type": "code",
   "execution_count": 8,
   "metadata": {},
   "outputs": [],
   "source": [
    "southAmCts={'argentina':{}, 'bolivia':{}, 'brazil':{}, 'chile':{}, 'colombia':{}, 'ecuador':{}, 'guyana':{}, 'paraguay':{}, 'peru':{}, 'suriname':{}, 'uruguay':{}, 'venezuela':{}}\n",
    "southAmAirp={}"
   ]
  },
  {
   "cell_type": "code",
   "execution_count": 9,
   "metadata": {},
   "outputs": [],
   "source": [
    "f = open('airport_coor.txt')\n",
    "for l in f:\n",
    "    arreglo = l.split()\n",
    "    if len(arreglo)>5 and arreglo[5].lower() in southAmCts:\n",
    "        #print(arreglo)\n",
    "        southAmAirp[arreglo[0]]={}\n",
    "    elif   len(arreglo)==5 and arreglo[4].lower() in southAmCts:\n",
    "        southAmAirp[arreglo[0]]={}\n",
    "        #print(arreglo)"
   ]
  },
  {
   "cell_type": "code",
   "execution_count": 10,
   "metadata": {},
   "outputs": [
    {
     "name": "stdout",
     "output_type": "stream",
     "text": [
      "South American Airports: 788\n"
     ]
    }
   ],
   "source": [
    "print(\"South American Airports: \" + str(len(southAmAirp)))"
   ]
  },
  {
   "cell_type": "code",
   "execution_count": 11,
   "metadata": {},
   "outputs": [],
   "source": [
    "nodesRmSA=[]\n",
    "for n in GSouthA:\n",
    "    if n[:3] not in southAmAirp:\n",
    "        nodesRmSA.append(n)"
   ]
  },
  {
   "cell_type": "code",
   "execution_count": 12,
   "metadata": {},
   "outputs": [],
   "source": [
    "GSouthA.remove_nodes_from(nodesRmSA)"
   ]
  },
  {
   "cell_type": "code",
   "execution_count": 13,
   "metadata": {},
   "outputs": [
    {
     "data": {
      "image/png": "[encoded data removed]",
      "text/plain": [
       "<Figure size 432x288 with 1 Axes>"
      ]
     },
     "metadata": {},
     "output_type": "display_data"
    }
   ],
   "source": [
    "nx.draw(GSouthA)"
   ]
  },
  {
   "cell_type": "code",
   "execution_count": 14,
   "metadata": {},
   "outputs": [
    {
     "name": "stdout",
     "output_type": "stream",
     "text": [
      "#nodes:  279\n",
      "#edges:  626\n"
     ]
    }
   ],
   "source": [
    "print(\"#nodes: \",len(GSouthA.nodes()))\n",
    "print(\"#edges: \",len(GSouthA.edges()))"
   ]
  },
  {
   "cell_type": "code",
   "execution_count": 41,
   "metadata": {},
   "outputs": [],
   "source": [
    "aaI = nx.adamic_adar_index(GSouthA)\n",
    "prefA = nx.preferential_attachment(GSouthA)\n",
    "j_c = nx.jaccard_coefficient(GSouthA)"
   ]
  },
  {
   "cell_type": "code",
   "execution_count": 42,
   "metadata": {},
   "outputs": [],
   "source": [
    "#lista = list(prefA)\n",
    "lista=[]"
   ]
  },
  {
   "cell_type": "code",
   "execution_count": 43,
   "metadata": {},
   "outputs": [],
   "source": [
    "#print(lista)"
   ]
  },
  {
   "cell_type": "code",
   "execution_count": 44,
   "metadata": {},
   "outputs": [
    {
     "name": "stdout",
     "output_type": "stream",
     "text": [
      "38155\n"
     ]
    }
   ],
   "source": [
    "i=0\n",
    "for u, v, p in prefA:\n",
    "    i+=1  \n",
    "    lista.append(p)\n",
    "    #print((u,v,p))\n",
    "print(i)"
   ]
  },
  {
   "cell_type": "code",
   "execution_count": 55,
   "metadata": {},
   "outputs": [
    {
     "name": "stdout",
     "output_type": "stream",
     "text": [
      "[4, 28, 8, 8, 16, 8, 20, 16, 20, 28, 24, 4, 16, 4, 4, 8, 8, 8, 44, 8, 8, 20, 20, 16, 8, 8, 4, 72, 12, 20, 8, 24, 4, 0, 12, 16, 4, 12, 8, 8, 8, 16, 20, 8, 8, 60, 4, 8, 16, 8, 8, 8, 0, 8, 12, 8, 12, 16, 8, 16, 8, 4, 108, 16, 4, 56, 8, 8, 20, 4, 12, 8, 4, 20, 4, 0, 12, 28, 16, 80, 4, 112, 8, 16, 4, 40, 8, 20, 4, 20, 20, 20, 8, 12, 8, 8, 16, 32, 12, 12]\n"
     ]
    }
   ],
   "source": [
    "print(lista[:100])"
   ]
  },
  {
   "cell_type": "code",
   "execution_count": 66,
   "metadata": {},
   "outputs": [
    {
     "data": {
      "text/plain": [
       "array([[1, 1, 1, ..., 1, 1, 1]])"
      ]
     },
     "execution_count": 66,
     "metadata": {},
     "output_type": "execute_result"
    }
   ],
   "source": [
    "binarizer = preprocessing.Binarizer().fit([lista])\n",
    "binarizer.transform([lista])"
   ]
  },
  {
   "cell_type": "code",
   "execution_count": 65,
   "metadata": {},
   "outputs": [
    {
     "name": "stdout",
     "output_type": "stream",
     "text": [
      "Binarizer(copy=True, threshold=0.0)\n"
     ]
    }
   ],
   "source": [
    "print(binarizer)"
   ]
  },
  {
   "cell_type": "code",
   "execution_count": 21,
   "metadata": {},
   "outputs": [],
   "source": [
    "GSouthATest  = GSouthA.copy()"
   ]
  },
  {
   "cell_type": "code",
   "execution_count": 22,
   "metadata": {},
   "outputs": [],
   "source": [
    "edges = list(GSouthATest.edges())"
   ]
  },
  {
   "cell_type": "code",
   "execution_count": 23,
   "metadata": {},
   "outputs": [],
   "source": [
    "#print(edges[:100])"
   ]
  },
  {
   "cell_type": "markdown",
   "metadata": {},
   "source": [
    "### Spring Layout"
   ]
  },
  {
   "cell_type": "code",
   "execution_count": 39,
   "metadata": {},
   "outputs": [
    {
     "data": {
      "image/png": "[encoded data removed]",
      "text/plain": [
       "<Figure size 432x288 with 1 Axes>"
      ]
     },
     "metadata": {},
     "output_type": "display_data"
    }
   ],
   "source": [
    "nx.draw(GSouthA,pos=nx.spring_layout(GSouthA, dim=2))"
   ]
  },
  {
   "cell_type": "code",
   "execution_count": 40,
   "metadata": {},
   "outputs": [
    {
     "data": {
      "image/png": "[encoded data removed]",
      "text/plain": [
       "<Figure size 432x288 with 1 Axes>"
      ]
     },
     "metadata": {},
     "output_type": "display_data"
    }
   ],
   "source": [
    "nx.draw(GSouthA)"
   ]
  },
  {
   "cell_type": "code",
   "execution_count": 34,
   "metadata": {},
   "outputs": [
    {
     "name": "stdout",
     "output_type": "stream",
     "text": [
      "{'AAA_Anaa': array([-0.39880724, -0.19290321,  0.86972172]), 'IPC_Easter_Island': array([-0.01883951, -0.05675088, -0.11202575]), 'BUE_Buenos_Aires': array([ 0.11467073, -0.03103193, -0.08843867]), 'SCL_Santiago_(CL)': array([ 0.01365787, -0.0153968 , -0.07264631]), 'SAO_Sao_Paulo': array([0.05805737, 0.016736  , 0.05993255]), 'SJU_San_Juan_(PR)': array([-0.12849551, -0.06123702, -0.03191806]), 'AFA_San_Rafael': array([ 0.18647979, -0.06507299, -0.09603165]), 'AOL_Paso_de_Los_Libres': array([ 0.14164863, -0.09913919, -0.0921219 ]), 'ASU_Asuncion': array([ 0.05343161,  0.00303907, -0.03554243]), 'BHI_Bahia_Blanca': array([ 0.12999015, -0.05518382, -0.14391222]), 'BOG_Bogota': array([-0.12547745,  0.00575397, -0.05060437]), 'BRC_San_Carlos_de_Bariloche': array([ 0.10138788, -0.04580006, -0.15636526]), 'CNQ_Corrientes': array([ 0.17037347, -0.08221946, -0.10924206]), 'COC_Concordia': array([ 0.19567748, -0.03609615, -0.09999199]), 'COR_Cordoba': array([ 0.09973229, -0.00187824, -0.06588028]), 'CPC_San_Martin_de_Los_Andes': array([ 0.10966425, -0.02983471, -0.1209698 ]), 'CRD_Comodoro_Rivadavia': array([ 0.1465343 , -0.10190281, -0.1756041 ]), 'CTC_Catamarca': array([ 0.13823012,  0.0066156 , -0.09760254]), 'FLN_Florianopolis': array([0.09981696, 0.03602145, 0.01073449]), 'FMA_Formosa': array([ 0.1629597 , -0.09083359, -0.0967862 ]), 'GPO_General_Pico': array([ 0.17350571, -0.01014853, -0.13844154]), 'IGR_Iguazu': array([ 0.18805763, -0.02228661, -0.12213626]), 'IRJ_La_Rioja': array([ 0.14271323, -0.00491271, -0.08853606]), 'JUJ_Jujuy': array([ 0.11681199,  0.01343382, -0.12941724]), 'LUQ_San_Luis': array([ 0.1801406 , -0.07386417, -0.0830004 ]), 'MDQ_Mar_del_Plata': array([ 0.14661185, -0.07530585, -0.14214296]), 'MDZ_Mendoza': array([ 0.08473827, -0.00330372, -0.12098218]), 'MVD_Montevideo': array([ 0.09173893, -0.00359184, -0.0013413 ]), 'NEC_Necochea': array([ 0.18210882, -0.04524171, -0.13776495]), 'NQN_Neuquen': array([ 0.09765982, -0.04239005, -0.14170232]), 'PDP_Punta_del_Este': array([ 0.12769169, -0.03485898, -0.03688648]), 'PMY_Puerto_Madryn': array([ 0.15454258, -0.07564792, -0.16306819]), 'POA_Porto_Alegre': array([0.11213673, 0.03705186, 0.03305308]), 'PRA_Parana': array([ 0.17541625,  0.03576709, -0.10538351]), 'PSS_Posadas': array([ 0.18329261, -0.01713047, -0.09551563]), 'RCU_Rio_Cuarto': array([ 0.18548157, -0.05518922, -0.11686238]), 'REL_Trelew': array([ 0.13850249, -0.09193291, -0.14909156]), 'RES_Resistencia': array([ 0.15597787, -0.01493221, -0.08168436]), 'RGA_Rio_Grande_(AR)': array([ 0.12555691, -0.10695176, -0.1290235 ]), 'RGL_Rio_Gallegos': array([ 0.13604996, -0.13550223, -0.16641447]), 'RIO_Rio_de_Janeiro': array([0.09914785, 0.00808824, 0.07399987]), 'ROS_Rosario_(AR)': array([ 0.13755028,  0.01052702, -0.06367757]), 'RSA_Santa_Rosa_(AR)': array([ 0.16559829, -0.0205021 , -0.14824197]), 'SDE_Santiago_del_Estero': array([ 0.19079798, -0.04885858, -0.07943694]), 'SFN_Santa_Fe_(AR)': array([ 0.15804354,  0.02283443, -0.09416753]), 'SLA_Salta': array([ 0.0752847 ,  0.01477767, -0.0978062 ]), 'SRZ_Santa_Cruz_(BO)': array([ 0.01677166,  0.01480309, -0.06038776]), 'TDL_Tandil': array([ 0.20613634, -0.04803494, -0.15137005]), 'TUC_Tucuman': array([ 0.06979845, -0.00139127, -0.08264   ]), 'UAQ_San_Juan_(AR)': array([ 0.11511125,  0.00147171, -0.11085345]), 'USH_Ushuaia': array([ 0.13671227, -0.10286226, -0.13306518]), 'VDM_Viedma': array([ 0.13879007, -0.06441469, -0.15912493]), 'VME_Villa_Mercedes': array([ 0.16836987, -0.08354428, -0.07526027]), 'CBB_Cochabamba': array([ 0.06187669,  0.03086641, -0.12977461]), 'EQS_Esquel': array([ 0.13665754, -0.06479334, -0.18069237]), 'CCS_Caracas': array([-0.09303828, -0.10746401, -0.00420441]), 'GYE_Guayaquil': array([-0.05887355, -0.01452431,  0.00925152]), 'UIO_Quito': array([-0.08083309,  0.01799883,  0.03700192]), 'GEO_Georgetown_(GY)': array([ 0.0719812 , -0.93440241,  0.10119742]), 'ANF_Antofagasta': array([-0.01695556,  0.0031232 , -0.12500461]), 'CCP_Concepcion_(CL)': array([ 0.02884653, -0.02592291, -0.16015714]), 'CPO_Copiapo': array([-0.03348366, -0.01065109, -0.15986202]), 'IQQ_Iquique': array([ 0.01331271,  0.02684596, -0.09856121]), 'LSC_La_Serena': array([-0.02590817, -0.01682491, -0.13227486]), 'PMC_Puerto_Montt': array([ 0.04796281, -0.03177346, -0.17165725]), 'CJC_Calama': array([-0.03216073, -0.00724511, -0.11448489]), 'LSQ_Los_Angeles_(CL)': array([ 0.00119397, -0.01677691, -0.14019486]), 'ZCO_Temuco': array([ 0.0323649 , -0.03343357, -0.1647054 ]), 'ZOS_Osorno': array([ 0.00896936, -0.0362077 , -0.14130639]), 'PBM_Paramaribo': array([ 0.06896534, -0.89110844,  0.09636372]), 'LPB_La_Paz_(BO)': array([ 0.03892747,  0.06325665, -0.14824784]), 'MAO_Manaus': array([-0.02017498,  0.03409575,  0.12048997]), 'BAQ_Barranquilla': array([-0.20064512, -0.00679675, -0.02933167]), 'BEL_Belem': array([0.05028173, 0.05830287, 0.20952808]), 'CLO_Cali': array([-0.23215227,  0.04274044, -0.07519257]), 'CTG_Cartagena': array([-0.23520029,  0.03927605, -0.03934189]), 'MAR_Maracaibo': array([-0.17128046, -0.10639648,  0.00819394]), 'MDE_Medellin': array([-0.23334121, -0.0038415 , -0.05198869]), 'REC_Recife': array([0.11676657, 0.01325264, 0.14207811]), 'VLN_Valencia_(VE)': array([-0.14414706, -0.14048771,  0.01814822]), 'FOR_Fortaleza': array([0.09607688, 0.02488669, 0.15672674]), 'SSA_Salvador': array([0.10568634, 0.00061431, 0.11176373]), 'AGT_Ciudad_del_Este': array([0.04391429, 0.01139311, 0.00941001]), 'ARU_Aracatuba': array([0.02535785, 0.06747873, 0.11214016]), 'BAU_Bauru': array([0.03988594, 0.04823874, 0.09903631]), 'BHZ_Belo_Horizonte': array([ 0.09572385, -0.0099829 ,  0.11883878]), 'BPS_Porto_Seguro': array([ 0.09900075, -0.0127758 ,  0.09007975]), 'BSB_Brasilia': array([0.07477993, 0.02797635, 0.15372449]), 'CCM_Criciuma': array([0.07257322, 0.06249379, 0.02561114]), 'CGB_Cuiaba': array([0.02432459, 0.08628392, 0.15653134]), 'CGR_Campo_Grande': array([0.04454331, 0.04634156, 0.13576865]), 'CPQ_Campinas': array([0.07874032, 0.03213449, 0.10397406]), 'CWB_Curitiba': array([0.09684955, 0.05715133, 0.08045616]), 'CXJ_Caxias_do_Sul': array([0.11208335, 0.05180284, 0.05191402]), 'FRC_Franca': array([ 0.03522999, -0.02020433,  0.10360492]), 'GVR_Governador_Valadares': array([ 0.14334067, -0.02030284,  0.11542704]), 'GYN_Goiania': array([0.05863079, 0.0334852 , 0.13093709]), 'IGU_Iguassu_Falls': array([0.0692328 , 0.07654304, 0.06988194]), 'IOS_Ilheus': array([ 0.11222241, -0.01409712,  0.09403087]), 'IPN_Ipatinga': array([ 0.0831041 , -0.04156208,  0.09485984]), 'JDF_Juiz_de_Fora': array([ 0.08997788, -0.04270972,  0.05887042]), 'JOI_Joinville': array([0.08827708, 0.05421649, 0.02833101]), 'LAJ_Lages': array([0.11590176, 0.08045669, 0.0545977 ]), 'LDB_Londrina': array([0.07226805, 0.05574286, 0.08548914]), 'MCZ_Maceio': array([0.11850325, 0.0181254 , 0.11171254]), 'MGF_Maringa': array([0.07501216, 0.07700021, 0.08471446]), 'MII_Marilia': array([0.03075115, 0.07892579, 0.07466087]), 'NAT_Natal': array([0.10700002, 0.02150233, 0.129135  ]), 'NVT_Navegantes': array([0.10106217, 0.05201541, 0.03570028]), 'PPB_President_Prudente': array([0.04067532, 0.07756547, 0.10415363]), 'PVH_Porto_Velho': array([0.01573553, 0.00818434, 0.16184596]), 'RAO_Ribeirao_Preto': array([0.0788141 , 0.01815528, 0.12138044]), 'SJK_Sao_Jose_Dos_Campos': array([ 0.07755065, -0.02206099,  0.08929748]), 'SJP_Sao_Jose_do_Rio_Preto': array([0.04259967, 0.0461307 , 0.11975777]), 'SOD_Sorocaba': array([0.12853033, 0.03915715, 0.07533338]), 'TOW_Toledo_(BR)': array([0.09041146, 0.08616615, 0.08325256]), 'UBA_Uberaba': array([0.05613623, 0.00501068, 0.11977675]), 'UDI_Uberlandia': array([0.06866342, 0.0099684 , 0.12233908]), 'VAG_Varginha': array([ 0.12202857, -0.01123476,  0.05790019]), 'VIX_Vitoria_(BR)': array([ 0.09263658, -0.02010863,  0.09663659]), 'XAP_Chapeco': array([0.10712434, 0.09266004, 0.04647744]), 'NAV_Nevsehir': array([-1.        , -0.25989856, -0.2442737 ]), 'COQ_Choibalsan': array([-0.69805689,  0.3039008 ,  0.76051568]), 'SDG_Sanandaj': array([-0.79138248,  0.27798818, -0.55783183]), 'BLA_Barcelona_(VE)': array([-0.12324602, -0.13238561,  0.04354639]), 'BRM_Barquisimeto': array([-0.15993634, -0.12651873, -0.00136805]), 'LSP_Las_Piedras': array([-0.14776248, -0.12696814,  0.02831842]), 'ADZ_San_Andres_Island': array([-0.20765063,  0.02496797, -0.04720399]), 'AUC_Arauca': array([-0.15547465,  0.0394361 , -0.10131288]), 'AXM_Armenia': array([-0.19405949, -0.01847461, -0.05947841]), 'BGA_Bucaramanga': array([-0.20125279,  0.01565532, -0.05329767]), 'CUC_Cucuta': array([-0.19229423, -0.00283125, -0.06070767]), 'EJA_Barrancabermeja': array([-0.16666516, -0.01982302, -0.09484339]), 'EYP_El_Yopal': array([-0.15630571,  0.01780813, -0.10944194]), 'IBE_Ibague': array([-0.20606928,  0.02340078, -0.0793005 ]), 'LET_Leticia': array([-0.1649385 , -0.0004808 , -0.10609835]), 'MTR_Monteria': array([-0.21968759,  0.00731374, -0.03689996]), 'MZL_Manizales': array([-0.19999305,  0.02742858, -0.06521692]), 'NVA_Neiva': array([-0.22420162,  0.04412235, -0.11084471]), 'PEI_Pereira': array([-0.2025743 ,  0.01236968, -0.07403961]), 'PPN_Popayan': array([-0.18662706,  0.04481567, -0.08236965]), 'PSO_Pasto': array([-0.1864834 ,  0.05289602, -0.06678058]), 'RCH_Riohacha': array([-0.20623098,  0.0344663 , -0.01031971]), 'SMR_Santa_Marta': array([-0.19982075,  0.01614252, -0.03546888]), 'UIB_Quibdo': array([-0.22167417, -0.01895746, -0.08667476]), 'VVC_Villavicencio': array([-0.15176052,  0.05846204, -0.08241509]), 'VUP_Valledupar': array([-0.18340043,  0.02050043, -0.02186996]), 'EHL_El_Bolson': array([ 0.12770649, -0.06601592, -0.23429366]), 'PMQ_Perito_Moreno': array([ 0.15983753, -0.16860607, -0.23309609]), 'PUD_Puerto_Deseado': array([ 0.18630291, -0.13800909, -0.23185606]), 'ROY_Rio_Mayo': array([ 0.20414386, -0.17649229, -0.21134726]), 'MGH_Margate': array([-0.48202314,  0.8366637 , -0.34099146]), 'LGS_Malargue': array([ 0.11013349,  0.03381319, -0.18656509]), 'OES_San_Antonio_Oeste': array([ 0.17820326, -0.0899707 , -0.20346693]), 'GEL_Santo_Angelo': array([0.16998629, 0.09080382, 0.02832813]), 'PET_Pelotas': array([0.18855071, 0.05790144, 0.03635948]), 'PFB_Passo_Fundo': array([0.15300473, 0.09354224, 0.03893507]), 'RIA_Santa_Maria_(BR)': array([0.20040487, 0.09438783, 0.07186603]), 'RIG_Rio_Grande_(BR)': array([0.18397125, 0.07226774, 0.03479382]), 'OYA_Goya': array([ 0.23735987,  0.07908092, -0.13205572]), 'PRQ_President_Roque_Saenz_Pena': array([ 0.20944761,  0.05596968, -0.11976712]), 'RCQ_Reconquista': array([ 0.23330156,  0.07472115, -0.1449744 ]), 'ING_Lago_Argentino': array([ 0.14777318, -0.19981836, -0.21642881]), 'RYO_Rio_Turbio': array([ 0.15520355, -0.19891948, -0.19914943]), 'RZA_Santa_Cruz_(AR)': array([ 0.13523767, -0.19572456, -0.22313706]), 'AJU_Aracaju': array([0.13994818, 0.00976249, 0.1297765 ]), 'CAW_Campos': array([ 0.16001412, -0.04048631,  0.10043684]), 'TJA_Tarija': array([ 0.04352826,  0.04549803, -0.11477416]), 'BYC_Yacuiba': array([ 0.00154318,  0.08003051, -0.0900377 ]), 'PSZ_Puerto_Suarez': array([-0.01423047,  0.06837626, -0.09689746]), 'SRE_Sucre': array([ 0.0292723 ,  0.05529048, -0.12124768]), 'TDD_Trinidad': array([ 0.07906422,  0.05128807, -0.20159554]), 'OYO_Tres_Arroyos': array([ 0.26872921, -0.06075755, -0.19694982]), 'EMX_El_Maiten': array([ 0.15473004, -0.0791412 , -0.25209204]), 'TIM_Tembagapura': array([ 0.2641148 ,  0.55692915, -0.83847733]), 'BNS_Barinas': array([-0.14316453, -0.1542279 , -0.03399567]), 'CAJ_Canaima': array([-0.12756414, -0.16871084,  0.05024369]), 'CBL_Ciudad_Bolivar': array([-0.11010501, -0.17584258, -0.01987891]), 'CUM_Cumana': array([-0.11719833, -0.18695146,  0.02945987]), 'CUP_Carupano': array([-0.12003404, -0.21602506,  0.01580491]), 'CZE_Coro': array([-0.13304806, -0.17275004, -0.02452578]), 'LRV_Los_Roques': array([-0.11015712, -0.17089063,  0.00967987]), 'MRD_Merida_(VE)': array([-0.16014409, -0.15560848,  0.01317422]), 'MUN_Maturin': array([-0.12193303, -0.17476831, -0.00442326]), 'PMV_Porlamar': array([-0.12991189, -0.17492018,  0.02071965]), 'PYH_Puerto_Ayacucho': array([-0.11173585, -0.16521508, -0.04313519]), 'PZO_Puerto_Ordaz': array([-0.12305795, -0.1736752 ,  0.04251052]), 'SFD_San_Fernando_de_Apure': array([-0.12490421, -0.15716201, -0.0458485 ]), 'SOM_San_Tome': array([-0.09862962, -0.17851111,  0.01179729]), 'SVZ_San_Antonio_(VE)': array([-0.17970748, -0.08126578, -0.01839953]), 'VIG_El_Vigia': array([-0.15162635, -0.14729384, -0.01219317]), 'VLV_Valera': array([-0.08979927, -0.17767519, -0.025118  ]), 'PUQ_Punta_Arenas': array([ 0.02880029, -0.03060493, -0.20982335]), 'ZAL_Valdivia': array([ 0.0124099 , -0.0261337 , -0.21714167]), 'ESR_El_Salvador': array([-0.06644254, -0.01177003, -0.23266811]), 'ARI_Arica': array([ 0.0096021 ,  0.07486231, -0.15457895]), 'BBA_Balmaceda': array([ 0.04019445, -0.03296009, -0.25256994]), 'SIC_Sinop_(TR)': array([ 0.40835623,  0.42534957, -0.87073591]), 'CIJ_Cobija': array([ 0.06275335,  0.09719032, -0.22536101]), 'BVB_Boa_Vista_(BR)': array([-0.08123832, -0.05527815,  0.09622196]), 'LBR_Labrea': array([-0.03404293,  0.01562945,  0.17442599]), 'PIN_Parintins': array([-0.03905912,  0.09726486,  0.20688527]), 'RBR_Rio_Branco': array([-0.00252524,  0.0051541 ,  0.20595586]), 'STM_Santarem': array([-0.00652342,  0.10264292,  0.22528085]), 'TBT_Tabatinga': array([-0.07635049,  0.05783387,  0.16181377]), 'TFF_Tefe': array([-0.09107253,  0.07914237,  0.17031347]), 'TMT_Trombetas': array([-0.03667425,  0.07461969,  0.18847174]), 'ATM_Altamira': array([0.02260731, 0.09674665, 0.25753571]), 'BVS_Breves': array([0.04312476, 0.08870463, 0.29297108]), 'IMP_Imperatriz': array([0.07679204, 0.03315573, 0.22945014]), 'MAB_Maraba': array([0.08212044, 0.05071724, 0.23547703]), 'MCP_Macapa': array([0.03438866, 0.09372512, 0.30590281]), 'MEU_Monte_Dourado': array([0.02655469, 0.09573668, 0.27995879]), 'SLZ_Sao_Luiz': array([0.08960487, 0.03226957, 0.2107157 ]), 'THE_Teresina': array([0.08467957, 0.04539813, 0.20306159]), 'TUR_Tucurui': array([0.07399946, 0.06773417, 0.27371976]), 'BUN_Buenaventura': array([-0.28507154,  0.0901592 , -0.10176013]), 'GPI_Guapi': array([-0.30248696,  0.06573631, -0.09665828]), 'IPI_Ipiales': array([-0.29276661,  0.06440148, -0.11938302]), 'TCO_Tumaco': array([-0.29776287,  0.08159665, -0.08726074]), 'CZU_Corozal_(CO)': array([-0.29602455,  0.08212434, -0.02186486]), 'MGN_Magangue': array([-0.29720669,  0.08342556, -0.03681109]), 'MMP_Mompos': array([-0.30614214,  0.06863439, -0.0345692 ]), 'STB_Santa_Barbara_Zulia': array([-0.23517575, -0.14642099,  0.02413209]), 'APO_Apartado': array([-0.27760744,  0.00081331, -0.0372488 ]), 'CAQ_Caucasia': array([-0.30695646, -0.02473397, -0.06521844]), 'CPB_Capurgana': array([-0.30912936, -0.01944916, -0.04299167]), 'NQU_Nuqui': array([-0.30893748, -0.00456326, -0.0712811 ]), 'PBE_Puerto_Berrio': array([-0.31118228,  0.00184474, -0.04689893]), 'CPV_Campina_Grande': array([0.16978731, 0.00276881, 0.20261286]), 'FEN_Fernando_de_Noronha': array([0.13924923, 0.03061903, 0.17599124]), 'JPA_Joao_Pessoa': array([0.13052828, 0.02298462, 0.16598788]), 'PNZ_Petrolina': array([0.12400653, 0.00392866, 0.17317229]), 'JDO_Juazeiro_do_Norte': array([0.14448188, 0.00929518, 0.19319449]), 'PHB_Parnaiba': array([0.1218693 , 0.0220325 , 0.22889748]), 'BRA_Barreiras': array([ 0.1081244 , -0.01208518,  0.1769552 ]), 'VDC_Vitoria_Da_Conquista': array([ 0.1418046 , -0.03248741,  0.14151668]), 'MOC_Montes_Claros': array([ 0.14106747, -0.06109076,  0.16938015]), 'CKS_Carajas': array([0.10596063, 0.05189718, 0.22574185]), 'PMW_Palmas': array([0.09668238, 0.02878652, 0.2560931 ]), 'BVH_Vilhena': array([0.01585079, 0.17915185, 0.19820206]), 'JIA_Juina': array([-0.02904085,  0.15586501,  0.20865958]), 'OPS_Sinop_(BR)': array([-0.01342089,  0.1643124 ,  0.23826287]), 'CMG_Corumba': array([0.0219448 , 0.03255163, 0.20787656]), 'GPB_Guarapuava': array([0.13639863, 0.13276479, 0.09353786]), 'MVS_Mucuri': array([ 0.2140454 , -0.04032547,  0.14984467]), 'GJM_Guajara-Mirim': array([ 0.00516362, -0.07072346,  0.23642937]), 'PTO_Pato_Branco': array([0.14245479, 0.15678035, 0.06801854]), 'FLA_Florencia': array([-0.27537921,  0.06475997, -0.16304544]), 'PUU_Puerto_Asis': array([-0.28668555,  0.06845545, -0.14490582]), 'MCJ_Maicao': array([-0.26828194,  0.06558006,  0.01831646]), 'BSC_Bahia_Solano': array([-0.28717032, -0.03837563, -0.1196093 ]), 'GGS_Gobernador_Gregores': array([ 0.15296968, -0.21717248, -0.25289701]), 'ARR_Alto_Rio_Senguerr': array([ 0.24144202, -0.23162894, -0.22769346]), 'URG_Uruguaiana': array([0.26005369, 0.13415669, 0.10207605]), 'GYA_Guayaramerin': array([ 0.10482708,  0.07830177, -0.27205045]), 'MGD_Magdalena': array([ 0.12075433,  0.06180379, -0.27161977]), 'RIB_Riberalta': array([ 0.08885745,  0.08927841, -0.26042056]), 'SJB_San_Joaquin': array([ 0.10786115,  0.05590352, -0.27802245]), 'SNV_Santa_Elena': array([-0.14373513, -0.21837579,  0.07092561]), 'GUI_Guiria': array([-0.13015236, -0.25251069,  0.03452608]), 'TUV_Tucupita': array([-0.13276141, -0.29151939,  0.02413944]), 'MYC_Maracay': array([-0.17513152, -0.21019175,  0.02782747]), 'ITB_Itaituba': array([-0.04502213,  0.14880352,  0.26971492]), 'CZS_Cruzeiro_do_Sul': array([-0.03638025, -0.01505936,  0.2723208 ]), 'TRQ_Tarauaca': array([-0.02299435, -0.01552128,  0.27746297]), 'OBI_Obidos': array([0.01035193, 0.18465387, 0.28219881]), 'SJL_Sao_Gabriel': array([-0.1400687 ,  0.11891339,  0.20411819]), 'PTQ_Porto_de_Moz': array([0.0322662 , 0.10991428, 0.33694023]), 'OYK_Oiapoque': array([0.02428858, 0.11911898, 0.375543  ]), 'AUX_Araguaina': array([0.11853909, 0.02501252, 0.33058237]), 'JPR_Ji-Parana': array([0.00997   , 0.24476536, 0.22638343]), 'AIR_Aripuana': array([-0.06840962,  0.20419291,  0.24606651]), 'AFL_Alta_Floresta': array([-0.03144468,  0.21930652,  0.28392919]), 'MBK_Matupa': array([-0.04111838,  0.18874457,  0.28946496]), 'CQS_Costa_Marques': array([ 0.00185229, -0.12939369,  0.28575583]), 'ARP_Aragip': array([-0.78430608,  0.78700545,  0.05191884]), 'JCR_Jacareacanga': array([-0.06665182,  0.1906016 ,  0.3240464 ]), 'ORX_Oriximina': array([0.02568846, 0.24380551, 0.31899329])}\n"
     ]
    }
   ],
   "source": [
    "print(pos)"
   ]
  },
  {
   "cell_type": "code",
   "execution_count": 106,
   "metadata": {},
   "outputs": [],
   "source": [
    "for (u,v) in edges:\n",
    "    if randrange(10)==0:\n",
    "        GSouthATest.remove_edge(u, v)\n",
    "    #print(randrange(10))"
   ]
  },
  {
   "cell_type": "code",
   "execution_count": null,
   "metadata": {},
   "outputs": [],
   "source": []
  },
  {
   "cell_type": "code",
   "execution_count": 139,
   "metadata": {},
   "outputs": [
    {
     "name": "stdout",
     "output_type": "stream",
     "text": [
      "#nodes:  279\n",
      "#edges:  567\n"
     ]
    }
   ],
   "source": [
    "print(\"#nodes: \",len(GSouthATest.nodes()))\n",
    "print(\"#edges: \",len(GSouthATest.edges()))"
   ]
  },
  {
   "cell_type": "code",
   "execution_count": 46,
   "metadata": {},
   "outputs": [],
   "source": [
    "aa_index = nx.adamic_adar_index(GSouthATest)\n",
    "pref_attc = nx.preferential_attachment(GSouthATest)"
   ]
  },
  {
   "cell_type": "code",
   "execution_count": 47,
   "metadata": {},
   "outputs": [],
   "source": [
    "lista_t=[]"
   ]
  },
  {
   "cell_type": "code",
   "execution_count": 48,
   "metadata": {},
   "outputs": [
    {
     "name": "stdout",
     "output_type": "stream",
     "text": [
      "38155\n"
     ]
    }
   ],
   "source": [
    "i=0\n",
    "for u, v, p in pref_attc:\n",
    "    i+=1  \n",
    "    lista_t.append(p)\n",
    "    #print((u,v,p))\n",
    "print(i)"
   ]
  },
  {
   "cell_type": "code",
   "execution_count": 56,
   "metadata": {},
   "outputs": [
    {
     "name": "stdout",
     "output_type": "stream",
     "text": [
      "[4, 28, 8, 8, 16, 8, 20, 16, 20, 28, 24, 4, 16, 4, 4, 8, 8, 8, 44, 8, 8, 20, 20, 16, 8, 8, 4, 72, 12, 20, 8, 24, 4, 0, 12, 16, 4, 12, 8, 8, 8, 16, 20, 8, 8, 60, 4, 8, 16, 8, 8, 8, 0, 8, 12, 8, 12, 16, 8, 16, 8, 4, 108, 16, 4, 56, 8, 8, 20, 4, 12, 8, 4, 20, 4, 0, 12, 28, 16, 80, 4, 112, 8, 16, 4, 40, 8, 20, 4, 20, 20, 20, 8, 12, 8, 8, 16, 32, 12, 12]\n"
     ]
    }
   ],
   "source": [
    "print(lista_t[:100])"
   ]
  },
  {
   "cell_type": "code",
   "execution_count": 51,
   "metadata": {},
   "outputs": [],
   "source": [
    "\n",
    "y = np.array(lista)\n",
    "pred = np.array(lista_t)\n",
    "#fpr, tpr, thresholds = metrics.roc_curve(y, pred, pos_label=2)\n",
    "#print(metrics.auc(fpr, tpr))\n"
   ]
  },
  {
   "cell_type": "code",
   "execution_count": 57,
   "metadata": {},
   "outputs": [
    {
     "ename": "ValueError",
     "evalue": "multiclass format is not supported",
     "output_type": "error",
     "traceback": [
      "\u001b[1;31m---------------------------------------------------------------------------\u001b[0m",
      "\u001b[1;31mValueError\u001b[0m                                Traceback (most recent call last)",
      "\u001b[1;32m<ipython-input-57-80222d8f200f>\u001b[0m in \u001b[0;36m<module>\u001b[1;34m()\u001b[0m\n\u001b[1;32m----> 1\u001b[1;33m \u001b[0mprecision\u001b[0m\u001b[1;33m,\u001b[0m \u001b[0mrecall\u001b[0m\u001b[1;33m,\u001b[0m \u001b[0m_\u001b[0m \u001b[1;33m=\u001b[0m \u001b[0mprecision_recall_curve\u001b[0m\u001b[1;33m(\u001b[0m\u001b[0mpred\u001b[0m\u001b[1;33m,\u001b[0m \u001b[0my\u001b[0m\u001b[1;33m)\u001b[0m\u001b[1;33m\u001b[0m\u001b[0m\n\u001b[0m\u001b[0;32m      2\u001b[0m \u001b[1;33m\u001b[0m\u001b[0m\n\u001b[0;32m      3\u001b[0m plt.step(recall, precision, color='b', alpha=0.2,\n\u001b[0;32m      4\u001b[0m          where='post')\n\u001b[0;32m      5\u001b[0m plt.fill_between(recall, precision, step='post', alpha=0.2,\n",
      "\u001b[1;32mC:\\ProgramData\\Anaconda3\\lib\\site-packages\\sklearn\\metrics\\ranking.py\u001b[0m in \u001b[0;36mprecision_recall_curve\u001b[1;34m(y_true, probas_pred, pos_label, sample_weight)\u001b[0m\n\u001b[0;32m    439\u001b[0m     fps, tps, thresholds = _binary_clf_curve(y_true, probas_pred,\n\u001b[0;32m    440\u001b[0m                                              \u001b[0mpos_label\u001b[0m\u001b[1;33m=\u001b[0m\u001b[0mpos_label\u001b[0m\u001b[1;33m,\u001b[0m\u001b[1;33m\u001b[0m\u001b[0m\n\u001b[1;32m--> 441\u001b[1;33m                                              sample_weight=sample_weight)\n\u001b[0m\u001b[0;32m    442\u001b[0m \u001b[1;33m\u001b[0m\u001b[0m\n\u001b[0;32m    443\u001b[0m     \u001b[0mprecision\u001b[0m \u001b[1;33m=\u001b[0m \u001b[0mtps\u001b[0m \u001b[1;33m/\u001b[0m \u001b[1;33m(\u001b[0m\u001b[0mtps\u001b[0m \u001b[1;33m+\u001b[0m \u001b[0mfps\u001b[0m\u001b[1;33m)\u001b[0m\u001b[1;33m\u001b[0m\u001b[0m\n",
      "\u001b[1;32mC:\\ProgramData\\Anaconda3\\lib\\site-packages\\sklearn\\metrics\\ranking.py\u001b[0m in \u001b[0;36m_binary_clf_curve\u001b[1;34m(y_true, y_score, pos_label, sample_weight)\u001b[0m\n\u001b[0;32m    316\u001b[0m     if not (y_type == \"binary\" or\n\u001b[0;32m    317\u001b[0m             (y_type == \"multiclass\" and pos_label is not None)):\n\u001b[1;32m--> 318\u001b[1;33m         \u001b[1;32mraise\u001b[0m \u001b[0mValueError\u001b[0m\u001b[1;33m(\u001b[0m\u001b[1;34m\"{0} format is not supported\"\u001b[0m\u001b[1;33m.\u001b[0m\u001b[0mformat\u001b[0m\u001b[1;33m(\u001b[0m\u001b[0my_type\u001b[0m\u001b[1;33m)\u001b[0m\u001b[1;33m)\u001b[0m\u001b[1;33m\u001b[0m\u001b[0m\n\u001b[0m\u001b[0;32m    319\u001b[0m \u001b[1;33m\u001b[0m\u001b[0m\n\u001b[0;32m    320\u001b[0m     \u001b[0mcheck_consistent_length\u001b[0m\u001b[1;33m(\u001b[0m\u001b[0my_true\u001b[0m\u001b[1;33m,\u001b[0m \u001b[0my_score\u001b[0m\u001b[1;33m,\u001b[0m \u001b[0msample_weight\u001b[0m\u001b[1;33m)\u001b[0m\u001b[1;33m\u001b[0m\u001b[0m\n",
      "\u001b[1;31mValueError\u001b[0m: multiclass format is not supported"
     ]
    }
   ],
   "source": [
    "precision, recall, _ = precision_recall_curve(pred, y)\n",
    "\n",
    "plt.step(recall, precision, color='b', alpha=0.2,\n",
    "         where='post')\n",
    "plt.fill_between(recall, precision, step='post', alpha=0.2,\n",
    "                 color='b')\n",
    "\n",
    "plt.xlabel('Recall')\n",
    "plt.ylabel('Precision')\n",
    "plt.ylim([0.0, 1.05])\n",
    "plt.xlim([0.0, 1.0])\n",
    "plt.title('2-class Precision-Recall curve: AP={0:0.2f}'.format(\n",
    "          average_precision))"
   ]
  },
  {
   "cell_type": "code",
   "execution_count": 59,
   "metadata": {},
   "outputs": [
    {
     "ename": "ValueError",
     "evalue": "multiclass format is not supported",
     "output_type": "error",
     "traceback": [
      "\u001b[1;31m---------------------------------------------------------------------------\u001b[0m",
      "\u001b[1;31mValueError\u001b[0m                                Traceback (most recent call last)",
      "\u001b[1;32m<ipython-input-59-0d34268176c5>\u001b[0m in \u001b[0;36m<module>\u001b[1;34m()\u001b[0m\n\u001b[0;32m      2\u001b[0m \u001b[1;32mfrom\u001b[0m \u001b[0msklearn\u001b[0m\u001b[1;33m.\u001b[0m\u001b[0mmetrics\u001b[0m \u001b[1;32mimport\u001b[0m \u001b[0mroc_auc_score\u001b[0m\u001b[1;33m\u001b[0m\u001b[0m\n\u001b[0;32m      3\u001b[0m \u001b[1;33m\u001b[0m\u001b[0m\n\u001b[1;32m----> 4\u001b[1;33m \u001b[0mroc_auc_score\u001b[0m\u001b[1;33m(\u001b[0m\u001b[0mpred\u001b[0m\u001b[1;33m,\u001b[0m \u001b[0my\u001b[0m\u001b[1;33m)\u001b[0m\u001b[1;33m\u001b[0m\u001b[0m\n\u001b[0m",
      "\u001b[1;32mC:\\ProgramData\\Anaconda3\\lib\\site-packages\\sklearn\\metrics\\ranking.py\u001b[0m in \u001b[0;36mroc_auc_score\u001b[1;34m(y_true, y_score, average, sample_weight)\u001b[0m\n\u001b[0;32m    275\u001b[0m     return _average_binary_score(\n\u001b[0;32m    276\u001b[0m         \u001b[0m_binary_roc_auc_score\u001b[0m\u001b[1;33m,\u001b[0m \u001b[0my_true\u001b[0m\u001b[1;33m,\u001b[0m \u001b[0my_score\u001b[0m\u001b[1;33m,\u001b[0m \u001b[0maverage\u001b[0m\u001b[1;33m,\u001b[0m\u001b[1;33m\u001b[0m\u001b[0m\n\u001b[1;32m--> 277\u001b[1;33m         sample_weight=sample_weight)\n\u001b[0m\u001b[0;32m    278\u001b[0m \u001b[1;33m\u001b[0m\u001b[0m\n\u001b[0;32m    279\u001b[0m \u001b[1;33m\u001b[0m\u001b[0m\n",
      "\u001b[1;32mC:\\ProgramData\\Anaconda3\\lib\\site-packages\\sklearn\\metrics\\base.py\u001b[0m in \u001b[0;36m_average_binary_score\u001b[1;34m(binary_metric, y_true, y_score, average, sample_weight)\u001b[0m\n\u001b[0;32m     70\u001b[0m     \u001b[0my_type\u001b[0m \u001b[1;33m=\u001b[0m \u001b[0mtype_of_target\u001b[0m\u001b[1;33m(\u001b[0m\u001b[0my_true\u001b[0m\u001b[1;33m)\u001b[0m\u001b[1;33m\u001b[0m\u001b[0m\n\u001b[0;32m     71\u001b[0m     \u001b[1;32mif\u001b[0m \u001b[0my_type\u001b[0m \u001b[1;32mnot\u001b[0m \u001b[1;32min\u001b[0m \u001b[1;33m(\u001b[0m\u001b[1;34m\"binary\"\u001b[0m\u001b[1;33m,\u001b[0m \u001b[1;34m\"multilabel-indicator\"\u001b[0m\u001b[1;33m)\u001b[0m\u001b[1;33m:\u001b[0m\u001b[1;33m\u001b[0m\u001b[0m\n\u001b[1;32m---> 72\u001b[1;33m         \u001b[1;32mraise\u001b[0m \u001b[0mValueError\u001b[0m\u001b[1;33m(\u001b[0m\u001b[1;34m\"{0} format is not supported\"\u001b[0m\u001b[1;33m.\u001b[0m\u001b[0mformat\u001b[0m\u001b[1;33m(\u001b[0m\u001b[0my_type\u001b[0m\u001b[1;33m)\u001b[0m\u001b[1;33m)\u001b[0m\u001b[1;33m\u001b[0m\u001b[0m\n\u001b[0m\u001b[0;32m     73\u001b[0m \u001b[1;33m\u001b[0m\u001b[0m\n\u001b[0;32m     74\u001b[0m     \u001b[1;32mif\u001b[0m \u001b[0my_type\u001b[0m \u001b[1;33m==\u001b[0m \u001b[1;34m\"binary\"\u001b[0m\u001b[1;33m:\u001b[0m\u001b[1;33m\u001b[0m\u001b[0m\n",
      "\u001b[1;31mValueError\u001b[0m: multiclass format is not supported"
     ]
    }
   ],
   "source": [
    "import numpy as np\n",
    "from sklearn.metrics import roc_auc_score\n",
    "\n",
    "roc_auc_score(pred, y)"
   ]
  },
  {
   "cell_type": "code",
   "execution_count": null,
   "metadata": {},
   "outputs": [],
   "source": []
  }
 ],
 "metadata": {
  "kernelspec": {
   "display_name": "Python 3",
   "language": "python",
   "name": "python3"
  },
  "language_info": {
   "codemirror_mode": {
    "name": "ipython",
    "version": 3
   },
   "file_extension": ".py",
   "mimetype": "text/x-python",
   "name": "python",
   "nbconvert_exporter": "python",
   "pygments_lexer": "ipython3",
   "version": "3.6.5"
  }
 },
 "nbformat": 4,
 "nbformat_minor": 2
}
