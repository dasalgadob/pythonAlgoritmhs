{
 "cells": [
  {
   "cell_type": "code",
   "execution_count": 180,
   "metadata": {},
   "outputs": [],
   "source": [
    "import networkx as nx\n",
    "import matplotlib.pyplot as plt\n",
    "from networkx.algorithms import community\n",
    "import numpy as np\n",
    "from sklearn import metrics\n",
    "from random import randrange\n",
    "from sklearn.metrics import precision_recall_curve\n",
    "import math"
   ]
  },
  {
   "cell_type": "code",
   "execution_count": 22,
   "metadata": {},
   "outputs": [],
   "source": [
    "G = nx.read_edgelist(\"airportData.edges\")"
   ]
  },
  {
   "cell_type": "code",
   "execution_count": 23,
   "metadata": {},
   "outputs": [
    {
     "name": "stdout",
     "output_type": "stream",
     "text": [
      "#nodes:  3618\n",
      "#edges:  14142\n"
     ]
    }
   ],
   "source": [
    "print(\"#nodes: \",len(G.nodes()))\n",
    "print(\"#edges: \",len(G.edges()))"
   ]
  },
  {
   "cell_type": "code",
   "execution_count": 200,
   "metadata": {},
   "outputs": [],
   "source": [
    "aaI = nx.adamic_adar_index(G, G.edges())\n",
    "prefA = nx.preferential_attachment(G, G.edges())"
   ]
  },
  {
   "cell_type": "code",
   "execution_count": 35,
   "metadata": {},
   "outputs": [
    {
     "name": "stdout",
     "output_type": "stream",
     "text": [
      "0\n"
     ]
    }
   ],
   "source": [
    "i=0\n",
    "for u, v, p in aaI:\n",
    "    i+=1    \n",
    "    #print((u,v,p))\n",
    "print(i)"
   ]
  },
  {
   "cell_type": "code",
   "execution_count": 17,
   "metadata": {},
   "outputs": [],
   "source": [
    "grafo = nx.complete_graph(5)\n",
    "preds = nx.adamic_adar_index(grafo)\n",
    "for u, v, p in preds:\n",
    "    print((u,v,p))"
   ]
  },
  {
   "cell_type": "code",
   "execution_count": 18,
   "metadata": {},
   "outputs": [
    {
     "name": "stdout",
     "output_type": "stream",
     "text": [
      "#\n"
     ]
    }
   ],
   "source": [
    "print(\"#\")"
   ]
  },
  {
   "cell_type": "markdown",
   "metadata": {},
   "source": [
    "### South America airports"
   ]
  },
  {
   "cell_type": "code",
   "execution_count": 36,
   "metadata": {},
   "outputs": [
    {
     "name": "stdout",
     "output_type": "stream",
     "text": [
      "#nodes:  3618\n",
      "#edges:  14142\n"
     ]
    }
   ],
   "source": [
    "GSouthA  = G.copy()\n",
    "print(\"#nodes: \",len(GSouthA.nodes()))\n",
    "print(\"#edges: \",len(GSouthA.edges()))"
   ]
  },
  {
   "cell_type": "code",
   "execution_count": 38,
   "metadata": {},
   "outputs": [],
   "source": [
    "southAmCts={'argentina':{}, 'bolivia':{}, 'brazil':{}, 'chile':{}, 'colombia':{}, 'ecuador':{}, 'guyana':{}, 'paraguay':{}, 'peru':{}, 'suriname':{}, 'uruguay':{}, 'venezuela':{}}\n",
    "southAmAirp={}"
   ]
  },
  {
   "cell_type": "code",
   "execution_count": 41,
   "metadata": {},
   "outputs": [],
   "source": [
    "f = open('airport_coor.txt')\n",
    "for l in f:\n",
    "    arreglo = l.split()\n",
    "    if len(arreglo)>5 and arreglo[5].lower() in southAmCts:\n",
    "        #print(arreglo)\n",
    "        southAmAirp[arreglo[0]]={}\n",
    "    elif   len(arreglo)==5 and arreglo[4].lower() in southAmCts:\n",
    "        southAmAirp[arreglo[0]]={}\n",
    "        #print(arreglo)"
   ]
  },
  {
   "cell_type": "code",
   "execution_count": 42,
   "metadata": {},
   "outputs": [
    {
     "name": "stdout",
     "output_type": "stream",
     "text": [
      "South American Airports: 788\n"
     ]
    }
   ],
   "source": [
    "print(\"South American Airports: \" + str(len(southAmAirp)))"
   ]
  },
  {
   "cell_type": "code",
   "execution_count": 43,
   "metadata": {},
   "outputs": [],
   "source": [
    "nodesRmSA=[]\n",
    "for n in GSouthA:\n",
    "    if n[:3] not in southAmAirp:\n",
    "        nodesRmSA.append(n)"
   ]
  },
  {
   "cell_type": "code",
   "execution_count": 44,
   "metadata": {},
   "outputs": [],
   "source": [
    "GSouthA.remove_nodes_from(nodesRmSA)"
   ]
  },
  {
   "cell_type": "code",
   "execution_count": 45,
   "metadata": {},
   "outputs": [
    {
     "data": {
      "image/png": "[encoded data removed]",
      "text/plain": [
       "<Figure size 432x288 with 1 Axes>"
      ]
     },
     "metadata": {},
     "output_type": "display_data"
    }
   ],
   "source": [
    "nx.draw(GSouthA)"
   ]
  },
  {
   "cell_type": "code",
   "execution_count": 168,
   "metadata": {},
   "outputs": [
    {
     "name": "stdout",
     "output_type": "stream",
     "text": [
      "#nodes:  279\n",
      "#edges:  626\n"
     ]
    }
   ],
   "source": [
    "print(\"#nodes: \",len(GSouthA.nodes()))\n",
    "print(\"#edges: \",len(GSouthA.edges()))"
   ]
  },
  {
   "cell_type": "code",
   "execution_count": 201,
   "metadata": {},
   "outputs": [],
   "source": [
    "aaI = nx.adamic_adar_index(GSouthA)\n",
    "prefA = nx.preferential_attachment(GSouthA)\n",
    "j_c = nx.jaccard_coefficient(GSouthA)"
   ]
  },
  {
   "cell_type": "code",
   "execution_count": 202,
   "metadata": {},
   "outputs": [],
   "source": [
    "#lista = list(prefA)\n",
    "lista=[]"
   ]
  },
  {
   "cell_type": "code",
   "execution_count": 203,
   "metadata": {},
   "outputs": [],
   "source": [
    "#print(lista)"
   ]
  },
  {
   "cell_type": "code",
   "execution_count": 204,
   "metadata": {},
   "outputs": [
    {
     "name": "stdout",
     "output_type": "stream",
     "text": [
      "38155\n"
     ]
    }
   ],
   "source": [
    "i=0\n",
    "for u, v, p in aaI:\n",
    "    i+=1  \n",
    "    lista.append(math.ceil(p))\n",
    "    #print((u,v,p))\n",
    "print(i)"
   ]
  },
  {
   "cell_type": "code",
   "execution_count": 205,
   "metadata": {},
   "outputs": [
    {
     "name": "stdout",
     "output_type": "stream",
     "text": [
      "[0, 0, 0, 0, 0, 0, 0, 0, 0, 0, 0, 0, 1, 0, 0, 1, 0, 0, 0, 0, 0, 0, 0, 0, 0, 0, 0, 0, 1, 0, 1, 0, 0, 0, 0, 0, 0, 0, 0, 1, 1, 0, 0, 0, 0, 0, 0, 0, 0, 0, 0, 0, 0, 0, 0, 0, 0, 0, 0, 0, 0, 0, 0, 0, 0, 0, 0, 0, 0, 0, 0, 0, 0, 0, 0, 0, 0, 0, 1, 0, 0, 0, 0, 0, 0, 1, 0, 0, 0, 0, 0, 0, 0, 0, 0, 0, 0, 0, 0, 0]\n"
     ]
    }
   ],
   "source": [
    "print(lista[:100])"
   ]
  },
  {
   "cell_type": "code",
   "execution_count": 94,
   "metadata": {},
   "outputs": [],
   "source": [
    "#print(sorted(lista))"
   ]
  },
  {
   "cell_type": "code",
   "execution_count": 97,
   "metadata": {},
   "outputs": [],
   "source": [
    "GSouthATest  = GSouthA.copy()"
   ]
  },
  {
   "cell_type": "code",
   "execution_count": 98,
   "metadata": {},
   "outputs": [],
   "source": [
    "edges = list(GSouthATest.edges())"
   ]
  },
  {
   "cell_type": "code",
   "execution_count": 99,
   "metadata": {},
   "outputs": [
    {
     "name": "stdout",
     "output_type": "stream",
     "text": [
      "[('IPC_Easter_Island', 'SCL_Santiago_(CL)'), ('BUE_Buenos_Aires', 'AFA_San_Rafael'), ('BUE_Buenos_Aires', 'AOL_Paso_de_Los_Libres'), ('BUE_Buenos_Aires', 'ASU_Asuncion'), ('BUE_Buenos_Aires', 'BHI_Bahia_Blanca'), ('BUE_Buenos_Aires', 'BOG_Bogota'), ('BUE_Buenos_Aires', 'BRC_San_Carlos_de_Bariloche'), ('BUE_Buenos_Aires', 'CNQ_Corrientes'), ('BUE_Buenos_Aires', 'COC_Concordia'), ('BUE_Buenos_Aires', 'COR_Cordoba'), ('BUE_Buenos_Aires', 'CPC_San_Martin_de_Los_Andes'), ('BUE_Buenos_Aires', 'CRD_Comodoro_Rivadavia'), ('BUE_Buenos_Aires', 'CTC_Catamarca'), ('BUE_Buenos_Aires', 'FLN_Florianopolis'), ('BUE_Buenos_Aires', 'FMA_Formosa'), ('BUE_Buenos_Aires', 'GPO_General_Pico'), ('BUE_Buenos_Aires', 'IGR_Iguazu'), ('BUE_Buenos_Aires', 'IRJ_La_Rioja'), ('BUE_Buenos_Aires', 'JUJ_Jujuy'), ('BUE_Buenos_Aires', 'LUQ_San_Luis'), ('BUE_Buenos_Aires', 'MDQ_Mar_del_Plata'), ('BUE_Buenos_Aires', 'MDZ_Mendoza'), ('BUE_Buenos_Aires', 'MVD_Montevideo'), ('BUE_Buenos_Aires', 'NEC_Necochea'), ('BUE_Buenos_Aires', 'NQN_Neuquen'), ('BUE_Buenos_Aires', 'PDP_Punta_del_Este'), ('BUE_Buenos_Aires', 'PMY_Puerto_Madryn'), ('BUE_Buenos_Aires', 'POA_Porto_Alegre'), ('BUE_Buenos_Aires', 'PRA_Parana'), ('BUE_Buenos_Aires', 'PSS_Posadas'), ('BUE_Buenos_Aires', 'RCU_Rio_Cuarto'), ('BUE_Buenos_Aires', 'REL_Trelew'), ('BUE_Buenos_Aires', 'RES_Resistencia'), ('BUE_Buenos_Aires', 'RGA_Rio_Grande_(AR)'), ('BUE_Buenos_Aires', 'RGL_Rio_Gallegos'), ('BUE_Buenos_Aires', 'RIO_Rio_de_Janeiro'), ('BUE_Buenos_Aires', 'ROS_Rosario_(AR)'), ('BUE_Buenos_Aires', 'RSA_Santa_Rosa_(AR)'), ('BUE_Buenos_Aires', 'SAO_Sao_Paulo'), ('BUE_Buenos_Aires', 'SCL_Santiago_(CL)'), ('BUE_Buenos_Aires', 'SDE_Santiago_del_Estero'), ('BUE_Buenos_Aires', 'SFN_Santa_Fe_(AR)'), ('BUE_Buenos_Aires', 'SLA_Salta'), ('BUE_Buenos_Aires', 'SRZ_Santa_Cruz_(BO)'), ('BUE_Buenos_Aires', 'TDL_Tandil'), ('BUE_Buenos_Aires', 'TUC_Tucuman'), ('BUE_Buenos_Aires', 'UAQ_San_Juan_(AR)'), ('BUE_Buenos_Aires', 'USH_Ushuaia'), ('BUE_Buenos_Aires', 'VDM_Viedma'), ('BUE_Buenos_Aires', 'VME_Villa_Mercedes'), ('BUE_Buenos_Aires', 'CBB_Cochabamba'), ('BUE_Buenos_Aires', 'EQS_Esquel'), ('SCL_Santiago_(CL)', 'ANF_Antofagasta'), ('SCL_Santiago_(CL)', 'ASU_Asuncion'), ('SCL_Santiago_(CL)', 'BOG_Bogota'), ('SCL_Santiago_(CL)', 'CCP_Concepcion_(CL)'), ('SCL_Santiago_(CL)', 'CCS_Caracas'), ('SCL_Santiago_(CL)', 'COR_Cordoba'), ('SCL_Santiago_(CL)', 'CPO_Copiapo'), ('SCL_Santiago_(CL)', 'GYE_Guayaquil'), ('SCL_Santiago_(CL)', 'IQQ_Iquique'), ('SCL_Santiago_(CL)', 'LSC_La_Serena'), ('SCL_Santiago_(CL)', 'MDZ_Mendoza'), ('SCL_Santiago_(CL)', 'MVD_Montevideo'), ('SCL_Santiago_(CL)', 'PMC_Puerto_Montt'), ('SCL_Santiago_(CL)', 'SAO_Sao_Paulo'), ('SCL_Santiago_(CL)', 'CJC_Calama'), ('SCL_Santiago_(CL)', 'LSQ_Los_Angeles_(CL)'), ('SCL_Santiago_(CL)', 'POA_Porto_Alegre'), ('SCL_Santiago_(CL)', 'SRZ_Santa_Cruz_(BO)'), ('SCL_Santiago_(CL)', 'ZCO_Temuco'), ('SCL_Santiago_(CL)', 'ZOS_Osorno'), ('SAO_Sao_Paulo', 'AGT_Ciudad_del_Este'), ('SAO_Sao_Paulo', 'ARU_Aracatuba'), ('SAO_Sao_Paulo', 'ASU_Asuncion'), ('SAO_Sao_Paulo', 'BAU_Bauru'), ('SAO_Sao_Paulo', 'BHZ_Belo_Horizonte'), ('SAO_Sao_Paulo', 'BOG_Bogota'), ('SAO_Sao_Paulo', 'BPS_Porto_Seguro'), ('SAO_Sao_Paulo', 'BSB_Brasilia'), ('SAO_Sao_Paulo', 'CCM_Criciuma'), ('SAO_Sao_Paulo', 'CCS_Caracas'), ('SAO_Sao_Paulo', 'CGB_Cuiaba'), ('SAO_Sao_Paulo', 'CGR_Campo_Grande'), ('SAO_Sao_Paulo', 'COR_Cordoba'), ('SAO_Sao_Paulo', 'CPQ_Campinas'), ('SAO_Sao_Paulo', 'CWB_Curitiba'), ('SAO_Sao_Paulo', 'CXJ_Caxias_do_Sul'), ('SAO_Sao_Paulo', 'FLN_Florianopolis'), ('SAO_Sao_Paulo', 'FOR_Fortaleza'), ('SAO_Sao_Paulo', 'FRC_Franca'), ('SAO_Sao_Paulo', 'GVR_Governador_Valadares'), ('SAO_Sao_Paulo', 'GYN_Goiania'), ('SAO_Sao_Paulo', 'IGU_Iguassu_Falls'), ('SAO_Sao_Paulo', 'IOS_Ilheus'), ('SAO_Sao_Paulo', 'IPN_Ipatinga'), ('SAO_Sao_Paulo', 'JDF_Juiz_de_Fora'), ('SAO_Sao_Paulo', 'JOI_Joinville'), ('SAO_Sao_Paulo', 'LAJ_Lages'), ('SAO_Sao_Paulo', 'LDB_Londrina')]\n"
     ]
    }
   ],
   "source": [
    "print(edges[:100])"
   ]
  },
  {
   "cell_type": "code",
   "execution_count": 106,
   "metadata": {},
   "outputs": [],
   "source": [
    "for (u,v) in edges:\n",
    "    if randrange(10)==0:\n",
    "        GSouthATest.remove_edge(u, v)\n",
    "    #print(randrange(10))"
   ]
  },
  {
   "cell_type": "code",
   "execution_count": 139,
   "metadata": {},
   "outputs": [
    {
     "name": "stdout",
     "output_type": "stream",
     "text": [
      "#nodes:  279\n",
      "#edges:  567\n"
     ]
    }
   ],
   "source": [
    "print(\"#nodes: \",len(GSouthATest.nodes()))\n",
    "print(\"#edges: \",len(GSouthATest.edges()))"
   ]
  },
  {
   "cell_type": "code",
   "execution_count": 206,
   "metadata": {},
   "outputs": [],
   "source": [
    "aa_index = nx.adamic_adar_index(GSouthATest)\n",
    "pref_attc = nx.preferential_attachment(GSouthATest)"
   ]
  },
  {
   "cell_type": "code",
   "execution_count": 207,
   "metadata": {},
   "outputs": [],
   "source": [
    "lista_t=[]"
   ]
  },
  {
   "cell_type": "code",
   "execution_count": 208,
   "metadata": {},
   "outputs": [
    {
     "name": "stdout",
     "output_type": "stream",
     "text": [
      "38214\n"
     ]
    }
   ],
   "source": [
    "i=0\n",
    "for u, v, p in aa_index:\n",
    "    i+=1  \n",
    "    lista_t.append(math.ceil(p))\n",
    "    #print((u,v,p))\n",
    "print(i)"
   ]
  },
  {
   "cell_type": "code",
   "execution_count": 209,
   "metadata": {},
   "outputs": [
    {
     "name": "stdout",
     "output_type": "stream",
     "text": [
      "[0, 0, 0, 0, 0, 0, 0, 0, 0, 0, 0, 0, 1, 0, 0, 1, 0, 0, 0, 0, 0, 0, 0, 0, 0, 0, 0, 0, 1, 0, 1, 0, 0, 0, 0, 0, 0, 0, 0, 1, 1, 0, 0, 0, 0, 0, 0, 0, 0, 0, 0, 0, 0, 0, 0, 0, 0, 0, 0, 0, 0, 0, 0, 0, 0, 0, 0, 0, 0, 0, 0, 0, 0, 0, 0, 0, 0, 0, 1, 0, 0, 0, 0, 0, 0, 1, 0, 0, 0, 0, 0, 0, 0, 0, 0, 0, 0, 0, 0, 0]\n"
     ]
    }
   ],
   "source": [
    "print(lista_t[:100])"
   ]
  },
  {
   "cell_type": "code",
   "execution_count": 210,
   "metadata": {},
   "outputs": [],
   "source": [
    "\n",
    "y = np.array(lista[:38155])\n",
    "pred = np.array(lista_t[:38155])\n",
    "#fpr, tpr, thresholds = metrics.roc_curve(y, pred, pos_label=2)\n",
    "#print(metrics.auc(fpr, tpr))\n"
   ]
  },
  {
   "cell_type": "code",
   "execution_count": 211,
   "metadata": {},
   "outputs": [
    {
     "ename": "ValueError",
     "evalue": "multiclass format is not supported",
     "output_type": "error",
     "traceback": [
      "\u001b[1;31m---------------------------------------------------------------------------\u001b[0m",
      "\u001b[1;31mValueError\u001b[0m                                Traceback (most recent call last)",
      "\u001b[1;32m<ipython-input-211-9e3345b1a016>\u001b[0m in \u001b[0;36m<module>\u001b[1;34m()\u001b[0m\n\u001b[1;32m----> 1\u001b[1;33m \u001b[0mprecision\u001b[0m\u001b[1;33m,\u001b[0m \u001b[0mrecall\u001b[0m\u001b[1;33m,\u001b[0m \u001b[0m_\u001b[0m \u001b[1;33m=\u001b[0m \u001b[0mprecision_recall_curve\u001b[0m\u001b[1;33m(\u001b[0m\u001b[0my\u001b[0m\u001b[1;33m,\u001b[0m \u001b[0mpred\u001b[0m\u001b[1;33m)\u001b[0m\u001b[1;33m\u001b[0m\u001b[0m\n\u001b[0m\u001b[0;32m      2\u001b[0m \u001b[1;33m\u001b[0m\u001b[0m\n\u001b[0;32m      3\u001b[0m plt.step(recall, precision, color='b', alpha=0.2,\n\u001b[0;32m      4\u001b[0m          where='post')\n\u001b[0;32m      5\u001b[0m plt.fill_between(recall, precision, step='post', alpha=0.2,\n",
      "\u001b[1;32mC:\\ProgramData\\Anaconda3\\lib\\site-packages\\sklearn\\metrics\\ranking.py\u001b[0m in \u001b[0;36mprecision_recall_curve\u001b[1;34m(y_true, probas_pred, pos_label, sample_weight)\u001b[0m\n\u001b[0;32m    439\u001b[0m     fps, tps, thresholds = _binary_clf_curve(y_true, probas_pred,\n\u001b[0;32m    440\u001b[0m                                              \u001b[0mpos_label\u001b[0m\u001b[1;33m=\u001b[0m\u001b[0mpos_label\u001b[0m\u001b[1;33m,\u001b[0m\u001b[1;33m\u001b[0m\u001b[0m\n\u001b[1;32m--> 441\u001b[1;33m                                              sample_weight=sample_weight)\n\u001b[0m\u001b[0;32m    442\u001b[0m \u001b[1;33m\u001b[0m\u001b[0m\n\u001b[0;32m    443\u001b[0m     \u001b[0mprecision\u001b[0m \u001b[1;33m=\u001b[0m \u001b[0mtps\u001b[0m \u001b[1;33m/\u001b[0m \u001b[1;33m(\u001b[0m\u001b[0mtps\u001b[0m \u001b[1;33m+\u001b[0m \u001b[0mfps\u001b[0m\u001b[1;33m)\u001b[0m\u001b[1;33m\u001b[0m\u001b[0m\n",
      "\u001b[1;32mC:\\ProgramData\\Anaconda3\\lib\\site-packages\\sklearn\\metrics\\ranking.py\u001b[0m in \u001b[0;36m_binary_clf_curve\u001b[1;34m(y_true, y_score, pos_label, sample_weight)\u001b[0m\n\u001b[0;32m    316\u001b[0m     if not (y_type == \"binary\" or\n\u001b[0;32m    317\u001b[0m             (y_type == \"multiclass\" and pos_label is not None)):\n\u001b[1;32m--> 318\u001b[1;33m         \u001b[1;32mraise\u001b[0m \u001b[0mValueError\u001b[0m\u001b[1;33m(\u001b[0m\u001b[1;34m\"{0} format is not supported\"\u001b[0m\u001b[1;33m.\u001b[0m\u001b[0mformat\u001b[0m\u001b[1;33m(\u001b[0m\u001b[0my_type\u001b[0m\u001b[1;33m)\u001b[0m\u001b[1;33m)\u001b[0m\u001b[1;33m\u001b[0m\u001b[0m\n\u001b[0m\u001b[0;32m    319\u001b[0m \u001b[1;33m\u001b[0m\u001b[0m\n\u001b[0;32m    320\u001b[0m     \u001b[0mcheck_consistent_length\u001b[0m\u001b[1;33m(\u001b[0m\u001b[0my_true\u001b[0m\u001b[1;33m,\u001b[0m \u001b[0my_score\u001b[0m\u001b[1;33m,\u001b[0m \u001b[0msample_weight\u001b[0m\u001b[1;33m)\u001b[0m\u001b[1;33m\u001b[0m\u001b[0m\n",
      "\u001b[1;31mValueError\u001b[0m: multiclass format is not supported"
     ]
    }
   ],
   "source": [
    "precision, recall, _ = precision_recall_curve(y, pred)\n",
    "\n",
    "plt.step(recall, precision, color='b', alpha=0.2,\n",
    "         where='post')\n",
    "plt.fill_between(recall, precision, step='post', alpha=0.2,\n",
    "                 color='b')\n",
    "\n",
    "plt.xlabel('Recall')\n",
    "plt.ylabel('Precision')\n",
    "plt.ylim([0.0, 1.05])\n",
    "plt.xlim([0.0, 1.0])\n",
    "plt.title('2-class Precision-Recall curve: AP={0:0.2f}'.format(\n",
    "          average_precision))"
   ]
  },
  {
   "cell_type": "code",
   "execution_count": 213,
   "metadata": {},
   "outputs": [
    {
     "ename": "ValueError",
     "evalue": "continuous format is not supported",
     "output_type": "error",
     "traceback": [
      "\u001b[1;31m---------------------------------------------------------------------------\u001b[0m",
      "\u001b[1;31mValueError\u001b[0m                                Traceback (most recent call last)",
      "\u001b[1;32m<ipython-input-213-bf37e19957ff>\u001b[0m in \u001b[0;36m<module>\u001b[1;34m()\u001b[0m\n\u001b[0;32m      3\u001b[0m \u001b[0my_true\u001b[0m \u001b[1;33m=\u001b[0m \u001b[0mnp\u001b[0m\u001b[1;33m.\u001b[0m\u001b[0marray\u001b[0m\u001b[1;33m(\u001b[0m\u001b[1;33m[\u001b[0m\u001b[1;36m0\u001b[0m\u001b[1;33m,\u001b[0m \u001b[1;36m0\u001b[0m\u001b[1;33m,\u001b[0m \u001b[1;36m1\u001b[0m\u001b[1;33m,\u001b[0m \u001b[1;36m1.1\u001b[0m\u001b[1;33m]\u001b[0m\u001b[1;33m)\u001b[0m\u001b[1;33m\u001b[0m\u001b[0m\n\u001b[0;32m      4\u001b[0m \u001b[0my_scores\u001b[0m \u001b[1;33m=\u001b[0m \u001b[0mnp\u001b[0m\u001b[1;33m.\u001b[0m\u001b[0marray\u001b[0m\u001b[1;33m(\u001b[0m\u001b[1;33m[\u001b[0m\u001b[1;36m0.1\u001b[0m\u001b[1;33m,\u001b[0m \u001b[1;36m0.4\u001b[0m\u001b[1;33m,\u001b[0m \u001b[1;36m0.35\u001b[0m\u001b[1;33m,\u001b[0m \u001b[1;36m0.8\u001b[0m\u001b[1;33m]\u001b[0m\u001b[1;33m)\u001b[0m\u001b[1;33m\u001b[0m\u001b[0m\n\u001b[1;32m----> 5\u001b[1;33m \u001b[0mroc_auc_score\u001b[0m\u001b[1;33m(\u001b[0m\u001b[0my_true\u001b[0m\u001b[1;33m,\u001b[0m \u001b[0my_scores\u001b[0m\u001b[1;33m)\u001b[0m\u001b[1;33m\u001b[0m\u001b[0m\n\u001b[0m",
      "\u001b[1;32mC:\\ProgramData\\Anaconda3\\lib\\site-packages\\sklearn\\metrics\\ranking.py\u001b[0m in \u001b[0;36mroc_auc_score\u001b[1;34m(y_true, y_score, average, sample_weight)\u001b[0m\n\u001b[0;32m    275\u001b[0m     return _average_binary_score(\n\u001b[0;32m    276\u001b[0m         \u001b[0m_binary_roc_auc_score\u001b[0m\u001b[1;33m,\u001b[0m \u001b[0my_true\u001b[0m\u001b[1;33m,\u001b[0m \u001b[0my_score\u001b[0m\u001b[1;33m,\u001b[0m \u001b[0maverage\u001b[0m\u001b[1;33m,\u001b[0m\u001b[1;33m\u001b[0m\u001b[0m\n\u001b[1;32m--> 277\u001b[1;33m         sample_weight=sample_weight)\n\u001b[0m\u001b[0;32m    278\u001b[0m \u001b[1;33m\u001b[0m\u001b[0m\n\u001b[0;32m    279\u001b[0m \u001b[1;33m\u001b[0m\u001b[0m\n",
      "\u001b[1;32mC:\\ProgramData\\Anaconda3\\lib\\site-packages\\sklearn\\metrics\\base.py\u001b[0m in \u001b[0;36m_average_binary_score\u001b[1;34m(binary_metric, y_true, y_score, average, sample_weight)\u001b[0m\n\u001b[0;32m     70\u001b[0m     \u001b[0my_type\u001b[0m \u001b[1;33m=\u001b[0m \u001b[0mtype_of_target\u001b[0m\u001b[1;33m(\u001b[0m\u001b[0my_true\u001b[0m\u001b[1;33m)\u001b[0m\u001b[1;33m\u001b[0m\u001b[0m\n\u001b[0;32m     71\u001b[0m     \u001b[1;32mif\u001b[0m \u001b[0my_type\u001b[0m \u001b[1;32mnot\u001b[0m \u001b[1;32min\u001b[0m \u001b[1;33m(\u001b[0m\u001b[1;34m\"binary\"\u001b[0m\u001b[1;33m,\u001b[0m \u001b[1;34m\"multilabel-indicator\"\u001b[0m\u001b[1;33m)\u001b[0m\u001b[1;33m:\u001b[0m\u001b[1;33m\u001b[0m\u001b[0m\n\u001b[1;32m---> 72\u001b[1;33m         \u001b[1;32mraise\u001b[0m \u001b[0mValueError\u001b[0m\u001b[1;33m(\u001b[0m\u001b[1;34m\"{0} format is not supported\"\u001b[0m\u001b[1;33m.\u001b[0m\u001b[0mformat\u001b[0m\u001b[1;33m(\u001b[0m\u001b[0my_type\u001b[0m\u001b[1;33m)\u001b[0m\u001b[1;33m)\u001b[0m\u001b[1;33m\u001b[0m\u001b[0m\n\u001b[0m\u001b[0;32m     73\u001b[0m \u001b[1;33m\u001b[0m\u001b[0m\n\u001b[0;32m     74\u001b[0m     \u001b[1;32mif\u001b[0m \u001b[0my_type\u001b[0m \u001b[1;33m==\u001b[0m \u001b[1;34m\"binary\"\u001b[0m\u001b[1;33m:\u001b[0m\u001b[1;33m\u001b[0m\u001b[0m\n",
      "\u001b[1;31mValueError\u001b[0m: continuous format is not supported"
     ]
    }
   ],
   "source": [
    "import numpy as np\n",
    "from sklearn.metrics import roc_auc_score\n",
    "y_true = np.array([0, 0, 1, 1.1])\n",
    "y_scores = np.array([0.1, 0.4, 0.35, 0.8])\n",
    "roc_auc_score(y_true, y_scores)"
   ]
  },
  {
   "cell_type": "code",
   "execution_count": null,
   "metadata": {},
   "outputs": [],
   "source": []
  }
 ],
 "metadata": {
  "kernelspec": {
   "display_name": "Python 3",
   "language": "python",
   "name": "python3"
  },
  "language_info": {
   "codemirror_mode": {
    "name": "ipython",
    "version": 3
   },
   "file_extension": ".py",
   "mimetype": "text/x-python",
   "name": "python",
   "nbconvert_exporter": "python",
   "pygments_lexer": "ipython3",
   "version": "3.6.5"
  }
 },
 "nbformat": 4,
 "nbformat_minor": 2
}
