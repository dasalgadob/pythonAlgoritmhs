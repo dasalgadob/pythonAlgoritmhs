{
 "cells": [
  {
   "cell_type": "code",
   "execution_count": 16,
   "metadata": {},
   "outputs": [],
   "source": [
    "import networkx as nx\n",
    "import matplotlib.pyplot as plt\n",
    "from networkx.algorithms import community"
   ]
  },
  {
   "cell_type": "code",
   "execution_count": 50,
   "metadata": {},
   "outputs": [],
   "source": [
    "###Test graph repetition of nodes\n",
    "gT = nx.Graph()\n",
    "gT.add_node(1, linea=lin[1])\n",
    "#gT[1]['st']=\"11\"\n",
    "gT.add_node(2, lina=lin[1])\n",
    "gT.add_edge(1,2,weight=1)\n",
    "gT.add_node(1)\n",
    "gT.add_node(3)\n",
    "gT.add_node(1)\n",
    "gT.add_node(2)\n",
    "#if (1,2) in gT.edges():\n",
    "    #gT[2][1]['weight']+=1\n",
    "    #print(gT[1][2])"
   ]
  },
  {
   "cell_type": "code",
   "execution_count": 53,
   "metadata": {},
   "outputs": [
    {
     "name": "stdout",
     "output_type": "stream",
     "text": [
      "[1, 2, 3]\n",
      "[(1, 2)]\n",
      "(1, 2, {'weight': 1})\n",
      "(1, {'linea': '32'})\n",
      "(2, {'lina': '32'})\n",
      "(3, {})\n"
     ]
    }
   ],
   "source": [
    "print(gT.nodes())\n",
    "print(gT.edges())\n",
    "for e in gT.edges(data=True):\n",
    "    print(e)\n",
    "for n in gT.nodes(data=True):\n",
    "    print(n)    "
   ]
  },
  {
   "cell_type": "markdown",
   "metadata": {},
   "source": [
    "## Reading and creation of the file"
   ]
  },
  {
   "cell_type": "code",
   "execution_count": 78,
   "metadata": {},
   "outputs": [
    {
     "name": "stdout",
     "output_type": "stream",
     "text": [
      "12005\n"
     ]
    }
   ],
   "source": [
    "def create_route_point(R, ruta,point):\n",
    "    if ruta not in R:\n",
    "        R[ruta]=[]\n",
    "    R[ruta].append(point)\n",
    "    \n",
    "def replace_abcd(string):\n",
    "    s = \"ABCD\"\n",
    "    cop= string\n",
    "    for e in s:\n",
    "        cop = cop.replace(e,'')\n",
    "    return cop\n",
    "\n",
    "print (replace_abcd('120D05'))\n",
    "print (replace_abcd('120D05'))"
   ]
  },
  {
   "cell_type": "markdown",
   "metadata": {},
   "source": [
    "### Graph with edges weighted for amount of buses that passes that place"
   ]
  },
  {
   "cell_type": "code",
   "execution_count": 67,
   "metadata": {},
   "outputs": [],
   "source": [
    "f = open('paraderos_rutas_zonales_sitp.csv')\n",
    "G = nx.Graph()\n",
    "previousRoute=None\n",
    "previousStop=None\n",
    "routes = {}\n",
    "i=0\n",
    "for l in f:\n",
    "    if i==0:\n",
    "        i+=1\n",
    "        continue\n",
    "    lin = l.strip().split(';')\n",
    "    G.add_node(lin[7])\n",
    "    #print(lin[7])\n",
    "    create_route_point(routes, lin[1], lin[7])\n",
    "    if previousRoute ==lin[0]:\n",
    "        if (previousStop, lin[7] ) in G.edges():\n",
    "            G[previousStop][lin[7]]['weight']+=1\n",
    "        else:    \n",
    "            G.add_edge(previousStop, lin[7],weight=1 )\n",
    "    previousRoute=lin[0]\n",
    "    previousStop=lin[7]\n",
    "    #print (lin)"
   ]
  },
  {
   "cell_type": "markdown",
   "metadata": {},
   "source": [
    "### Export for see graph"
   ]
  },
  {
   "cell_type": "code",
   "execution_count": 69,
   "metadata": {},
   "outputs": [],
   "source": [
    "nx.write_gexf(G, \"bus_routes_bogota.gexf\")"
   ]
  },
  {
   "cell_type": "markdown",
   "metadata": {},
   "source": [
    "It is verified the size of the graph:"
   ]
  },
  {
   "cell_type": "code",
   "execution_count": 56,
   "metadata": {},
   "outputs": [
    {
     "name": "stdout",
     "output_type": "stream",
     "text": [
      "6423\n",
      "10249\n"
     ]
    }
   ],
   "source": [
    "print(G.number_of_nodes())\n",
    "print(G.number_of_edges())"
   ]
  },
  {
   "cell_type": "markdown",
   "metadata": {},
   "source": [
    "It is checked the routes dict:"
   ]
  },
  {
   "cell_type": "code",
   "execution_count": 71,
   "metadata": {},
   "outputs": [],
   "source": [
    "#print(routes)"
   ]
  },
  {
   "cell_type": "markdown",
   "metadata": {},
   "source": [
    "### Graph with weight distance"
   ]
  },
  {
   "cell_type": "code",
   "execution_count": 61,
   "metadata": {},
   "outputs": [],
   "source": [
    "#for e in G.edges(data=True):\n",
    "    #print(e)\n",
    "#print(G.nodes())\n",
    "#for n in G.nodes(data=True):\n",
    "    #print(n)\n"
   ]
  },
  {
   "cell_type": "code",
   "execution_count": 76,
   "metadata": {},
   "outputs": [
    {
     "name": "stdout",
     "output_type": "stream",
     "text": [
      "1234\n"
     ]
    }
   ],
   "source": [
    "### Create new graph connecting all points that are reachable for that route\n",
    "a =\"1234\"\n",
    "print (a.replace('a',''))"
   ]
  },
  {
   "cell_type": "code",
   "execution_count": null,
   "metadata": {},
   "outputs": [],
   "source": []
  }
 ],
 "metadata": {
  "kernelspec": {
   "display_name": "Python 3",
   "language": "python",
   "name": "python3"
  },
  "language_info": {
   "codemirror_mode": {
    "name": "ipython",
    "version": 3
   },
   "file_extension": ".py",
   "mimetype": "text/x-python",
   "name": "python",
   "nbconvert_exporter": "python",
   "pygments_lexer": "ipython3",
   "version": "3.6.5"
  }
 },
 "nbformat": 4,
 "nbformat_minor": 2
}
