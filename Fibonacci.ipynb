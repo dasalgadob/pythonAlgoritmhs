{
 "cells": [
  {
   "cell_type": "markdown",
   "metadata": {},
   "source": [
    "# 2. Fibonacci"
   ]
  },
  {
   "cell_type": "markdown",
   "metadata": {},
   "source": [
    "#### 1. En java con todos los tipos de variables hasta que se genera overflow"
   ]
  },
  {
   "cell_type": "code",
   "execution_count": null,
   "metadata": {},
   "outputs": [],
   "source": [
    "Java con byte:\n",
    "public static int fibonacci(){\n",
    "\t\tbyte first=0;\n",
    "\t\tbyte second=1; \n",
    "\t\tbyte temporal =0;\n",
    "\t\tint n =2;\t\n",
    "\t\t\t//System.out.println(\"try\");\n",
    "\t\twhile(true){\n",
    "\t\t\ttemporal =  (byte) (first + second);\n",
    "\t\t\tif(temporal<0){\n",
    "\t\t\t\tbreak;\n",
    "\t\t\t}\n",
    "\t\t\tn++;\n",
    "\t\t\t//System.out.println(temporal);\n",
    "\t\t\tfirst=second;\n",
    "\t\t\tsecond=temporal;\n",
    "\t\t}\n",
    "\t\treturn n;\n",
    "\t}"
   ]
  },
  {
   "cell_type": "code",
   "execution_count": 1,
   "metadata": {},
   "outputs": [],
   "source": [
    "n=12 #overflow"
   ]
  },
  {
   "cell_type": "markdown",
   "metadata": {},
   "source": [
    "Java con short:\n",
    "public static int fibonacci(){\n",
    "\t\tshort first=0;\n",
    "\t\tshort second=1; \n",
    "\t\tshort temporal =0;\n",
    "\t\tint n =2;\n",
    "\t\t\n",
    "\t\t\t//System.out.println(\"try\");\n",
    "\t\twhile(true){\n",
    "\t\t\ttemporal =  (short) (first + second);\n",
    "\t\t\tif(temporal<0){\n",
    "\t\t\t\tbreak;\n",
    "\t\t\t}\n",
    "\t\t\tn++;\n",
    "\t\t\t//System.out.println(temporal);\n",
    "\t\t\tfirst=second;\n",
    "\t\t\tsecond=temporal;\n",
    "\t\t}\n",
    "\t\treturn n;\n",
    "\t}\n",
    "\t\n",
    "    "
   ]
  },
  {
   "cell_type": "code",
   "execution_count": 3,
   "metadata": {},
   "outputs": [],
   "source": [
    "n=24; #overflow"
   ]
  },
  {
   "cell_type": "code",
   "execution_count": null,
   "metadata": {},
   "outputs": [],
   "source": [
    "Java con int:\n",
    "    public static int fibonacci(){\n",
    "\t\tint first=0;\n",
    "\t\tint second=1; \n",
    "\t\tint temporal =0;\n",
    "\t\tint n =2;\n",
    "\t\t\n",
    "\t\t\t//System.out.println(\"try\");\n",
    "\t\twhile(true){\n",
    "\t\t\ttemporal =  (first + second);\n",
    "\t\t\tif(temporal<0){\n",
    "\t\t\t\tbreak;\n",
    "\t\t\t}\n",
    "\t\t\tn++;\n",
    "\t\t\t//System.out.println(temporal);\n",
    "\t\t\tfirst=second;\n",
    "\t\t\tsecond=temporal;\n",
    "\t\t}\n",
    "\t\treturn n;\n",
    "\t}"
   ]
  },
  {
   "cell_type": "code",
   "execution_count": 4,
   "metadata": {},
   "outputs": [],
   "source": [
    "n=47 #overflow"
   ]
  },
  {
   "cell_type": "code",
   "execution_count": null,
   "metadata": {},
   "outputs": [],
   "source": [
    "Java con long:\n",
    "    public static int fibonacci(){\n",
    "\t\tlong first=0;\n",
    "\t\tlong second=1; \n",
    "\t\tlong temporal =0;\n",
    "\t\tint n =2;\n",
    "\t\t\n",
    "\t\t\t//System.out.println(\"try\");\n",
    "\t\twhile(true){\n",
    "\t\t\ttemporal =  (first + second);\n",
    "\t\t\tif(temporal<0){\n",
    "\t\t\t\tbreak;\n",
    "\t\t\t}\n",
    "\t\t\tn++;\n",
    "\t\t\t//System.out.println(temporal);\n",
    "\t\t\tfirst=second;\n",
    "\t\t\tsecond=temporal;\n",
    "\t\t}\n",
    "\t\treturn n;\n",
    "\t}"
   ]
  },
  {
   "cell_type": "code",
   "execution_count": 5,
   "metadata": {},
   "outputs": [],
   "source": [
    "n=93 #overflow"
   ]
  },
  {
   "cell_type": "markdown",
   "metadata": {},
   "source": [
    "#### 2. Python para calcular n numero con respecto al tiempo"
   ]
  },
  {
   "cell_type": "code",
   "execution_count": 32,
   "metadata": {},
   "outputs": [
    {
     "data": {
      "text/plain": [
       "[<matplotlib.lines.Line2D at 0x895b2f0>]"
      ]
     },
     "execution_count": 32,
     "metadata": {},
     "output_type": "execute_result"
    },
    {
     "data": {
      "image/png": "[encoded data removed]",
      "text/plain": [
       "<matplotlib.figure.Figure at 0x88c5c70>"
      ]
     },
     "metadata": {},
     "output_type": "display_data"
    }
   ],
   "source": [
    "from timeit import default_timer\n",
    "\n",
    "import matplotlib.pyplot as plt\n",
    "#Statements\n",
    "\n",
    "\n",
    "\n",
    "def fibonacci(n):\n",
    "    first=0\n",
    "    second=1\n",
    "    temporal=0\n",
    "    if n==1:\n",
    "        return first\n",
    "    elif n==2:\n",
    "        return second\n",
    "    else:\n",
    "        i=2\n",
    "        while(i<n):\n",
    "            temporal = first+second\n",
    "            i+=1\n",
    "            first=second\n",
    "            second= temporal\n",
    "    return temporal\n",
    "time=[]\n",
    "for i in range(1,30000,200):\n",
    "    start = default_timer()\n",
    "    fibonacci(i)\n",
    "    time.append(default_timer() - start)\n",
    "\n",
    "plt.plot([j for j in range(1,30001,200)],time)\n",
    "    "
   ]
  },
  {
   "cell_type": "code",
   "execution_count": null,
   "metadata": {},
   "outputs": [],
   "source": []
  }
 ],
 "metadata": {
  "kernelspec": {
   "display_name": "Python 3",
   "language": "python",
   "name": "python3"
  },
  "language_info": {
   "codemirror_mode": {
    "name": "ipython",
    "version": 3
   },
   "file_extension": ".py",
   "mimetype": "text/x-python",
   "name": "python",
   "nbconvert_exporter": "python",
   "pygments_lexer": "ipython3",
   "version": "3.5.1"
  }
 },
 "nbformat": 4,
 "nbformat_minor": 2
}
